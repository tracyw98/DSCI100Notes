{
 "cells": [
  {
   "cell_type": "markdown",
   "metadata": {
    "deletable": false,
    "editable": false,
    "nbgrader": {
     "cell_type": "markdown",
     "checksum": "9c88e37061acfe0efde2bd6b2bd063a5",
     "grade": false,
     "grade_id": "cell-83e402ae256bacca",
     "locked": true,
     "schema_version": 3,
     "solution": false
    }
   },
   "source": [
    "# Worksheet 7 - Classification (Part II)\n",
    "\n",
    "### Lecture and Tutorial Learning Goals:\n",
    "\n",
    "After completing this week's lecture and tutorial work, you will be able to:\n",
    "\n",
    "* Describe what a test data set is and how it is used in classification.\n",
    "* Using R, evaluate classification accuracy using a test data set and appropriate metrics.\n",
    "* Using R, execute cross-validation in R to choose the number of neighbours.\n",
    "* Identify when it is necessary to scale variables before classification and do this using R\n",
    "* In a dataset with > 2 attributes, perform k-nearest neighbour classification in R using the `tidymodels` package to predict the class of a test dataset.\n",
    "* Describe advantages and disadvantages of the k-nearest neighbour classification algorithm.\n",
    "\n",
    "This worksheet covers parts of [Chapter 7](https://ubc-dsci.github.io/introduction-to-datascience/classification-continued.html) of the online textbook. You should read this chapter before attempting the worksheet."
   ]
  },
  {
   "cell_type": "code",
   "execution_count": 1,
   "metadata": {
    "deletable": false,
    "editable": false,
    "nbgrader": {
     "cell_type": "code",
     "checksum": "b2bf0e24e6922491ca915a749088f6fc",
     "grade": false,
     "grade_id": "cell-e3518ed3d64fb67c",
     "locked": true,
     "schema_version": 3,
     "solution": false
    }
   },
   "outputs": [
    {
     "name": "stderr",
     "output_type": "stream",
     "text": [
      "── \u001b[1mAttaching packages\u001b[22m ─────────────────────────────────────── tidyverse 1.3.1 ──\n",
      "\n",
      "\u001b[32m✔\u001b[39m \u001b[34mggplot2\u001b[39m 3.3.6     \u001b[32m✔\u001b[39m \u001b[34mpurrr  \u001b[39m 0.3.4\n",
      "\u001b[32m✔\u001b[39m \u001b[34mtibble \u001b[39m 3.1.7     \u001b[32m✔\u001b[39m \u001b[34mdplyr  \u001b[39m 1.0.9\n",
      "\u001b[32m✔\u001b[39m \u001b[34mtidyr  \u001b[39m 1.2.0     \u001b[32m✔\u001b[39m \u001b[34mstringr\u001b[39m 1.4.0\n",
      "\u001b[32m✔\u001b[39m \u001b[34mreadr  \u001b[39m 2.1.2     \u001b[32m✔\u001b[39m \u001b[34mforcats\u001b[39m 0.5.1\n",
      "\n",
      "── \u001b[1mConflicts\u001b[22m ────────────────────────────────────────── tidyverse_conflicts() ──\n",
      "\u001b[31m✖\u001b[39m \u001b[34mdplyr\u001b[39m::\u001b[32mfilter()\u001b[39m masks \u001b[34mstats\u001b[39m::filter()\n",
      "\u001b[31m✖\u001b[39m \u001b[34mdplyr\u001b[39m::\u001b[32mlag()\u001b[39m    masks \u001b[34mstats\u001b[39m::lag()\n",
      "\n",
      "── \u001b[1mAttaching packages\u001b[22m ────────────────────────────────────── tidymodels 1.0.0 ──\n",
      "\n",
      "\u001b[32m✔\u001b[39m \u001b[34mbroom       \u001b[39m 1.0.0     \u001b[32m✔\u001b[39m \u001b[34mrsample     \u001b[39m 1.0.0\n",
      "\u001b[32m✔\u001b[39m \u001b[34mdials       \u001b[39m 1.0.0     \u001b[32m✔\u001b[39m \u001b[34mtune        \u001b[39m 1.0.0\n",
      "\u001b[32m✔\u001b[39m \u001b[34minfer       \u001b[39m 1.0.2     \u001b[32m✔\u001b[39m \u001b[34mworkflows   \u001b[39m 1.0.0\n",
      "\u001b[32m✔\u001b[39m \u001b[34mmodeldata   \u001b[39m 1.0.0     \u001b[32m✔\u001b[39m \u001b[34mworkflowsets\u001b[39m 1.0.0\n",
      "\u001b[32m✔\u001b[39m \u001b[34mparsnip     \u001b[39m 1.0.0     \u001b[32m✔\u001b[39m \u001b[34myardstick   \u001b[39m 1.0.0\n",
      "\u001b[32m✔\u001b[39m \u001b[34mrecipes     \u001b[39m 1.0.1     \n",
      "\n",
      "── \u001b[1mConflicts\u001b[22m ───────────────────────────────────────── tidymodels_conflicts() ──\n",
      "\u001b[31m✖\u001b[39m \u001b[34mscales\u001b[39m::\u001b[32mdiscard()\u001b[39m masks \u001b[34mpurrr\u001b[39m::discard()\n",
      "\u001b[31m✖\u001b[39m \u001b[34mdplyr\u001b[39m::\u001b[32mfilter()\u001b[39m   masks \u001b[34mstats\u001b[39m::filter()\n",
      "\u001b[31m✖\u001b[39m \u001b[34mrecipes\u001b[39m::\u001b[32mfixed()\u001b[39m  masks \u001b[34mstringr\u001b[39m::fixed()\n",
      "\u001b[31m✖\u001b[39m \u001b[34mdplyr\u001b[39m::\u001b[32mlag()\u001b[39m      masks \u001b[34mstats\u001b[39m::lag()\n",
      "\u001b[31m✖\u001b[39m \u001b[34myardstick\u001b[39m::\u001b[32mspec()\u001b[39m masks \u001b[34mreadr\u001b[39m::spec()\n",
      "\u001b[31m✖\u001b[39m \u001b[34mrecipes\u001b[39m::\u001b[32mstep()\u001b[39m   masks \u001b[34mstats\u001b[39m::step()\n",
      "\u001b[34m•\u001b[39m Use suppressPackageStartupMessages() to eliminate package startup messages\n",
      "\n",
      "\n",
      "Attaching package: ‘testthat’\n",
      "\n",
      "\n",
      "The following object is masked from ‘package:rsample’:\n",
      "\n",
      "    matches\n",
      "\n",
      "\n",
      "The following object is masked from ‘package:dplyr’:\n",
      "\n",
      "    matches\n",
      "\n",
      "\n",
      "The following object is masked from ‘package:purrr’:\n",
      "\n",
      "    is_null\n",
      "\n",
      "\n",
      "The following objects are masked from ‘package:readr’:\n",
      "\n",
      "    edition_get, local_edition\n",
      "\n",
      "\n",
      "The following object is masked from ‘package:tidyr’:\n",
      "\n",
      "    matches\n",
      "\n",
      "\n",
      "\n",
      "Attaching package: ‘rlang’\n",
      "\n",
      "\n",
      "The following objects are masked from ‘package:testthat’:\n",
      "\n",
      "    is_false, is_null, is_true\n",
      "\n",
      "\n",
      "The following objects are masked from ‘package:purrr’:\n",
      "\n",
      "    %@%, as_function, flatten, flatten_chr, flatten_dbl, flatten_int,\n",
      "    flatten_lgl, flatten_raw, invoke, splice\n",
      "\n",
      "\n"
     ]
    }
   ],
   "source": [
    "### Run this cell before continuing.\n",
    "library(tidyverse)\n",
    "library(repr)\n",
    "library(tidymodels)\n",
    "options(repr.matrix.max.rows = 6)\n",
    "source('tests.R')\n",
    "source('cleanup.R')"
   ]
  },
  {
   "cell_type": "markdown",
   "metadata": {
    "deletable": false,
    "editable": false,
    "nbgrader": {
     "cell_type": "markdown",
     "checksum": "e3bb815c573d1e593ccde12f9813ae9c",
     "grade": false,
     "grade_id": "cell-8699740184695c66",
     "locked": true,
     "schema_version": 3,
     "solution": false,
     "task": false
    }
   },
   "source": [
    "**Question 0.1** Multiple Choice:\n",
    "<br>{points: 1}\n",
    "\n",
    "Before applying k-nearest neighbour to a classification task, we need to scale the data. What is the purpose of this step?\n",
    "\n",
    "A. To help speed up the knn algorithm.\n",
    "\n",
    "B. To convert all data observations to numeric values.\n",
    "\n",
    "C. To ensure all data observations will be on a comparable scale and contribute equal shares to the calculation of the distance between points.\n",
    "\n",
    "D. None of the above.\n",
    "\n",
    "*Assign your answer to an object called `answer0.1`. Make sure your answer is an uppercase letter and is surrounded by quotation marks (e.g. `\"F\"`)*."
   ]
  },
  {
   "cell_type": "code",
   "execution_count": 2,
   "metadata": {
    "deletable": false,
    "nbgrader": {
     "cell_type": "code",
     "checksum": "868196915f89a2cd8b75833d3b31265c",
     "grade": false,
     "grade_id": "cell-59b72939f6fa91c3",
     "locked": false,
     "schema_version": 3,
     "solution": true,
     "task": false
    }
   },
   "outputs": [],
   "source": [
    "answer0.1 <- \"C\""
   ]
  },
  {
   "cell_type": "code",
   "execution_count": 3,
   "metadata": {
    "deletable": false,
    "editable": false,
    "nbgrader": {
     "cell_type": "code",
     "checksum": "75a155e993fb8cc210f042093cdedc2d",
     "grade": true,
     "grade_id": "cell-3f57245c4f46b1d0",
     "locked": true,
     "points": 1,
     "schema_version": 3,
     "solution": false,
     "task": false
    }
   },
   "outputs": [
    {
     "name": "stdout",
     "output_type": "stream",
     "text": [
      "\u001b[32mTest passed\u001b[39m 🥳\n",
      "\u001b[32mTest passed\u001b[39m 🎉\n",
      "[1] \"Success!\"\n"
     ]
    }
   ],
   "source": [
    "test_0.1()"
   ]
  },
  {
   "cell_type": "markdown",
   "metadata": {
    "deletable": false,
    "editable": false,
    "nbgrader": {
     "cell_type": "markdown",
     "checksum": "ea717e4c3b4a19b724afc08bcebc7aff",
     "grade": false,
     "grade_id": "cell-0ae53a5320742a59",
     "locked": true,
     "schema_version": 3,
     "solution": false,
     "task": false
    }
   },
   "source": [
    "## 1. Fruit Data Example - (Part II)\n",
    "**Question 1.0** \n",
    "<br>{points: 1}\n",
    "\n",
    "First, load the file, `fruit_data.csv` (found in the data folder) from the previous tutorial, into your notebook.\n",
    "\n",
    "`mutate()` the `fruit_name` column such that it is a factor using `as_factor()`.\n",
    "\n",
    "*Assign your data to an object called `fruit_data`.*"
   ]
  },
  {
   "cell_type": "code",
   "execution_count": 4,
   "metadata": {
    "deletable": false,
    "nbgrader": {
     "cell_type": "code",
     "checksum": "5dec1e49d953d99d5f1175fa39fdce56",
     "grade": false,
     "grade_id": "cell-79fb584a3431ca43",
     "locked": false,
     "schema_version": 3,
     "solution": true,
     "task": false
    }
   },
   "outputs": [
    {
     "name": "stderr",
     "output_type": "stream",
     "text": [
      "\u001b[1mRows: \u001b[22m\u001b[34m59\u001b[39m \u001b[1mColumns: \u001b[22m\u001b[34m7\u001b[39m\n",
      "\u001b[36m──\u001b[39m \u001b[1mColumn specification\u001b[22m \u001b[36m────────────────────────────────────────────────────────\u001b[39m\n",
      "\u001b[1mDelimiter:\u001b[22m \",\"\n",
      "\u001b[31mchr\u001b[39m (2): fruit_name, fruit_subtype\n",
      "\u001b[32mdbl\u001b[39m (5): fruit_label, mass, width, height, color_score\n",
      "\n",
      "\u001b[36mℹ\u001b[39m Use `spec()` to retrieve the full column specification for this data.\n",
      "\u001b[36mℹ\u001b[39m Specify the column types or set `show_col_types = FALSE` to quiet this message.\n"
     ]
    },
    {
     "data": {
      "text/html": [
       "<table class=\"dataframe\">\n",
       "<caption>A tibble: 59 × 7</caption>\n",
       "<thead>\n",
       "\t<tr><th scope=col>fruit_label</th><th scope=col>fruit_name</th><th scope=col>fruit_subtype</th><th scope=col>mass</th><th scope=col>width</th><th scope=col>height</th><th scope=col>color_score</th></tr>\n",
       "\t<tr><th scope=col>&lt;dbl&gt;</th><th scope=col>&lt;fct&gt;</th><th scope=col>&lt;chr&gt;</th><th scope=col>&lt;dbl&gt;</th><th scope=col>&lt;dbl&gt;</th><th scope=col>&lt;dbl&gt;</th><th scope=col>&lt;dbl&gt;</th></tr>\n",
       "</thead>\n",
       "<tbody>\n",
       "\t<tr><td>1</td><td>apple</td><td>granny_smith</td><td>192</td><td>8.4</td><td>7.3</td><td>0.55</td></tr>\n",
       "\t<tr><td>1</td><td>apple</td><td>granny_smith</td><td>180</td><td>8.0</td><td>6.8</td><td>0.59</td></tr>\n",
       "\t<tr><td>1</td><td>apple</td><td>granny_smith</td><td>176</td><td>7.4</td><td>7.2</td><td>0.60</td></tr>\n",
       "\t<tr><td>⋮</td><td>⋮</td><td>⋮</td><td>⋮</td><td>⋮</td><td>⋮</td><td>⋮</td></tr>\n",
       "\t<tr><td>4</td><td>lemon</td><td>unknown</td><td>116</td><td>5.9</td><td>8.1</td><td>0.73</td></tr>\n",
       "\t<tr><td>4</td><td>lemon</td><td>unknown</td><td>152</td><td>6.5</td><td>8.5</td><td>0.72</td></tr>\n",
       "\t<tr><td>4</td><td>lemon</td><td>unknown</td><td>118</td><td>6.1</td><td>8.1</td><td>0.70</td></tr>\n",
       "</tbody>\n",
       "</table>\n"
      ],
      "text/latex": [
       "A tibble: 59 × 7\n",
       "\\begin{tabular}{lllllll}\n",
       " fruit\\_label & fruit\\_name & fruit\\_subtype & mass & width & height & color\\_score\\\\\n",
       " <dbl> & <fct> & <chr> & <dbl> & <dbl> & <dbl> & <dbl>\\\\\n",
       "\\hline\n",
       "\t 1 & apple & granny\\_smith & 192 & 8.4 & 7.3 & 0.55\\\\\n",
       "\t 1 & apple & granny\\_smith & 180 & 8.0 & 6.8 & 0.59\\\\\n",
       "\t 1 & apple & granny\\_smith & 176 & 7.4 & 7.2 & 0.60\\\\\n",
       "\t ⋮ & ⋮ & ⋮ & ⋮ & ⋮ & ⋮ & ⋮\\\\\n",
       "\t 4 & lemon & unknown & 116 & 5.9 & 8.1 & 0.73\\\\\n",
       "\t 4 & lemon & unknown & 152 & 6.5 & 8.5 & 0.72\\\\\n",
       "\t 4 & lemon & unknown & 118 & 6.1 & 8.1 & 0.70\\\\\n",
       "\\end{tabular}\n"
      ],
      "text/markdown": [
       "\n",
       "A tibble: 59 × 7\n",
       "\n",
       "| fruit_label &lt;dbl&gt; | fruit_name &lt;fct&gt; | fruit_subtype &lt;chr&gt; | mass &lt;dbl&gt; | width &lt;dbl&gt; | height &lt;dbl&gt; | color_score &lt;dbl&gt; |\n",
       "|---|---|---|---|---|---|---|\n",
       "| 1 | apple | granny_smith | 192 | 8.4 | 7.3 | 0.55 |\n",
       "| 1 | apple | granny_smith | 180 | 8.0 | 6.8 | 0.59 |\n",
       "| 1 | apple | granny_smith | 176 | 7.4 | 7.2 | 0.60 |\n",
       "| ⋮ | ⋮ | ⋮ | ⋮ | ⋮ | ⋮ | ⋮ |\n",
       "| 4 | lemon | unknown | 116 | 5.9 | 8.1 | 0.73 |\n",
       "| 4 | lemon | unknown | 152 | 6.5 | 8.5 | 0.72 |\n",
       "| 4 | lemon | unknown | 118 | 6.1 | 8.1 | 0.70 |\n",
       "\n"
      ],
      "text/plain": [
       "   fruit_label fruit_name fruit_subtype mass width height color_score\n",
       "1  1           apple      granny_smith  192  8.4   7.3    0.55       \n",
       "2  1           apple      granny_smith  180  8.0   6.8    0.59       \n",
       "3  1           apple      granny_smith  176  7.4   7.2    0.60       \n",
       "⋮  ⋮           ⋮          ⋮             ⋮    ⋮     ⋮      ⋮          \n",
       "57 4           lemon      unknown       116  5.9   8.1    0.73       \n",
       "58 4           lemon      unknown       152  6.5   8.5    0.72       \n",
       "59 4           lemon      unknown       118  6.1   8.1    0.70       "
      ]
     },
     "metadata": {},
     "output_type": "display_data"
    }
   ],
   "source": [
    "fruit_data <- read_csv(\"data/fruit_data.csv\") |>\n",
    "    mutate(fruit_name = as_factor(fruit_name))\n",
    "fruit_data"
   ]
  },
  {
   "cell_type": "code",
   "execution_count": 5,
   "metadata": {
    "deletable": false,
    "editable": false,
    "nbgrader": {
     "cell_type": "code",
     "checksum": "7c3b4f5dbc24925a81ee52993294d627",
     "grade": true,
     "grade_id": "cell-03b586646cc9ea74",
     "locked": true,
     "points": 1,
     "schema_version": 3,
     "solution": false,
     "task": false
    }
   },
   "outputs": [
    {
     "name": "stdout",
     "output_type": "stream",
     "text": [
      "\u001b[32mTest passed\u001b[39m 🎊\n",
      "\u001b[32mTest passed\u001b[39m 😸\n",
      "\u001b[32mTest passed\u001b[39m 😸\n",
      "\u001b[32mTest passed\u001b[39m 😸\n",
      "[1] \"Success!\"\n"
     ]
    }
   ],
   "source": [
    "test_1.0()"
   ]
  },
  {
   "cell_type": "markdown",
   "metadata": {
    "deletable": false,
    "editable": false,
    "nbgrader": {
     "cell_type": "markdown",
     "checksum": "96c22def398ef9777be1d806a18c328d",
     "grade": false,
     "grade_id": "cell-9691b09f8cd7044c",
     "locked": true,
     "schema_version": 3,
     "solution": false,
     "task": false
    }
   },
   "source": [
    "Let's take a look at the first six observations in the fruit dataset. Run the cell below."
   ]
  },
  {
   "cell_type": "code",
   "execution_count": 6,
   "metadata": {
    "deletable": false,
    "editable": false,
    "nbgrader": {
     "cell_type": "code",
     "checksum": "f93525a5f4e7f3394f97443382f48b42",
     "grade": false,
     "grade_id": "cell-19eb282d44a51d90",
     "locked": true,
     "schema_version": 3,
     "solution": false,
     "task": false
    }
   },
   "outputs": [
    {
     "data": {
      "text/html": [
       "<table class=\"dataframe\">\n",
       "<caption>A tibble: 6 × 7</caption>\n",
       "<thead>\n",
       "\t<tr><th scope=col>fruit_label</th><th scope=col>fruit_name</th><th scope=col>fruit_subtype</th><th scope=col>mass</th><th scope=col>width</th><th scope=col>height</th><th scope=col>color_score</th></tr>\n",
       "\t<tr><th scope=col>&lt;dbl&gt;</th><th scope=col>&lt;fct&gt;</th><th scope=col>&lt;chr&gt;</th><th scope=col>&lt;dbl&gt;</th><th scope=col>&lt;dbl&gt;</th><th scope=col>&lt;dbl&gt;</th><th scope=col>&lt;dbl&gt;</th></tr>\n",
       "</thead>\n",
       "<tbody>\n",
       "\t<tr><td>1</td><td>apple   </td><td>granny_smith</td><td>192</td><td>8.4</td><td>7.3</td><td>0.55</td></tr>\n",
       "\t<tr><td>1</td><td>apple   </td><td>granny_smith</td><td>180</td><td>8.0</td><td>6.8</td><td>0.59</td></tr>\n",
       "\t<tr><td>1</td><td>apple   </td><td>granny_smith</td><td>176</td><td>7.4</td><td>7.2</td><td>0.60</td></tr>\n",
       "\t<tr><td>2</td><td>mandarin</td><td>mandarin    </td><td> 86</td><td>6.2</td><td>4.7</td><td>0.80</td></tr>\n",
       "\t<tr><td>2</td><td>mandarin</td><td>mandarin    </td><td> 84</td><td>6.0</td><td>4.6</td><td>0.79</td></tr>\n",
       "\t<tr><td>2</td><td>mandarin</td><td>mandarin    </td><td> 80</td><td>5.8</td><td>4.3</td><td>0.77</td></tr>\n",
       "</tbody>\n",
       "</table>\n"
      ],
      "text/latex": [
       "A tibble: 6 × 7\n",
       "\\begin{tabular}{lllllll}\n",
       " fruit\\_label & fruit\\_name & fruit\\_subtype & mass & width & height & color\\_score\\\\\n",
       " <dbl> & <fct> & <chr> & <dbl> & <dbl> & <dbl> & <dbl>\\\\\n",
       "\\hline\n",
       "\t 1 & apple    & granny\\_smith & 192 & 8.4 & 7.3 & 0.55\\\\\n",
       "\t 1 & apple    & granny\\_smith & 180 & 8.0 & 6.8 & 0.59\\\\\n",
       "\t 1 & apple    & granny\\_smith & 176 & 7.4 & 7.2 & 0.60\\\\\n",
       "\t 2 & mandarin & mandarin     &  86 & 6.2 & 4.7 & 0.80\\\\\n",
       "\t 2 & mandarin & mandarin     &  84 & 6.0 & 4.6 & 0.79\\\\\n",
       "\t 2 & mandarin & mandarin     &  80 & 5.8 & 4.3 & 0.77\\\\\n",
       "\\end{tabular}\n"
      ],
      "text/markdown": [
       "\n",
       "A tibble: 6 × 7\n",
       "\n",
       "| fruit_label &lt;dbl&gt; | fruit_name &lt;fct&gt; | fruit_subtype &lt;chr&gt; | mass &lt;dbl&gt; | width &lt;dbl&gt; | height &lt;dbl&gt; | color_score &lt;dbl&gt; |\n",
       "|---|---|---|---|---|---|---|\n",
       "| 1 | apple    | granny_smith | 192 | 8.4 | 7.3 | 0.55 |\n",
       "| 1 | apple    | granny_smith | 180 | 8.0 | 6.8 | 0.59 |\n",
       "| 1 | apple    | granny_smith | 176 | 7.4 | 7.2 | 0.60 |\n",
       "| 2 | mandarin | mandarin     |  86 | 6.2 | 4.7 | 0.80 |\n",
       "| 2 | mandarin | mandarin     |  84 | 6.0 | 4.6 | 0.79 |\n",
       "| 2 | mandarin | mandarin     |  80 | 5.8 | 4.3 | 0.77 |\n",
       "\n"
      ],
      "text/plain": [
       "  fruit_label fruit_name fruit_subtype mass width height color_score\n",
       "1 1           apple      granny_smith  192  8.4   7.3    0.55       \n",
       "2 1           apple      granny_smith  180  8.0   6.8    0.59       \n",
       "3 1           apple      granny_smith  176  7.4   7.2    0.60       \n",
       "4 2           mandarin   mandarin       86  6.2   4.7    0.80       \n",
       "5 2           mandarin   mandarin       84  6.0   4.6    0.79       \n",
       "6 2           mandarin   mandarin       80  5.8   4.3    0.77       "
      ]
     },
     "metadata": {},
     "output_type": "display_data"
    }
   ],
   "source": [
    "# Run this cell. \n",
    "slice(fruit_data, 1:6)"
   ]
  },
  {
   "cell_type": "markdown",
   "metadata": {
    "deletable": false,
    "editable": false,
    "nbgrader": {
     "cell_type": "markdown",
     "checksum": "9bbc0b46966cf89cba182cf5cd89213a",
     "grade": false,
     "grade_id": "cell-8859cd0f52f211a7",
     "locked": true,
     "schema_version": 3,
     "solution": false,
     "task": false
    }
   },
   "source": [
    "Run the cell below, and find the nearest neighbour based on mass and width to the first observation just by looking at the scatterplot (the first observation has been circled for you)."
   ]
  },
  {
   "cell_type": "code",
   "execution_count": 7,
   "metadata": {
    "deletable": false,
    "editable": false,
    "nbgrader": {
     "cell_type": "code",
     "checksum": "c595e24a25160d27fc35efb21453f56e",
     "grade": false,
     "grade_id": "cell-3833e64a2fd0000c",
     "locked": true,
     "schema_version": 3,
     "solution": false,
     "task": false
    }
   },
   "outputs": [
    {
     "data": {
      "image/png": "[encoded data removed]",
      "text/plain": [
       "plot without title"
      ]
     },
     "metadata": {
      "image/png": {
       "height": 360,
       "width": 600
      }
     },
     "output_type": "display_data"
    }
   ],
   "source": [
    "# Run this cell. \n",
    "options(repr.plot.width=10, repr.plot.height=6)\n",
    "point1 <- c(192, 8.4)\n",
    "point2 <- c(180, 8)\n",
    "point44 <- c(194, 7.2)\n",
    "\n",
    "fruit_data |>  \n",
    "    ggplot(aes(x=mass, \n",
    "               y= width, \n",
    "               colour = fruit_name)) +\n",
    "        labs(x = \"Mass (grams)\",\n",
    "             y = \"Width (cm)\",\n",
    "            colour = 'Name of the Fruit') +\n",
    "        geom_point() +\n",
    "        annotate(\"path\", \n",
    "                 x=point1[1] + 5*cos(seq(0,2*pi,length.out=100)),\n",
    "                 y=point1[2] + 0.1*sin(seq(0,2*pi,length.out=100))) +\n",
    "        annotate(\"text\", x = 183, y =  8.5, label = \"1\") +\n",
    "        theme(text = element_text(size = 20))"
   ]
  },
  {
   "cell_type": "markdown",
   "metadata": {
    "deletable": false,
    "editable": false,
    "nbgrader": {
     "cell_type": "markdown",
     "checksum": "52a1e73d0bea41e562332ebf0b42987e",
     "grade": false,
     "grade_id": "cell-63c4bd6e0c9afee9",
     "locked": true,
     "schema_version": 3,
     "solution": false,
     "task": false
    }
   },
   "source": [
    "**Question 1.1** Multiple Choice:\n",
    "<br>{points: 1}\n",
    "\n",
    "Based on the graph generated, what is the `fruit_name` of the closest data point to the one circled?\n",
    "\n",
    "A. apple\n",
    "\n",
    "B. lemon\n",
    "\n",
    "C. mandarin\n",
    "\n",
    "D. orange\n",
    "\n",
    "*Assign your answer to an object called `answer1.1`. Make sure your answer is an uppercase letter and is surrounded by quotation marks (e.g. `\"F\"`).*"
   ]
  },
  {
   "cell_type": "code",
   "execution_count": 8,
   "metadata": {
    "deletable": false,
    "nbgrader": {
     "cell_type": "code",
     "checksum": "50e62322f1288e75b3c923f23152071f",
     "grade": false,
     "grade_id": "cell-b2af8601532fb0b1",
     "locked": false,
     "schema_version": 3,
     "solution": true,
     "task": false
    }
   },
   "outputs": [],
   "source": [
    "answer1.1 <- \"A\""
   ]
  },
  {
   "cell_type": "code",
   "execution_count": 9,
   "metadata": {
    "deletable": false,
    "editable": false,
    "nbgrader": {
     "cell_type": "code",
     "checksum": "7959e42e6630f4c45df1af4fe4440079",
     "grade": true,
     "grade_id": "cell-3d469d43b37c3c40",
     "locked": true,
     "points": 1,
     "schema_version": 3,
     "solution": false,
     "task": false
    }
   },
   "outputs": [
    {
     "name": "stdout",
     "output_type": "stream",
     "text": [
      "\u001b[32mTest passed\u001b[39m 🥳\n",
      "\u001b[32mTest passed\u001b[39m 😀\n",
      "[1] \"Success!\"\n"
     ]
    }
   ],
   "source": [
    "test_1.1()"
   ]
  },
  {
   "cell_type": "markdown",
   "metadata": {
    "deletable": false,
    "editable": false,
    "nbgrader": {
     "cell_type": "markdown",
     "checksum": "0c818ef9d59ccba8a4a358235c428605",
     "grade": false,
     "grade_id": "cell-10a0cb2de24a557d",
     "locked": true,
     "schema_version": 3,
     "solution": false,
     "task": false
    }
   },
   "source": [
    "**Question 1.2**\n",
    "<br>{points: 1}\n",
    "\n",
    "Using `mass` and `width`, calculate the distance between the first observation and the second observation.\n",
    "\n",
    "We provide a scaffolding to get you started.\n",
    "\n",
    "*Assign your answer to an object called `fruit_dist_2`.*"
   ]
  },
  {
   "cell_type": "code",
   "execution_count": 10,
   "metadata": {
    "deletable": false,
    "nbgrader": {
     "cell_type": "code",
     "checksum": "476e3a965e4688fd2225725b0d5ac7fd",
     "grade": false,
     "grade_id": "cell-b6995fb3f851dfd1",
     "locked": false,
     "schema_version": 3,
     "solution": true,
     "task": false
    }
   },
   "outputs": [
    {
     "data": {
      "text/plain": [
       "         1\n",
       "2 12.00666"
      ]
     },
     "metadata": {},
     "output_type": "display_data"
    }
   ],
   "source": [
    "# ... <- fruit_data |>\n",
    "#    slice(1, 2) |> # We use slice to get the first two rows of the fruit dataset\n",
    "#    select(mass, ...) |>\n",
    "#    dist()\n",
    "\n",
    "fruit_dist_2 <- fruit_data |>\n",
    "    slice(1, 2)|>\n",
    "    select(mass, width) |>\n",
    "    dist()\n",
    "fruit_dist_2 "
   ]
  },
  {
   "cell_type": "code",
   "execution_count": 11,
   "metadata": {
    "deletable": false,
    "editable": false,
    "nbgrader": {
     "cell_type": "code",
     "checksum": "9d330b012d12e597f3b30526d91dae35",
     "grade": true,
     "grade_id": "cell-b985ee138ab89218",
     "locked": true,
     "points": 1,
     "schema_version": 3,
     "solution": false,
     "task": false
    }
   },
   "outputs": [
    {
     "name": "stdout",
     "output_type": "stream",
     "text": [
      "\u001b[32mTest passed\u001b[39m 😀\n",
      "\u001b[32mTest passed\u001b[39m 🌈\n",
      "[1] \"Success!\"\n"
     ]
    }
   ],
   "source": [
    "test_1.2()"
   ]
  },
  {
   "cell_type": "markdown",
   "metadata": {
    "deletable": false,
    "editable": false,
    "nbgrader": {
     "cell_type": "markdown",
     "checksum": "d2bfb1d68d0f83e30d6b6950cb5c8175",
     "grade": false,
     "grade_id": "cell-1688abd2ff0a21e7",
     "locked": true,
     "schema_version": 3,
     "solution": false,
     "task": false
    }
   },
   "source": [
    "**Question 1.3**\n",
    "<br>{points: 1}\n",
    "\n",
    "Calculate the distance between the first and the **44th observation** in the `fruit` dataset using the `mass` and `width` variables.\n",
    "\n",
    "You can see from the data frame output from the cell below that **observation 44** has `mass` = 194 g and `width` = 7.2 cm.\n",
    "\n",
    "*Assign your answer to an object called `fruit_dist_44`.*"
   ]
  },
  {
   "cell_type": "code",
   "execution_count": 12,
   "metadata": {
    "deletable": false,
    "editable": false,
    "nbgrader": {
     "cell_type": "code",
     "checksum": "64778b9334133deefe3237fd61eb9a36",
     "grade": false,
     "grade_id": "cell-c08d592f4a1618b2",
     "locked": true,
     "schema_version": 3,
     "solution": false,
     "task": false
    }
   },
   "outputs": [
    {
     "data": {
      "text/html": [
       "<table class=\"dataframe\">\n",
       "<caption>A tibble: 1 × 7</caption>\n",
       "<thead>\n",
       "\t<tr><th scope=col>fruit_label</th><th scope=col>fruit_name</th><th scope=col>fruit_subtype</th><th scope=col>mass</th><th scope=col>width</th><th scope=col>height</th><th scope=col>color_score</th></tr>\n",
       "\t<tr><th scope=col>&lt;dbl&gt;</th><th scope=col>&lt;fct&gt;</th><th scope=col>&lt;chr&gt;</th><th scope=col>&lt;dbl&gt;</th><th scope=col>&lt;dbl&gt;</th><th scope=col>&lt;dbl&gt;</th><th scope=col>&lt;dbl&gt;</th></tr>\n",
       "</thead>\n",
       "<tbody>\n",
       "\t<tr><td>4</td><td>lemon</td><td>spanish_belsan</td><td>194</td><td>7.2</td><td>10.3</td><td>0.7</td></tr>\n",
       "</tbody>\n",
       "</table>\n"
      ],
      "text/latex": [
       "A tibble: 1 × 7\n",
       "\\begin{tabular}{lllllll}\n",
       " fruit\\_label & fruit\\_name & fruit\\_subtype & mass & width & height & color\\_score\\\\\n",
       " <dbl> & <fct> & <chr> & <dbl> & <dbl> & <dbl> & <dbl>\\\\\n",
       "\\hline\n",
       "\t 4 & lemon & spanish\\_belsan & 194 & 7.2 & 10.3 & 0.7\\\\\n",
       "\\end{tabular}\n"
      ],
      "text/markdown": [
       "\n",
       "A tibble: 1 × 7\n",
       "\n",
       "| fruit_label &lt;dbl&gt; | fruit_name &lt;fct&gt; | fruit_subtype &lt;chr&gt; | mass &lt;dbl&gt; | width &lt;dbl&gt; | height &lt;dbl&gt; | color_score &lt;dbl&gt; |\n",
       "|---|---|---|---|---|---|---|\n",
       "| 4 | lemon | spanish_belsan | 194 | 7.2 | 10.3 | 0.7 |\n",
       "\n"
      ],
      "text/plain": [
       "  fruit_label fruit_name fruit_subtype  mass width height color_score\n",
       "1 4           lemon      spanish_belsan 194  7.2   10.3   0.7        "
      ]
     },
     "metadata": {},
     "output_type": "display_data"
    },
    {
     "data": {
      "image/png": "[encoded data removed]",
      "text/plain": [
       "plot without title"
      ]
     },
     "metadata": {
      "image/png": {
       "height": 360,
       "width": 600
      }
     },
     "output_type": "display_data"
    }
   ],
   "source": [
    "# Run this cell. \n",
    "\n",
    "filter(fruit_data, row_number() == 44)\n",
    "\n",
    "point1 <- c(192, 8.4)\n",
    "point2 <- c(180, 8)\n",
    "point44 <- c(194, 7.2)\n",
    "\n",
    "fruit_data |>\n",
    "    ggplot(aes(x = mass, \n",
    "               y = width, \n",
    "               colour = fruit_name)) +\n",
    "        labs(x = \"Mass (grams)\",\n",
    "             y = \"Width (cm)\",\n",
    "            colour = 'Name of the Fruit') +\n",
    "        geom_point() +\n",
    "        annotate(\"path\", \n",
    "                 x=point1[1] + 5*cos(seq(0,2*pi,length.out=100)),\n",
    "                 y=point1[2] + 0.1*sin(seq(0,2*pi,length.out=100))) +\n",
    "        annotate(\"text\", x = 183, y =  8.5, label = \"1\") +\n",
    "        annotate(\"path\",\n",
    "                 x=point2[1] + 5*cos(seq(0,2*pi,length.out=100)),\n",
    "                 y=point2[2] + 0.1*sin(seq(0,2*pi,length.out=100))) +\n",
    "        annotate(\"text\", x = 169, y =  8.1, label = \"2\") +\n",
    "        annotate(\"path\",\n",
    "                 x=point44[1] + 5*cos(seq(0,2*pi,length.out=100)),\n",
    "                 y=point44[2]+0.1*sin(seq(0,2*pi,length.out=100))) +\n",
    "        annotate(\"text\", x = 204, y =  7.1, label = \"44\") +\n",
    "        theme(text = element_text(size = 20))"
   ]
  },
  {
   "cell_type": "code",
   "execution_count": 13,
   "metadata": {
    "deletable": false,
    "nbgrader": {
     "cell_type": "code",
     "checksum": "cb970fe2038ad019cb9a8e4344e9356a",
     "grade": false,
     "grade_id": "cell-43a8d3f7727d3450",
     "locked": false,
     "schema_version": 3,
     "solution": true,
     "task": false
    }
   },
   "outputs": [
    {
     "data": {
      "text/plain": [
       "         1\n",
       "2 2.332381"
      ]
     },
     "metadata": {},
     "output_type": "display_data"
    }
   ],
   "source": [
    "fruit_dist_44 <- fruit_data |>\n",
    "    slice(1, 44)|>\n",
    "    select(mass, width) |>\n",
    "    dist()\n",
    "fruit_dist_44"
   ]
  },
  {
   "cell_type": "code",
   "execution_count": 14,
   "metadata": {
    "deletable": false,
    "editable": false,
    "nbgrader": {
     "cell_type": "code",
     "checksum": "20917923330b8f3c68240fa65938a894",
     "grade": true,
     "grade_id": "cell-34cfcd13bb1f5097",
     "locked": true,
     "points": 1,
     "schema_version": 3,
     "solution": false,
     "task": false
    }
   },
   "outputs": [
    {
     "name": "stdout",
     "output_type": "stream",
     "text": [
      "\u001b[32mTest passed\u001b[39m 🥳\n",
      "\u001b[32mTest passed\u001b[39m 🎉\n",
      "[1] \"Success!\"\n"
     ]
    }
   ],
   "source": [
    "test_1.3()"
   ]
  },
  {
   "cell_type": "markdown",
   "metadata": {
    "deletable": false,
    "editable": false,
    "nbgrader": {
     "cell_type": "markdown",
     "checksum": "ac7409cf86092ef830162b39ec9a350e",
     "grade": false,
     "grade_id": "cell-aee58b612565e7f9",
     "locked": true,
     "schema_version": 3,
     "solution": false,
     "task": false
    }
   },
   "source": [
    "What do you notice about your answers from **Question 1.2** & **1.3** that you just calculated? Is it what you would expect given the scatter plot above? Why or why not? Discuss about this.\n",
    "\n",
    "*Hint: Look at where the observations are on the scatterplot in the cell above this question, and what might happen if we changed grams into kilograms to measure the mass?*"
   ]
  },
  {
   "cell_type": "markdown",
   "metadata": {
    "deletable": false,
    "editable": false,
    "nbgrader": {
     "cell_type": "markdown",
     "checksum": "b084c5d19a158430a9aba43f726fa4b9",
     "grade": false,
     "grade_id": "cell-5fb7c1e62997eb46",
     "locked": true,
     "schema_version": 3,
     "solution": false,
     "task": false
    }
   },
   "source": [
    "**Question 1.4**\n",
    "<br>{points: 1}\n",
    "\n",
    "From the distance calculation, we see that observation 1 and 44 have a smaller distance than observation 1 and 2. However, if we look at the scatterplot the distance of the first observation to the second observation appears closer than to the 44th observation.\n",
    "\n",
    "Which of the following statements is correct?\n",
    "\n",
    "A. A difference of 12 g in mass between observation 1 and 2 is large compared to a difference of 1.2 cm in width between observation 1 and 44. Consequently, mass will drive the classification results, and width will have less of an effect. Hence, our distance calculation reflects that.\n",
    "\n",
    "B. If we measured mass in kilograms, then we’d get different classification results.\n",
    "\n",
    "C. We should standardize the data so that all variables will be on a comparable scale.\n",
    "\n",
    "D. All of the above.\n",
    "\n",
    "*Assign your answer to an object called `answer1.4`. Make sure your answer is an uppercase letter and is surrounded by quotation marks (e.g. `\"F\"`).*"
   ]
  },
  {
   "cell_type": "code",
   "execution_count": 15,
   "metadata": {
    "deletable": false,
    "nbgrader": {
     "cell_type": "code",
     "checksum": "4aaa04db4254ad589a402439f0e9c12f",
     "grade": false,
     "grade_id": "cell-4b81c6055a08f87b",
     "locked": false,
     "schema_version": 3,
     "solution": true,
     "task": false
    }
   },
   "outputs": [],
   "source": [
    "\n",
    "answer1.4 <- \"D\""
   ]
  },
  {
   "cell_type": "code",
   "execution_count": 16,
   "metadata": {
    "deletable": false,
    "editable": false,
    "nbgrader": {
     "cell_type": "code",
     "checksum": "2db5705d57b29baa45a5510a039d4fcf",
     "grade": true,
     "grade_id": "cell-89c07cb539498da4",
     "locked": true,
     "points": 1,
     "schema_version": 3,
     "solution": false,
     "task": false
    }
   },
   "outputs": [
    {
     "name": "stdout",
     "output_type": "stream",
     "text": [
      "\u001b[32mTest passed\u001b[39m 🥇\n",
      "\u001b[32mTest passed\u001b[39m 🎊\n",
      "[1] \"Success!\"\n"
     ]
    }
   ],
   "source": [
    "test_1.4()"
   ]
  },
  {
   "cell_type": "markdown",
   "metadata": {
    "deletable": false,
    "editable": false,
    "nbgrader": {
     "cell_type": "markdown",
     "checksum": "9504a2efda7af0ec6cf75b0549b58f6f",
     "grade": false,
     "grade_id": "cell-5b9caaa8370fd73e",
     "locked": true,
     "schema_version": 3,
     "solution": false,
     "task": false
    }
   },
   "source": [
    "**Question 1.5**\n",
    "<br>{points: 1}\n",
    "\n",
    "Scale and center all the variables of the `fruit` dataset and save them as columns in your data table.\n",
    "\n",
    "Save the dataset object and call it `fruit_data_scaled`. Make sure to name the new columns `scaled_*` where * is the old column name (e.g. `scaled_mass`). Do not drop the unscaled columns (`mass`, `width`, `height`, `color_score`)."
   ]
  },
  {
   "cell_type": "code",
   "execution_count": 17,
   "metadata": {
    "deletable": false,
    "nbgrader": {
     "cell_type": "code",
     "checksum": "e0fea44cef07fa7724e014ce4a659249",
     "grade": false,
     "grade_id": "cell-d15b464489d4f1a0",
     "locked": false,
     "schema_version": 3,
     "solution": true,
     "task": false
    }
   },
   "outputs": [
    {
     "data": {
      "text/html": [
       "<table class=\"dataframe\">\n",
       "<caption>A tibble: 59 × 11</caption>\n",
       "<thead>\n",
       "\t<tr><th scope=col>fruit_label</th><th scope=col>fruit_name</th><th scope=col>fruit_subtype</th><th scope=col>mass</th><th scope=col>width</th><th scope=col>height</th><th scope=col>color_score</th><th scope=col>scaled_mass</th><th scope=col>scaled_width</th><th scope=col>scaled_height</th><th scope=col>scaled_color_score</th></tr>\n",
       "\t<tr><th scope=col>&lt;dbl&gt;</th><th scope=col>&lt;fct&gt;</th><th scope=col>&lt;chr&gt;</th><th scope=col>&lt;dbl&gt;</th><th scope=col>&lt;dbl&gt;</th><th scope=col>&lt;dbl&gt;</th><th scope=col>&lt;dbl&gt;</th><th scope=col>&lt;dbl[,1]&gt;</th><th scope=col>&lt;dbl[,1]&gt;</th><th scope=col>&lt;dbl[,1]&gt;</th><th scope=col>&lt;dbl[,1]&gt;</th></tr>\n",
       "</thead>\n",
       "<tbody>\n",
       "\t<tr><td>1</td><td>apple</td><td>granny_smith</td><td>192</td><td>8.4</td><td>7.3</td><td>0.55</td><td>0.5249358</td><td>1.5850841</td><td>-0.2889166</td><td>-2.769820</td></tr>\n",
       "\t<tr><td>1</td><td>apple</td><td>granny_smith</td><td>180</td><td>8.0</td><td>6.8</td><td>0.59</td><td>0.3068287</td><td>1.0954508</td><td>-0.6562889</td><td>-2.249376</td></tr>\n",
       "\t<tr><td>1</td><td>apple</td><td>granny_smith</td><td>176</td><td>7.4</td><td>7.2</td><td>0.60</td><td>0.2341263</td><td>0.3610008</td><td>-0.3623910</td><td>-2.119265</td></tr>\n",
       "\t<tr><td>⋮</td><td>⋮</td><td>⋮</td><td>⋮</td><td>⋮</td><td>⋮</td><td>⋮</td><td>⋮</td><td>⋮</td><td>⋮</td><td>⋮</td></tr>\n",
       "\t<tr><td>4</td><td>lemon</td><td>unknown</td><td>116</td><td>5.9</td><td>8.1</td><td>0.73</td><td>-0.8564094</td><td>-1.4751241</td><td>0.2988792</td><td>-0.4278225</td></tr>\n",
       "\t<tr><td>4</td><td>lemon</td><td>unknown</td><td>152</td><td>6.5</td><td>8.5</td><td>0.72</td><td>-0.2020880</td><td>-0.7406741</td><td>0.5927771</td><td>-0.5579334</td></tr>\n",
       "\t<tr><td>4</td><td>lemon</td><td>unknown</td><td>118</td><td>6.1</td><td>8.1</td><td>0.70</td><td>-0.8200582</td><td>-1.2303074</td><td>0.2988792</td><td>-0.8181553</td></tr>\n",
       "</tbody>\n",
       "</table>\n"
      ],
      "text/latex": [
       "A tibble: 59 × 11\n",
       "\\begin{tabular}{lllllllllll}\n",
       " fruit\\_label & fruit\\_name & fruit\\_subtype & mass & width & height & color\\_score & scaled\\_mass & scaled\\_width & scaled\\_height & scaled\\_color\\_score\\\\\n",
       " <dbl> & <fct> & <chr> & <dbl> & <dbl> & <dbl> & <dbl> & <dbl{[},1{]}> & <dbl{[},1{]}> & <dbl{[},1{]}> & <dbl{[},1{]}>\\\\\n",
       "\\hline\n",
       "\t 1 & apple & granny\\_smith & 192 & 8.4 & 7.3 & 0.55 & 0.5249358 & 1.5850841 & -0.2889166 & -2.769820\\\\\n",
       "\t 1 & apple & granny\\_smith & 180 & 8.0 & 6.8 & 0.59 & 0.3068287 & 1.0954508 & -0.6562889 & -2.249376\\\\\n",
       "\t 1 & apple & granny\\_smith & 176 & 7.4 & 7.2 & 0.60 & 0.2341263 & 0.3610008 & -0.3623910 & -2.119265\\\\\n",
       "\t ⋮ & ⋮ & ⋮ & ⋮ & ⋮ & ⋮ & ⋮ & ⋮ & ⋮ & ⋮ & ⋮\\\\\n",
       "\t 4 & lemon & unknown & 116 & 5.9 & 8.1 & 0.73 & -0.8564094 & -1.4751241 & 0.2988792 & -0.4278225\\\\\n",
       "\t 4 & lemon & unknown & 152 & 6.5 & 8.5 & 0.72 & -0.2020880 & -0.7406741 & 0.5927771 & -0.5579334\\\\\n",
       "\t 4 & lemon & unknown & 118 & 6.1 & 8.1 & 0.70 & -0.8200582 & -1.2303074 & 0.2988792 & -0.8181553\\\\\n",
       "\\end{tabular}\n"
      ],
      "text/markdown": [
       "\n",
       "A tibble: 59 × 11\n",
       "\n",
       "| fruit_label &lt;dbl&gt; | fruit_name &lt;fct&gt; | fruit_subtype &lt;chr&gt; | mass &lt;dbl&gt; | width &lt;dbl&gt; | height &lt;dbl&gt; | color_score &lt;dbl&gt; | scaled_mass &lt;dbl[,1]&gt; | scaled_width &lt;dbl[,1]&gt; | scaled_height &lt;dbl[,1]&gt; | scaled_color_score &lt;dbl[,1]&gt; |\n",
       "|---|---|---|---|---|---|---|---|---|---|---|\n",
       "| 1 | apple | granny_smith | 192 | 8.4 | 7.3 | 0.55 | 0.5249358 | 1.5850841 | -0.2889166 | -2.769820 |\n",
       "| 1 | apple | granny_smith | 180 | 8.0 | 6.8 | 0.59 | 0.3068287 | 1.0954508 | -0.6562889 | -2.249376 |\n",
       "| 1 | apple | granny_smith | 176 | 7.4 | 7.2 | 0.60 | 0.2341263 | 0.3610008 | -0.3623910 | -2.119265 |\n",
       "| ⋮ | ⋮ | ⋮ | ⋮ | ⋮ | ⋮ | ⋮ | ⋮ | ⋮ | ⋮ | ⋮ |\n",
       "| 4 | lemon | unknown | 116 | 5.9 | 8.1 | 0.73 | -0.8564094 | -1.4751241 | 0.2988792 | -0.4278225 |\n",
       "| 4 | lemon | unknown | 152 | 6.5 | 8.5 | 0.72 | -0.2020880 | -0.7406741 | 0.5927771 | -0.5579334 |\n",
       "| 4 | lemon | unknown | 118 | 6.1 | 8.1 | 0.70 | -0.8200582 | -1.2303074 | 0.2988792 | -0.8181553 |\n",
       "\n"
      ],
      "text/plain": [
       "   fruit_label fruit_name fruit_subtype mass width height color_score\n",
       "1  1           apple      granny_smith  192  8.4   7.3    0.55       \n",
       "2  1           apple      granny_smith  180  8.0   6.8    0.59       \n",
       "3  1           apple      granny_smith  176  7.4   7.2    0.60       \n",
       "⋮  ⋮           ⋮          ⋮             ⋮    ⋮     ⋮      ⋮          \n",
       "57 4           lemon      unknown       116  5.9   8.1    0.73       \n",
       "58 4           lemon      unknown       152  6.5   8.5    0.72       \n",
       "59 4           lemon      unknown       118  6.1   8.1    0.70       \n",
       "   scaled_mass scaled_width scaled_height scaled_color_score\n",
       "1  0.5249358   1.5850841    -0.2889166    -2.769820         \n",
       "2  0.3068287   1.0954508    -0.6562889    -2.249376         \n",
       "3  0.2341263   0.3610008    -0.3623910    -2.119265         \n",
       "⋮  ⋮           ⋮            ⋮             ⋮                 \n",
       "57 -0.8564094  -1.4751241   0.2988792     -0.4278225        \n",
       "58 -0.2020880  -0.7406741   0.5927771     -0.5579334        \n",
       "59 -0.8200582  -1.2303074   0.2988792     -0.8181553        "
      ]
     },
     "metadata": {},
     "output_type": "display_data"
    }
   ],
   "source": [
    "# .. <- fruit_data |> \n",
    "# mutate(scaled_mass = scale(mass, center = TRUE), \n",
    "#        scaled_width = scale(..., ...),\n",
    "#        scaled_height = scale(..., ...),\n",
    "#        scaled_color_score = scale(..., ...))\n",
    "\n",
    "fruit_data_scaled <- fruit_data |>\n",
    "    mutate (scaled_mass = scale(mass, center = TRUE), \n",
    "            scaled_width = scale (width , center = TRUE), \n",
    "            scaled_height = scale(height, center = TRUE), \n",
    "            scaled_color_score = scale(color_score, center = TRUE))\n",
    "\n",
    "fruit_data_scaled"
   ]
  },
  {
   "cell_type": "code",
   "execution_count": 18,
   "metadata": {
    "deletable": false,
    "editable": false,
    "nbgrader": {
     "cell_type": "code",
     "checksum": "477736f8bc1def4942f515ceb0cd0ff9",
     "grade": true,
     "grade_id": "cell-1897bc0107b67ecc",
     "locked": true,
     "points": 1,
     "schema_version": 3,
     "solution": false,
     "task": false
    }
   },
   "outputs": [
    {
     "name": "stdout",
     "output_type": "stream",
     "text": [
      "\u001b[32mTest passed\u001b[39m 🎊\n",
      "\u001b[32mTest passed\u001b[39m 😀\n",
      "\u001b[32mTest passed\u001b[39m 😀\n",
      "\u001b[32mTest passed\u001b[39m 🎊\n",
      "\u001b[32mTest passed\u001b[39m 🥇\n",
      "[1] \"Success!\"\n"
     ]
    }
   ],
   "source": [
    "test_1.5()"
   ]
  },
  {
   "cell_type": "markdown",
   "metadata": {
    "deletable": false,
    "editable": false,
    "nbgrader": {
     "cell_type": "markdown",
     "checksum": "d8353b551de8d946a616e4c9b870f7c0",
     "grade": false,
     "grade_id": "cell-b6f8f43cbdc8642a",
     "locked": true,
     "schema_version": 3,
     "solution": false,
     "task": false
    }
   },
   "source": [
    "\n",
    "**Question 1.6**\n",
    "<br>{points: 1}\n",
    "\n",
    "Let's repeat **Question 1.2** and **1.3** with the scaled variables:\n",
    "\n",
    "- calculate the distance with the scaled mass and width variables between observations 1 and 2\n",
    "- calculate the distances with the scaled mass and width variables between observations 1 and 44\n",
    "\n",
    "After you do this, think about how these distances compared to the distances you computed in **Question 1.2** and **1.3** for the same points.\n",
    "\n",
    "*Assign your answers to objects called `distance_2` and `distance_44` respectively.*"
   ]
  },
  {
   "cell_type": "code",
   "execution_count": 19,
   "metadata": {
    "deletable": false,
    "nbgrader": {
     "cell_type": "code",
     "checksum": "61f35f4c227b0b25d56ede46dc1b3e73",
     "grade": false,
     "grade_id": "cell-7723cc0237258b6c",
     "locked": false,
     "schema_version": 3,
     "solution": true,
     "task": false
    }
   },
   "outputs": [
    {
     "data": {
      "text/plain": [
       "          1\n",
       "2 0.5360145"
      ]
     },
     "metadata": {},
     "output_type": "display_data"
    },
    {
     "data": {
      "text/plain": [
       "        1\n",
       "2 1.46935"
      ]
     },
     "metadata": {},
     "output_type": "display_data"
    }
   ],
   "source": [
    "distance_2 <- fruit_data_scaled|>\n",
    "    slice(1, 2) |>\n",
    "    select(scaled_mass, scaled_width) |>\n",
    "    dist()\n",
    "\n",
    "distance_44 <- fruit_data_scaled |>\n",
    "    slice(1, 44)|>\n",
    "    select(scaled_mass, scaled_width)|> \n",
    "    dist()\n",
    "\n",
    "\n",
    "distance_2\n",
    "distance_44"
   ]
  },
  {
   "cell_type": "code",
   "execution_count": 20,
   "metadata": {
    "deletable": false,
    "editable": false,
    "nbgrader": {
     "cell_type": "code",
     "checksum": "71dd1f49872536e853ad5ee75534122a",
     "grade": true,
     "grade_id": "cell-7316457bcda1bf40",
     "locked": true,
     "points": 1,
     "schema_version": 3,
     "solution": false,
     "task": false
    }
   },
   "outputs": [
    {
     "name": "stdout",
     "output_type": "stream",
     "text": [
      "\u001b[32mTest passed\u001b[39m 🎊\n",
      "\u001b[32mTest passed\u001b[39m 🥳\n",
      "\u001b[32mTest passed\u001b[39m 🥇\n",
      "\u001b[32mTest passed\u001b[39m 😸\n",
      "\u001b[32mTest passed\u001b[39m 😀\n",
      "\u001b[32mTest passed\u001b[39m 🌈\n",
      "[1] \"Success!\"\n"
     ]
    }
   ],
   "source": [
    "test_1.6()"
   ]
  },
  {
   "cell_type": "markdown",
   "metadata": {
    "deletable": false,
    "editable": false,
    "nbgrader": {
     "cell_type": "markdown",
     "checksum": "67f52f4e83254e5d82de8b5512fb253c",
     "grade": false,
     "grade_id": "cell-6e0a8546a65b79e8",
     "locked": true,
     "schema_version": 3,
     "solution": false,
     "task": false
    }
   },
   "source": [
    "## Randomness and Setting Seeds\n",
    "\n",
    "This worksheet uses functions from the `tidymodels` library, which not only allows us to perform K-nearest neighbour classification, but also allows us to evaluate how well our classification worked. In order to ensure that the steps in the worksheet are reproducible, we need to set a *seed*, i.e., a numerical \"starting value,\" which determines the sequence of random numbers R will generate.\n",
    "\n",
    "Below in many cells we have included a call to `set.seed`. **Do not remove these lines of code**; they are necessary to make sure the autotesting code functions properly.\n",
    "\n",
    "> *The reason we have `set.seed` in so many places is that Jupyter notebooks are organized into cells that can be run out of order. Since things can be run out of order, the exact sequence of random values that is used in each cell is hard to determine, which makes autotesting really difficult.  We had two options: either enforce that you only ever run the code by hitting \"Restart & Run All\" to ensure that we get the same values of randomness each time, or put `set.seed` in a lot of places (we chose the latter). One drawback of calling `set.seed` everywhere is that the numbers that will be generated won't really be random. For the purposes of teaching and learning, that is fine here. But __in your course project and other data analyses outside of this course, you must call `set.seed` only once at the beginning of the analysis, so that your random numbers are actually reasonably random.__*"
   ]
  },
  {
   "cell_type": "markdown",
   "metadata": {
    "deletable": false,
    "editable": false,
    "nbgrader": {
     "cell_type": "markdown",
     "checksum": "6f50491e82ce4e567607e19f2e6637a2",
     "grade": false,
     "grade_id": "cell-0e8089ce4f710660",
     "locked": true,
     "schema_version": 3,
     "solution": false
    }
   },
   "source": [
    "## 2. Splitting the data into a training and test set\n",
    "\n",
    "In this exercise, we will be partitioning `fruit_data` into a training (75%) and testing (25%) set using the `tidymodels` package. After creating the test set, we will put the test set away in a lock box and not touch it again until we have found the best k-nn classifier we can make using the training set. We will use the variable `fruit_name` as our class label. \n",
    "\n",
    "\n",
    "**Question 2.0**\n",
    "<br> {points: 1}\n",
    "\n",
    "To create the training and test set, first use the `initial_split` function to split `fruit_data`. Specify you want to use *75%* of the data. For the `strata` argument, place the variable we want to classify, `fruit_name`. Name the object you create `fruit_split`. \n",
    "\n",
    "Next, pass the `fruit_split` object to the `training` and `testing` functions and name your respective objects as `fruit_train` and `fruit_test`. "
   ]
  },
  {
   "cell_type": "code",
   "execution_count": 23,
   "metadata": {
    "deletable": false,
    "nbgrader": {
     "cell_type": "code",
     "checksum": "b008fa6b5d42c05562f48a86f64272f2",
     "grade": false,
     "grade_id": "cell-c262636f2b9777e3",
     "locked": false,
     "schema_version": 3,
     "solution": true
    }
   },
   "outputs": [
    {
     "data": {
      "text/html": [
       "<table class=\"dataframe\">\n",
       "<caption>A tibble: 43 × 7</caption>\n",
       "<thead>\n",
       "\t<tr><th scope=col>fruit_label</th><th scope=col>fruit_name</th><th scope=col>fruit_subtype</th><th scope=col>mass</th><th scope=col>width</th><th scope=col>height</th><th scope=col>color_score</th></tr>\n",
       "\t<tr><th scope=col>&lt;dbl&gt;</th><th scope=col>&lt;fct&gt;</th><th scope=col>&lt;chr&gt;</th><th scope=col>&lt;dbl&gt;</th><th scope=col>&lt;dbl&gt;</th><th scope=col>&lt;dbl&gt;</th><th scope=col>&lt;dbl&gt;</th></tr>\n",
       "</thead>\n",
       "<tbody>\n",
       "\t<tr><td>1</td><td>apple   </td><td>granny_smith</td><td>192</td><td>8.4</td><td>7.3</td><td>0.55</td></tr>\n",
       "\t<tr><td>1</td><td>apple   </td><td>granny_smith</td><td>176</td><td>7.4</td><td>7.2</td><td>0.60</td></tr>\n",
       "\t<tr><td>2</td><td>mandarin</td><td>mandarin    </td><td> 76</td><td>5.8</td><td>4.0</td><td>0.81</td></tr>\n",
       "\t<tr><td>⋮</td><td>⋮</td><td>⋮</td><td>⋮</td><td>⋮</td><td>⋮</td><td>⋮</td></tr>\n",
       "\t<tr><td>3</td><td>orange</td><td>turkey_navel</td><td>154</td><td>7.1</td><td>7.5</td><td>0.78</td></tr>\n",
       "\t<tr><td>3</td><td>orange</td><td>turkey_navel</td><td>180</td><td>7.6</td><td>8.2</td><td>0.79</td></tr>\n",
       "\t<tr><td>3</td><td>orange</td><td>turkey_navel</td><td>154</td><td>7.2</td><td>7.2</td><td>0.82</td></tr>\n",
       "</tbody>\n",
       "</table>\n"
      ],
      "text/latex": [
       "A tibble: 43 × 7\n",
       "\\begin{tabular}{lllllll}\n",
       " fruit\\_label & fruit\\_name & fruit\\_subtype & mass & width & height & color\\_score\\\\\n",
       " <dbl> & <fct> & <chr> & <dbl> & <dbl> & <dbl> & <dbl>\\\\\n",
       "\\hline\n",
       "\t 1 & apple    & granny\\_smith & 192 & 8.4 & 7.3 & 0.55\\\\\n",
       "\t 1 & apple    & granny\\_smith & 176 & 7.4 & 7.2 & 0.60\\\\\n",
       "\t 2 & mandarin & mandarin     &  76 & 5.8 & 4.0 & 0.81\\\\\n",
       "\t ⋮ & ⋮ & ⋮ & ⋮ & ⋮ & ⋮ & ⋮\\\\\n",
       "\t 3 & orange & turkey\\_navel & 154 & 7.1 & 7.5 & 0.78\\\\\n",
       "\t 3 & orange & turkey\\_navel & 180 & 7.6 & 8.2 & 0.79\\\\\n",
       "\t 3 & orange & turkey\\_navel & 154 & 7.2 & 7.2 & 0.82\\\\\n",
       "\\end{tabular}\n"
      ],
      "text/markdown": [
       "\n",
       "A tibble: 43 × 7\n",
       "\n",
       "| fruit_label &lt;dbl&gt; | fruit_name &lt;fct&gt; | fruit_subtype &lt;chr&gt; | mass &lt;dbl&gt; | width &lt;dbl&gt; | height &lt;dbl&gt; | color_score &lt;dbl&gt; |\n",
       "|---|---|---|---|---|---|---|\n",
       "| 1 | apple    | granny_smith | 192 | 8.4 | 7.3 | 0.55 |\n",
       "| 1 | apple    | granny_smith | 176 | 7.4 | 7.2 | 0.60 |\n",
       "| 2 | mandarin | mandarin     |  76 | 5.8 | 4.0 | 0.81 |\n",
       "| ⋮ | ⋮ | ⋮ | ⋮ | ⋮ | ⋮ | ⋮ |\n",
       "| 3 | orange | turkey_navel | 154 | 7.1 | 7.5 | 0.78 |\n",
       "| 3 | orange | turkey_navel | 180 | 7.6 | 8.2 | 0.79 |\n",
       "| 3 | orange | turkey_navel | 154 | 7.2 | 7.2 | 0.82 |\n",
       "\n"
      ],
      "text/plain": [
       "   fruit_label fruit_name fruit_subtype mass width height color_score\n",
       "1  1           apple      granny_smith  192  8.4   7.3    0.55       \n",
       "2  1           apple      granny_smith  176  7.4   7.2    0.60       \n",
       "3  2           mandarin   mandarin       76  5.8   4.0    0.81       \n",
       "⋮  ⋮           ⋮          ⋮             ⋮    ⋮     ⋮      ⋮          \n",
       "41 3           orange     turkey_navel  154  7.1   7.5    0.78       \n",
       "42 3           orange     turkey_navel  180  7.6   8.2    0.79       \n",
       "43 3           orange     turkey_navel  154  7.2   7.2    0.82       "
      ]
     },
     "metadata": {},
     "output_type": "display_data"
    },
    {
     "data": {
      "text/html": [
       "<table class=\"dataframe\">\n",
       "<caption>A tibble: 16 × 7</caption>\n",
       "<thead>\n",
       "\t<tr><th scope=col>fruit_label</th><th scope=col>fruit_name</th><th scope=col>fruit_subtype</th><th scope=col>mass</th><th scope=col>width</th><th scope=col>height</th><th scope=col>color_score</th></tr>\n",
       "\t<tr><th scope=col>&lt;dbl&gt;</th><th scope=col>&lt;fct&gt;</th><th scope=col>&lt;chr&gt;</th><th scope=col>&lt;dbl&gt;</th><th scope=col>&lt;dbl&gt;</th><th scope=col>&lt;dbl&gt;</th><th scope=col>&lt;dbl&gt;</th></tr>\n",
       "</thead>\n",
       "<tbody>\n",
       "\t<tr><td>1</td><td>apple   </td><td>granny_smith</td><td>180</td><td>8.0</td><td>6.8</td><td>0.59</td></tr>\n",
       "\t<tr><td>2</td><td>mandarin</td><td>mandarin    </td><td> 80</td><td>5.9</td><td>4.3</td><td>0.81</td></tr>\n",
       "\t<tr><td>1</td><td>apple   </td><td>braeburn    </td><td>178</td><td>7.1</td><td>7.8</td><td>0.92</td></tr>\n",
       "\t<tr><td>⋮</td><td>⋮</td><td>⋮</td><td>⋮</td><td>⋮</td><td>⋮</td><td>⋮</td></tr>\n",
       "\t<tr><td>4</td><td>lemon</td><td>spanish_belsan</td><td>186</td><td>7.2</td><td>9.2</td><td>0.72</td></tr>\n",
       "\t<tr><td>4</td><td>lemon</td><td>unknown       </td><td>118</td><td>5.9</td><td>8.0</td><td>0.72</td></tr>\n",
       "\t<tr><td>4</td><td>lemon</td><td>unknown       </td><td>116</td><td>5.9</td><td>8.1</td><td>0.73</td></tr>\n",
       "</tbody>\n",
       "</table>\n"
      ],
      "text/latex": [
       "A tibble: 16 × 7\n",
       "\\begin{tabular}{lllllll}\n",
       " fruit\\_label & fruit\\_name & fruit\\_subtype & mass & width & height & color\\_score\\\\\n",
       " <dbl> & <fct> & <chr> & <dbl> & <dbl> & <dbl> & <dbl>\\\\\n",
       "\\hline\n",
       "\t 1 & apple    & granny\\_smith & 180 & 8.0 & 6.8 & 0.59\\\\\n",
       "\t 2 & mandarin & mandarin     &  80 & 5.9 & 4.3 & 0.81\\\\\n",
       "\t 1 & apple    & braeburn     & 178 & 7.1 & 7.8 & 0.92\\\\\n",
       "\t ⋮ & ⋮ & ⋮ & ⋮ & ⋮ & ⋮ & ⋮\\\\\n",
       "\t 4 & lemon & spanish\\_belsan & 186 & 7.2 & 9.2 & 0.72\\\\\n",
       "\t 4 & lemon & unknown        & 118 & 5.9 & 8.0 & 0.72\\\\\n",
       "\t 4 & lemon & unknown        & 116 & 5.9 & 8.1 & 0.73\\\\\n",
       "\\end{tabular}\n"
      ],
      "text/markdown": [
       "\n",
       "A tibble: 16 × 7\n",
       "\n",
       "| fruit_label &lt;dbl&gt; | fruit_name &lt;fct&gt; | fruit_subtype &lt;chr&gt; | mass &lt;dbl&gt; | width &lt;dbl&gt; | height &lt;dbl&gt; | color_score &lt;dbl&gt; |\n",
       "|---|---|---|---|---|---|---|\n",
       "| 1 | apple    | granny_smith | 180 | 8.0 | 6.8 | 0.59 |\n",
       "| 2 | mandarin | mandarin     |  80 | 5.9 | 4.3 | 0.81 |\n",
       "| 1 | apple    | braeburn     | 178 | 7.1 | 7.8 | 0.92 |\n",
       "| ⋮ | ⋮ | ⋮ | ⋮ | ⋮ | ⋮ | ⋮ |\n",
       "| 4 | lemon | spanish_belsan | 186 | 7.2 | 9.2 | 0.72 |\n",
       "| 4 | lemon | unknown        | 118 | 5.9 | 8.0 | 0.72 |\n",
       "| 4 | lemon | unknown        | 116 | 5.9 | 8.1 | 0.73 |\n",
       "\n"
      ],
      "text/plain": [
       "   fruit_label fruit_name fruit_subtype  mass width height color_score\n",
       "1  1           apple      granny_smith   180  8.0   6.8    0.59       \n",
       "2  2           mandarin   mandarin        80  5.9   4.3    0.81       \n",
       "3  1           apple      braeburn       178  7.1   7.8    0.92       \n",
       "⋮  ⋮           ⋮          ⋮              ⋮    ⋮     ⋮      ⋮          \n",
       "14 4           lemon      spanish_belsan 186  7.2   9.2    0.72       \n",
       "15 4           lemon      unknown        118  5.9   8.0    0.72       \n",
       "16 4           lemon      unknown        116  5.9   8.1    0.73       "
      ]
     },
     "metadata": {},
     "output_type": "display_data"
    }
   ],
   "source": [
    "# Set the seed. Don't remove this!\n",
    "set.seed(3456) \n",
    "\n",
    "# Randomly take 75% of the data in the training set. \n",
    "# This will be proportional to the different number of fruit names in the dataset.\n",
    "\n",
    "#... <- initial_split(..., prop = ..., strata = ...)  \n",
    "#... <- training(...)   \n",
    "#... <- testing(...)\n",
    "\n",
    "fruit_split <- initial_split(fruit_data, prop = 0.75, strata = fruit_name)  \n",
    "fruit_train <- training(fruit_split)   \n",
    "fruit_test <- testing(fruit_split)\n",
    "\n",
    "fruit_train\n",
    "fruit_test"
   ]
  },
  {
   "cell_type": "code",
   "execution_count": 24,
   "metadata": {
    "deletable": false,
    "editable": false,
    "nbgrader": {
     "cell_type": "code",
     "checksum": "b26c071c7713ad3fe803ab4bd016e677",
     "grade": true,
     "grade_id": "cell-7432078031e563b8",
     "locked": true,
     "points": 1,
     "schema_version": 3,
     "solution": false
    }
   },
   "outputs": [
    {
     "name": "stdout",
     "output_type": "stream",
     "text": [
      "\u001b[32mTest passed\u001b[39m 🎊\n",
      "\u001b[32mTest passed\u001b[39m 🎉\n",
      "\u001b[32mTest passed\u001b[39m 🥳\n",
      "\u001b[32mTest passed\u001b[39m 🥳\n",
      "\u001b[32mTest passed\u001b[39m 🌈\n",
      "\u001b[32mTest passed\u001b[39m 🎊\n",
      "[1] \"Success!\"\n"
     ]
    }
   ],
   "source": [
    "test_2.0()"
   ]
  },
  {
   "cell_type": "markdown",
   "metadata": {
    "deletable": false,
    "editable": false,
    "nbgrader": {
     "cell_type": "markdown",
     "checksum": "a9af5f95503e3c7b209dcccd5348ff44",
     "grade": false,
     "grade_id": "cell-9f6c24da5042200c",
     "locked": true,
     "schema_version": 3,
     "solution": false,
     "task": false
    }
   },
   "source": [
    "**Question 2.1** \n",
    "<br> {points: 1}\n",
    "\n",
    "K-nearest neighbors is sensitive to the scale of the predictors so we should do some preprocessing to standardize them. Remember that standardizing involves centering/shifting (subtracting the mean of each variable) and scaling (dividing by its standard deviation). Also remember that standardization is *part of your training procedure*, so you can't use your test data to compute the shift / scale values for each variable. Therefore, you must pass only the training data to your recipe to compute the preprocessing steps. This ensures that our test data does not influence any aspect of our model training. Once we have created the standardization preprocessor, we can then later on apply it separately to both the training and test data sets.\n",
    "\n",
    "For this exercise, let's see if `mass` and `color_score` can predict `fruit_name`. \n",
    "\n",
    "To scale and center the data, first, pass the vector and the predictors to the `recipe` function. Remember to place your vector *before* your predictors. To scale your predictors, use the `step_scale(all_predictors())` function. To center your predictors, use the `step_center(all_predictors())` function.  \n",
    "\n",
    "*Assign your answer to an object called `fruit_recipe`.*"
   ]
  },
  {
   "cell_type": "code",
   "execution_count": 27,
   "metadata": {
    "deletable": false,
    "nbgrader": {
     "cell_type": "code",
     "checksum": "71d7cde637c29d8e9acb0197bf50c359",
     "grade": false,
     "grade_id": "cell-aca4cc578b245211",
     "locked": false,
     "schema_version": 3,
     "solution": true,
     "task": false
    }
   },
   "outputs": [
    {
     "data": {
      "text/plain": [
       "Recipe\n",
       "\n",
       "Inputs:\n",
       "\n",
       "      role #variables\n",
       "   outcome          1\n",
       " predictor          2\n",
       "\n",
       "Operations:\n",
       "\n",
       "Scaling for all_predictors()\n",
       "Centering for all_predictors()"
      ]
     },
     "metadata": {},
     "output_type": "display_data"
    }
   ],
   "source": [
    "set.seed(2020) # DO NOT REMOVE\n",
    "\n",
    "#... <- recipe(... ~ ... + ... , data = ...) |>\n",
    "#    ... |>\n",
    "#    ...\n",
    "\n",
    "fruit_recipe <- recipe(fruit_name ~ mass + color_score , data = fruit_train) |>\n",
    "   step_scale(all_predictors()) |>\n",
    "   step_center(all_predictors())\n",
    "\n",
    "fruit_recipe"
   ]
  },
  {
   "cell_type": "code",
   "execution_count": 28,
   "metadata": {
    "deletable": false,
    "editable": false,
    "nbgrader": {
     "cell_type": "code",
     "checksum": "38ce11b9e4c25a61724ed945c13badcc",
     "grade": true,
     "grade_id": "cell-2453aaa31ba794b6",
     "locked": true,
     "points": 1,
     "schema_version": 3,
     "solution": false,
     "task": false
    }
   },
   "outputs": [
    {
     "name": "stdout",
     "output_type": "stream",
     "text": [
      "\u001b[32mTest passed\u001b[39m 😀\n",
      "\u001b[32mTest passed\u001b[39m 🥇\n",
      "\u001b[32mTest passed\u001b[39m 🥳\n",
      "\u001b[32mTest passed\u001b[39m 🥳\n",
      "\u001b[32mTest passed\u001b[39m 🎉\n",
      "\u001b[32mTest passed\u001b[39m 🥇\n",
      "[1] \"Success!\"\n"
     ]
    }
   ],
   "source": [
    "test_2.1()"
   ]
  },
  {
   "cell_type": "markdown",
   "metadata": {
    "deletable": false,
    "editable": false,
    "nbgrader": {
     "cell_type": "markdown",
     "checksum": "ff6abff7b1910f8b822605d9bbb6fdbf",
     "grade": false,
     "grade_id": "cell-6693330a0f077083",
     "locked": true,
     "schema_version": 3,
     "solution": false
    }
   },
   "source": [
    "**Question 2.2**\n",
    "<br> {points: 1}\n",
    "\n",
    "So far, we have split the training and testing datasets as well as preprocessed the data. Now, let's create our K-nearest neighbour classifier with only the training set using the `tidymodels` package. First, create the classifier by specifying that we want $K = 3$ neighbors and that we want to use the *straight-line* distance. \n",
    "\n",
    "*Assign your answer to an object called `knn_spec`*.  \n",
    "\n",
    "Next, train the classifier with the training data set using the `workflow` function. This function allows you to bundle together your pre-processing, modeling, and post-processing requests. Scaffolding is provided below for you.\n",
    "\n",
    "*Assign your answer to an object called `fruit_fit`*."
   ]
  },
  {
   "cell_type": "code",
   "execution_count": 46,
   "metadata": {
    "deletable": false,
    "nbgrader": {
     "cell_type": "code",
     "checksum": "1622936b33fa7c94944d3c0189353368",
     "grade": false,
     "grade_id": "cell-00b2a6b0ba7df6c4",
     "locked": false,
     "schema_version": 3,
     "solution": true
    }
   },
   "outputs": [
    {
     "data": {
      "text/plain": [
       "══ Workflow [trained] ══════════════════════════════════════════════════════════\n",
       "\u001b[3mPreprocessor:\u001b[23m Recipe\n",
       "\u001b[3mModel:\u001b[23m nearest_neighbor()\n",
       "\n",
       "── Preprocessor ────────────────────────────────────────────────────────────────\n",
       "2 Recipe Steps\n",
       "\n",
       "• step_scale()\n",
       "• step_center()\n",
       "\n",
       "── Model ───────────────────────────────────────────────────────────────────────\n",
       "\n",
       "Call:\n",
       "kknn::train.kknn(formula = ..y ~ ., data = data, ks = min_rows(3,     data, 5), kernel = ~\"rectangular\")\n",
       "\n",
       "Type of response variable: nominal\n",
       "Minimal misclassification: 0.09302326\n",
       "Best kernel: rectangular\n",
       "Best k: 3"
      ]
     },
     "metadata": {},
     "output_type": "display_data"
    }
   ],
   "source": [
    "set.seed(2020) # DO NOT REMOVE\n",
    "\n",
    "#... <- nearest_neighbor(weight_func = ..., neighbors = ...) |>\n",
    "#       set_engine(...) |>\n",
    "#       set_mode(...)\n",
    "\n",
    "#... <- workflow() |>\n",
    "#       add_recipe(...) |>\n",
    "#       add_model(...) |>\n",
    "#       fit(data = ...)\n",
    "\n",
    "knn_spec <- nearest_neighbor(weight_func = \"rectangular\", neighbors = 3) |>\n",
    "      set_engine(\"kknn\") |>\n",
    "      set_mode(\"classification\")\n",
    "\n",
    "fruit_fit <- workflow() |>\n",
    "      add_recipe(fruit_recipe) |>\n",
    "      add_model(knn_spec) |>\n",
    "      fit(data = fruit_train )\n",
    "\n",
    "fruit_fit"
   ]
  },
  {
   "cell_type": "code",
   "execution_count": 31,
   "metadata": {
    "deletable": false,
    "editable": false,
    "nbgrader": {
     "cell_type": "code",
     "checksum": "e7f635299ba4528a5cf607a17c0560af",
     "grade": true,
     "grade_id": "cell-b8ce3699299555d5",
     "locked": true,
     "points": 1,
     "schema_version": 3,
     "solution": false
    }
   },
   "outputs": [
    {
     "name": "stdout",
     "output_type": "stream",
     "text": [
      "\u001b[32mTest passed\u001b[39m 🌈\n",
      "\u001b[32mTest passed\u001b[39m 🌈\n",
      "\u001b[32mTest passed\u001b[39m 🎊\n",
      "\u001b[32mTest passed\u001b[39m 🎉\n",
      "\u001b[32mTest passed\u001b[39m 😀\n",
      "\u001b[32mTest passed\u001b[39m 😀\n",
      "\u001b[32mTest passed\u001b[39m 🌈\n",
      "\u001b[32mTest passed\u001b[39m 🥳\n",
      "\u001b[32mTest passed\u001b[39m 🎉\n",
      "\u001b[32mTest passed\u001b[39m 😀\n",
      "[1] \"Success!\"\n"
     ]
    }
   ],
   "source": [
    "test_2.2()"
   ]
  },
  {
   "cell_type": "markdown",
   "metadata": {
    "deletable": false,
    "editable": false,
    "nbgrader": {
     "cell_type": "markdown",
     "checksum": "de81da7b3b67f3e00a430dbaeb396409",
     "grade": false,
     "grade_id": "cell-512f0c24a1511248",
     "locked": true,
     "schema_version": 3,
     "solution": false,
     "task": false
    }
   },
   "source": [
    "**Question 2.3**\n",
    "<br> {points: 1}\n",
    "\n",
    "Now that we have created our K-nearest neighbor classifier object, let's predict the class labels for our test set.\n",
    "\n",
    "First, pass your fitted model and the **test dataset** to the `predict` function. Then, use the `bind_cols` function to add the column of predictions to the original test data. \n",
    "\n",
    "*Assign your answer to an object called `fruit_test_predictions`.*"
   ]
  },
  {
   "cell_type": "code",
   "execution_count": 32,
   "metadata": {
    "deletable": false,
    "nbgrader": {
     "cell_type": "code",
     "checksum": "9c8a59077ea7d15d61096ca9ca2b74dd",
     "grade": false,
     "grade_id": "cell-29a65e0d69fd64d3",
     "locked": false,
     "schema_version": 3,
     "solution": true
    }
   },
   "outputs": [
    {
     "data": {
      "text/html": [
       "<table class=\"dataframe\">\n",
       "<caption>A tibble: 16 × 8</caption>\n",
       "<thead>\n",
       "\t<tr><th scope=col>.pred_class</th><th scope=col>fruit_label</th><th scope=col>fruit_name</th><th scope=col>fruit_subtype</th><th scope=col>mass</th><th scope=col>width</th><th scope=col>height</th><th scope=col>color_score</th></tr>\n",
       "\t<tr><th scope=col>&lt;fct&gt;</th><th scope=col>&lt;dbl&gt;</th><th scope=col>&lt;fct&gt;</th><th scope=col>&lt;chr&gt;</th><th scope=col>&lt;dbl&gt;</th><th scope=col>&lt;dbl&gt;</th><th scope=col>&lt;dbl&gt;</th><th scope=col>&lt;dbl&gt;</th></tr>\n",
       "</thead>\n",
       "<tbody>\n",
       "\t<tr><td>apple   </td><td>1</td><td>apple   </td><td>granny_smith</td><td>180</td><td>8.0</td><td>6.8</td><td>0.59</td></tr>\n",
       "\t<tr><td>mandarin</td><td>2</td><td>mandarin</td><td>mandarin    </td><td> 80</td><td>5.9</td><td>4.3</td><td>0.81</td></tr>\n",
       "\t<tr><td>apple   </td><td>1</td><td>apple   </td><td>braeburn    </td><td>178</td><td>7.1</td><td>7.8</td><td>0.92</td></tr>\n",
       "\t<tr><td>⋮</td><td>⋮</td><td>⋮</td><td>⋮</td><td>⋮</td><td>⋮</td><td>⋮</td><td>⋮</td></tr>\n",
       "\t<tr><td>lemon</td><td>4</td><td>lemon</td><td>spanish_belsan</td><td>186</td><td>7.2</td><td>9.2</td><td>0.72</td></tr>\n",
       "\t<tr><td>lemon</td><td>4</td><td>lemon</td><td>unknown       </td><td>118</td><td>5.9</td><td>8.0</td><td>0.72</td></tr>\n",
       "\t<tr><td>lemon</td><td>4</td><td>lemon</td><td>unknown       </td><td>116</td><td>5.9</td><td>8.1</td><td>0.73</td></tr>\n",
       "</tbody>\n",
       "</table>\n"
      ],
      "text/latex": [
       "A tibble: 16 × 8\n",
       "\\begin{tabular}{llllllll}\n",
       " .pred\\_class & fruit\\_label & fruit\\_name & fruit\\_subtype & mass & width & height & color\\_score\\\\\n",
       " <fct> & <dbl> & <fct> & <chr> & <dbl> & <dbl> & <dbl> & <dbl>\\\\\n",
       "\\hline\n",
       "\t apple    & 1 & apple    & granny\\_smith & 180 & 8.0 & 6.8 & 0.59\\\\\n",
       "\t mandarin & 2 & mandarin & mandarin     &  80 & 5.9 & 4.3 & 0.81\\\\\n",
       "\t apple    & 1 & apple    & braeburn     & 178 & 7.1 & 7.8 & 0.92\\\\\n",
       "\t ⋮ & ⋮ & ⋮ & ⋮ & ⋮ & ⋮ & ⋮ & ⋮\\\\\n",
       "\t lemon & 4 & lemon & spanish\\_belsan & 186 & 7.2 & 9.2 & 0.72\\\\\n",
       "\t lemon & 4 & lemon & unknown        & 118 & 5.9 & 8.0 & 0.72\\\\\n",
       "\t lemon & 4 & lemon & unknown        & 116 & 5.9 & 8.1 & 0.73\\\\\n",
       "\\end{tabular}\n"
      ],
      "text/markdown": [
       "\n",
       "A tibble: 16 × 8\n",
       "\n",
       "| .pred_class &lt;fct&gt; | fruit_label &lt;dbl&gt; | fruit_name &lt;fct&gt; | fruit_subtype &lt;chr&gt; | mass &lt;dbl&gt; | width &lt;dbl&gt; | height &lt;dbl&gt; | color_score &lt;dbl&gt; |\n",
       "|---|---|---|---|---|---|---|---|\n",
       "| apple    | 1 | apple    | granny_smith | 180 | 8.0 | 6.8 | 0.59 |\n",
       "| mandarin | 2 | mandarin | mandarin     |  80 | 5.9 | 4.3 | 0.81 |\n",
       "| apple    | 1 | apple    | braeburn     | 178 | 7.1 | 7.8 | 0.92 |\n",
       "| ⋮ | ⋮ | ⋮ | ⋮ | ⋮ | ⋮ | ⋮ | ⋮ |\n",
       "| lemon | 4 | lemon | spanish_belsan | 186 | 7.2 | 9.2 | 0.72 |\n",
       "| lemon | 4 | lemon | unknown        | 118 | 5.9 | 8.0 | 0.72 |\n",
       "| lemon | 4 | lemon | unknown        | 116 | 5.9 | 8.1 | 0.73 |\n",
       "\n"
      ],
      "text/plain": [
       "   .pred_class fruit_label fruit_name fruit_subtype  mass width height\n",
       "1  apple       1           apple      granny_smith   180  8.0   6.8   \n",
       "2  mandarin    2           mandarin   mandarin        80  5.9   4.3   \n",
       "3  apple       1           apple      braeburn       178  7.1   7.8   \n",
       "⋮  ⋮           ⋮           ⋮          ⋮              ⋮    ⋮     ⋮     \n",
       "14 lemon       4           lemon      spanish_belsan 186  7.2   9.2   \n",
       "15 lemon       4           lemon      unknown        118  5.9   8.0   \n",
       "16 lemon       4           lemon      unknown        116  5.9   8.1   \n",
       "   color_score\n",
       "1  0.59       \n",
       "2  0.81       \n",
       "3  0.92       \n",
       "⋮  ⋮          \n",
       "14 0.72       \n",
       "15 0.72       \n",
       "16 0.73       "
      ]
     },
     "metadata": {},
     "output_type": "display_data"
    }
   ],
   "source": [
    "set.seed(2020) # DO NOT REMOVE\n",
    "\n",
    "#... <- predict(... , ...) |>\n",
    "#       ...(...)\n",
    "\n",
    "fruit_test_predictions <- predict(fruit_fit ,fruit_test ) |>\n",
    "      bind_cols(fruit_test)\n",
    "\n",
    "fruit_test_predictions"
   ]
  },
  {
   "cell_type": "code",
   "execution_count": 33,
   "metadata": {
    "deletable": false,
    "editable": false,
    "nbgrader": {
     "cell_type": "code",
     "checksum": "f76e36541eb840d9aa116186c3d19d12",
     "grade": true,
     "grade_id": "cell-144f33352d2b6add",
     "locked": true,
     "points": 1,
     "schema_version": 3,
     "solution": false
    }
   },
   "outputs": [
    {
     "name": "stdout",
     "output_type": "stream",
     "text": [
      "\u001b[32mTest passed\u001b[39m 🌈\n",
      "\u001b[32mTest passed\u001b[39m 🌈\n",
      "\u001b[32mTest passed\u001b[39m 🎊\n",
      "[1] \"Success!\"\n"
     ]
    }
   ],
   "source": [
    "test_2.3()"
   ]
  },
  {
   "cell_type": "markdown",
   "metadata": {
    "deletable": false,
    "editable": false,
    "nbgrader": {
     "cell_type": "markdown",
     "checksum": "928accd43fcde1e014140a1f218113cc",
     "grade": false,
     "grade_id": "cell-baa81bf7577a344f",
     "locked": true,
     "schema_version": 3,
     "solution": false
    }
   },
   "source": [
    "**Question 2.4**\n",
    "<br> {points: 1}\n",
    "\n",
    "Great! We have now computed some predictions for our test datasets! Wouldn't it be interesting if we could find out our classifier's accuracy? \n",
    "\n",
    "Thankfully, the `metrics` function from the `tidymodels` package can help us. To get the statistics about the quality of our model, you need to specify the `truth` and `estimate` arguments. In the `truth` argument, you should put the column name for the true values of the response variable. In the `estimate` argument, you should put the column name for response variable predictions. \n",
    "\n",
    "*Assign your answer to an object called `fruit_prediction_accuracy`.*"
   ]
  },
  {
   "cell_type": "code",
   "execution_count": 34,
   "metadata": {
    "deletable": false,
    "nbgrader": {
     "cell_type": "code",
     "checksum": "ee126d204fa9f564ae7d5fa0152fe763",
     "grade": false,
     "grade_id": "cell-4ac19dfcaec7e27c",
     "locked": false,
     "schema_version": 3,
     "solution": true
    }
   },
   "outputs": [
    {
     "data": {
      "text/html": [
       "<table class=\"dataframe\">\n",
       "<caption>A tibble: 2 × 3</caption>\n",
       "<thead>\n",
       "\t<tr><th scope=col>.metric</th><th scope=col>.estimator</th><th scope=col>.estimate</th></tr>\n",
       "\t<tr><th scope=col>&lt;chr&gt;</th><th scope=col>&lt;chr&gt;</th><th scope=col>&lt;dbl&gt;</th></tr>\n",
       "</thead>\n",
       "<tbody>\n",
       "\t<tr><td>accuracy</td><td>multiclass</td><td>0.8125000</td></tr>\n",
       "\t<tr><td>kap     </td><td>multiclass</td><td>0.7333333</td></tr>\n",
       "</tbody>\n",
       "</table>\n"
      ],
      "text/latex": [
       "A tibble: 2 × 3\n",
       "\\begin{tabular}{lll}\n",
       " .metric & .estimator & .estimate\\\\\n",
       " <chr> & <chr> & <dbl>\\\\\n",
       "\\hline\n",
       "\t accuracy & multiclass & 0.8125000\\\\\n",
       "\t kap      & multiclass & 0.7333333\\\\\n",
       "\\end{tabular}\n"
      ],
      "text/markdown": [
       "\n",
       "A tibble: 2 × 3\n",
       "\n",
       "| .metric &lt;chr&gt; | .estimator &lt;chr&gt; | .estimate &lt;dbl&gt; |\n",
       "|---|---|---|\n",
       "| accuracy | multiclass | 0.8125000 |\n",
       "| kap      | multiclass | 0.7333333 |\n",
       "\n"
      ],
      "text/plain": [
       "  .metric  .estimator .estimate\n",
       "1 accuracy multiclass 0.8125000\n",
       "2 kap      multiclass 0.7333333"
      ]
     },
     "metadata": {},
     "output_type": "display_data"
    }
   ],
   "source": [
    "set.seed(2020) # DO NOT REMOVE\n",
    "\n",
    "#... <- fruit_test_predictions |>\n",
    "#         ...(truth = ..., estimate = ...)             \n",
    "\n",
    "fruit_prediction_accuracy <- fruit_test_predictions |>\n",
    "        metrics(truth = fruit_name, estimate = .pred_class)             \n",
    "\n",
    "fruit_prediction_accuracy"
   ]
  },
  {
   "cell_type": "code",
   "execution_count": 35,
   "metadata": {
    "deletable": false,
    "editable": false,
    "nbgrader": {
     "cell_type": "code",
     "checksum": "6518c3556f30d94035a357daab620cb6",
     "grade": true,
     "grade_id": "cell-a268da3370127d6c",
     "locked": true,
     "points": 1,
     "schema_version": 3,
     "solution": false
    }
   },
   "outputs": [
    {
     "name": "stdout",
     "output_type": "stream",
     "text": [
      "\u001b[32mTest passed\u001b[39m 🌈\n",
      "\u001b[32mTest passed\u001b[39m 🌈\n",
      "\u001b[32mTest passed\u001b[39m 🎊\n",
      "\u001b[32mTest passed\u001b[39m 🎉\n",
      "[1] \"Success!\"\n"
     ]
    }
   ],
   "source": [
    "test_2.4()"
   ]
  },
  {
   "cell_type": "markdown",
   "metadata": {
    "deletable": false,
    "editable": false,
    "nbgrader": {
     "cell_type": "markdown",
     "checksum": "6c3676eae6c855c85a6881abc9abe98d",
     "grade": false,
     "grade_id": "cell-67a957c51db2a297",
     "locked": true,
     "schema_version": 3,
     "solution": false
    }
   },
   "source": [
    "**Question 2.5**\n",
    "<br> {points: 1}\n",
    "\n",
    "Now, let's look at the *confusion matrix* for the classifier. This will show us the table of predicted labels and correct labels. \n",
    "\n",
    "A confusion matrix is essentially a classification matrix. The columns of the confusion matrix represent the actual class and the rows represent the predicted class (or vice versa). Shown below is an example of a confusion matrix.\n",
    "\n",
    "|                  |          |  Actual Values |                |\n",
    "|:----------------:|----------|:--------------:|:--------------:|\n",
    "|                  |          |    Positive    |    Negative    |\n",
    "|**Predicted Value**  | Positive |  True Positive | False Positive|\n",
    "|                  | Negative | False Negative | True Negative  |\n",
    "\n",
    "\n",
    "- A **true positive** is an outcome where the model correctly predicts the positive class.\n",
    "- A **true negative** is an outcome where the model correctly predicts the negative class.\n",
    "- A **false positive** is an outcome where the model incorrectly predicts the positive class.\n",
    "- A **false negative** is an outcome where the model incorrectly predicts the negative class.\n",
    "\n",
    "<br>\n",
    "\n",
    "We can create a confusion matrix by using the `conf_mat` function. Similar to the `metrics` function, you will have to specify the `truth` and `estimate` arguments. \n",
    "\n",
    "*Assign your answer to an object called `fruit_mat`*."
   ]
  },
  {
   "cell_type": "code",
   "execution_count": 38,
   "metadata": {
    "deletable": false,
    "nbgrader": {
     "cell_type": "code",
     "checksum": "f24e7fdd4cf6febe4d9718342d5b04a4",
     "grade": false,
     "grade_id": "cell-f0716222fa3e3c93",
     "locked": false,
     "schema_version": 3,
     "solution": true
    }
   },
   "outputs": [
    {
     "data": {
      "text/plain": [
       "          Truth\n",
       "Prediction apple mandarin orange lemon\n",
       "  apple        4        0      0     0\n",
       "  mandarin     0        1      0     0\n",
       "  orange       0        0      3     0\n",
       "  lemon        1        0      2     5"
      ]
     },
     "metadata": {},
     "output_type": "display_data"
    }
   ],
   "source": [
    "set.seed(2020) # DO NOT REMOVE\n",
    "\n",
    "#... <- fruit_test_predictions |> \n",
    "#       ...(truth = ..., estimate = ...)\n",
    "\n",
    "fruit_mat <- fruit_test_predictions |> \n",
    "        conf_mat(truth = fruit_name, estimate = .pred_class)\n",
    "\n",
    "\n",
    "fruit_mat"
   ]
  },
  {
   "cell_type": "code",
   "execution_count": 39,
   "metadata": {
    "deletable": false,
    "editable": false,
    "nbgrader": {
     "cell_type": "code",
     "checksum": "50ba35a8c51cc1a58b6bdbbb2dcfbda0",
     "grade": true,
     "grade_id": "cell-d3d5c46250e8450a",
     "locked": true,
     "points": 1,
     "schema_version": 3,
     "solution": false
    }
   },
   "outputs": [
    {
     "name": "stdout",
     "output_type": "stream",
     "text": [
      "\u001b[32mTest passed\u001b[39m 🌈\n",
      "\u001b[32mTest passed\u001b[39m 🌈\n",
      "\u001b[32mTest passed\u001b[39m 🎊\n",
      "[1] \"Success!\"\n"
     ]
    }
   ],
   "source": [
    "test_2.5()"
   ]
  },
  {
   "cell_type": "markdown",
   "metadata": {
    "deletable": false,
    "editable": false,
    "nbgrader": {
     "cell_type": "markdown",
     "checksum": "e8c0fd4a2a74379daa5d281b490863d9",
     "grade": false,
     "grade_id": "cell-76907faaa508f23b",
     "locked": true,
     "schema_version": 3,
     "solution": false,
     "task": false
    }
   },
   "source": [
    "**Question 2.6** Multiple Choice:\n",
    "<br> {points: 1}\n",
    "\n",
    "Reading `fruit_mat`, how many observations were labelled correctly?\n",
    "\n",
    "A. 7\n",
    "\n",
    "B. 8\n",
    "\n",
    "C. 9\n",
    "\n",
    "D. 10\n",
    "\n",
    "*Assign your answer to an object called `answer2.6`. Make sure your answer is an uppercase letter and is surrounded by quotation marks (e.g. `\"F\"`).*"
   ]
  },
  {
   "cell_type": "code",
   "execution_count": 40,
   "metadata": {
    "deletable": false,
    "nbgrader": {
     "cell_type": "code",
     "checksum": "d7dc42422b7bc986c7a575478f241a04",
     "grade": false,
     "grade_id": "cell-c4d8f09cbf40df59",
     "locked": false,
     "schema_version": 3,
     "solution": true,
     "task": false
    }
   },
   "outputs": [],
   "source": [
    "\n",
    "answer2.6 <- \"D\""
   ]
  },
  {
   "cell_type": "code",
   "execution_count": 41,
   "metadata": {
    "deletable": false,
    "editable": false,
    "nbgrader": {
     "cell_type": "code",
     "checksum": "2a8cb4af39a241cd0760105114251180",
     "grade": true,
     "grade_id": "cell-5715f106e3bbf143",
     "locked": true,
     "points": 1,
     "schema_version": 3,
     "solution": false,
     "task": false
    }
   },
   "outputs": [
    {
     "name": "stdout",
     "output_type": "stream",
     "text": [
      "\u001b[32mTest passed\u001b[39m 🎉\n",
      "\u001b[32mTest passed\u001b[39m 😀\n",
      "[1] \"Success!\"\n"
     ]
    }
   ],
   "source": [
    "test_2.6()"
   ]
  },
  {
   "cell_type": "markdown",
   "metadata": {
    "deletable": false,
    "editable": false,
    "nbgrader": {
     "cell_type": "markdown",
     "checksum": "14967502be3692ee1782d12179cc10c5",
     "grade": false,
     "grade_id": "cell-0063191266f982c7",
     "locked": true,
     "schema_version": 3,
     "solution": false
    }
   },
   "source": [
    "### 3. Cross-validation\n",
    "\n",
    "**Question 3.1**\n",
    "<br> {points: 1}\n",
    "\n",
    "The vast majority of predictive models in statistics and machine learning have parameters that you have to pick. For the past few exercises, we have had to pick the number of neighbours for the class vote. But, is it possible to make this selection, *i.e., tune the model, in a principled way?* Ideally, we want to maximize the performance of our classifier on data *it hasn’t seen yet*.\n",
    "\n",
    "There is also an important detail to mention about the process of tuning: we can, if we want to, split our overall training data up in multiple different ways, train and evaluate a classifier for each split, and then choose the parameter based on all of the different results. If we just split our overall training data once, our best parameter choice will depend strongly on whatever data was lucky enough to end up in the validation set. Perhaps using multiple different train / validation splits, we’ll get a better estimate of accuracy, which will lead to a better choice of the number of neighbours $K$ for the overall set of training data. \n",
    "\n",
    "This leads to the idea of cross-validation. In cross-validation, we split our overall training data into $C$ evenly-sized chunks, and then iteratively use 1 chunk as the validation set and combine the remaining $C−1$ chunks as the **training set.**\n",
    "\n",
    "We can perform a cross-validation in R using the `vfold_cv` function. To use this function, you have to identify the training set as well as specify the `v` (the number of folds) and the `strata` argument (the label variable). \n",
    "\n",
    "For this exercise, perform **$5$-fold cross-validation**.\n",
    "\n",
    "*Assign your answer to an object called `fruit_vfold`*."
   ]
  },
  {
   "cell_type": "code",
   "execution_count": 42,
   "metadata": {
    "deletable": false,
    "nbgrader": {
     "cell_type": "code",
     "checksum": "afdcc7d9663ecfdcb036296b6ebbe466",
     "grade": false,
     "grade_id": "cell-40206dc81c114f74",
     "locked": false,
     "schema_version": 3,
     "solution": true
    }
   },
   "outputs": [
    {
     "data": {
      "text/html": [
       "<table class=\"dataframe\">\n",
       "<caption>A vfold_cv: 5 × 2</caption>\n",
       "<thead>\n",
       "\t<tr><th scope=col>splits</th><th scope=col>id</th></tr>\n",
       "\t<tr><th scope=col>&lt;list&gt;</th><th scope=col>&lt;chr&gt;</th></tr>\n",
       "</thead>\n",
       "<tbody>\n",
       "\t<tr><td>1               , 1               , 2               , 1               , 1               , 1               , 1               , 1               , 1               , 1               , 1               , 1               , 1               , 1               , 1               , 2               , 2               , 2               , 4               , 4               , 4               , 4               , 4               , 4               , 4               , 4               , 4               , 4               , 4               , 3               , 3               , 3               , 3               , 3               , 3               , 3               , 3               , 3               , 3               , 3               , 3               , 3               , 3               , 1               , 1               , 2               , 1               , 1               , 1               , 1               , 1               , 1               , 1               , 1               , 1               , 1               , 1               , 1               , 2               , 2               , 2               , 4               , 4               , 4               , 4               , 4               , 4               , 4               , 4               , 4               , 4               , 4               , 3               , 3               , 3               , 3               , 3               , 3               , 3               , 3               , 3               , 3               , 3               , 3               , 3               , 3               , granny_smith    , granny_smith    , mandarin        , braeburn        , braeburn        , braeburn        , braeburn        , golden_delicious, golden_delicious, golden_delicious, cripps_pink     , cripps_pink     , cripps_pink     , cripps_pink     , cripps_pink     , mandarin        , mandarin        , mandarin        , spanish_belsan  , spanish_belsan  , spanish_belsan  , unknown         , unknown         , unknown         , unknown         , unknown         , unknown         , unknown         , unknown         , spanish_jumbo   , spanish_jumbo   , spanish_jumbo   , selected_seconds, selected_seconds, selected_seconds, selected_seconds, turkey_navel    , turkey_navel    , turkey_navel    , turkey_navel    , turkey_navel    , turkey_navel    , turkey_navel    , 192             , 176             , 76              , 172             , 166             , 172             , 154             , 152             , 156             , 168             , 162             , 162             , 160             , 156             , 140             , 86              , 84              , 80              , 216             , 196             , 174             , 132             , 130             , 116             , 120             , 116             , 116             , 152             , 118             , 342             , 356             , 362             , 204             , 160             , 158             , 210             , 142             , 150             , 160             , 158             , 154             , 180             , 154             , 8.4             , 7.4             , 5.8             , 7.4             , 6.9             , 7.1             , 7               , 7.6             , 7.6             , 7.5             , 7.5             , 7.4             , 7.5             , 7.4             , 7.3             , 6.2             , 6               , 5.8             , 7.3             , 7.3             , 7.3             , 5.8             , 6               , 6               , 6               , 6.1             , 6.3             , 6.5             , 6.1             , 9               , 9.2             , 9.6             , 7.5             , 7               , 7.1             , 7.8             , 7.6             , 7.1             , 7.1             , 7.2             , 7.1             , 7.6             , 7.2             , 7.3             , 7.2             , 4               , 7               , 7.3             , 7.6             , 7.1             , 7.3             , 7.5             , 7.6             , 7.1             , 7.2             , 7.5             , 7.4             , 7.1             , 4.7             , 4.6             , 4.3             , 10.2            , 9.7             , 10.1            , 8.7             , 8.2             , 7.5             , 8.4             , 8.5             , 7.7             , 8.5             , 8.1             , 9.4             , 9.2             , 9.2             , 9.2             , 7.4             , 7.5             , 8               , 7.8             , 7.9             , 7.6             , 7.8             , 7.5             , 8.2             , 7.2             , 0.55            , 0.6             , 0.81            , 0.89            , 0.93            , 0.92            , 0.88            , 0.69            , 0.67            , 0.73            , 0.83            , 0.85            , 0.86            , 0.84            , 0.87            , 0.8             , 0.79            , 0.77            , 0.71            , 0.72            , 0.72            , 0.73            , 0.71            , 0.72            , 0.74            , 0.71            , 0.72            , 0.72            , 0.7             , 0.75            , 0.75            , 0.74            , 0.77            , 0.81            , 0.79            , 0.82            , 0.75            , 0.75            , 0.76            , 0.77            , 0.78            , 0.79            , 0.82            , 1               , 2               , 3               , 6               , 7               , 8               , 9               , 11              , 12              , 13              , 15              , 16              , 17              , 18              , 19              , 20              , 21              , 24              , 25              , 26              , 28              , 29              , 32              , 33              , 34              , 35              , 36              , 37              , 38              , 39              , 41              , 42              , 43              , NA              , Fold1           </td><td>Fold1</td></tr>\n",
       "\t<tr><td>1               , 1               , 2               , 1               , 1               , 1               , 1               , 1               , 1               , 1               , 1               , 1               , 1               , 1               , 1               , 2               , 2               , 2               , 4               , 4               , 4               , 4               , 4               , 4               , 4               , 4               , 4               , 4               , 4               , 3               , 3               , 3               , 3               , 3               , 3               , 3               , 3               , 3               , 3               , 3               , 3               , 3               , 3               , 1               , 1               , 2               , 1               , 1               , 1               , 1               , 1               , 1               , 1               , 1               , 1               , 1               , 1               , 1               , 2               , 2               , 2               , 4               , 4               , 4               , 4               , 4               , 4               , 4               , 4               , 4               , 4               , 4               , 3               , 3               , 3               , 3               , 3               , 3               , 3               , 3               , 3               , 3               , 3               , 3               , 3               , 3               , granny_smith    , granny_smith    , mandarin        , braeburn        , braeburn        , braeburn        , braeburn        , golden_delicious, golden_delicious, golden_delicious, cripps_pink     , cripps_pink     , cripps_pink     , cripps_pink     , cripps_pink     , mandarin        , mandarin        , mandarin        , spanish_belsan  , spanish_belsan  , spanish_belsan  , unknown         , unknown         , unknown         , unknown         , unknown         , unknown         , unknown         , unknown         , spanish_jumbo   , spanish_jumbo   , spanish_jumbo   , selected_seconds, selected_seconds, selected_seconds, selected_seconds, turkey_navel    , turkey_navel    , turkey_navel    , turkey_navel    , turkey_navel    , turkey_navel    , turkey_navel    , 192             , 176             , 76              , 172             , 166             , 172             , 154             , 152             , 156             , 168             , 162             , 162             , 160             , 156             , 140             , 86              , 84              , 80              , 216             , 196             , 174             , 132             , 130             , 116             , 120             , 116             , 116             , 152             , 118             , 342             , 356             , 362             , 204             , 160             , 158             , 210             , 142             , 150             , 160             , 158             , 154             , 180             , 154             , 8.4             , 7.4             , 5.8             , 7.4             , 6.9             , 7.1             , 7               , 7.6             , 7.6             , 7.5             , 7.5             , 7.4             , 7.5             , 7.4             , 7.3             , 6.2             , 6               , 5.8             , 7.3             , 7.3             , 7.3             , 5.8             , 6               , 6               , 6               , 6.1             , 6.3             , 6.5             , 6.1             , 9               , 9.2             , 9.6             , 7.5             , 7               , 7.1             , 7.8             , 7.6             , 7.1             , 7.1             , 7.2             , 7.1             , 7.6             , 7.2             , 7.3             , 7.2             , 4               , 7               , 7.3             , 7.6             , 7.1             , 7.3             , 7.5             , 7.6             , 7.1             , 7.2             , 7.5             , 7.4             , 7.1             , 4.7             , 4.6             , 4.3             , 10.2            , 9.7             , 10.1            , 8.7             , 8.2             , 7.5             , 8.4             , 8.5             , 7.7             , 8.5             , 8.1             , 9.4             , 9.2             , 9.2             , 9.2             , 7.4             , 7.5             , 8               , 7.8             , 7.9             , 7.6             , 7.8             , 7.5             , 8.2             , 7.2             , 0.55            , 0.6             , 0.81            , 0.89            , 0.93            , 0.92            , 0.88            , 0.69            , 0.67            , 0.73            , 0.83            , 0.85            , 0.86            , 0.84            , 0.87            , 0.8             , 0.79            , 0.77            , 0.71            , 0.72            , 0.72            , 0.73            , 0.71            , 0.72            , 0.74            , 0.71            , 0.72            , 0.72            , 0.7             , 0.75            , 0.75            , 0.74            , 0.77            , 0.81            , 0.79            , 0.82            , 0.75            , 0.75            , 0.76            , 0.77            , 0.78            , 0.79            , 0.82            , 1               , 2               , 4               , 5               , 6               , 8               , 10              , 11              , 12              , 13              , 14              , 15              , 16              , 18              , 20              , 22              , 23              , 24              , 26              , 27              , 28              , 29              , 30              , 31              , 33              , 34              , 35              , 36              , 37              , 38              , 40              , 41              , 42              , 43              , NA              , Fold2           </td><td>Fold2</td></tr>\n",
       "\t<tr><td>1               , 1               , 2               , 1               , 1               , 1               , 1               , 1               , 1               , 1               , 1               , 1               , 1               , 1               , 1               , 2               , 2               , 2               , 4               , 4               , 4               , 4               , 4               , 4               , 4               , 4               , 4               , 4               , 4               , 3               , 3               , 3               , 3               , 3               , 3               , 3               , 3               , 3               , 3               , 3               , 3               , 3               , 3               , 1               , 1               , 2               , 1               , 1               , 1               , 1               , 1               , 1               , 1               , 1               , 1               , 1               , 1               , 1               , 2               , 2               , 2               , 4               , 4               , 4               , 4               , 4               , 4               , 4               , 4               , 4               , 4               , 4               , 3               , 3               , 3               , 3               , 3               , 3               , 3               , 3               , 3               , 3               , 3               , 3               , 3               , 3               , granny_smith    , granny_smith    , mandarin        , braeburn        , braeburn        , braeburn        , braeburn        , golden_delicious, golden_delicious, golden_delicious, cripps_pink     , cripps_pink     , cripps_pink     , cripps_pink     , cripps_pink     , mandarin        , mandarin        , mandarin        , spanish_belsan  , spanish_belsan  , spanish_belsan  , unknown         , unknown         , unknown         , unknown         , unknown         , unknown         , unknown         , unknown         , spanish_jumbo   , spanish_jumbo   , spanish_jumbo   , selected_seconds, selected_seconds, selected_seconds, selected_seconds, turkey_navel    , turkey_navel    , turkey_navel    , turkey_navel    , turkey_navel    , turkey_navel    , turkey_navel    , 192             , 176             , 76              , 172             , 166             , 172             , 154             , 152             , 156             , 168             , 162             , 162             , 160             , 156             , 140             , 86              , 84              , 80              , 216             , 196             , 174             , 132             , 130             , 116             , 120             , 116             , 116             , 152             , 118             , 342             , 356             , 362             , 204             , 160             , 158             , 210             , 142             , 150             , 160             , 158             , 154             , 180             , 154             , 8.4             , 7.4             , 5.8             , 7.4             , 6.9             , 7.1             , 7               , 7.6             , 7.6             , 7.5             , 7.5             , 7.4             , 7.5             , 7.4             , 7.3             , 6.2             , 6               , 5.8             , 7.3             , 7.3             , 7.3             , 5.8             , 6               , 6               , 6               , 6.1             , 6.3             , 6.5             , 6.1             , 9               , 9.2             , 9.6             , 7.5             , 7               , 7.1             , 7.8             , 7.6             , 7.1             , 7.1             , 7.2             , 7.1             , 7.6             , 7.2             , 7.3             , 7.2             , 4               , 7               , 7.3             , 7.6             , 7.1             , 7.3             , 7.5             , 7.6             , 7.1             , 7.2             , 7.5             , 7.4             , 7.1             , 4.7             , 4.6             , 4.3             , 10.2            , 9.7             , 10.1            , 8.7             , 8.2             , 7.5             , 8.4             , 8.5             , 7.7             , 8.5             , 8.1             , 9.4             , 9.2             , 9.2             , 9.2             , 7.4             , 7.5             , 8               , 7.8             , 7.9             , 7.6             , 7.8             , 7.5             , 8.2             , 7.2             , 0.55            , 0.6             , 0.81            , 0.89            , 0.93            , 0.92            , 0.88            , 0.69            , 0.67            , 0.73            , 0.83            , 0.85            , 0.86            , 0.84            , 0.87            , 0.8             , 0.79            , 0.77            , 0.71            , 0.72            , 0.72            , 0.73            , 0.71            , 0.72            , 0.74            , 0.71            , 0.72            , 0.72            , 0.7             , 0.75            , 0.75            , 0.74            , 0.77            , 0.81            , 0.79            , 0.82            , 0.75            , 0.75            , 0.76            , 0.77            , 0.78            , 0.79            , 0.82            , 1               , 2               , 3               , 4               , 5               , 7               , 8               , 9               , 10              , 11              , 12              , 13              , 14              , 17              , 19              , 20              , 21              , 22              , 23              , 24              , 25              , 26              , 27              , 28              , 30              , 31              , 32              , 33              , 36              , 37              , 38              , 39              , 40              , 41              , 42              , NA              , Fold3           </td><td>Fold3</td></tr>\n",
       "\t<tr><td>1               , 1               , 2               , 1               , 1               , 1               , 1               , 1               , 1               , 1               , 1               , 1               , 1               , 1               , 1               , 2               , 2               , 2               , 4               , 4               , 4               , 4               , 4               , 4               , 4               , 4               , 4               , 4               , 4               , 3               , 3               , 3               , 3               , 3               , 3               , 3               , 3               , 3               , 3               , 3               , 3               , 3               , 3               , 1               , 1               , 2               , 1               , 1               , 1               , 1               , 1               , 1               , 1               , 1               , 1               , 1               , 1               , 1               , 2               , 2               , 2               , 4               , 4               , 4               , 4               , 4               , 4               , 4               , 4               , 4               , 4               , 4               , 3               , 3               , 3               , 3               , 3               , 3               , 3               , 3               , 3               , 3               , 3               , 3               , 3               , 3               , granny_smith    , granny_smith    , mandarin        , braeburn        , braeburn        , braeburn        , braeburn        , golden_delicious, golden_delicious, golden_delicious, cripps_pink     , cripps_pink     , cripps_pink     , cripps_pink     , cripps_pink     , mandarin        , mandarin        , mandarin        , spanish_belsan  , spanish_belsan  , spanish_belsan  , unknown         , unknown         , unknown         , unknown         , unknown         , unknown         , unknown         , unknown         , spanish_jumbo   , spanish_jumbo   , spanish_jumbo   , selected_seconds, selected_seconds, selected_seconds, selected_seconds, turkey_navel    , turkey_navel    , turkey_navel    , turkey_navel    , turkey_navel    , turkey_navel    , turkey_navel    , 192             , 176             , 76              , 172             , 166             , 172             , 154             , 152             , 156             , 168             , 162             , 162             , 160             , 156             , 140             , 86              , 84              , 80              , 216             , 196             , 174             , 132             , 130             , 116             , 120             , 116             , 116             , 152             , 118             , 342             , 356             , 362             , 204             , 160             , 158             , 210             , 142             , 150             , 160             , 158             , 154             , 180             , 154             , 8.4             , 7.4             , 5.8             , 7.4             , 6.9             , 7.1             , 7               , 7.6             , 7.6             , 7.5             , 7.5             , 7.4             , 7.5             , 7.4             , 7.3             , 6.2             , 6               , 5.8             , 7.3             , 7.3             , 7.3             , 5.8             , 6               , 6               , 6               , 6.1             , 6.3             , 6.5             , 6.1             , 9               , 9.2             , 9.6             , 7.5             , 7               , 7.1             , 7.8             , 7.6             , 7.1             , 7.1             , 7.2             , 7.1             , 7.6             , 7.2             , 7.3             , 7.2             , 4               , 7               , 7.3             , 7.6             , 7.1             , 7.3             , 7.5             , 7.6             , 7.1             , 7.2             , 7.5             , 7.4             , 7.1             , 4.7             , 4.6             , 4.3             , 10.2            , 9.7             , 10.1            , 8.7             , 8.2             , 7.5             , 8.4             , 8.5             , 7.7             , 8.5             , 8.1             , 9.4             , 9.2             , 9.2             , 9.2             , 7.4             , 7.5             , 8               , 7.8             , 7.9             , 7.6             , 7.8             , 7.5             , 8.2             , 7.2             , 0.55            , 0.6             , 0.81            , 0.89            , 0.93            , 0.92            , 0.88            , 0.69            , 0.67            , 0.73            , 0.83            , 0.85            , 0.86            , 0.84            , 0.87            , 0.8             , 0.79            , 0.77            , 0.71            , 0.72            , 0.72            , 0.73            , 0.71            , 0.72            , 0.74            , 0.71            , 0.72            , 0.72            , 0.7             , 0.75            , 0.75            , 0.74            , 0.77            , 0.81            , 0.79            , 0.82            , 0.75            , 0.75            , 0.76            , 0.77            , 0.78            , 0.79            , 0.82            , 2               , 3               , 4               , 5               , 6               , 7               , 8               , 9               , 10              , 12              , 14              , 15              , 16              , 17              , 18              , 19              , 21              , 22              , 23              , 24              , 25              , 27              , 28              , 29              , 30              , 31              , 32              , 33              , 34              , 35              , 36              , 38              , 39              , 40              , 43              , NA              , Fold4           </td><td>Fold4</td></tr>\n",
       "\t<tr><td>1               , 1               , 2               , 1               , 1               , 1               , 1               , 1               , 1               , 1               , 1               , 1               , 1               , 1               , 1               , 2               , 2               , 2               , 4               , 4               , 4               , 4               , 4               , 4               , 4               , 4               , 4               , 4               , 4               , 3               , 3               , 3               , 3               , 3               , 3               , 3               , 3               , 3               , 3               , 3               , 3               , 3               , 3               , 1               , 1               , 2               , 1               , 1               , 1               , 1               , 1               , 1               , 1               , 1               , 1               , 1               , 1               , 1               , 2               , 2               , 2               , 4               , 4               , 4               , 4               , 4               , 4               , 4               , 4               , 4               , 4               , 4               , 3               , 3               , 3               , 3               , 3               , 3               , 3               , 3               , 3               , 3               , 3               , 3               , 3               , 3               , granny_smith    , granny_smith    , mandarin        , braeburn        , braeburn        , braeburn        , braeburn        , golden_delicious, golden_delicious, golden_delicious, cripps_pink     , cripps_pink     , cripps_pink     , cripps_pink     , cripps_pink     , mandarin        , mandarin        , mandarin        , spanish_belsan  , spanish_belsan  , spanish_belsan  , unknown         , unknown         , unknown         , unknown         , unknown         , unknown         , unknown         , unknown         , spanish_jumbo   , spanish_jumbo   , spanish_jumbo   , selected_seconds, selected_seconds, selected_seconds, selected_seconds, turkey_navel    , turkey_navel    , turkey_navel    , turkey_navel    , turkey_navel    , turkey_navel    , turkey_navel    , 192             , 176             , 76              , 172             , 166             , 172             , 154             , 152             , 156             , 168             , 162             , 162             , 160             , 156             , 140             , 86              , 84              , 80              , 216             , 196             , 174             , 132             , 130             , 116             , 120             , 116             , 116             , 152             , 118             , 342             , 356             , 362             , 204             , 160             , 158             , 210             , 142             , 150             , 160             , 158             , 154             , 180             , 154             , 8.4             , 7.4             , 5.8             , 7.4             , 6.9             , 7.1             , 7               , 7.6             , 7.6             , 7.5             , 7.5             , 7.4             , 7.5             , 7.4             , 7.3             , 6.2             , 6               , 5.8             , 7.3             , 7.3             , 7.3             , 5.8             , 6               , 6               , 6               , 6.1             , 6.3             , 6.5             , 6.1             , 9               , 9.2             , 9.6             , 7.5             , 7               , 7.1             , 7.8             , 7.6             , 7.1             , 7.1             , 7.2             , 7.1             , 7.6             , 7.2             , 7.3             , 7.2             , 4               , 7               , 7.3             , 7.6             , 7.1             , 7.3             , 7.5             , 7.6             , 7.1             , 7.2             , 7.5             , 7.4             , 7.1             , 4.7             , 4.6             , 4.3             , 10.2            , 9.7             , 10.1            , 8.7             , 8.2             , 7.5             , 8.4             , 8.5             , 7.7             , 8.5             , 8.1             , 9.4             , 9.2             , 9.2             , 9.2             , 7.4             , 7.5             , 8               , 7.8             , 7.9             , 7.6             , 7.8             , 7.5             , 8.2             , 7.2             , 0.55            , 0.6             , 0.81            , 0.89            , 0.93            , 0.92            , 0.88            , 0.69            , 0.67            , 0.73            , 0.83            , 0.85            , 0.86            , 0.84            , 0.87            , 0.8             , 0.79            , 0.77            , 0.71            , 0.72            , 0.72            , 0.73            , 0.71            , 0.72            , 0.74            , 0.71            , 0.72            , 0.72            , 0.7             , 0.75            , 0.75            , 0.74            , 0.77            , 0.81            , 0.79            , 0.82            , 0.75            , 0.75            , 0.76            , 0.77            , 0.78            , 0.79            , 0.82            , 1               , 3               , 4               , 5               , 6               , 7               , 9               , 10              , 11              , 13              , 14              , 15              , 16              , 17              , 18              , 19              , 20              , 21              , 22              , 23              , 25              , 26              , 27              , 29              , 30              , 31              , 32              , 34              , 35              , 37              , 39              , 40              , 41              , 42              , 43              , NA              , Fold5           </td><td>Fold5</td></tr>\n",
       "</tbody>\n",
       "</table>\n"
      ],
      "text/latex": [
       "A vfold\\_cv: 5 × 2\n",
       "\\begin{tabular}{ll}\n",
       " splits & id\\\\\n",
       " <list> & <chr>\\\\\n",
       "\\hline\n",
       "\t 1               , 1               , 2               , 1               , 1               , 1               , 1               , 1               , 1               , 1               , 1               , 1               , 1               , 1               , 1               , 2               , 2               , 2               , 4               , 4               , 4               , 4               , 4               , 4               , 4               , 4               , 4               , 4               , 4               , 3               , 3               , 3               , 3               , 3               , 3               , 3               , 3               , 3               , 3               , 3               , 3               , 3               , 3               , 1               , 1               , 2               , 1               , 1               , 1               , 1               , 1               , 1               , 1               , 1               , 1               , 1               , 1               , 1               , 2               , 2               , 2               , 4               , 4               , 4               , 4               , 4               , 4               , 4               , 4               , 4               , 4               , 4               , 3               , 3               , 3               , 3               , 3               , 3               , 3               , 3               , 3               , 3               , 3               , 3               , 3               , 3               , granny\\_smith    , granny\\_smith    , mandarin        , braeburn        , braeburn        , braeburn        , braeburn        , golden\\_delicious, golden\\_delicious, golden\\_delicious, cripps\\_pink     , cripps\\_pink     , cripps\\_pink     , cripps\\_pink     , cripps\\_pink     , mandarin        , mandarin        , mandarin        , spanish\\_belsan  , spanish\\_belsan  , spanish\\_belsan  , unknown         , unknown         , unknown         , unknown         , unknown         , unknown         , unknown         , unknown         , spanish\\_jumbo   , spanish\\_jumbo   , spanish\\_jumbo   , selected\\_seconds, selected\\_seconds, selected\\_seconds, selected\\_seconds, turkey\\_navel    , turkey\\_navel    , turkey\\_navel    , turkey\\_navel    , turkey\\_navel    , turkey\\_navel    , turkey\\_navel    , 192             , 176             , 76              , 172             , 166             , 172             , 154             , 152             , 156             , 168             , 162             , 162             , 160             , 156             , 140             , 86              , 84              , 80              , 216             , 196             , 174             , 132             , 130             , 116             , 120             , 116             , 116             , 152             , 118             , 342             , 356             , 362             , 204             , 160             , 158             , 210             , 142             , 150             , 160             , 158             , 154             , 180             , 154             , 8.4             , 7.4             , 5.8             , 7.4             , 6.9             , 7.1             , 7               , 7.6             , 7.6             , 7.5             , 7.5             , 7.4             , 7.5             , 7.4             , 7.3             , 6.2             , 6               , 5.8             , 7.3             , 7.3             , 7.3             , 5.8             , 6               , 6               , 6               , 6.1             , 6.3             , 6.5             , 6.1             , 9               , 9.2             , 9.6             , 7.5             , 7               , 7.1             , 7.8             , 7.6             , 7.1             , 7.1             , 7.2             , 7.1             , 7.6             , 7.2             , 7.3             , 7.2             , 4               , 7               , 7.3             , 7.6             , 7.1             , 7.3             , 7.5             , 7.6             , 7.1             , 7.2             , 7.5             , 7.4             , 7.1             , 4.7             , 4.6             , 4.3             , 10.2            , 9.7             , 10.1            , 8.7             , 8.2             , 7.5             , 8.4             , 8.5             , 7.7             , 8.5             , 8.1             , 9.4             , 9.2             , 9.2             , 9.2             , 7.4             , 7.5             , 8               , 7.8             , 7.9             , 7.6             , 7.8             , 7.5             , 8.2             , 7.2             , 0.55            , 0.6             , 0.81            , 0.89            , 0.93            , 0.92            , 0.88            , 0.69            , 0.67            , 0.73            , 0.83            , 0.85            , 0.86            , 0.84            , 0.87            , 0.8             , 0.79            , 0.77            , 0.71            , 0.72            , 0.72            , 0.73            , 0.71            , 0.72            , 0.74            , 0.71            , 0.72            , 0.72            , 0.7             , 0.75            , 0.75            , 0.74            , 0.77            , 0.81            , 0.79            , 0.82            , 0.75            , 0.75            , 0.76            , 0.77            , 0.78            , 0.79            , 0.82            , 1               , 2               , 3               , 6               , 7               , 8               , 9               , 11              , 12              , 13              , 15              , 16              , 17              , 18              , 19              , 20              , 21              , 24              , 25              , 26              , 28              , 29              , 32              , 33              , 34              , 35              , 36              , 37              , 38              , 39              , 41              , 42              , 43              , NA              , Fold1            & Fold1\\\\\n",
       "\t 1               , 1               , 2               , 1               , 1               , 1               , 1               , 1               , 1               , 1               , 1               , 1               , 1               , 1               , 1               , 2               , 2               , 2               , 4               , 4               , 4               , 4               , 4               , 4               , 4               , 4               , 4               , 4               , 4               , 3               , 3               , 3               , 3               , 3               , 3               , 3               , 3               , 3               , 3               , 3               , 3               , 3               , 3               , 1               , 1               , 2               , 1               , 1               , 1               , 1               , 1               , 1               , 1               , 1               , 1               , 1               , 1               , 1               , 2               , 2               , 2               , 4               , 4               , 4               , 4               , 4               , 4               , 4               , 4               , 4               , 4               , 4               , 3               , 3               , 3               , 3               , 3               , 3               , 3               , 3               , 3               , 3               , 3               , 3               , 3               , 3               , granny\\_smith    , granny\\_smith    , mandarin        , braeburn        , braeburn        , braeburn        , braeburn        , golden\\_delicious, golden\\_delicious, golden\\_delicious, cripps\\_pink     , cripps\\_pink     , cripps\\_pink     , cripps\\_pink     , cripps\\_pink     , mandarin        , mandarin        , mandarin        , spanish\\_belsan  , spanish\\_belsan  , spanish\\_belsan  , unknown         , unknown         , unknown         , unknown         , unknown         , unknown         , unknown         , unknown         , spanish\\_jumbo   , spanish\\_jumbo   , spanish\\_jumbo   , selected\\_seconds, selected\\_seconds, selected\\_seconds, selected\\_seconds, turkey\\_navel    , turkey\\_navel    , turkey\\_navel    , turkey\\_navel    , turkey\\_navel    , turkey\\_navel    , turkey\\_navel    , 192             , 176             , 76              , 172             , 166             , 172             , 154             , 152             , 156             , 168             , 162             , 162             , 160             , 156             , 140             , 86              , 84              , 80              , 216             , 196             , 174             , 132             , 130             , 116             , 120             , 116             , 116             , 152             , 118             , 342             , 356             , 362             , 204             , 160             , 158             , 210             , 142             , 150             , 160             , 158             , 154             , 180             , 154             , 8.4             , 7.4             , 5.8             , 7.4             , 6.9             , 7.1             , 7               , 7.6             , 7.6             , 7.5             , 7.5             , 7.4             , 7.5             , 7.4             , 7.3             , 6.2             , 6               , 5.8             , 7.3             , 7.3             , 7.3             , 5.8             , 6               , 6               , 6               , 6.1             , 6.3             , 6.5             , 6.1             , 9               , 9.2             , 9.6             , 7.5             , 7               , 7.1             , 7.8             , 7.6             , 7.1             , 7.1             , 7.2             , 7.1             , 7.6             , 7.2             , 7.3             , 7.2             , 4               , 7               , 7.3             , 7.6             , 7.1             , 7.3             , 7.5             , 7.6             , 7.1             , 7.2             , 7.5             , 7.4             , 7.1             , 4.7             , 4.6             , 4.3             , 10.2            , 9.7             , 10.1            , 8.7             , 8.2             , 7.5             , 8.4             , 8.5             , 7.7             , 8.5             , 8.1             , 9.4             , 9.2             , 9.2             , 9.2             , 7.4             , 7.5             , 8               , 7.8             , 7.9             , 7.6             , 7.8             , 7.5             , 8.2             , 7.2             , 0.55            , 0.6             , 0.81            , 0.89            , 0.93            , 0.92            , 0.88            , 0.69            , 0.67            , 0.73            , 0.83            , 0.85            , 0.86            , 0.84            , 0.87            , 0.8             , 0.79            , 0.77            , 0.71            , 0.72            , 0.72            , 0.73            , 0.71            , 0.72            , 0.74            , 0.71            , 0.72            , 0.72            , 0.7             , 0.75            , 0.75            , 0.74            , 0.77            , 0.81            , 0.79            , 0.82            , 0.75            , 0.75            , 0.76            , 0.77            , 0.78            , 0.79            , 0.82            , 1               , 2               , 4               , 5               , 6               , 8               , 10              , 11              , 12              , 13              , 14              , 15              , 16              , 18              , 20              , 22              , 23              , 24              , 26              , 27              , 28              , 29              , 30              , 31              , 33              , 34              , 35              , 36              , 37              , 38              , 40              , 41              , 42              , 43              , NA              , Fold2            & Fold2\\\\\n",
       "\t 1               , 1               , 2               , 1               , 1               , 1               , 1               , 1               , 1               , 1               , 1               , 1               , 1               , 1               , 1               , 2               , 2               , 2               , 4               , 4               , 4               , 4               , 4               , 4               , 4               , 4               , 4               , 4               , 4               , 3               , 3               , 3               , 3               , 3               , 3               , 3               , 3               , 3               , 3               , 3               , 3               , 3               , 3               , 1               , 1               , 2               , 1               , 1               , 1               , 1               , 1               , 1               , 1               , 1               , 1               , 1               , 1               , 1               , 2               , 2               , 2               , 4               , 4               , 4               , 4               , 4               , 4               , 4               , 4               , 4               , 4               , 4               , 3               , 3               , 3               , 3               , 3               , 3               , 3               , 3               , 3               , 3               , 3               , 3               , 3               , 3               , granny\\_smith    , granny\\_smith    , mandarin        , braeburn        , braeburn        , braeburn        , braeburn        , golden\\_delicious, golden\\_delicious, golden\\_delicious, cripps\\_pink     , cripps\\_pink     , cripps\\_pink     , cripps\\_pink     , cripps\\_pink     , mandarin        , mandarin        , mandarin        , spanish\\_belsan  , spanish\\_belsan  , spanish\\_belsan  , unknown         , unknown         , unknown         , unknown         , unknown         , unknown         , unknown         , unknown         , spanish\\_jumbo   , spanish\\_jumbo   , spanish\\_jumbo   , selected\\_seconds, selected\\_seconds, selected\\_seconds, selected\\_seconds, turkey\\_navel    , turkey\\_navel    , turkey\\_navel    , turkey\\_navel    , turkey\\_navel    , turkey\\_navel    , turkey\\_navel    , 192             , 176             , 76              , 172             , 166             , 172             , 154             , 152             , 156             , 168             , 162             , 162             , 160             , 156             , 140             , 86              , 84              , 80              , 216             , 196             , 174             , 132             , 130             , 116             , 120             , 116             , 116             , 152             , 118             , 342             , 356             , 362             , 204             , 160             , 158             , 210             , 142             , 150             , 160             , 158             , 154             , 180             , 154             , 8.4             , 7.4             , 5.8             , 7.4             , 6.9             , 7.1             , 7               , 7.6             , 7.6             , 7.5             , 7.5             , 7.4             , 7.5             , 7.4             , 7.3             , 6.2             , 6               , 5.8             , 7.3             , 7.3             , 7.3             , 5.8             , 6               , 6               , 6               , 6.1             , 6.3             , 6.5             , 6.1             , 9               , 9.2             , 9.6             , 7.5             , 7               , 7.1             , 7.8             , 7.6             , 7.1             , 7.1             , 7.2             , 7.1             , 7.6             , 7.2             , 7.3             , 7.2             , 4               , 7               , 7.3             , 7.6             , 7.1             , 7.3             , 7.5             , 7.6             , 7.1             , 7.2             , 7.5             , 7.4             , 7.1             , 4.7             , 4.6             , 4.3             , 10.2            , 9.7             , 10.1            , 8.7             , 8.2             , 7.5             , 8.4             , 8.5             , 7.7             , 8.5             , 8.1             , 9.4             , 9.2             , 9.2             , 9.2             , 7.4             , 7.5             , 8               , 7.8             , 7.9             , 7.6             , 7.8             , 7.5             , 8.2             , 7.2             , 0.55            , 0.6             , 0.81            , 0.89            , 0.93            , 0.92            , 0.88            , 0.69            , 0.67            , 0.73            , 0.83            , 0.85            , 0.86            , 0.84            , 0.87            , 0.8             , 0.79            , 0.77            , 0.71            , 0.72            , 0.72            , 0.73            , 0.71            , 0.72            , 0.74            , 0.71            , 0.72            , 0.72            , 0.7             , 0.75            , 0.75            , 0.74            , 0.77            , 0.81            , 0.79            , 0.82            , 0.75            , 0.75            , 0.76            , 0.77            , 0.78            , 0.79            , 0.82            , 1               , 2               , 3               , 4               , 5               , 7               , 8               , 9               , 10              , 11              , 12              , 13              , 14              , 17              , 19              , 20              , 21              , 22              , 23              , 24              , 25              , 26              , 27              , 28              , 30              , 31              , 32              , 33              , 36              , 37              , 38              , 39              , 40              , 41              , 42              , NA              , Fold3            & Fold3\\\\\n",
       "\t 1               , 1               , 2               , 1               , 1               , 1               , 1               , 1               , 1               , 1               , 1               , 1               , 1               , 1               , 1               , 2               , 2               , 2               , 4               , 4               , 4               , 4               , 4               , 4               , 4               , 4               , 4               , 4               , 4               , 3               , 3               , 3               , 3               , 3               , 3               , 3               , 3               , 3               , 3               , 3               , 3               , 3               , 3               , 1               , 1               , 2               , 1               , 1               , 1               , 1               , 1               , 1               , 1               , 1               , 1               , 1               , 1               , 1               , 2               , 2               , 2               , 4               , 4               , 4               , 4               , 4               , 4               , 4               , 4               , 4               , 4               , 4               , 3               , 3               , 3               , 3               , 3               , 3               , 3               , 3               , 3               , 3               , 3               , 3               , 3               , 3               , granny\\_smith    , granny\\_smith    , mandarin        , braeburn        , braeburn        , braeburn        , braeburn        , golden\\_delicious, golden\\_delicious, golden\\_delicious, cripps\\_pink     , cripps\\_pink     , cripps\\_pink     , cripps\\_pink     , cripps\\_pink     , mandarin        , mandarin        , mandarin        , spanish\\_belsan  , spanish\\_belsan  , spanish\\_belsan  , unknown         , unknown         , unknown         , unknown         , unknown         , unknown         , unknown         , unknown         , spanish\\_jumbo   , spanish\\_jumbo   , spanish\\_jumbo   , selected\\_seconds, selected\\_seconds, selected\\_seconds, selected\\_seconds, turkey\\_navel    , turkey\\_navel    , turkey\\_navel    , turkey\\_navel    , turkey\\_navel    , turkey\\_navel    , turkey\\_navel    , 192             , 176             , 76              , 172             , 166             , 172             , 154             , 152             , 156             , 168             , 162             , 162             , 160             , 156             , 140             , 86              , 84              , 80              , 216             , 196             , 174             , 132             , 130             , 116             , 120             , 116             , 116             , 152             , 118             , 342             , 356             , 362             , 204             , 160             , 158             , 210             , 142             , 150             , 160             , 158             , 154             , 180             , 154             , 8.4             , 7.4             , 5.8             , 7.4             , 6.9             , 7.1             , 7               , 7.6             , 7.6             , 7.5             , 7.5             , 7.4             , 7.5             , 7.4             , 7.3             , 6.2             , 6               , 5.8             , 7.3             , 7.3             , 7.3             , 5.8             , 6               , 6               , 6               , 6.1             , 6.3             , 6.5             , 6.1             , 9               , 9.2             , 9.6             , 7.5             , 7               , 7.1             , 7.8             , 7.6             , 7.1             , 7.1             , 7.2             , 7.1             , 7.6             , 7.2             , 7.3             , 7.2             , 4               , 7               , 7.3             , 7.6             , 7.1             , 7.3             , 7.5             , 7.6             , 7.1             , 7.2             , 7.5             , 7.4             , 7.1             , 4.7             , 4.6             , 4.3             , 10.2            , 9.7             , 10.1            , 8.7             , 8.2             , 7.5             , 8.4             , 8.5             , 7.7             , 8.5             , 8.1             , 9.4             , 9.2             , 9.2             , 9.2             , 7.4             , 7.5             , 8               , 7.8             , 7.9             , 7.6             , 7.8             , 7.5             , 8.2             , 7.2             , 0.55            , 0.6             , 0.81            , 0.89            , 0.93            , 0.92            , 0.88            , 0.69            , 0.67            , 0.73            , 0.83            , 0.85            , 0.86            , 0.84            , 0.87            , 0.8             , 0.79            , 0.77            , 0.71            , 0.72            , 0.72            , 0.73            , 0.71            , 0.72            , 0.74            , 0.71            , 0.72            , 0.72            , 0.7             , 0.75            , 0.75            , 0.74            , 0.77            , 0.81            , 0.79            , 0.82            , 0.75            , 0.75            , 0.76            , 0.77            , 0.78            , 0.79            , 0.82            , 2               , 3               , 4               , 5               , 6               , 7               , 8               , 9               , 10              , 12              , 14              , 15              , 16              , 17              , 18              , 19              , 21              , 22              , 23              , 24              , 25              , 27              , 28              , 29              , 30              , 31              , 32              , 33              , 34              , 35              , 36              , 38              , 39              , 40              , 43              , NA              , Fold4            & Fold4\\\\\n",
       "\t 1               , 1               , 2               , 1               , 1               , 1               , 1               , 1               , 1               , 1               , 1               , 1               , 1               , 1               , 1               , 2               , 2               , 2               , 4               , 4               , 4               , 4               , 4               , 4               , 4               , 4               , 4               , 4               , 4               , 3               , 3               , 3               , 3               , 3               , 3               , 3               , 3               , 3               , 3               , 3               , 3               , 3               , 3               , 1               , 1               , 2               , 1               , 1               , 1               , 1               , 1               , 1               , 1               , 1               , 1               , 1               , 1               , 1               , 2               , 2               , 2               , 4               , 4               , 4               , 4               , 4               , 4               , 4               , 4               , 4               , 4               , 4               , 3               , 3               , 3               , 3               , 3               , 3               , 3               , 3               , 3               , 3               , 3               , 3               , 3               , 3               , granny\\_smith    , granny\\_smith    , mandarin        , braeburn        , braeburn        , braeburn        , braeburn        , golden\\_delicious, golden\\_delicious, golden\\_delicious, cripps\\_pink     , cripps\\_pink     , cripps\\_pink     , cripps\\_pink     , cripps\\_pink     , mandarin        , mandarin        , mandarin        , spanish\\_belsan  , spanish\\_belsan  , spanish\\_belsan  , unknown         , unknown         , unknown         , unknown         , unknown         , unknown         , unknown         , unknown         , spanish\\_jumbo   , spanish\\_jumbo   , spanish\\_jumbo   , selected\\_seconds, selected\\_seconds, selected\\_seconds, selected\\_seconds, turkey\\_navel    , turkey\\_navel    , turkey\\_navel    , turkey\\_navel    , turkey\\_navel    , turkey\\_navel    , turkey\\_navel    , 192             , 176             , 76              , 172             , 166             , 172             , 154             , 152             , 156             , 168             , 162             , 162             , 160             , 156             , 140             , 86              , 84              , 80              , 216             , 196             , 174             , 132             , 130             , 116             , 120             , 116             , 116             , 152             , 118             , 342             , 356             , 362             , 204             , 160             , 158             , 210             , 142             , 150             , 160             , 158             , 154             , 180             , 154             , 8.4             , 7.4             , 5.8             , 7.4             , 6.9             , 7.1             , 7               , 7.6             , 7.6             , 7.5             , 7.5             , 7.4             , 7.5             , 7.4             , 7.3             , 6.2             , 6               , 5.8             , 7.3             , 7.3             , 7.3             , 5.8             , 6               , 6               , 6               , 6.1             , 6.3             , 6.5             , 6.1             , 9               , 9.2             , 9.6             , 7.5             , 7               , 7.1             , 7.8             , 7.6             , 7.1             , 7.1             , 7.2             , 7.1             , 7.6             , 7.2             , 7.3             , 7.2             , 4               , 7               , 7.3             , 7.6             , 7.1             , 7.3             , 7.5             , 7.6             , 7.1             , 7.2             , 7.5             , 7.4             , 7.1             , 4.7             , 4.6             , 4.3             , 10.2            , 9.7             , 10.1            , 8.7             , 8.2             , 7.5             , 8.4             , 8.5             , 7.7             , 8.5             , 8.1             , 9.4             , 9.2             , 9.2             , 9.2             , 7.4             , 7.5             , 8               , 7.8             , 7.9             , 7.6             , 7.8             , 7.5             , 8.2             , 7.2             , 0.55            , 0.6             , 0.81            , 0.89            , 0.93            , 0.92            , 0.88            , 0.69            , 0.67            , 0.73            , 0.83            , 0.85            , 0.86            , 0.84            , 0.87            , 0.8             , 0.79            , 0.77            , 0.71            , 0.72            , 0.72            , 0.73            , 0.71            , 0.72            , 0.74            , 0.71            , 0.72            , 0.72            , 0.7             , 0.75            , 0.75            , 0.74            , 0.77            , 0.81            , 0.79            , 0.82            , 0.75            , 0.75            , 0.76            , 0.77            , 0.78            , 0.79            , 0.82            , 1               , 3               , 4               , 5               , 6               , 7               , 9               , 10              , 11              , 13              , 14              , 15              , 16              , 17              , 18              , 19              , 20              , 21              , 22              , 23              , 25              , 26              , 27              , 29              , 30              , 31              , 32              , 34              , 35              , 37              , 39              , 40              , 41              , 42              , 43              , NA              , Fold5            & Fold5\\\\\n",
       "\\end{tabular}\n"
      ],
      "text/markdown": [
       "\n",
       "A vfold_cv: 5 × 2\n",
       "\n",
       "| splits &lt;list&gt; | id &lt;chr&gt; |\n",
       "|---|---|\n",
       "| 1               , 1               , 2               , 1               , 1               , 1               , 1               , 1               , 1               , 1               , 1               , 1               , 1               , 1               , 1               , 2               , 2               , 2               , 4               , 4               , 4               , 4               , 4               , 4               , 4               , 4               , 4               , 4               , 4               , 3               , 3               , 3               , 3               , 3               , 3               , 3               , 3               , 3               , 3               , 3               , 3               , 3               , 3               , 1               , 1               , 2               , 1               , 1               , 1               , 1               , 1               , 1               , 1               , 1               , 1               , 1               , 1               , 1               , 2               , 2               , 2               , 4               , 4               , 4               , 4               , 4               , 4               , 4               , 4               , 4               , 4               , 4               , 3               , 3               , 3               , 3               , 3               , 3               , 3               , 3               , 3               , 3               , 3               , 3               , 3               , 3               , granny_smith    , granny_smith    , mandarin        , braeburn        , braeburn        , braeburn        , braeburn        , golden_delicious, golden_delicious, golden_delicious, cripps_pink     , cripps_pink     , cripps_pink     , cripps_pink     , cripps_pink     , mandarin        , mandarin        , mandarin        , spanish_belsan  , spanish_belsan  , spanish_belsan  , unknown         , unknown         , unknown         , unknown         , unknown         , unknown         , unknown         , unknown         , spanish_jumbo   , spanish_jumbo   , spanish_jumbo   , selected_seconds, selected_seconds, selected_seconds, selected_seconds, turkey_navel    , turkey_navel    , turkey_navel    , turkey_navel    , turkey_navel    , turkey_navel    , turkey_navel    , 192             , 176             , 76              , 172             , 166             , 172             , 154             , 152             , 156             , 168             , 162             , 162             , 160             , 156             , 140             , 86              , 84              , 80              , 216             , 196             , 174             , 132             , 130             , 116             , 120             , 116             , 116             , 152             , 118             , 342             , 356             , 362             , 204             , 160             , 158             , 210             , 142             , 150             , 160             , 158             , 154             , 180             , 154             , 8.4             , 7.4             , 5.8             , 7.4             , 6.9             , 7.1             , 7               , 7.6             , 7.6             , 7.5             , 7.5             , 7.4             , 7.5             , 7.4             , 7.3             , 6.2             , 6               , 5.8             , 7.3             , 7.3             , 7.3             , 5.8             , 6               , 6               , 6               , 6.1             , 6.3             , 6.5             , 6.1             , 9               , 9.2             , 9.6             , 7.5             , 7               , 7.1             , 7.8             , 7.6             , 7.1             , 7.1             , 7.2             , 7.1             , 7.6             , 7.2             , 7.3             , 7.2             , 4               , 7               , 7.3             , 7.6             , 7.1             , 7.3             , 7.5             , 7.6             , 7.1             , 7.2             , 7.5             , 7.4             , 7.1             , 4.7             , 4.6             , 4.3             , 10.2            , 9.7             , 10.1            , 8.7             , 8.2             , 7.5             , 8.4             , 8.5             , 7.7             , 8.5             , 8.1             , 9.4             , 9.2             , 9.2             , 9.2             , 7.4             , 7.5             , 8               , 7.8             , 7.9             , 7.6             , 7.8             , 7.5             , 8.2             , 7.2             , 0.55            , 0.6             , 0.81            , 0.89            , 0.93            , 0.92            , 0.88            , 0.69            , 0.67            , 0.73            , 0.83            , 0.85            , 0.86            , 0.84            , 0.87            , 0.8             , 0.79            , 0.77            , 0.71            , 0.72            , 0.72            , 0.73            , 0.71            , 0.72            , 0.74            , 0.71            , 0.72            , 0.72            , 0.7             , 0.75            , 0.75            , 0.74            , 0.77            , 0.81            , 0.79            , 0.82            , 0.75            , 0.75            , 0.76            , 0.77            , 0.78            , 0.79            , 0.82            , 1               , 2               , 3               , 6               , 7               , 8               , 9               , 11              , 12              , 13              , 15              , 16              , 17              , 18              , 19              , 20              , 21              , 24              , 25              , 26              , 28              , 29              , 32              , 33              , 34              , 35              , 36              , 37              , 38              , 39              , 41              , 42              , 43              , NA              , Fold1            | Fold1 |\n",
       "| 1               , 1               , 2               , 1               , 1               , 1               , 1               , 1               , 1               , 1               , 1               , 1               , 1               , 1               , 1               , 2               , 2               , 2               , 4               , 4               , 4               , 4               , 4               , 4               , 4               , 4               , 4               , 4               , 4               , 3               , 3               , 3               , 3               , 3               , 3               , 3               , 3               , 3               , 3               , 3               , 3               , 3               , 3               , 1               , 1               , 2               , 1               , 1               , 1               , 1               , 1               , 1               , 1               , 1               , 1               , 1               , 1               , 1               , 2               , 2               , 2               , 4               , 4               , 4               , 4               , 4               , 4               , 4               , 4               , 4               , 4               , 4               , 3               , 3               , 3               , 3               , 3               , 3               , 3               , 3               , 3               , 3               , 3               , 3               , 3               , 3               , granny_smith    , granny_smith    , mandarin        , braeburn        , braeburn        , braeburn        , braeburn        , golden_delicious, golden_delicious, golden_delicious, cripps_pink     , cripps_pink     , cripps_pink     , cripps_pink     , cripps_pink     , mandarin        , mandarin        , mandarin        , spanish_belsan  , spanish_belsan  , spanish_belsan  , unknown         , unknown         , unknown         , unknown         , unknown         , unknown         , unknown         , unknown         , spanish_jumbo   , spanish_jumbo   , spanish_jumbo   , selected_seconds, selected_seconds, selected_seconds, selected_seconds, turkey_navel    , turkey_navel    , turkey_navel    , turkey_navel    , turkey_navel    , turkey_navel    , turkey_navel    , 192             , 176             , 76              , 172             , 166             , 172             , 154             , 152             , 156             , 168             , 162             , 162             , 160             , 156             , 140             , 86              , 84              , 80              , 216             , 196             , 174             , 132             , 130             , 116             , 120             , 116             , 116             , 152             , 118             , 342             , 356             , 362             , 204             , 160             , 158             , 210             , 142             , 150             , 160             , 158             , 154             , 180             , 154             , 8.4             , 7.4             , 5.8             , 7.4             , 6.9             , 7.1             , 7               , 7.6             , 7.6             , 7.5             , 7.5             , 7.4             , 7.5             , 7.4             , 7.3             , 6.2             , 6               , 5.8             , 7.3             , 7.3             , 7.3             , 5.8             , 6               , 6               , 6               , 6.1             , 6.3             , 6.5             , 6.1             , 9               , 9.2             , 9.6             , 7.5             , 7               , 7.1             , 7.8             , 7.6             , 7.1             , 7.1             , 7.2             , 7.1             , 7.6             , 7.2             , 7.3             , 7.2             , 4               , 7               , 7.3             , 7.6             , 7.1             , 7.3             , 7.5             , 7.6             , 7.1             , 7.2             , 7.5             , 7.4             , 7.1             , 4.7             , 4.6             , 4.3             , 10.2            , 9.7             , 10.1            , 8.7             , 8.2             , 7.5             , 8.4             , 8.5             , 7.7             , 8.5             , 8.1             , 9.4             , 9.2             , 9.2             , 9.2             , 7.4             , 7.5             , 8               , 7.8             , 7.9             , 7.6             , 7.8             , 7.5             , 8.2             , 7.2             , 0.55            , 0.6             , 0.81            , 0.89            , 0.93            , 0.92            , 0.88            , 0.69            , 0.67            , 0.73            , 0.83            , 0.85            , 0.86            , 0.84            , 0.87            , 0.8             , 0.79            , 0.77            , 0.71            , 0.72            , 0.72            , 0.73            , 0.71            , 0.72            , 0.74            , 0.71            , 0.72            , 0.72            , 0.7             , 0.75            , 0.75            , 0.74            , 0.77            , 0.81            , 0.79            , 0.82            , 0.75            , 0.75            , 0.76            , 0.77            , 0.78            , 0.79            , 0.82            , 1               , 2               , 4               , 5               , 6               , 8               , 10              , 11              , 12              , 13              , 14              , 15              , 16              , 18              , 20              , 22              , 23              , 24              , 26              , 27              , 28              , 29              , 30              , 31              , 33              , 34              , 35              , 36              , 37              , 38              , 40              , 41              , 42              , 43              , NA              , Fold2            | Fold2 |\n",
       "| 1               , 1               , 2               , 1               , 1               , 1               , 1               , 1               , 1               , 1               , 1               , 1               , 1               , 1               , 1               , 2               , 2               , 2               , 4               , 4               , 4               , 4               , 4               , 4               , 4               , 4               , 4               , 4               , 4               , 3               , 3               , 3               , 3               , 3               , 3               , 3               , 3               , 3               , 3               , 3               , 3               , 3               , 3               , 1               , 1               , 2               , 1               , 1               , 1               , 1               , 1               , 1               , 1               , 1               , 1               , 1               , 1               , 1               , 2               , 2               , 2               , 4               , 4               , 4               , 4               , 4               , 4               , 4               , 4               , 4               , 4               , 4               , 3               , 3               , 3               , 3               , 3               , 3               , 3               , 3               , 3               , 3               , 3               , 3               , 3               , 3               , granny_smith    , granny_smith    , mandarin        , braeburn        , braeburn        , braeburn        , braeburn        , golden_delicious, golden_delicious, golden_delicious, cripps_pink     , cripps_pink     , cripps_pink     , cripps_pink     , cripps_pink     , mandarin        , mandarin        , mandarin        , spanish_belsan  , spanish_belsan  , spanish_belsan  , unknown         , unknown         , unknown         , unknown         , unknown         , unknown         , unknown         , unknown         , spanish_jumbo   , spanish_jumbo   , spanish_jumbo   , selected_seconds, selected_seconds, selected_seconds, selected_seconds, turkey_navel    , turkey_navel    , turkey_navel    , turkey_navel    , turkey_navel    , turkey_navel    , turkey_navel    , 192             , 176             , 76              , 172             , 166             , 172             , 154             , 152             , 156             , 168             , 162             , 162             , 160             , 156             , 140             , 86              , 84              , 80              , 216             , 196             , 174             , 132             , 130             , 116             , 120             , 116             , 116             , 152             , 118             , 342             , 356             , 362             , 204             , 160             , 158             , 210             , 142             , 150             , 160             , 158             , 154             , 180             , 154             , 8.4             , 7.4             , 5.8             , 7.4             , 6.9             , 7.1             , 7               , 7.6             , 7.6             , 7.5             , 7.5             , 7.4             , 7.5             , 7.4             , 7.3             , 6.2             , 6               , 5.8             , 7.3             , 7.3             , 7.3             , 5.8             , 6               , 6               , 6               , 6.1             , 6.3             , 6.5             , 6.1             , 9               , 9.2             , 9.6             , 7.5             , 7               , 7.1             , 7.8             , 7.6             , 7.1             , 7.1             , 7.2             , 7.1             , 7.6             , 7.2             , 7.3             , 7.2             , 4               , 7               , 7.3             , 7.6             , 7.1             , 7.3             , 7.5             , 7.6             , 7.1             , 7.2             , 7.5             , 7.4             , 7.1             , 4.7             , 4.6             , 4.3             , 10.2            , 9.7             , 10.1            , 8.7             , 8.2             , 7.5             , 8.4             , 8.5             , 7.7             , 8.5             , 8.1             , 9.4             , 9.2             , 9.2             , 9.2             , 7.4             , 7.5             , 8               , 7.8             , 7.9             , 7.6             , 7.8             , 7.5             , 8.2             , 7.2             , 0.55            , 0.6             , 0.81            , 0.89            , 0.93            , 0.92            , 0.88            , 0.69            , 0.67            , 0.73            , 0.83            , 0.85            , 0.86            , 0.84            , 0.87            , 0.8             , 0.79            , 0.77            , 0.71            , 0.72            , 0.72            , 0.73            , 0.71            , 0.72            , 0.74            , 0.71            , 0.72            , 0.72            , 0.7             , 0.75            , 0.75            , 0.74            , 0.77            , 0.81            , 0.79            , 0.82            , 0.75            , 0.75            , 0.76            , 0.77            , 0.78            , 0.79            , 0.82            , 1               , 2               , 3               , 4               , 5               , 7               , 8               , 9               , 10              , 11              , 12              , 13              , 14              , 17              , 19              , 20              , 21              , 22              , 23              , 24              , 25              , 26              , 27              , 28              , 30              , 31              , 32              , 33              , 36              , 37              , 38              , 39              , 40              , 41              , 42              , NA              , Fold3            | Fold3 |\n",
       "| 1               , 1               , 2               , 1               , 1               , 1               , 1               , 1               , 1               , 1               , 1               , 1               , 1               , 1               , 1               , 2               , 2               , 2               , 4               , 4               , 4               , 4               , 4               , 4               , 4               , 4               , 4               , 4               , 4               , 3               , 3               , 3               , 3               , 3               , 3               , 3               , 3               , 3               , 3               , 3               , 3               , 3               , 3               , 1               , 1               , 2               , 1               , 1               , 1               , 1               , 1               , 1               , 1               , 1               , 1               , 1               , 1               , 1               , 2               , 2               , 2               , 4               , 4               , 4               , 4               , 4               , 4               , 4               , 4               , 4               , 4               , 4               , 3               , 3               , 3               , 3               , 3               , 3               , 3               , 3               , 3               , 3               , 3               , 3               , 3               , 3               , granny_smith    , granny_smith    , mandarin        , braeburn        , braeburn        , braeburn        , braeburn        , golden_delicious, golden_delicious, golden_delicious, cripps_pink     , cripps_pink     , cripps_pink     , cripps_pink     , cripps_pink     , mandarin        , mandarin        , mandarin        , spanish_belsan  , spanish_belsan  , spanish_belsan  , unknown         , unknown         , unknown         , unknown         , unknown         , unknown         , unknown         , unknown         , spanish_jumbo   , spanish_jumbo   , spanish_jumbo   , selected_seconds, selected_seconds, selected_seconds, selected_seconds, turkey_navel    , turkey_navel    , turkey_navel    , turkey_navel    , turkey_navel    , turkey_navel    , turkey_navel    , 192             , 176             , 76              , 172             , 166             , 172             , 154             , 152             , 156             , 168             , 162             , 162             , 160             , 156             , 140             , 86              , 84              , 80              , 216             , 196             , 174             , 132             , 130             , 116             , 120             , 116             , 116             , 152             , 118             , 342             , 356             , 362             , 204             , 160             , 158             , 210             , 142             , 150             , 160             , 158             , 154             , 180             , 154             , 8.4             , 7.4             , 5.8             , 7.4             , 6.9             , 7.1             , 7               , 7.6             , 7.6             , 7.5             , 7.5             , 7.4             , 7.5             , 7.4             , 7.3             , 6.2             , 6               , 5.8             , 7.3             , 7.3             , 7.3             , 5.8             , 6               , 6               , 6               , 6.1             , 6.3             , 6.5             , 6.1             , 9               , 9.2             , 9.6             , 7.5             , 7               , 7.1             , 7.8             , 7.6             , 7.1             , 7.1             , 7.2             , 7.1             , 7.6             , 7.2             , 7.3             , 7.2             , 4               , 7               , 7.3             , 7.6             , 7.1             , 7.3             , 7.5             , 7.6             , 7.1             , 7.2             , 7.5             , 7.4             , 7.1             , 4.7             , 4.6             , 4.3             , 10.2            , 9.7             , 10.1            , 8.7             , 8.2             , 7.5             , 8.4             , 8.5             , 7.7             , 8.5             , 8.1             , 9.4             , 9.2             , 9.2             , 9.2             , 7.4             , 7.5             , 8               , 7.8             , 7.9             , 7.6             , 7.8             , 7.5             , 8.2             , 7.2             , 0.55            , 0.6             , 0.81            , 0.89            , 0.93            , 0.92            , 0.88            , 0.69            , 0.67            , 0.73            , 0.83            , 0.85            , 0.86            , 0.84            , 0.87            , 0.8             , 0.79            , 0.77            , 0.71            , 0.72            , 0.72            , 0.73            , 0.71            , 0.72            , 0.74            , 0.71            , 0.72            , 0.72            , 0.7             , 0.75            , 0.75            , 0.74            , 0.77            , 0.81            , 0.79            , 0.82            , 0.75            , 0.75            , 0.76            , 0.77            , 0.78            , 0.79            , 0.82            , 2               , 3               , 4               , 5               , 6               , 7               , 8               , 9               , 10              , 12              , 14              , 15              , 16              , 17              , 18              , 19              , 21              , 22              , 23              , 24              , 25              , 27              , 28              , 29              , 30              , 31              , 32              , 33              , 34              , 35              , 36              , 38              , 39              , 40              , 43              , NA              , Fold4            | Fold4 |\n",
       "| 1               , 1               , 2               , 1               , 1               , 1               , 1               , 1               , 1               , 1               , 1               , 1               , 1               , 1               , 1               , 2               , 2               , 2               , 4               , 4               , 4               , 4               , 4               , 4               , 4               , 4               , 4               , 4               , 4               , 3               , 3               , 3               , 3               , 3               , 3               , 3               , 3               , 3               , 3               , 3               , 3               , 3               , 3               , 1               , 1               , 2               , 1               , 1               , 1               , 1               , 1               , 1               , 1               , 1               , 1               , 1               , 1               , 1               , 2               , 2               , 2               , 4               , 4               , 4               , 4               , 4               , 4               , 4               , 4               , 4               , 4               , 4               , 3               , 3               , 3               , 3               , 3               , 3               , 3               , 3               , 3               , 3               , 3               , 3               , 3               , 3               , granny_smith    , granny_smith    , mandarin        , braeburn        , braeburn        , braeburn        , braeburn        , golden_delicious, golden_delicious, golden_delicious, cripps_pink     , cripps_pink     , cripps_pink     , cripps_pink     , cripps_pink     , mandarin        , mandarin        , mandarin        , spanish_belsan  , spanish_belsan  , spanish_belsan  , unknown         , unknown         , unknown         , unknown         , unknown         , unknown         , unknown         , unknown         , spanish_jumbo   , spanish_jumbo   , spanish_jumbo   , selected_seconds, selected_seconds, selected_seconds, selected_seconds, turkey_navel    , turkey_navel    , turkey_navel    , turkey_navel    , turkey_navel    , turkey_navel    , turkey_navel    , 192             , 176             , 76              , 172             , 166             , 172             , 154             , 152             , 156             , 168             , 162             , 162             , 160             , 156             , 140             , 86              , 84              , 80              , 216             , 196             , 174             , 132             , 130             , 116             , 120             , 116             , 116             , 152             , 118             , 342             , 356             , 362             , 204             , 160             , 158             , 210             , 142             , 150             , 160             , 158             , 154             , 180             , 154             , 8.4             , 7.4             , 5.8             , 7.4             , 6.9             , 7.1             , 7               , 7.6             , 7.6             , 7.5             , 7.5             , 7.4             , 7.5             , 7.4             , 7.3             , 6.2             , 6               , 5.8             , 7.3             , 7.3             , 7.3             , 5.8             , 6               , 6               , 6               , 6.1             , 6.3             , 6.5             , 6.1             , 9               , 9.2             , 9.6             , 7.5             , 7               , 7.1             , 7.8             , 7.6             , 7.1             , 7.1             , 7.2             , 7.1             , 7.6             , 7.2             , 7.3             , 7.2             , 4               , 7               , 7.3             , 7.6             , 7.1             , 7.3             , 7.5             , 7.6             , 7.1             , 7.2             , 7.5             , 7.4             , 7.1             , 4.7             , 4.6             , 4.3             , 10.2            , 9.7             , 10.1            , 8.7             , 8.2             , 7.5             , 8.4             , 8.5             , 7.7             , 8.5             , 8.1             , 9.4             , 9.2             , 9.2             , 9.2             , 7.4             , 7.5             , 8               , 7.8             , 7.9             , 7.6             , 7.8             , 7.5             , 8.2             , 7.2             , 0.55            , 0.6             , 0.81            , 0.89            , 0.93            , 0.92            , 0.88            , 0.69            , 0.67            , 0.73            , 0.83            , 0.85            , 0.86            , 0.84            , 0.87            , 0.8             , 0.79            , 0.77            , 0.71            , 0.72            , 0.72            , 0.73            , 0.71            , 0.72            , 0.74            , 0.71            , 0.72            , 0.72            , 0.7             , 0.75            , 0.75            , 0.74            , 0.77            , 0.81            , 0.79            , 0.82            , 0.75            , 0.75            , 0.76            , 0.77            , 0.78            , 0.79            , 0.82            , 1               , 3               , 4               , 5               , 6               , 7               , 9               , 10              , 11              , 13              , 14              , 15              , 16              , 17              , 18              , 19              , 20              , 21              , 22              , 23              , 25              , 26              , 27              , 29              , 30              , 31              , 32              , 34              , 35              , 37              , 39              , 40              , 41              , 42              , 43              , NA              , Fold5            | Fold5 |\n",
       "\n"
      ],
      "text/plain": [
       "  splits                                                                                                                                                                                                                                                                                                                                                                                                                                                                                                                                                                                                                                                                                                                                                                                                                                                                                                                                                                                                                                                                                                                                                                                                                                                                                                                                                                                                                                                                                                                                                                                                                                                                                                                                                                                                                                                                                                                                                                                                                                                                                                                                                                                                                                                                                                                                                                                                                                                                                                                                                                                                                                                                                                                                                                                                                                                                                                                                                                                                                                                                                                                                                                                                                                                                                                                                                                                                                                                                                                                                                                                                                                                                                                                                                                                                                                                                                                                                                                                                                                                                                                                                                                                                                                                                                                                                                                                                                                                                                                                                                                                                                                                                                                                                                                                                                                                                                                                                                                                                                                                                                                                                                                                                                                                                                                                                                                                                                                                                                                                                                                                                                                                                                                                                                                                                                                                                                                                                                                                                                                                                                                                                                                                                                                                                                                                            \n",
       "1 1               , 1               , 2               , 1               , 1               , 1               , 1               , 1               , 1               , 1               , 1               , 1               , 1               , 1               , 1               , 2               , 2               , 2               , 4               , 4               , 4               , 4               , 4               , 4               , 4               , 4               , 4               , 4               , 4               , 3               , 3               , 3               , 3               , 3               , 3               , 3               , 3               , 3               , 3               , 3               , 3               , 3               , 3               , 1               , 1               , 2               , 1               , 1               , 1               , 1               , 1               , 1               , 1               , 1               , 1               , 1               , 1               , 1               , 2               , 2               , 2               , 4               , 4               , 4               , 4               , 4               , 4               , 4               , 4               , 4               , 4               , 4               , 3               , 3               , 3               , 3               , 3               , 3               , 3               , 3               , 3               , 3               , 3               , 3               , 3               , 3               , granny_smith    , granny_smith    , mandarin        , braeburn        , braeburn        , braeburn        , braeburn        , golden_delicious, golden_delicious, golden_delicious, cripps_pink     , cripps_pink     , cripps_pink     , cripps_pink     , cripps_pink     , mandarin        , mandarin        , mandarin        , spanish_belsan  , spanish_belsan  , spanish_belsan  , unknown         , unknown         , unknown         , unknown         , unknown         , unknown         , unknown         , unknown         , spanish_jumbo   , spanish_jumbo   , spanish_jumbo   , selected_seconds, selected_seconds, selected_seconds, selected_seconds, turkey_navel    , turkey_navel    , turkey_navel    , turkey_navel    , turkey_navel    , turkey_navel    , turkey_navel    , 192             , 176             , 76              , 172             , 166             , 172             , 154             , 152             , 156             , 168             , 162             , 162             , 160             , 156             , 140             , 86              , 84              , 80              , 216             , 196             , 174             , 132             , 130             , 116             , 120             , 116             , 116             , 152             , 118             , 342             , 356             , 362             , 204             , 160             , 158             , 210             , 142             , 150             , 160             , 158             , 154             , 180             , 154             , 8.4             , 7.4             , 5.8             , 7.4             , 6.9             , 7.1             , 7               , 7.6             , 7.6             , 7.5             , 7.5             , 7.4             , 7.5             , 7.4             , 7.3             , 6.2             , 6               , 5.8             , 7.3             , 7.3             , 7.3             , 5.8             , 6               , 6               , 6               , 6.1             , 6.3             , 6.5             , 6.1             , 9               , 9.2             , 9.6             , 7.5             , 7               , 7.1             , 7.8             , 7.6             , 7.1             , 7.1             , 7.2             , 7.1             , 7.6             , 7.2             , 7.3             , 7.2             , 4               , 7               , 7.3             , 7.6             , 7.1             , 7.3             , 7.5             , 7.6             , 7.1             , 7.2             , 7.5             , 7.4             , 7.1             , 4.7             , 4.6             , 4.3             , 10.2            , 9.7             , 10.1            , 8.7             , 8.2             , 7.5             , 8.4             , 8.5             , 7.7             , 8.5             , 8.1             , 9.4             , 9.2             , 9.2             , 9.2             , 7.4             , 7.5             , 8               , 7.8             , 7.9             , 7.6             , 7.8             , 7.5             , 8.2             , 7.2             , 0.55            , 0.6             , 0.81            , 0.89            , 0.93            , 0.92            , 0.88            , 0.69            , 0.67            , 0.73            , 0.83            , 0.85            , 0.86            , 0.84            , 0.87            , 0.8             , 0.79            , 0.77            , 0.71            , 0.72            , 0.72            , 0.73            , 0.71            , 0.72            , 0.74            , 0.71            , 0.72            , 0.72            , 0.7             , 0.75            , 0.75            , 0.74            , 0.77            , 0.81            , 0.79            , 0.82            , 0.75            , 0.75            , 0.76            , 0.77            , 0.78            , 0.79            , 0.82            , 1               , 2               , 3               , 6               , 7               , 8               , 9               , 11              , 12              , 13              , 15              , 16              , 17              , 18              , 19              , 20              , 21              , 24              , 25              , 26              , 28              , 29              , 32              , 33              , 34              , 35              , 36              , 37              , 38              , 39              , 41              , 42              , 43              , NA              , Fold1                                               \n",
       "2 1               , 1               , 2               , 1               , 1               , 1               , 1               , 1               , 1               , 1               , 1               , 1               , 1               , 1               , 1               , 2               , 2               , 2               , 4               , 4               , 4               , 4               , 4               , 4               , 4               , 4               , 4               , 4               , 4               , 3               , 3               , 3               , 3               , 3               , 3               , 3               , 3               , 3               , 3               , 3               , 3               , 3               , 3               , 1               , 1               , 2               , 1               , 1               , 1               , 1               , 1               , 1               , 1               , 1               , 1               , 1               , 1               , 1               , 2               , 2               , 2               , 4               , 4               , 4               , 4               , 4               , 4               , 4               , 4               , 4               , 4               , 4               , 3               , 3               , 3               , 3               , 3               , 3               , 3               , 3               , 3               , 3               , 3               , 3               , 3               , 3               , granny_smith    , granny_smith    , mandarin        , braeburn        , braeburn        , braeburn        , braeburn        , golden_delicious, golden_delicious, golden_delicious, cripps_pink     , cripps_pink     , cripps_pink     , cripps_pink     , cripps_pink     , mandarin        , mandarin        , mandarin        , spanish_belsan  , spanish_belsan  , spanish_belsan  , unknown         , unknown         , unknown         , unknown         , unknown         , unknown         , unknown         , unknown         , spanish_jumbo   , spanish_jumbo   , spanish_jumbo   , selected_seconds, selected_seconds, selected_seconds, selected_seconds, turkey_navel    , turkey_navel    , turkey_navel    , turkey_navel    , turkey_navel    , turkey_navel    , turkey_navel    , 192             , 176             , 76              , 172             , 166             , 172             , 154             , 152             , 156             , 168             , 162             , 162             , 160             , 156             , 140             , 86              , 84              , 80              , 216             , 196             , 174             , 132             , 130             , 116             , 120             , 116             , 116             , 152             , 118             , 342             , 356             , 362             , 204             , 160             , 158             , 210             , 142             , 150             , 160             , 158             , 154             , 180             , 154             , 8.4             , 7.4             , 5.8             , 7.4             , 6.9             , 7.1             , 7               , 7.6             , 7.6             , 7.5             , 7.5             , 7.4             , 7.5             , 7.4             , 7.3             , 6.2             , 6               , 5.8             , 7.3             , 7.3             , 7.3             , 5.8             , 6               , 6               , 6               , 6.1             , 6.3             , 6.5             , 6.1             , 9               , 9.2             , 9.6             , 7.5             , 7               , 7.1             , 7.8             , 7.6             , 7.1             , 7.1             , 7.2             , 7.1             , 7.6             , 7.2             , 7.3             , 7.2             , 4               , 7               , 7.3             , 7.6             , 7.1             , 7.3             , 7.5             , 7.6             , 7.1             , 7.2             , 7.5             , 7.4             , 7.1             , 4.7             , 4.6             , 4.3             , 10.2            , 9.7             , 10.1            , 8.7             , 8.2             , 7.5             , 8.4             , 8.5             , 7.7             , 8.5             , 8.1             , 9.4             , 9.2             , 9.2             , 9.2             , 7.4             , 7.5             , 8               , 7.8             , 7.9             , 7.6             , 7.8             , 7.5             , 8.2             , 7.2             , 0.55            , 0.6             , 0.81            , 0.89            , 0.93            , 0.92            , 0.88            , 0.69            , 0.67            , 0.73            , 0.83            , 0.85            , 0.86            , 0.84            , 0.87            , 0.8             , 0.79            , 0.77            , 0.71            , 0.72            , 0.72            , 0.73            , 0.71            , 0.72            , 0.74            , 0.71            , 0.72            , 0.72            , 0.7             , 0.75            , 0.75            , 0.74            , 0.77            , 0.81            , 0.79            , 0.82            , 0.75            , 0.75            , 0.76            , 0.77            , 0.78            , 0.79            , 0.82            , 1               , 2               , 4               , 5               , 6               , 8               , 10              , 11              , 12              , 13              , 14              , 15              , 16              , 18              , 20              , 22              , 23              , 24              , 26              , 27              , 28              , 29              , 30              , 31              , 33              , 34              , 35              , 36              , 37              , 38              , 40              , 41              , 42              , 43              , NA              , Fold2                             \n",
       "3 1               , 1               , 2               , 1               , 1               , 1               , 1               , 1               , 1               , 1               , 1               , 1               , 1               , 1               , 1               , 2               , 2               , 2               , 4               , 4               , 4               , 4               , 4               , 4               , 4               , 4               , 4               , 4               , 4               , 3               , 3               , 3               , 3               , 3               , 3               , 3               , 3               , 3               , 3               , 3               , 3               , 3               , 3               , 1               , 1               , 2               , 1               , 1               , 1               , 1               , 1               , 1               , 1               , 1               , 1               , 1               , 1               , 1               , 2               , 2               , 2               , 4               , 4               , 4               , 4               , 4               , 4               , 4               , 4               , 4               , 4               , 4               , 3               , 3               , 3               , 3               , 3               , 3               , 3               , 3               , 3               , 3               , 3               , 3               , 3               , 3               , granny_smith    , granny_smith    , mandarin        , braeburn        , braeburn        , braeburn        , braeburn        , golden_delicious, golden_delicious, golden_delicious, cripps_pink     , cripps_pink     , cripps_pink     , cripps_pink     , cripps_pink     , mandarin        , mandarin        , mandarin        , spanish_belsan  , spanish_belsan  , spanish_belsan  , unknown         , unknown         , unknown         , unknown         , unknown         , unknown         , unknown         , unknown         , spanish_jumbo   , spanish_jumbo   , spanish_jumbo   , selected_seconds, selected_seconds, selected_seconds, selected_seconds, turkey_navel    , turkey_navel    , turkey_navel    , turkey_navel    , turkey_navel    , turkey_navel    , turkey_navel    , 192             , 176             , 76              , 172             , 166             , 172             , 154             , 152             , 156             , 168             , 162             , 162             , 160             , 156             , 140             , 86              , 84              , 80              , 216             , 196             , 174             , 132             , 130             , 116             , 120             , 116             , 116             , 152             , 118             , 342             , 356             , 362             , 204             , 160             , 158             , 210             , 142             , 150             , 160             , 158             , 154             , 180             , 154             , 8.4             , 7.4             , 5.8             , 7.4             , 6.9             , 7.1             , 7               , 7.6             , 7.6             , 7.5             , 7.5             , 7.4             , 7.5             , 7.4             , 7.3             , 6.2             , 6               , 5.8             , 7.3             , 7.3             , 7.3             , 5.8             , 6               , 6               , 6               , 6.1             , 6.3             , 6.5             , 6.1             , 9               , 9.2             , 9.6             , 7.5             , 7               , 7.1             , 7.8             , 7.6             , 7.1             , 7.1             , 7.2             , 7.1             , 7.6             , 7.2             , 7.3             , 7.2             , 4               , 7               , 7.3             , 7.6             , 7.1             , 7.3             , 7.5             , 7.6             , 7.1             , 7.2             , 7.5             , 7.4             , 7.1             , 4.7             , 4.6             , 4.3             , 10.2            , 9.7             , 10.1            , 8.7             , 8.2             , 7.5             , 8.4             , 8.5             , 7.7             , 8.5             , 8.1             , 9.4             , 9.2             , 9.2             , 9.2             , 7.4             , 7.5             , 8               , 7.8             , 7.9             , 7.6             , 7.8             , 7.5             , 8.2             , 7.2             , 0.55            , 0.6             , 0.81            , 0.89            , 0.93            , 0.92            , 0.88            , 0.69            , 0.67            , 0.73            , 0.83            , 0.85            , 0.86            , 0.84            , 0.87            , 0.8             , 0.79            , 0.77            , 0.71            , 0.72            , 0.72            , 0.73            , 0.71            , 0.72            , 0.74            , 0.71            , 0.72            , 0.72            , 0.7             , 0.75            , 0.75            , 0.74            , 0.77            , 0.81            , 0.79            , 0.82            , 0.75            , 0.75            , 0.76            , 0.77            , 0.78            , 0.79            , 0.82            , 1               , 2               , 3               , 4               , 5               , 7               , 8               , 9               , 10              , 11              , 12              , 13              , 14              , 17              , 19              , 20              , 21              , 22              , 23              , 24              , 25              , 26              , 27              , 28              , 30              , 31              , 32              , 33              , 36              , 37              , 38              , 39              , 40              , 41              , 42              , NA              , Fold3           \n",
       "4 1               , 1               , 2               , 1               , 1               , 1               , 1               , 1               , 1               , 1               , 1               , 1               , 1               , 1               , 1               , 2               , 2               , 2               , 4               , 4               , 4               , 4               , 4               , 4               , 4               , 4               , 4               , 4               , 4               , 3               , 3               , 3               , 3               , 3               , 3               , 3               , 3               , 3               , 3               , 3               , 3               , 3               , 3               , 1               , 1               , 2               , 1               , 1               , 1               , 1               , 1               , 1               , 1               , 1               , 1               , 1               , 1               , 1               , 2               , 2               , 2               , 4               , 4               , 4               , 4               , 4               , 4               , 4               , 4               , 4               , 4               , 4               , 3               , 3               , 3               , 3               , 3               , 3               , 3               , 3               , 3               , 3               , 3               , 3               , 3               , 3               , granny_smith    , granny_smith    , mandarin        , braeburn        , braeburn        , braeburn        , braeburn        , golden_delicious, golden_delicious, golden_delicious, cripps_pink     , cripps_pink     , cripps_pink     , cripps_pink     , cripps_pink     , mandarin        , mandarin        , mandarin        , spanish_belsan  , spanish_belsan  , spanish_belsan  , unknown         , unknown         , unknown         , unknown         , unknown         , unknown         , unknown         , unknown         , spanish_jumbo   , spanish_jumbo   , spanish_jumbo   , selected_seconds, selected_seconds, selected_seconds, selected_seconds, turkey_navel    , turkey_navel    , turkey_navel    , turkey_navel    , turkey_navel    , turkey_navel    , turkey_navel    , 192             , 176             , 76              , 172             , 166             , 172             , 154             , 152             , 156             , 168             , 162             , 162             , 160             , 156             , 140             , 86              , 84              , 80              , 216             , 196             , 174             , 132             , 130             , 116             , 120             , 116             , 116             , 152             , 118             , 342             , 356             , 362             , 204             , 160             , 158             , 210             , 142             , 150             , 160             , 158             , 154             , 180             , 154             , 8.4             , 7.4             , 5.8             , 7.4             , 6.9             , 7.1             , 7               , 7.6             , 7.6             , 7.5             , 7.5             , 7.4             , 7.5             , 7.4             , 7.3             , 6.2             , 6               , 5.8             , 7.3             , 7.3             , 7.3             , 5.8             , 6               , 6               , 6               , 6.1             , 6.3             , 6.5             , 6.1             , 9               , 9.2             , 9.6             , 7.5             , 7               , 7.1             , 7.8             , 7.6             , 7.1             , 7.1             , 7.2             , 7.1             , 7.6             , 7.2             , 7.3             , 7.2             , 4               , 7               , 7.3             , 7.6             , 7.1             , 7.3             , 7.5             , 7.6             , 7.1             , 7.2             , 7.5             , 7.4             , 7.1             , 4.7             , 4.6             , 4.3             , 10.2            , 9.7             , 10.1            , 8.7             , 8.2             , 7.5             , 8.4             , 8.5             , 7.7             , 8.5             , 8.1             , 9.4             , 9.2             , 9.2             , 9.2             , 7.4             , 7.5             , 8               , 7.8             , 7.9             , 7.6             , 7.8             , 7.5             , 8.2             , 7.2             , 0.55            , 0.6             , 0.81            , 0.89            , 0.93            , 0.92            , 0.88            , 0.69            , 0.67            , 0.73            , 0.83            , 0.85            , 0.86            , 0.84            , 0.87            , 0.8             , 0.79            , 0.77            , 0.71            , 0.72            , 0.72            , 0.73            , 0.71            , 0.72            , 0.74            , 0.71            , 0.72            , 0.72            , 0.7             , 0.75            , 0.75            , 0.74            , 0.77            , 0.81            , 0.79            , 0.82            , 0.75            , 0.75            , 0.76            , 0.77            , 0.78            , 0.79            , 0.82            , 2               , 3               , 4               , 5               , 6               , 7               , 8               , 9               , 10              , 12              , 14              , 15              , 16              , 17              , 18              , 19              , 21              , 22              , 23              , 24              , 25              , 27              , 28              , 29              , 30              , 31              , 32              , 33              , 34              , 35              , 36              , 38              , 39              , 40              , 43              , NA              , Fold4           \n",
       "5 1               , 1               , 2               , 1               , 1               , 1               , 1               , 1               , 1               , 1               , 1               , 1               , 1               , 1               , 1               , 2               , 2               , 2               , 4               , 4               , 4               , 4               , 4               , 4               , 4               , 4               , 4               , 4               , 4               , 3               , 3               , 3               , 3               , 3               , 3               , 3               , 3               , 3               , 3               , 3               , 3               , 3               , 3               , 1               , 1               , 2               , 1               , 1               , 1               , 1               , 1               , 1               , 1               , 1               , 1               , 1               , 1               , 1               , 2               , 2               , 2               , 4               , 4               , 4               , 4               , 4               , 4               , 4               , 4               , 4               , 4               , 4               , 3               , 3               , 3               , 3               , 3               , 3               , 3               , 3               , 3               , 3               , 3               , 3               , 3               , 3               , granny_smith    , granny_smith    , mandarin        , braeburn        , braeburn        , braeburn        , braeburn        , golden_delicious, golden_delicious, golden_delicious, cripps_pink     , cripps_pink     , cripps_pink     , cripps_pink     , cripps_pink     , mandarin        , mandarin        , mandarin        , spanish_belsan  , spanish_belsan  , spanish_belsan  , unknown         , unknown         , unknown         , unknown         , unknown         , unknown         , unknown         , unknown         , spanish_jumbo   , spanish_jumbo   , spanish_jumbo   , selected_seconds, selected_seconds, selected_seconds, selected_seconds, turkey_navel    , turkey_navel    , turkey_navel    , turkey_navel    , turkey_navel    , turkey_navel    , turkey_navel    , 192             , 176             , 76              , 172             , 166             , 172             , 154             , 152             , 156             , 168             , 162             , 162             , 160             , 156             , 140             , 86              , 84              , 80              , 216             , 196             , 174             , 132             , 130             , 116             , 120             , 116             , 116             , 152             , 118             , 342             , 356             , 362             , 204             , 160             , 158             , 210             , 142             , 150             , 160             , 158             , 154             , 180             , 154             , 8.4             , 7.4             , 5.8             , 7.4             , 6.9             , 7.1             , 7               , 7.6             , 7.6             , 7.5             , 7.5             , 7.4             , 7.5             , 7.4             , 7.3             , 6.2             , 6               , 5.8             , 7.3             , 7.3             , 7.3             , 5.8             , 6               , 6               , 6               , 6.1             , 6.3             , 6.5             , 6.1             , 9               , 9.2             , 9.6             , 7.5             , 7               , 7.1             , 7.8             , 7.6             , 7.1             , 7.1             , 7.2             , 7.1             , 7.6             , 7.2             , 7.3             , 7.2             , 4               , 7               , 7.3             , 7.6             , 7.1             , 7.3             , 7.5             , 7.6             , 7.1             , 7.2             , 7.5             , 7.4             , 7.1             , 4.7             , 4.6             , 4.3             , 10.2            , 9.7             , 10.1            , 8.7             , 8.2             , 7.5             , 8.4             , 8.5             , 7.7             , 8.5             , 8.1             , 9.4             , 9.2             , 9.2             , 9.2             , 7.4             , 7.5             , 8               , 7.8             , 7.9             , 7.6             , 7.8             , 7.5             , 8.2             , 7.2             , 0.55            , 0.6             , 0.81            , 0.89            , 0.93            , 0.92            , 0.88            , 0.69            , 0.67            , 0.73            , 0.83            , 0.85            , 0.86            , 0.84            , 0.87            , 0.8             , 0.79            , 0.77            , 0.71            , 0.72            , 0.72            , 0.73            , 0.71            , 0.72            , 0.74            , 0.71            , 0.72            , 0.72            , 0.7             , 0.75            , 0.75            , 0.74            , 0.77            , 0.81            , 0.79            , 0.82            , 0.75            , 0.75            , 0.76            , 0.77            , 0.78            , 0.79            , 0.82            , 1               , 3               , 4               , 5               , 6               , 7               , 9               , 10              , 11              , 13              , 14              , 15              , 16              , 17              , 18              , 19              , 20              , 21              , 22              , 23              , 25              , 26              , 27              , 29              , 30              , 31              , 32              , 34              , 35              , 37              , 39              , 40              , 41              , 42              , 43              , NA              , Fold5           \n",
       "  id   \n",
       "1 Fold1\n",
       "2 Fold2\n",
       "3 Fold3\n",
       "4 Fold4\n",
       "5 Fold5"
      ]
     },
     "metadata": {},
     "output_type": "display_data"
    }
   ],
   "source": [
    "set.seed(2020) # DO NOT REMOVE\n",
    "\n",
    "#... <- vfold_cv(..., v = ..., strata = ...)\n",
    "\n",
    "fruit_vfold <- vfold_cv(fruit_train, v = 5, strata = fruit_name)\n",
    "fruit_vfold"
   ]
  },
  {
   "cell_type": "code",
   "execution_count": 43,
   "metadata": {
    "deletable": false,
    "editable": false,
    "nbgrader": {
     "cell_type": "code",
     "checksum": "b591b806779aacafd2bb2a3e4511ae01",
     "grade": true,
     "grade_id": "cell-4f7b62f0f7b0a200",
     "locked": true,
     "points": 1,
     "schema_version": 3,
     "solution": false
    }
   },
   "outputs": [
    {
     "name": "stdout",
     "output_type": "stream",
     "text": [
      "\u001b[32mTest passed\u001b[39m 😀\n",
      "\u001b[32mTest passed\u001b[39m 🥇\n",
      "\u001b[32mTest passed\u001b[39m 😸\n",
      "\u001b[32mTest passed\u001b[39m 😀\n",
      "\u001b[32mTest passed\u001b[39m 🥇\n",
      "\u001b[32mTest passed\u001b[39m 😸\n",
      "[1] \"Success!\"\n"
     ]
    }
   ],
   "source": [
    "test_3.1()"
   ]
  },
  {
   "cell_type": "markdown",
   "metadata": {
    "deletable": false,
    "editable": false,
    "nbgrader": {
     "cell_type": "markdown",
     "checksum": "4d1e589450a8e1099c29da82263525f7",
     "grade": false,
     "grade_id": "cell-068da1c1156e503a",
     "locked": true,
     "schema_version": 3,
     "solution": false
    }
   },
   "source": [
    "**Question 3.2**\n",
    "<br> {points: 1}\n",
    "\n",
    "Now perform the workflow analysis again. You can reuse the `fruit_recipe` and `knn_spec` objects you made earlier. When you are fitting the knn model, use the `fit_resamples` function instead of the `fit` function for training. This function will allow us to run a cross-validation on each train/validation split we created in the previous question. \n",
    "\n",
    "*Assign your answer to an object called `fruit_resample_fit`*."
   ]
  },
  {
   "cell_type": "code",
   "execution_count": 48,
   "metadata": {
    "deletable": false,
    "nbgrader": {
     "cell_type": "code",
     "checksum": "b67c2a89cd7ef78fb5be1bf95859d72e",
     "grade": false,
     "grade_id": "cell-0474eb947592495c",
     "locked": false,
     "schema_version": 3,
     "solution": true
    }
   },
   "outputs": [
    {
     "name": "stderr",
     "output_type": "stream",
     "text": [
      "\u001b[33m!\u001b[39m \u001b[33mFold1: internal:\n",
      "  No observations were detected in `truth` for level(s): 'mandarin'\n",
      "  Computation will proceed by ignoring those levels.\u001b[39m\n",
      "\n",
      "\u001b[33m!\u001b[39m \u001b[33mFold4: internal:\n",
      "  No observations were detected in `truth` for level(s): 'mandarin'\n",
      "  Computation will proceed by ignoring those levels.\u001b[39m\n",
      "\n",
      "\u001b[33m!\u001b[39m \u001b[33mFold5: internal:\n",
      "  No observations were detected in `truth` for level(s): 'mandarin'\n",
      "  Computation will proceed by ignoring those levels.\u001b[39m\n",
      "\n"
     ]
    },
    {
     "data": {
      "text/html": [
       "<table class=\"dataframe\">\n",
       "<caption>A resample_results: 5 × 4</caption>\n",
       "<thead>\n",
       "\t<tr><th scope=col>splits</th><th scope=col>id</th><th scope=col>.metrics</th><th scope=col>.notes</th></tr>\n",
       "\t<tr><th scope=col>&lt;list&gt;</th><th scope=col>&lt;chr&gt;</th><th scope=col>&lt;list&gt;</th><th scope=col>&lt;list&gt;</th></tr>\n",
       "</thead>\n",
       "<tbody>\n",
       "\t<tr><td>1               , 1               , 2               , 1               , 1               , 1               , 1               , 1               , 1               , 1               , 1               , 1               , 1               , 1               , 1               , 2               , 2               , 2               , 4               , 4               , 4               , 4               , 4               , 4               , 4               , 4               , 4               , 4               , 4               , 3               , 3               , 3               , 3               , 3               , 3               , 3               , 3               , 3               , 3               , 3               , 3               , 3               , 3               , 1               , 1               , 2               , 1               , 1               , 1               , 1               , 1               , 1               , 1               , 1               , 1               , 1               , 1               , 1               , 2               , 2               , 2               , 4               , 4               , 4               , 4               , 4               , 4               , 4               , 4               , 4               , 4               , 4               , 3               , 3               , 3               , 3               , 3               , 3               , 3               , 3               , 3               , 3               , 3               , 3               , 3               , 3               , granny_smith    , granny_smith    , mandarin        , braeburn        , braeburn        , braeburn        , braeburn        , golden_delicious, golden_delicious, golden_delicious, cripps_pink     , cripps_pink     , cripps_pink     , cripps_pink     , cripps_pink     , mandarin        , mandarin        , mandarin        , spanish_belsan  , spanish_belsan  , spanish_belsan  , unknown         , unknown         , unknown         , unknown         , unknown         , unknown         , unknown         , unknown         , spanish_jumbo   , spanish_jumbo   , spanish_jumbo   , selected_seconds, selected_seconds, selected_seconds, selected_seconds, turkey_navel    , turkey_navel    , turkey_navel    , turkey_navel    , turkey_navel    , turkey_navel    , turkey_navel    , 192             , 176             , 76              , 172             , 166             , 172             , 154             , 152             , 156             , 168             , 162             , 162             , 160             , 156             , 140             , 86              , 84              , 80              , 216             , 196             , 174             , 132             , 130             , 116             , 120             , 116             , 116             , 152             , 118             , 342             , 356             , 362             , 204             , 160             , 158             , 210             , 142             , 150             , 160             , 158             , 154             , 180             , 154             , 8.4             , 7.4             , 5.8             , 7.4             , 6.9             , 7.1             , 7               , 7.6             , 7.6             , 7.5             , 7.5             , 7.4             , 7.5             , 7.4             , 7.3             , 6.2             , 6               , 5.8             , 7.3             , 7.3             , 7.3             , 5.8             , 6               , 6               , 6               , 6.1             , 6.3             , 6.5             , 6.1             , 9               , 9.2             , 9.6             , 7.5             , 7               , 7.1             , 7.8             , 7.6             , 7.1             , 7.1             , 7.2             , 7.1             , 7.6             , 7.2             , 7.3             , 7.2             , 4               , 7               , 7.3             , 7.6             , 7.1             , 7.3             , 7.5             , 7.6             , 7.1             , 7.2             , 7.5             , 7.4             , 7.1             , 4.7             , 4.6             , 4.3             , 10.2            , 9.7             , 10.1            , 8.7             , 8.2             , 7.5             , 8.4             , 8.5             , 7.7             , 8.5             , 8.1             , 9.4             , 9.2             , 9.2             , 9.2             , 7.4             , 7.5             , 8               , 7.8             , 7.9             , 7.6             , 7.8             , 7.5             , 8.2             , 7.2             , 0.55            , 0.6             , 0.81            , 0.89            , 0.93            , 0.92            , 0.88            , 0.69            , 0.67            , 0.73            , 0.83            , 0.85            , 0.86            , 0.84            , 0.87            , 0.8             , 0.79            , 0.77            , 0.71            , 0.72            , 0.72            , 0.73            , 0.71            , 0.72            , 0.74            , 0.71            , 0.72            , 0.72            , 0.7             , 0.75            , 0.75            , 0.74            , 0.77            , 0.81            , 0.79            , 0.82            , 0.75            , 0.75            , 0.76            , 0.77            , 0.78            , 0.79            , 0.82            , 1               , 2               , 3               , 6               , 7               , 8               , 9               , 11              , 12              , 13              , 15              , 16              , 17              , 18              , 19              , 20              , 21              , 24              , 25              , 26              , 28              , 29              , 32              , 33              , 34              , 35              , 36              , 37              , 38              , 39              , 41              , 42              , 43              , NA              , Fold1           </td><td>Fold1</td><td>accuracy            , roc_auc             , multiclass          , hand_till           , 0.9                 , 0.951388888888889   , Preprocessor1_Model1, Preprocessor1_Model1</td><td>internal                                                                                                             , warning                                                                                                              , No observations were detected in `truth` for level(s): 'mandarin'\n",
       "Computation will proceed by ignoring those levels.</td></tr>\n",
       "\t<tr><td>1               , 1               , 2               , 1               , 1               , 1               , 1               , 1               , 1               , 1               , 1               , 1               , 1               , 1               , 1               , 2               , 2               , 2               , 4               , 4               , 4               , 4               , 4               , 4               , 4               , 4               , 4               , 4               , 4               , 3               , 3               , 3               , 3               , 3               , 3               , 3               , 3               , 3               , 3               , 3               , 3               , 3               , 3               , 1               , 1               , 2               , 1               , 1               , 1               , 1               , 1               , 1               , 1               , 1               , 1               , 1               , 1               , 1               , 2               , 2               , 2               , 4               , 4               , 4               , 4               , 4               , 4               , 4               , 4               , 4               , 4               , 4               , 3               , 3               , 3               , 3               , 3               , 3               , 3               , 3               , 3               , 3               , 3               , 3               , 3               , 3               , granny_smith    , granny_smith    , mandarin        , braeburn        , braeburn        , braeburn        , braeburn        , golden_delicious, golden_delicious, golden_delicious, cripps_pink     , cripps_pink     , cripps_pink     , cripps_pink     , cripps_pink     , mandarin        , mandarin        , mandarin        , spanish_belsan  , spanish_belsan  , spanish_belsan  , unknown         , unknown         , unknown         , unknown         , unknown         , unknown         , unknown         , unknown         , spanish_jumbo   , spanish_jumbo   , spanish_jumbo   , selected_seconds, selected_seconds, selected_seconds, selected_seconds, turkey_navel    , turkey_navel    , turkey_navel    , turkey_navel    , turkey_navel    , turkey_navel    , turkey_navel    , 192             , 176             , 76              , 172             , 166             , 172             , 154             , 152             , 156             , 168             , 162             , 162             , 160             , 156             , 140             , 86              , 84              , 80              , 216             , 196             , 174             , 132             , 130             , 116             , 120             , 116             , 116             , 152             , 118             , 342             , 356             , 362             , 204             , 160             , 158             , 210             , 142             , 150             , 160             , 158             , 154             , 180             , 154             , 8.4             , 7.4             , 5.8             , 7.4             , 6.9             , 7.1             , 7               , 7.6             , 7.6             , 7.5             , 7.5             , 7.4             , 7.5             , 7.4             , 7.3             , 6.2             , 6               , 5.8             , 7.3             , 7.3             , 7.3             , 5.8             , 6               , 6               , 6               , 6.1             , 6.3             , 6.5             , 6.1             , 9               , 9.2             , 9.6             , 7.5             , 7               , 7.1             , 7.8             , 7.6             , 7.1             , 7.1             , 7.2             , 7.1             , 7.6             , 7.2             , 7.3             , 7.2             , 4               , 7               , 7.3             , 7.6             , 7.1             , 7.3             , 7.5             , 7.6             , 7.1             , 7.2             , 7.5             , 7.4             , 7.1             , 4.7             , 4.6             , 4.3             , 10.2            , 9.7             , 10.1            , 8.7             , 8.2             , 7.5             , 8.4             , 8.5             , 7.7             , 8.5             , 8.1             , 9.4             , 9.2             , 9.2             , 9.2             , 7.4             , 7.5             , 8               , 7.8             , 7.9             , 7.6             , 7.8             , 7.5             , 8.2             , 7.2             , 0.55            , 0.6             , 0.81            , 0.89            , 0.93            , 0.92            , 0.88            , 0.69            , 0.67            , 0.73            , 0.83            , 0.85            , 0.86            , 0.84            , 0.87            , 0.8             , 0.79            , 0.77            , 0.71            , 0.72            , 0.72            , 0.73            , 0.71            , 0.72            , 0.74            , 0.71            , 0.72            , 0.72            , 0.7             , 0.75            , 0.75            , 0.74            , 0.77            , 0.81            , 0.79            , 0.82            , 0.75            , 0.75            , 0.76            , 0.77            , 0.78            , 0.79            , 0.82            , 1               , 2               , 4               , 5               , 6               , 8               , 10              , 11              , 12              , 13              , 14              , 15              , 16              , 18              , 20              , 22              , 23              , 24              , 26              , 27              , 28              , 29              , 30              , 31              , 33              , 34              , 35              , 36              , 37              , 38              , 40              , 41              , 42              , 43              , NA              , Fold2           </td><td>Fold2</td><td>accuracy            , roc_auc             , multiclass          , hand_till           , 0.888888888888889   , 0.951388888888889   , Preprocessor1_Model1, Preprocessor1_Model1</td><td></td></tr>\n",
       "\t<tr><td>1               , 1               , 2               , 1               , 1               , 1               , 1               , 1               , 1               , 1               , 1               , 1               , 1               , 1               , 1               , 2               , 2               , 2               , 4               , 4               , 4               , 4               , 4               , 4               , 4               , 4               , 4               , 4               , 4               , 3               , 3               , 3               , 3               , 3               , 3               , 3               , 3               , 3               , 3               , 3               , 3               , 3               , 3               , 1               , 1               , 2               , 1               , 1               , 1               , 1               , 1               , 1               , 1               , 1               , 1               , 1               , 1               , 1               , 2               , 2               , 2               , 4               , 4               , 4               , 4               , 4               , 4               , 4               , 4               , 4               , 4               , 4               , 3               , 3               , 3               , 3               , 3               , 3               , 3               , 3               , 3               , 3               , 3               , 3               , 3               , 3               , granny_smith    , granny_smith    , mandarin        , braeburn        , braeburn        , braeburn        , braeburn        , golden_delicious, golden_delicious, golden_delicious, cripps_pink     , cripps_pink     , cripps_pink     , cripps_pink     , cripps_pink     , mandarin        , mandarin        , mandarin        , spanish_belsan  , spanish_belsan  , spanish_belsan  , unknown         , unknown         , unknown         , unknown         , unknown         , unknown         , unknown         , unknown         , spanish_jumbo   , spanish_jumbo   , spanish_jumbo   , selected_seconds, selected_seconds, selected_seconds, selected_seconds, turkey_navel    , turkey_navel    , turkey_navel    , turkey_navel    , turkey_navel    , turkey_navel    , turkey_navel    , 192             , 176             , 76              , 172             , 166             , 172             , 154             , 152             , 156             , 168             , 162             , 162             , 160             , 156             , 140             , 86              , 84              , 80              , 216             , 196             , 174             , 132             , 130             , 116             , 120             , 116             , 116             , 152             , 118             , 342             , 356             , 362             , 204             , 160             , 158             , 210             , 142             , 150             , 160             , 158             , 154             , 180             , 154             , 8.4             , 7.4             , 5.8             , 7.4             , 6.9             , 7.1             , 7               , 7.6             , 7.6             , 7.5             , 7.5             , 7.4             , 7.5             , 7.4             , 7.3             , 6.2             , 6               , 5.8             , 7.3             , 7.3             , 7.3             , 5.8             , 6               , 6               , 6               , 6.1             , 6.3             , 6.5             , 6.1             , 9               , 9.2             , 9.6             , 7.5             , 7               , 7.1             , 7.8             , 7.6             , 7.1             , 7.1             , 7.2             , 7.1             , 7.6             , 7.2             , 7.3             , 7.2             , 4               , 7               , 7.3             , 7.6             , 7.1             , 7.3             , 7.5             , 7.6             , 7.1             , 7.2             , 7.5             , 7.4             , 7.1             , 4.7             , 4.6             , 4.3             , 10.2            , 9.7             , 10.1            , 8.7             , 8.2             , 7.5             , 8.4             , 8.5             , 7.7             , 8.5             , 8.1             , 9.4             , 9.2             , 9.2             , 9.2             , 7.4             , 7.5             , 8               , 7.8             , 7.9             , 7.6             , 7.8             , 7.5             , 8.2             , 7.2             , 0.55            , 0.6             , 0.81            , 0.89            , 0.93            , 0.92            , 0.88            , 0.69            , 0.67            , 0.73            , 0.83            , 0.85            , 0.86            , 0.84            , 0.87            , 0.8             , 0.79            , 0.77            , 0.71            , 0.72            , 0.72            , 0.73            , 0.71            , 0.72            , 0.74            , 0.71            , 0.72            , 0.72            , 0.7             , 0.75            , 0.75            , 0.74            , 0.77            , 0.81            , 0.79            , 0.82            , 0.75            , 0.75            , 0.76            , 0.77            , 0.78            , 0.79            , 0.82            , 1               , 2               , 3               , 4               , 5               , 7               , 8               , 9               , 10              , 11              , 12              , 13              , 14              , 17              , 19              , 20              , 21              , 22              , 23              , 24              , 25              , 26              , 27              , 28              , 30              , 31              , 32              , 33              , 36              , 37              , 38              , 39              , 40              , 41              , 42              , NA              , Fold3           </td><td>Fold3</td><td>accuracy            , roc_auc             , multiclass          , hand_till           , 0.75                , 0.944444444444444   , Preprocessor1_Model1, Preprocessor1_Model1</td><td></td></tr>\n",
       "\t<tr><td>1               , 1               , 2               , 1               , 1               , 1               , 1               , 1               , 1               , 1               , 1               , 1               , 1               , 1               , 1               , 2               , 2               , 2               , 4               , 4               , 4               , 4               , 4               , 4               , 4               , 4               , 4               , 4               , 4               , 3               , 3               , 3               , 3               , 3               , 3               , 3               , 3               , 3               , 3               , 3               , 3               , 3               , 3               , 1               , 1               , 2               , 1               , 1               , 1               , 1               , 1               , 1               , 1               , 1               , 1               , 1               , 1               , 1               , 2               , 2               , 2               , 4               , 4               , 4               , 4               , 4               , 4               , 4               , 4               , 4               , 4               , 4               , 3               , 3               , 3               , 3               , 3               , 3               , 3               , 3               , 3               , 3               , 3               , 3               , 3               , 3               , granny_smith    , granny_smith    , mandarin        , braeburn        , braeburn        , braeburn        , braeburn        , golden_delicious, golden_delicious, golden_delicious, cripps_pink     , cripps_pink     , cripps_pink     , cripps_pink     , cripps_pink     , mandarin        , mandarin        , mandarin        , spanish_belsan  , spanish_belsan  , spanish_belsan  , unknown         , unknown         , unknown         , unknown         , unknown         , unknown         , unknown         , unknown         , spanish_jumbo   , spanish_jumbo   , spanish_jumbo   , selected_seconds, selected_seconds, selected_seconds, selected_seconds, turkey_navel    , turkey_navel    , turkey_navel    , turkey_navel    , turkey_navel    , turkey_navel    , turkey_navel    , 192             , 176             , 76              , 172             , 166             , 172             , 154             , 152             , 156             , 168             , 162             , 162             , 160             , 156             , 140             , 86              , 84              , 80              , 216             , 196             , 174             , 132             , 130             , 116             , 120             , 116             , 116             , 152             , 118             , 342             , 356             , 362             , 204             , 160             , 158             , 210             , 142             , 150             , 160             , 158             , 154             , 180             , 154             , 8.4             , 7.4             , 5.8             , 7.4             , 6.9             , 7.1             , 7               , 7.6             , 7.6             , 7.5             , 7.5             , 7.4             , 7.5             , 7.4             , 7.3             , 6.2             , 6               , 5.8             , 7.3             , 7.3             , 7.3             , 5.8             , 6               , 6               , 6               , 6.1             , 6.3             , 6.5             , 6.1             , 9               , 9.2             , 9.6             , 7.5             , 7               , 7.1             , 7.8             , 7.6             , 7.1             , 7.1             , 7.2             , 7.1             , 7.6             , 7.2             , 7.3             , 7.2             , 4               , 7               , 7.3             , 7.6             , 7.1             , 7.3             , 7.5             , 7.6             , 7.1             , 7.2             , 7.5             , 7.4             , 7.1             , 4.7             , 4.6             , 4.3             , 10.2            , 9.7             , 10.1            , 8.7             , 8.2             , 7.5             , 8.4             , 8.5             , 7.7             , 8.5             , 8.1             , 9.4             , 9.2             , 9.2             , 9.2             , 7.4             , 7.5             , 8               , 7.8             , 7.9             , 7.6             , 7.8             , 7.5             , 8.2             , 7.2             , 0.55            , 0.6             , 0.81            , 0.89            , 0.93            , 0.92            , 0.88            , 0.69            , 0.67            , 0.73            , 0.83            , 0.85            , 0.86            , 0.84            , 0.87            , 0.8             , 0.79            , 0.77            , 0.71            , 0.72            , 0.72            , 0.73            , 0.71            , 0.72            , 0.74            , 0.71            , 0.72            , 0.72            , 0.7             , 0.75            , 0.75            , 0.74            , 0.77            , 0.81            , 0.79            , 0.82            , 0.75            , 0.75            , 0.76            , 0.77            , 0.78            , 0.79            , 0.82            , 2               , 3               , 4               , 5               , 6               , 7               , 8               , 9               , 10              , 12              , 14              , 15              , 16              , 17              , 18              , 19              , 21              , 22              , 23              , 24              , 25              , 27              , 28              , 29              , 30              , 31              , 32              , 33              , 34              , 35              , 36              , 38              , 39              , 40              , 43              , NA              , Fold4           </td><td>Fold4</td><td>accuracy            , roc_auc             , multiclass          , hand_till           , 1                   , 1                   , Preprocessor1_Model1, Preprocessor1_Model1</td><td>internal                                                                                                             , warning                                                                                                              , No observations were detected in `truth` for level(s): 'mandarin'\n",
       "Computation will proceed by ignoring those levels.</td></tr>\n",
       "\t<tr><td>1               , 1               , 2               , 1               , 1               , 1               , 1               , 1               , 1               , 1               , 1               , 1               , 1               , 1               , 1               , 2               , 2               , 2               , 4               , 4               , 4               , 4               , 4               , 4               , 4               , 4               , 4               , 4               , 4               , 3               , 3               , 3               , 3               , 3               , 3               , 3               , 3               , 3               , 3               , 3               , 3               , 3               , 3               , 1               , 1               , 2               , 1               , 1               , 1               , 1               , 1               , 1               , 1               , 1               , 1               , 1               , 1               , 1               , 2               , 2               , 2               , 4               , 4               , 4               , 4               , 4               , 4               , 4               , 4               , 4               , 4               , 4               , 3               , 3               , 3               , 3               , 3               , 3               , 3               , 3               , 3               , 3               , 3               , 3               , 3               , 3               , granny_smith    , granny_smith    , mandarin        , braeburn        , braeburn        , braeburn        , braeburn        , golden_delicious, golden_delicious, golden_delicious, cripps_pink     , cripps_pink     , cripps_pink     , cripps_pink     , cripps_pink     , mandarin        , mandarin        , mandarin        , spanish_belsan  , spanish_belsan  , spanish_belsan  , unknown         , unknown         , unknown         , unknown         , unknown         , unknown         , unknown         , unknown         , spanish_jumbo   , spanish_jumbo   , spanish_jumbo   , selected_seconds, selected_seconds, selected_seconds, selected_seconds, turkey_navel    , turkey_navel    , turkey_navel    , turkey_navel    , turkey_navel    , turkey_navel    , turkey_navel    , 192             , 176             , 76              , 172             , 166             , 172             , 154             , 152             , 156             , 168             , 162             , 162             , 160             , 156             , 140             , 86              , 84              , 80              , 216             , 196             , 174             , 132             , 130             , 116             , 120             , 116             , 116             , 152             , 118             , 342             , 356             , 362             , 204             , 160             , 158             , 210             , 142             , 150             , 160             , 158             , 154             , 180             , 154             , 8.4             , 7.4             , 5.8             , 7.4             , 6.9             , 7.1             , 7               , 7.6             , 7.6             , 7.5             , 7.5             , 7.4             , 7.5             , 7.4             , 7.3             , 6.2             , 6               , 5.8             , 7.3             , 7.3             , 7.3             , 5.8             , 6               , 6               , 6               , 6.1             , 6.3             , 6.5             , 6.1             , 9               , 9.2             , 9.6             , 7.5             , 7               , 7.1             , 7.8             , 7.6             , 7.1             , 7.1             , 7.2             , 7.1             , 7.6             , 7.2             , 7.3             , 7.2             , 4               , 7               , 7.3             , 7.6             , 7.1             , 7.3             , 7.5             , 7.6             , 7.1             , 7.2             , 7.5             , 7.4             , 7.1             , 4.7             , 4.6             , 4.3             , 10.2            , 9.7             , 10.1            , 8.7             , 8.2             , 7.5             , 8.4             , 8.5             , 7.7             , 8.5             , 8.1             , 9.4             , 9.2             , 9.2             , 9.2             , 7.4             , 7.5             , 8               , 7.8             , 7.9             , 7.6             , 7.8             , 7.5             , 8.2             , 7.2             , 0.55            , 0.6             , 0.81            , 0.89            , 0.93            , 0.92            , 0.88            , 0.69            , 0.67            , 0.73            , 0.83            , 0.85            , 0.86            , 0.84            , 0.87            , 0.8             , 0.79            , 0.77            , 0.71            , 0.72            , 0.72            , 0.73            , 0.71            , 0.72            , 0.74            , 0.71            , 0.72            , 0.72            , 0.7             , 0.75            , 0.75            , 0.74            , 0.77            , 0.81            , 0.79            , 0.82            , 0.75            , 0.75            , 0.76            , 0.77            , 0.78            , 0.79            , 0.82            , 1               , 3               , 4               , 5               , 6               , 7               , 9               , 10              , 11              , 13              , 14              , 15              , 16              , 17              , 18              , 19              , 20              , 21              , 22              , 23              , 25              , 26              , 27              , 29              , 30              , 31              , 32              , 34              , 35              , 37              , 39              , 40              , 41              , 42              , 43              , NA              , Fold5           </td><td>Fold5</td><td>accuracy            , roc_auc             , multiclass          , hand_till           , 0.875               , 0.962962962962963   , Preprocessor1_Model1, Preprocessor1_Model1</td><td>internal                                                                                                             , warning                                                                                                              , No observations were detected in `truth` for level(s): 'mandarin'\n",
       "Computation will proceed by ignoring those levels.</td></tr>\n",
       "</tbody>\n",
       "</table>\n"
      ],
      "text/latex": [
       "A resample\\_results: 5 × 4\n",
       "\\begin{tabular}{llll}\n",
       " splits & id & .metrics & .notes\\\\\n",
       " <list> & <chr> & <list> & <list>\\\\\n",
       "\\hline\n",
       "\t 1               , 1               , 2               , 1               , 1               , 1               , 1               , 1               , 1               , 1               , 1               , 1               , 1               , 1               , 1               , 2               , 2               , 2               , 4               , 4               , 4               , 4               , 4               , 4               , 4               , 4               , 4               , 4               , 4               , 3               , 3               , 3               , 3               , 3               , 3               , 3               , 3               , 3               , 3               , 3               , 3               , 3               , 3               , 1               , 1               , 2               , 1               , 1               , 1               , 1               , 1               , 1               , 1               , 1               , 1               , 1               , 1               , 1               , 2               , 2               , 2               , 4               , 4               , 4               , 4               , 4               , 4               , 4               , 4               , 4               , 4               , 4               , 3               , 3               , 3               , 3               , 3               , 3               , 3               , 3               , 3               , 3               , 3               , 3               , 3               , 3               , granny\\_smith    , granny\\_smith    , mandarin        , braeburn        , braeburn        , braeburn        , braeburn        , golden\\_delicious, golden\\_delicious, golden\\_delicious, cripps\\_pink     , cripps\\_pink     , cripps\\_pink     , cripps\\_pink     , cripps\\_pink     , mandarin        , mandarin        , mandarin        , spanish\\_belsan  , spanish\\_belsan  , spanish\\_belsan  , unknown         , unknown         , unknown         , unknown         , unknown         , unknown         , unknown         , unknown         , spanish\\_jumbo   , spanish\\_jumbo   , spanish\\_jumbo   , selected\\_seconds, selected\\_seconds, selected\\_seconds, selected\\_seconds, turkey\\_navel    , turkey\\_navel    , turkey\\_navel    , turkey\\_navel    , turkey\\_navel    , turkey\\_navel    , turkey\\_navel    , 192             , 176             , 76              , 172             , 166             , 172             , 154             , 152             , 156             , 168             , 162             , 162             , 160             , 156             , 140             , 86              , 84              , 80              , 216             , 196             , 174             , 132             , 130             , 116             , 120             , 116             , 116             , 152             , 118             , 342             , 356             , 362             , 204             , 160             , 158             , 210             , 142             , 150             , 160             , 158             , 154             , 180             , 154             , 8.4             , 7.4             , 5.8             , 7.4             , 6.9             , 7.1             , 7               , 7.6             , 7.6             , 7.5             , 7.5             , 7.4             , 7.5             , 7.4             , 7.3             , 6.2             , 6               , 5.8             , 7.3             , 7.3             , 7.3             , 5.8             , 6               , 6               , 6               , 6.1             , 6.3             , 6.5             , 6.1             , 9               , 9.2             , 9.6             , 7.5             , 7               , 7.1             , 7.8             , 7.6             , 7.1             , 7.1             , 7.2             , 7.1             , 7.6             , 7.2             , 7.3             , 7.2             , 4               , 7               , 7.3             , 7.6             , 7.1             , 7.3             , 7.5             , 7.6             , 7.1             , 7.2             , 7.5             , 7.4             , 7.1             , 4.7             , 4.6             , 4.3             , 10.2            , 9.7             , 10.1            , 8.7             , 8.2             , 7.5             , 8.4             , 8.5             , 7.7             , 8.5             , 8.1             , 9.4             , 9.2             , 9.2             , 9.2             , 7.4             , 7.5             , 8               , 7.8             , 7.9             , 7.6             , 7.8             , 7.5             , 8.2             , 7.2             , 0.55            , 0.6             , 0.81            , 0.89            , 0.93            , 0.92            , 0.88            , 0.69            , 0.67            , 0.73            , 0.83            , 0.85            , 0.86            , 0.84            , 0.87            , 0.8             , 0.79            , 0.77            , 0.71            , 0.72            , 0.72            , 0.73            , 0.71            , 0.72            , 0.74            , 0.71            , 0.72            , 0.72            , 0.7             , 0.75            , 0.75            , 0.74            , 0.77            , 0.81            , 0.79            , 0.82            , 0.75            , 0.75            , 0.76            , 0.77            , 0.78            , 0.79            , 0.82            , 1               , 2               , 3               , 6               , 7               , 8               , 9               , 11              , 12              , 13              , 15              , 16              , 17              , 18              , 19              , 20              , 21              , 24              , 25              , 26              , 28              , 29              , 32              , 33              , 34              , 35              , 36              , 37              , 38              , 39              , 41              , 42              , 43              , NA              , Fold1            & Fold1 & accuracy            , roc\\_auc             , multiclass          , hand\\_till           , 0.9                 , 0.951388888888889   , Preprocessor1\\_Model1, Preprocessor1\\_Model1 & internal                                                                                                             , warning                                                                                                              , No observations were detected in `truth` for level(s): 'mandarin'\n",
       "Computation will proceed by ignoring those levels.\\\\\n",
       "\t 1               , 1               , 2               , 1               , 1               , 1               , 1               , 1               , 1               , 1               , 1               , 1               , 1               , 1               , 1               , 2               , 2               , 2               , 4               , 4               , 4               , 4               , 4               , 4               , 4               , 4               , 4               , 4               , 4               , 3               , 3               , 3               , 3               , 3               , 3               , 3               , 3               , 3               , 3               , 3               , 3               , 3               , 3               , 1               , 1               , 2               , 1               , 1               , 1               , 1               , 1               , 1               , 1               , 1               , 1               , 1               , 1               , 1               , 2               , 2               , 2               , 4               , 4               , 4               , 4               , 4               , 4               , 4               , 4               , 4               , 4               , 4               , 3               , 3               , 3               , 3               , 3               , 3               , 3               , 3               , 3               , 3               , 3               , 3               , 3               , 3               , granny\\_smith    , granny\\_smith    , mandarin        , braeburn        , braeburn        , braeburn        , braeburn        , golden\\_delicious, golden\\_delicious, golden\\_delicious, cripps\\_pink     , cripps\\_pink     , cripps\\_pink     , cripps\\_pink     , cripps\\_pink     , mandarin        , mandarin        , mandarin        , spanish\\_belsan  , spanish\\_belsan  , spanish\\_belsan  , unknown         , unknown         , unknown         , unknown         , unknown         , unknown         , unknown         , unknown         , spanish\\_jumbo   , spanish\\_jumbo   , spanish\\_jumbo   , selected\\_seconds, selected\\_seconds, selected\\_seconds, selected\\_seconds, turkey\\_navel    , turkey\\_navel    , turkey\\_navel    , turkey\\_navel    , turkey\\_navel    , turkey\\_navel    , turkey\\_navel    , 192             , 176             , 76              , 172             , 166             , 172             , 154             , 152             , 156             , 168             , 162             , 162             , 160             , 156             , 140             , 86              , 84              , 80              , 216             , 196             , 174             , 132             , 130             , 116             , 120             , 116             , 116             , 152             , 118             , 342             , 356             , 362             , 204             , 160             , 158             , 210             , 142             , 150             , 160             , 158             , 154             , 180             , 154             , 8.4             , 7.4             , 5.8             , 7.4             , 6.9             , 7.1             , 7               , 7.6             , 7.6             , 7.5             , 7.5             , 7.4             , 7.5             , 7.4             , 7.3             , 6.2             , 6               , 5.8             , 7.3             , 7.3             , 7.3             , 5.8             , 6               , 6               , 6               , 6.1             , 6.3             , 6.5             , 6.1             , 9               , 9.2             , 9.6             , 7.5             , 7               , 7.1             , 7.8             , 7.6             , 7.1             , 7.1             , 7.2             , 7.1             , 7.6             , 7.2             , 7.3             , 7.2             , 4               , 7               , 7.3             , 7.6             , 7.1             , 7.3             , 7.5             , 7.6             , 7.1             , 7.2             , 7.5             , 7.4             , 7.1             , 4.7             , 4.6             , 4.3             , 10.2            , 9.7             , 10.1            , 8.7             , 8.2             , 7.5             , 8.4             , 8.5             , 7.7             , 8.5             , 8.1             , 9.4             , 9.2             , 9.2             , 9.2             , 7.4             , 7.5             , 8               , 7.8             , 7.9             , 7.6             , 7.8             , 7.5             , 8.2             , 7.2             , 0.55            , 0.6             , 0.81            , 0.89            , 0.93            , 0.92            , 0.88            , 0.69            , 0.67            , 0.73            , 0.83            , 0.85            , 0.86            , 0.84            , 0.87            , 0.8             , 0.79            , 0.77            , 0.71            , 0.72            , 0.72            , 0.73            , 0.71            , 0.72            , 0.74            , 0.71            , 0.72            , 0.72            , 0.7             , 0.75            , 0.75            , 0.74            , 0.77            , 0.81            , 0.79            , 0.82            , 0.75            , 0.75            , 0.76            , 0.77            , 0.78            , 0.79            , 0.82            , 1               , 2               , 4               , 5               , 6               , 8               , 10              , 11              , 12              , 13              , 14              , 15              , 16              , 18              , 20              , 22              , 23              , 24              , 26              , 27              , 28              , 29              , 30              , 31              , 33              , 34              , 35              , 36              , 37              , 38              , 40              , 41              , 42              , 43              , NA              , Fold2            & Fold2 & accuracy            , roc\\_auc             , multiclass          , hand\\_till           , 0.888888888888889   , 0.951388888888889   , Preprocessor1\\_Model1, Preprocessor1\\_Model1 & \\\\\n",
       "\t 1               , 1               , 2               , 1               , 1               , 1               , 1               , 1               , 1               , 1               , 1               , 1               , 1               , 1               , 1               , 2               , 2               , 2               , 4               , 4               , 4               , 4               , 4               , 4               , 4               , 4               , 4               , 4               , 4               , 3               , 3               , 3               , 3               , 3               , 3               , 3               , 3               , 3               , 3               , 3               , 3               , 3               , 3               , 1               , 1               , 2               , 1               , 1               , 1               , 1               , 1               , 1               , 1               , 1               , 1               , 1               , 1               , 1               , 2               , 2               , 2               , 4               , 4               , 4               , 4               , 4               , 4               , 4               , 4               , 4               , 4               , 4               , 3               , 3               , 3               , 3               , 3               , 3               , 3               , 3               , 3               , 3               , 3               , 3               , 3               , 3               , granny\\_smith    , granny\\_smith    , mandarin        , braeburn        , braeburn        , braeburn        , braeburn        , golden\\_delicious, golden\\_delicious, golden\\_delicious, cripps\\_pink     , cripps\\_pink     , cripps\\_pink     , cripps\\_pink     , cripps\\_pink     , mandarin        , mandarin        , mandarin        , spanish\\_belsan  , spanish\\_belsan  , spanish\\_belsan  , unknown         , unknown         , unknown         , unknown         , unknown         , unknown         , unknown         , unknown         , spanish\\_jumbo   , spanish\\_jumbo   , spanish\\_jumbo   , selected\\_seconds, selected\\_seconds, selected\\_seconds, selected\\_seconds, turkey\\_navel    , turkey\\_navel    , turkey\\_navel    , turkey\\_navel    , turkey\\_navel    , turkey\\_navel    , turkey\\_navel    , 192             , 176             , 76              , 172             , 166             , 172             , 154             , 152             , 156             , 168             , 162             , 162             , 160             , 156             , 140             , 86              , 84              , 80              , 216             , 196             , 174             , 132             , 130             , 116             , 120             , 116             , 116             , 152             , 118             , 342             , 356             , 362             , 204             , 160             , 158             , 210             , 142             , 150             , 160             , 158             , 154             , 180             , 154             , 8.4             , 7.4             , 5.8             , 7.4             , 6.9             , 7.1             , 7               , 7.6             , 7.6             , 7.5             , 7.5             , 7.4             , 7.5             , 7.4             , 7.3             , 6.2             , 6               , 5.8             , 7.3             , 7.3             , 7.3             , 5.8             , 6               , 6               , 6               , 6.1             , 6.3             , 6.5             , 6.1             , 9               , 9.2             , 9.6             , 7.5             , 7               , 7.1             , 7.8             , 7.6             , 7.1             , 7.1             , 7.2             , 7.1             , 7.6             , 7.2             , 7.3             , 7.2             , 4               , 7               , 7.3             , 7.6             , 7.1             , 7.3             , 7.5             , 7.6             , 7.1             , 7.2             , 7.5             , 7.4             , 7.1             , 4.7             , 4.6             , 4.3             , 10.2            , 9.7             , 10.1            , 8.7             , 8.2             , 7.5             , 8.4             , 8.5             , 7.7             , 8.5             , 8.1             , 9.4             , 9.2             , 9.2             , 9.2             , 7.4             , 7.5             , 8               , 7.8             , 7.9             , 7.6             , 7.8             , 7.5             , 8.2             , 7.2             , 0.55            , 0.6             , 0.81            , 0.89            , 0.93            , 0.92            , 0.88            , 0.69            , 0.67            , 0.73            , 0.83            , 0.85            , 0.86            , 0.84            , 0.87            , 0.8             , 0.79            , 0.77            , 0.71            , 0.72            , 0.72            , 0.73            , 0.71            , 0.72            , 0.74            , 0.71            , 0.72            , 0.72            , 0.7             , 0.75            , 0.75            , 0.74            , 0.77            , 0.81            , 0.79            , 0.82            , 0.75            , 0.75            , 0.76            , 0.77            , 0.78            , 0.79            , 0.82            , 1               , 2               , 3               , 4               , 5               , 7               , 8               , 9               , 10              , 11              , 12              , 13              , 14              , 17              , 19              , 20              , 21              , 22              , 23              , 24              , 25              , 26              , 27              , 28              , 30              , 31              , 32              , 33              , 36              , 37              , 38              , 39              , 40              , 41              , 42              , NA              , Fold3            & Fold3 & accuracy            , roc\\_auc             , multiclass          , hand\\_till           , 0.75                , 0.944444444444444   , Preprocessor1\\_Model1, Preprocessor1\\_Model1 & \\\\\n",
       "\t 1               , 1               , 2               , 1               , 1               , 1               , 1               , 1               , 1               , 1               , 1               , 1               , 1               , 1               , 1               , 2               , 2               , 2               , 4               , 4               , 4               , 4               , 4               , 4               , 4               , 4               , 4               , 4               , 4               , 3               , 3               , 3               , 3               , 3               , 3               , 3               , 3               , 3               , 3               , 3               , 3               , 3               , 3               , 1               , 1               , 2               , 1               , 1               , 1               , 1               , 1               , 1               , 1               , 1               , 1               , 1               , 1               , 1               , 2               , 2               , 2               , 4               , 4               , 4               , 4               , 4               , 4               , 4               , 4               , 4               , 4               , 4               , 3               , 3               , 3               , 3               , 3               , 3               , 3               , 3               , 3               , 3               , 3               , 3               , 3               , 3               , granny\\_smith    , granny\\_smith    , mandarin        , braeburn        , braeburn        , braeburn        , braeburn        , golden\\_delicious, golden\\_delicious, golden\\_delicious, cripps\\_pink     , cripps\\_pink     , cripps\\_pink     , cripps\\_pink     , cripps\\_pink     , mandarin        , mandarin        , mandarin        , spanish\\_belsan  , spanish\\_belsan  , spanish\\_belsan  , unknown         , unknown         , unknown         , unknown         , unknown         , unknown         , unknown         , unknown         , spanish\\_jumbo   , spanish\\_jumbo   , spanish\\_jumbo   , selected\\_seconds, selected\\_seconds, selected\\_seconds, selected\\_seconds, turkey\\_navel    , turkey\\_navel    , turkey\\_navel    , turkey\\_navel    , turkey\\_navel    , turkey\\_navel    , turkey\\_navel    , 192             , 176             , 76              , 172             , 166             , 172             , 154             , 152             , 156             , 168             , 162             , 162             , 160             , 156             , 140             , 86              , 84              , 80              , 216             , 196             , 174             , 132             , 130             , 116             , 120             , 116             , 116             , 152             , 118             , 342             , 356             , 362             , 204             , 160             , 158             , 210             , 142             , 150             , 160             , 158             , 154             , 180             , 154             , 8.4             , 7.4             , 5.8             , 7.4             , 6.9             , 7.1             , 7               , 7.6             , 7.6             , 7.5             , 7.5             , 7.4             , 7.5             , 7.4             , 7.3             , 6.2             , 6               , 5.8             , 7.3             , 7.3             , 7.3             , 5.8             , 6               , 6               , 6               , 6.1             , 6.3             , 6.5             , 6.1             , 9               , 9.2             , 9.6             , 7.5             , 7               , 7.1             , 7.8             , 7.6             , 7.1             , 7.1             , 7.2             , 7.1             , 7.6             , 7.2             , 7.3             , 7.2             , 4               , 7               , 7.3             , 7.6             , 7.1             , 7.3             , 7.5             , 7.6             , 7.1             , 7.2             , 7.5             , 7.4             , 7.1             , 4.7             , 4.6             , 4.3             , 10.2            , 9.7             , 10.1            , 8.7             , 8.2             , 7.5             , 8.4             , 8.5             , 7.7             , 8.5             , 8.1             , 9.4             , 9.2             , 9.2             , 9.2             , 7.4             , 7.5             , 8               , 7.8             , 7.9             , 7.6             , 7.8             , 7.5             , 8.2             , 7.2             , 0.55            , 0.6             , 0.81            , 0.89            , 0.93            , 0.92            , 0.88            , 0.69            , 0.67            , 0.73            , 0.83            , 0.85            , 0.86            , 0.84            , 0.87            , 0.8             , 0.79            , 0.77            , 0.71            , 0.72            , 0.72            , 0.73            , 0.71            , 0.72            , 0.74            , 0.71            , 0.72            , 0.72            , 0.7             , 0.75            , 0.75            , 0.74            , 0.77            , 0.81            , 0.79            , 0.82            , 0.75            , 0.75            , 0.76            , 0.77            , 0.78            , 0.79            , 0.82            , 2               , 3               , 4               , 5               , 6               , 7               , 8               , 9               , 10              , 12              , 14              , 15              , 16              , 17              , 18              , 19              , 21              , 22              , 23              , 24              , 25              , 27              , 28              , 29              , 30              , 31              , 32              , 33              , 34              , 35              , 36              , 38              , 39              , 40              , 43              , NA              , Fold4            & Fold4 & accuracy            , roc\\_auc             , multiclass          , hand\\_till           , 1                   , 1                   , Preprocessor1\\_Model1, Preprocessor1\\_Model1 & internal                                                                                                             , warning                                                                                                              , No observations were detected in `truth` for level(s): 'mandarin'\n",
       "Computation will proceed by ignoring those levels.\\\\\n",
       "\t 1               , 1               , 2               , 1               , 1               , 1               , 1               , 1               , 1               , 1               , 1               , 1               , 1               , 1               , 1               , 2               , 2               , 2               , 4               , 4               , 4               , 4               , 4               , 4               , 4               , 4               , 4               , 4               , 4               , 3               , 3               , 3               , 3               , 3               , 3               , 3               , 3               , 3               , 3               , 3               , 3               , 3               , 3               , 1               , 1               , 2               , 1               , 1               , 1               , 1               , 1               , 1               , 1               , 1               , 1               , 1               , 1               , 1               , 2               , 2               , 2               , 4               , 4               , 4               , 4               , 4               , 4               , 4               , 4               , 4               , 4               , 4               , 3               , 3               , 3               , 3               , 3               , 3               , 3               , 3               , 3               , 3               , 3               , 3               , 3               , 3               , granny\\_smith    , granny\\_smith    , mandarin        , braeburn        , braeburn        , braeburn        , braeburn        , golden\\_delicious, golden\\_delicious, golden\\_delicious, cripps\\_pink     , cripps\\_pink     , cripps\\_pink     , cripps\\_pink     , cripps\\_pink     , mandarin        , mandarin        , mandarin        , spanish\\_belsan  , spanish\\_belsan  , spanish\\_belsan  , unknown         , unknown         , unknown         , unknown         , unknown         , unknown         , unknown         , unknown         , spanish\\_jumbo   , spanish\\_jumbo   , spanish\\_jumbo   , selected\\_seconds, selected\\_seconds, selected\\_seconds, selected\\_seconds, turkey\\_navel    , turkey\\_navel    , turkey\\_navel    , turkey\\_navel    , turkey\\_navel    , turkey\\_navel    , turkey\\_navel    , 192             , 176             , 76              , 172             , 166             , 172             , 154             , 152             , 156             , 168             , 162             , 162             , 160             , 156             , 140             , 86              , 84              , 80              , 216             , 196             , 174             , 132             , 130             , 116             , 120             , 116             , 116             , 152             , 118             , 342             , 356             , 362             , 204             , 160             , 158             , 210             , 142             , 150             , 160             , 158             , 154             , 180             , 154             , 8.4             , 7.4             , 5.8             , 7.4             , 6.9             , 7.1             , 7               , 7.6             , 7.6             , 7.5             , 7.5             , 7.4             , 7.5             , 7.4             , 7.3             , 6.2             , 6               , 5.8             , 7.3             , 7.3             , 7.3             , 5.8             , 6               , 6               , 6               , 6.1             , 6.3             , 6.5             , 6.1             , 9               , 9.2             , 9.6             , 7.5             , 7               , 7.1             , 7.8             , 7.6             , 7.1             , 7.1             , 7.2             , 7.1             , 7.6             , 7.2             , 7.3             , 7.2             , 4               , 7               , 7.3             , 7.6             , 7.1             , 7.3             , 7.5             , 7.6             , 7.1             , 7.2             , 7.5             , 7.4             , 7.1             , 4.7             , 4.6             , 4.3             , 10.2            , 9.7             , 10.1            , 8.7             , 8.2             , 7.5             , 8.4             , 8.5             , 7.7             , 8.5             , 8.1             , 9.4             , 9.2             , 9.2             , 9.2             , 7.4             , 7.5             , 8               , 7.8             , 7.9             , 7.6             , 7.8             , 7.5             , 8.2             , 7.2             , 0.55            , 0.6             , 0.81            , 0.89            , 0.93            , 0.92            , 0.88            , 0.69            , 0.67            , 0.73            , 0.83            , 0.85            , 0.86            , 0.84            , 0.87            , 0.8             , 0.79            , 0.77            , 0.71            , 0.72            , 0.72            , 0.73            , 0.71            , 0.72            , 0.74            , 0.71            , 0.72            , 0.72            , 0.7             , 0.75            , 0.75            , 0.74            , 0.77            , 0.81            , 0.79            , 0.82            , 0.75            , 0.75            , 0.76            , 0.77            , 0.78            , 0.79            , 0.82            , 1               , 3               , 4               , 5               , 6               , 7               , 9               , 10              , 11              , 13              , 14              , 15              , 16              , 17              , 18              , 19              , 20              , 21              , 22              , 23              , 25              , 26              , 27              , 29              , 30              , 31              , 32              , 34              , 35              , 37              , 39              , 40              , 41              , 42              , 43              , NA              , Fold5            & Fold5 & accuracy            , roc\\_auc             , multiclass          , hand\\_till           , 0.875               , 0.962962962962963   , Preprocessor1\\_Model1, Preprocessor1\\_Model1 & internal                                                                                                             , warning                                                                                                              , No observations were detected in `truth` for level(s): 'mandarin'\n",
       "Computation will proceed by ignoring those levels.\\\\\n",
       "\\end{tabular}\n"
      ],
      "text/markdown": [
       "\n",
       "A resample_results: 5 × 4\n",
       "\n",
       "| splits &lt;list&gt; | id &lt;chr&gt; | .metrics &lt;list&gt; | .notes &lt;list&gt; |\n",
       "|---|---|---|---|\n",
       "| 1               , 1               , 2               , 1               , 1               , 1               , 1               , 1               , 1               , 1               , 1               , 1               , 1               , 1               , 1               , 2               , 2               , 2               , 4               , 4               , 4               , 4               , 4               , 4               , 4               , 4               , 4               , 4               , 4               , 3               , 3               , 3               , 3               , 3               , 3               , 3               , 3               , 3               , 3               , 3               , 3               , 3               , 3               , 1               , 1               , 2               , 1               , 1               , 1               , 1               , 1               , 1               , 1               , 1               , 1               , 1               , 1               , 1               , 2               , 2               , 2               , 4               , 4               , 4               , 4               , 4               , 4               , 4               , 4               , 4               , 4               , 4               , 3               , 3               , 3               , 3               , 3               , 3               , 3               , 3               , 3               , 3               , 3               , 3               , 3               , 3               , granny_smith    , granny_smith    , mandarin        , braeburn        , braeburn        , braeburn        , braeburn        , golden_delicious, golden_delicious, golden_delicious, cripps_pink     , cripps_pink     , cripps_pink     , cripps_pink     , cripps_pink     , mandarin        , mandarin        , mandarin        , spanish_belsan  , spanish_belsan  , spanish_belsan  , unknown         , unknown         , unknown         , unknown         , unknown         , unknown         , unknown         , unknown         , spanish_jumbo   , spanish_jumbo   , spanish_jumbo   , selected_seconds, selected_seconds, selected_seconds, selected_seconds, turkey_navel    , turkey_navel    , turkey_navel    , turkey_navel    , turkey_navel    , turkey_navel    , turkey_navel    , 192             , 176             , 76              , 172             , 166             , 172             , 154             , 152             , 156             , 168             , 162             , 162             , 160             , 156             , 140             , 86              , 84              , 80              , 216             , 196             , 174             , 132             , 130             , 116             , 120             , 116             , 116             , 152             , 118             , 342             , 356             , 362             , 204             , 160             , 158             , 210             , 142             , 150             , 160             , 158             , 154             , 180             , 154             , 8.4             , 7.4             , 5.8             , 7.4             , 6.9             , 7.1             , 7               , 7.6             , 7.6             , 7.5             , 7.5             , 7.4             , 7.5             , 7.4             , 7.3             , 6.2             , 6               , 5.8             , 7.3             , 7.3             , 7.3             , 5.8             , 6               , 6               , 6               , 6.1             , 6.3             , 6.5             , 6.1             , 9               , 9.2             , 9.6             , 7.5             , 7               , 7.1             , 7.8             , 7.6             , 7.1             , 7.1             , 7.2             , 7.1             , 7.6             , 7.2             , 7.3             , 7.2             , 4               , 7               , 7.3             , 7.6             , 7.1             , 7.3             , 7.5             , 7.6             , 7.1             , 7.2             , 7.5             , 7.4             , 7.1             , 4.7             , 4.6             , 4.3             , 10.2            , 9.7             , 10.1            , 8.7             , 8.2             , 7.5             , 8.4             , 8.5             , 7.7             , 8.5             , 8.1             , 9.4             , 9.2             , 9.2             , 9.2             , 7.4             , 7.5             , 8               , 7.8             , 7.9             , 7.6             , 7.8             , 7.5             , 8.2             , 7.2             , 0.55            , 0.6             , 0.81            , 0.89            , 0.93            , 0.92            , 0.88            , 0.69            , 0.67            , 0.73            , 0.83            , 0.85            , 0.86            , 0.84            , 0.87            , 0.8             , 0.79            , 0.77            , 0.71            , 0.72            , 0.72            , 0.73            , 0.71            , 0.72            , 0.74            , 0.71            , 0.72            , 0.72            , 0.7             , 0.75            , 0.75            , 0.74            , 0.77            , 0.81            , 0.79            , 0.82            , 0.75            , 0.75            , 0.76            , 0.77            , 0.78            , 0.79            , 0.82            , 1               , 2               , 3               , 6               , 7               , 8               , 9               , 11              , 12              , 13              , 15              , 16              , 17              , 18              , 19              , 20              , 21              , 24              , 25              , 26              , 28              , 29              , 32              , 33              , 34              , 35              , 36              , 37              , 38              , 39              , 41              , 42              , 43              , NA              , Fold1            | Fold1 | accuracy            , roc_auc             , multiclass          , hand_till           , 0.9                 , 0.951388888888889   , Preprocessor1_Model1, Preprocessor1_Model1 | internal                                                                                                             , warning                                                                                                              , No observations were detected in `truth` for level(s): 'mandarin'\n",
       "Computation will proceed by ignoring those levels. |\n",
       "| 1               , 1               , 2               , 1               , 1               , 1               , 1               , 1               , 1               , 1               , 1               , 1               , 1               , 1               , 1               , 2               , 2               , 2               , 4               , 4               , 4               , 4               , 4               , 4               , 4               , 4               , 4               , 4               , 4               , 3               , 3               , 3               , 3               , 3               , 3               , 3               , 3               , 3               , 3               , 3               , 3               , 3               , 3               , 1               , 1               , 2               , 1               , 1               , 1               , 1               , 1               , 1               , 1               , 1               , 1               , 1               , 1               , 1               , 2               , 2               , 2               , 4               , 4               , 4               , 4               , 4               , 4               , 4               , 4               , 4               , 4               , 4               , 3               , 3               , 3               , 3               , 3               , 3               , 3               , 3               , 3               , 3               , 3               , 3               , 3               , 3               , granny_smith    , granny_smith    , mandarin        , braeburn        , braeburn        , braeburn        , braeburn        , golden_delicious, golden_delicious, golden_delicious, cripps_pink     , cripps_pink     , cripps_pink     , cripps_pink     , cripps_pink     , mandarin        , mandarin        , mandarin        , spanish_belsan  , spanish_belsan  , spanish_belsan  , unknown         , unknown         , unknown         , unknown         , unknown         , unknown         , unknown         , unknown         , spanish_jumbo   , spanish_jumbo   , spanish_jumbo   , selected_seconds, selected_seconds, selected_seconds, selected_seconds, turkey_navel    , turkey_navel    , turkey_navel    , turkey_navel    , turkey_navel    , turkey_navel    , turkey_navel    , 192             , 176             , 76              , 172             , 166             , 172             , 154             , 152             , 156             , 168             , 162             , 162             , 160             , 156             , 140             , 86              , 84              , 80              , 216             , 196             , 174             , 132             , 130             , 116             , 120             , 116             , 116             , 152             , 118             , 342             , 356             , 362             , 204             , 160             , 158             , 210             , 142             , 150             , 160             , 158             , 154             , 180             , 154             , 8.4             , 7.4             , 5.8             , 7.4             , 6.9             , 7.1             , 7               , 7.6             , 7.6             , 7.5             , 7.5             , 7.4             , 7.5             , 7.4             , 7.3             , 6.2             , 6               , 5.8             , 7.3             , 7.3             , 7.3             , 5.8             , 6               , 6               , 6               , 6.1             , 6.3             , 6.5             , 6.1             , 9               , 9.2             , 9.6             , 7.5             , 7               , 7.1             , 7.8             , 7.6             , 7.1             , 7.1             , 7.2             , 7.1             , 7.6             , 7.2             , 7.3             , 7.2             , 4               , 7               , 7.3             , 7.6             , 7.1             , 7.3             , 7.5             , 7.6             , 7.1             , 7.2             , 7.5             , 7.4             , 7.1             , 4.7             , 4.6             , 4.3             , 10.2            , 9.7             , 10.1            , 8.7             , 8.2             , 7.5             , 8.4             , 8.5             , 7.7             , 8.5             , 8.1             , 9.4             , 9.2             , 9.2             , 9.2             , 7.4             , 7.5             , 8               , 7.8             , 7.9             , 7.6             , 7.8             , 7.5             , 8.2             , 7.2             , 0.55            , 0.6             , 0.81            , 0.89            , 0.93            , 0.92            , 0.88            , 0.69            , 0.67            , 0.73            , 0.83            , 0.85            , 0.86            , 0.84            , 0.87            , 0.8             , 0.79            , 0.77            , 0.71            , 0.72            , 0.72            , 0.73            , 0.71            , 0.72            , 0.74            , 0.71            , 0.72            , 0.72            , 0.7             , 0.75            , 0.75            , 0.74            , 0.77            , 0.81            , 0.79            , 0.82            , 0.75            , 0.75            , 0.76            , 0.77            , 0.78            , 0.79            , 0.82            , 1               , 2               , 4               , 5               , 6               , 8               , 10              , 11              , 12              , 13              , 14              , 15              , 16              , 18              , 20              , 22              , 23              , 24              , 26              , 27              , 28              , 29              , 30              , 31              , 33              , 34              , 35              , 36              , 37              , 38              , 40              , 41              , 42              , 43              , NA              , Fold2            | Fold2 | accuracy            , roc_auc             , multiclass          , hand_till           , 0.888888888888889   , 0.951388888888889   , Preprocessor1_Model1, Preprocessor1_Model1 | <!----> |\n",
       "| 1               , 1               , 2               , 1               , 1               , 1               , 1               , 1               , 1               , 1               , 1               , 1               , 1               , 1               , 1               , 2               , 2               , 2               , 4               , 4               , 4               , 4               , 4               , 4               , 4               , 4               , 4               , 4               , 4               , 3               , 3               , 3               , 3               , 3               , 3               , 3               , 3               , 3               , 3               , 3               , 3               , 3               , 3               , 1               , 1               , 2               , 1               , 1               , 1               , 1               , 1               , 1               , 1               , 1               , 1               , 1               , 1               , 1               , 2               , 2               , 2               , 4               , 4               , 4               , 4               , 4               , 4               , 4               , 4               , 4               , 4               , 4               , 3               , 3               , 3               , 3               , 3               , 3               , 3               , 3               , 3               , 3               , 3               , 3               , 3               , 3               , granny_smith    , granny_smith    , mandarin        , braeburn        , braeburn        , braeburn        , braeburn        , golden_delicious, golden_delicious, golden_delicious, cripps_pink     , cripps_pink     , cripps_pink     , cripps_pink     , cripps_pink     , mandarin        , mandarin        , mandarin        , spanish_belsan  , spanish_belsan  , spanish_belsan  , unknown         , unknown         , unknown         , unknown         , unknown         , unknown         , unknown         , unknown         , spanish_jumbo   , spanish_jumbo   , spanish_jumbo   , selected_seconds, selected_seconds, selected_seconds, selected_seconds, turkey_navel    , turkey_navel    , turkey_navel    , turkey_navel    , turkey_navel    , turkey_navel    , turkey_navel    , 192             , 176             , 76              , 172             , 166             , 172             , 154             , 152             , 156             , 168             , 162             , 162             , 160             , 156             , 140             , 86              , 84              , 80              , 216             , 196             , 174             , 132             , 130             , 116             , 120             , 116             , 116             , 152             , 118             , 342             , 356             , 362             , 204             , 160             , 158             , 210             , 142             , 150             , 160             , 158             , 154             , 180             , 154             , 8.4             , 7.4             , 5.8             , 7.4             , 6.9             , 7.1             , 7               , 7.6             , 7.6             , 7.5             , 7.5             , 7.4             , 7.5             , 7.4             , 7.3             , 6.2             , 6               , 5.8             , 7.3             , 7.3             , 7.3             , 5.8             , 6               , 6               , 6               , 6.1             , 6.3             , 6.5             , 6.1             , 9               , 9.2             , 9.6             , 7.5             , 7               , 7.1             , 7.8             , 7.6             , 7.1             , 7.1             , 7.2             , 7.1             , 7.6             , 7.2             , 7.3             , 7.2             , 4               , 7               , 7.3             , 7.6             , 7.1             , 7.3             , 7.5             , 7.6             , 7.1             , 7.2             , 7.5             , 7.4             , 7.1             , 4.7             , 4.6             , 4.3             , 10.2            , 9.7             , 10.1            , 8.7             , 8.2             , 7.5             , 8.4             , 8.5             , 7.7             , 8.5             , 8.1             , 9.4             , 9.2             , 9.2             , 9.2             , 7.4             , 7.5             , 8               , 7.8             , 7.9             , 7.6             , 7.8             , 7.5             , 8.2             , 7.2             , 0.55            , 0.6             , 0.81            , 0.89            , 0.93            , 0.92            , 0.88            , 0.69            , 0.67            , 0.73            , 0.83            , 0.85            , 0.86            , 0.84            , 0.87            , 0.8             , 0.79            , 0.77            , 0.71            , 0.72            , 0.72            , 0.73            , 0.71            , 0.72            , 0.74            , 0.71            , 0.72            , 0.72            , 0.7             , 0.75            , 0.75            , 0.74            , 0.77            , 0.81            , 0.79            , 0.82            , 0.75            , 0.75            , 0.76            , 0.77            , 0.78            , 0.79            , 0.82            , 1               , 2               , 3               , 4               , 5               , 7               , 8               , 9               , 10              , 11              , 12              , 13              , 14              , 17              , 19              , 20              , 21              , 22              , 23              , 24              , 25              , 26              , 27              , 28              , 30              , 31              , 32              , 33              , 36              , 37              , 38              , 39              , 40              , 41              , 42              , NA              , Fold3            | Fold3 | accuracy            , roc_auc             , multiclass          , hand_till           , 0.75                , 0.944444444444444   , Preprocessor1_Model1, Preprocessor1_Model1 | <!----> |\n",
       "| 1               , 1               , 2               , 1               , 1               , 1               , 1               , 1               , 1               , 1               , 1               , 1               , 1               , 1               , 1               , 2               , 2               , 2               , 4               , 4               , 4               , 4               , 4               , 4               , 4               , 4               , 4               , 4               , 4               , 3               , 3               , 3               , 3               , 3               , 3               , 3               , 3               , 3               , 3               , 3               , 3               , 3               , 3               , 1               , 1               , 2               , 1               , 1               , 1               , 1               , 1               , 1               , 1               , 1               , 1               , 1               , 1               , 1               , 2               , 2               , 2               , 4               , 4               , 4               , 4               , 4               , 4               , 4               , 4               , 4               , 4               , 4               , 3               , 3               , 3               , 3               , 3               , 3               , 3               , 3               , 3               , 3               , 3               , 3               , 3               , 3               , granny_smith    , granny_smith    , mandarin        , braeburn        , braeburn        , braeburn        , braeburn        , golden_delicious, golden_delicious, golden_delicious, cripps_pink     , cripps_pink     , cripps_pink     , cripps_pink     , cripps_pink     , mandarin        , mandarin        , mandarin        , spanish_belsan  , spanish_belsan  , spanish_belsan  , unknown         , unknown         , unknown         , unknown         , unknown         , unknown         , unknown         , unknown         , spanish_jumbo   , spanish_jumbo   , spanish_jumbo   , selected_seconds, selected_seconds, selected_seconds, selected_seconds, turkey_navel    , turkey_navel    , turkey_navel    , turkey_navel    , turkey_navel    , turkey_navel    , turkey_navel    , 192             , 176             , 76              , 172             , 166             , 172             , 154             , 152             , 156             , 168             , 162             , 162             , 160             , 156             , 140             , 86              , 84              , 80              , 216             , 196             , 174             , 132             , 130             , 116             , 120             , 116             , 116             , 152             , 118             , 342             , 356             , 362             , 204             , 160             , 158             , 210             , 142             , 150             , 160             , 158             , 154             , 180             , 154             , 8.4             , 7.4             , 5.8             , 7.4             , 6.9             , 7.1             , 7               , 7.6             , 7.6             , 7.5             , 7.5             , 7.4             , 7.5             , 7.4             , 7.3             , 6.2             , 6               , 5.8             , 7.3             , 7.3             , 7.3             , 5.8             , 6               , 6               , 6               , 6.1             , 6.3             , 6.5             , 6.1             , 9               , 9.2             , 9.6             , 7.5             , 7               , 7.1             , 7.8             , 7.6             , 7.1             , 7.1             , 7.2             , 7.1             , 7.6             , 7.2             , 7.3             , 7.2             , 4               , 7               , 7.3             , 7.6             , 7.1             , 7.3             , 7.5             , 7.6             , 7.1             , 7.2             , 7.5             , 7.4             , 7.1             , 4.7             , 4.6             , 4.3             , 10.2            , 9.7             , 10.1            , 8.7             , 8.2             , 7.5             , 8.4             , 8.5             , 7.7             , 8.5             , 8.1             , 9.4             , 9.2             , 9.2             , 9.2             , 7.4             , 7.5             , 8               , 7.8             , 7.9             , 7.6             , 7.8             , 7.5             , 8.2             , 7.2             , 0.55            , 0.6             , 0.81            , 0.89            , 0.93            , 0.92            , 0.88            , 0.69            , 0.67            , 0.73            , 0.83            , 0.85            , 0.86            , 0.84            , 0.87            , 0.8             , 0.79            , 0.77            , 0.71            , 0.72            , 0.72            , 0.73            , 0.71            , 0.72            , 0.74            , 0.71            , 0.72            , 0.72            , 0.7             , 0.75            , 0.75            , 0.74            , 0.77            , 0.81            , 0.79            , 0.82            , 0.75            , 0.75            , 0.76            , 0.77            , 0.78            , 0.79            , 0.82            , 2               , 3               , 4               , 5               , 6               , 7               , 8               , 9               , 10              , 12              , 14              , 15              , 16              , 17              , 18              , 19              , 21              , 22              , 23              , 24              , 25              , 27              , 28              , 29              , 30              , 31              , 32              , 33              , 34              , 35              , 36              , 38              , 39              , 40              , 43              , NA              , Fold4            | Fold4 | accuracy            , roc_auc             , multiclass          , hand_till           , 1                   , 1                   , Preprocessor1_Model1, Preprocessor1_Model1 | internal                                                                                                             , warning                                                                                                              , No observations were detected in `truth` for level(s): 'mandarin'\n",
       "Computation will proceed by ignoring those levels. |\n",
       "| 1               , 1               , 2               , 1               , 1               , 1               , 1               , 1               , 1               , 1               , 1               , 1               , 1               , 1               , 1               , 2               , 2               , 2               , 4               , 4               , 4               , 4               , 4               , 4               , 4               , 4               , 4               , 4               , 4               , 3               , 3               , 3               , 3               , 3               , 3               , 3               , 3               , 3               , 3               , 3               , 3               , 3               , 3               , 1               , 1               , 2               , 1               , 1               , 1               , 1               , 1               , 1               , 1               , 1               , 1               , 1               , 1               , 1               , 2               , 2               , 2               , 4               , 4               , 4               , 4               , 4               , 4               , 4               , 4               , 4               , 4               , 4               , 3               , 3               , 3               , 3               , 3               , 3               , 3               , 3               , 3               , 3               , 3               , 3               , 3               , 3               , granny_smith    , granny_smith    , mandarin        , braeburn        , braeburn        , braeburn        , braeburn        , golden_delicious, golden_delicious, golden_delicious, cripps_pink     , cripps_pink     , cripps_pink     , cripps_pink     , cripps_pink     , mandarin        , mandarin        , mandarin        , spanish_belsan  , spanish_belsan  , spanish_belsan  , unknown         , unknown         , unknown         , unknown         , unknown         , unknown         , unknown         , unknown         , spanish_jumbo   , spanish_jumbo   , spanish_jumbo   , selected_seconds, selected_seconds, selected_seconds, selected_seconds, turkey_navel    , turkey_navel    , turkey_navel    , turkey_navel    , turkey_navel    , turkey_navel    , turkey_navel    , 192             , 176             , 76              , 172             , 166             , 172             , 154             , 152             , 156             , 168             , 162             , 162             , 160             , 156             , 140             , 86              , 84              , 80              , 216             , 196             , 174             , 132             , 130             , 116             , 120             , 116             , 116             , 152             , 118             , 342             , 356             , 362             , 204             , 160             , 158             , 210             , 142             , 150             , 160             , 158             , 154             , 180             , 154             , 8.4             , 7.4             , 5.8             , 7.4             , 6.9             , 7.1             , 7               , 7.6             , 7.6             , 7.5             , 7.5             , 7.4             , 7.5             , 7.4             , 7.3             , 6.2             , 6               , 5.8             , 7.3             , 7.3             , 7.3             , 5.8             , 6               , 6               , 6               , 6.1             , 6.3             , 6.5             , 6.1             , 9               , 9.2             , 9.6             , 7.5             , 7               , 7.1             , 7.8             , 7.6             , 7.1             , 7.1             , 7.2             , 7.1             , 7.6             , 7.2             , 7.3             , 7.2             , 4               , 7               , 7.3             , 7.6             , 7.1             , 7.3             , 7.5             , 7.6             , 7.1             , 7.2             , 7.5             , 7.4             , 7.1             , 4.7             , 4.6             , 4.3             , 10.2            , 9.7             , 10.1            , 8.7             , 8.2             , 7.5             , 8.4             , 8.5             , 7.7             , 8.5             , 8.1             , 9.4             , 9.2             , 9.2             , 9.2             , 7.4             , 7.5             , 8               , 7.8             , 7.9             , 7.6             , 7.8             , 7.5             , 8.2             , 7.2             , 0.55            , 0.6             , 0.81            , 0.89            , 0.93            , 0.92            , 0.88            , 0.69            , 0.67            , 0.73            , 0.83            , 0.85            , 0.86            , 0.84            , 0.87            , 0.8             , 0.79            , 0.77            , 0.71            , 0.72            , 0.72            , 0.73            , 0.71            , 0.72            , 0.74            , 0.71            , 0.72            , 0.72            , 0.7             , 0.75            , 0.75            , 0.74            , 0.77            , 0.81            , 0.79            , 0.82            , 0.75            , 0.75            , 0.76            , 0.77            , 0.78            , 0.79            , 0.82            , 1               , 3               , 4               , 5               , 6               , 7               , 9               , 10              , 11              , 13              , 14              , 15              , 16              , 17              , 18              , 19              , 20              , 21              , 22              , 23              , 25              , 26              , 27              , 29              , 30              , 31              , 32              , 34              , 35              , 37              , 39              , 40              , 41              , 42              , 43              , NA              , Fold5            | Fold5 | accuracy            , roc_auc             , multiclass          , hand_till           , 0.875               , 0.962962962962963   , Preprocessor1_Model1, Preprocessor1_Model1 | internal                                                                                                             , warning                                                                                                              , No observations were detected in `truth` for level(s): 'mandarin'\n",
       "Computation will proceed by ignoring those levels. |\n",
       "\n"
      ],
      "text/plain": [
       "  splits                                                                                                                                                                                                                                                                                                                                                                                                                                                                                                                                                                                                                                                                                                                                                                                                                                                                                                                                                                                                                                                                                                                                                                                                                                                                                                                                                                                                                                                                                                                                                                                                                                                                                                                                                                                                                                                                                                                                                                                                                                                                                                                                                                                                                                                                                                                                                                                                                                                                                                                                                                                                                                                                                                                                                                                                                                                                                                                                                                                                                                                                                                                                                                                                                                                                                                                                                                                                                                                                                                                                                                                                                                                                                                                                                                                                                                                                                                                                                                                                                                                                                                                                                                                                                                                                                                                                                                                                                                                                                                                                                                                                                                                                                                                                                                                                                                                                                                                                                                                                                                                                                                                                                                                                                                                                                                                                                                                                                                                                                                                                                                                                                                                                                                                                                                                                                                                                                                                                                                                                                                                                                                                                                                                                                                                                                                                            \n",
       "1 1               , 1               , 2               , 1               , 1               , 1               , 1               , 1               , 1               , 1               , 1               , 1               , 1               , 1               , 1               , 2               , 2               , 2               , 4               , 4               , 4               , 4               , 4               , 4               , 4               , 4               , 4               , 4               , 4               , 3               , 3               , 3               , 3               , 3               , 3               , 3               , 3               , 3               , 3               , 3               , 3               , 3               , 3               , 1               , 1               , 2               , 1               , 1               , 1               , 1               , 1               , 1               , 1               , 1               , 1               , 1               , 1               , 1               , 2               , 2               , 2               , 4               , 4               , 4               , 4               , 4               , 4               , 4               , 4               , 4               , 4               , 4               , 3               , 3               , 3               , 3               , 3               , 3               , 3               , 3               , 3               , 3               , 3               , 3               , 3               , 3               , granny_smith    , granny_smith    , mandarin        , braeburn        , braeburn        , braeburn        , braeburn        , golden_delicious, golden_delicious, golden_delicious, cripps_pink     , cripps_pink     , cripps_pink     , cripps_pink     , cripps_pink     , mandarin        , mandarin        , mandarin        , spanish_belsan  , spanish_belsan  , spanish_belsan  , unknown         , unknown         , unknown         , unknown         , unknown         , unknown         , unknown         , unknown         , spanish_jumbo   , spanish_jumbo   , spanish_jumbo   , selected_seconds, selected_seconds, selected_seconds, selected_seconds, turkey_navel    , turkey_navel    , turkey_navel    , turkey_navel    , turkey_navel    , turkey_navel    , turkey_navel    , 192             , 176             , 76              , 172             , 166             , 172             , 154             , 152             , 156             , 168             , 162             , 162             , 160             , 156             , 140             , 86              , 84              , 80              , 216             , 196             , 174             , 132             , 130             , 116             , 120             , 116             , 116             , 152             , 118             , 342             , 356             , 362             , 204             , 160             , 158             , 210             , 142             , 150             , 160             , 158             , 154             , 180             , 154             , 8.4             , 7.4             , 5.8             , 7.4             , 6.9             , 7.1             , 7               , 7.6             , 7.6             , 7.5             , 7.5             , 7.4             , 7.5             , 7.4             , 7.3             , 6.2             , 6               , 5.8             , 7.3             , 7.3             , 7.3             , 5.8             , 6               , 6               , 6               , 6.1             , 6.3             , 6.5             , 6.1             , 9               , 9.2             , 9.6             , 7.5             , 7               , 7.1             , 7.8             , 7.6             , 7.1             , 7.1             , 7.2             , 7.1             , 7.6             , 7.2             , 7.3             , 7.2             , 4               , 7               , 7.3             , 7.6             , 7.1             , 7.3             , 7.5             , 7.6             , 7.1             , 7.2             , 7.5             , 7.4             , 7.1             , 4.7             , 4.6             , 4.3             , 10.2            , 9.7             , 10.1            , 8.7             , 8.2             , 7.5             , 8.4             , 8.5             , 7.7             , 8.5             , 8.1             , 9.4             , 9.2             , 9.2             , 9.2             , 7.4             , 7.5             , 8               , 7.8             , 7.9             , 7.6             , 7.8             , 7.5             , 8.2             , 7.2             , 0.55            , 0.6             , 0.81            , 0.89            , 0.93            , 0.92            , 0.88            , 0.69            , 0.67            , 0.73            , 0.83            , 0.85            , 0.86            , 0.84            , 0.87            , 0.8             , 0.79            , 0.77            , 0.71            , 0.72            , 0.72            , 0.73            , 0.71            , 0.72            , 0.74            , 0.71            , 0.72            , 0.72            , 0.7             , 0.75            , 0.75            , 0.74            , 0.77            , 0.81            , 0.79            , 0.82            , 0.75            , 0.75            , 0.76            , 0.77            , 0.78            , 0.79            , 0.82            , 1               , 2               , 3               , 6               , 7               , 8               , 9               , 11              , 12              , 13              , 15              , 16              , 17              , 18              , 19              , 20              , 21              , 24              , 25              , 26              , 28              , 29              , 32              , 33              , 34              , 35              , 36              , 37              , 38              , 39              , 41              , 42              , 43              , NA              , Fold1                                               \n",
       "2 1               , 1               , 2               , 1               , 1               , 1               , 1               , 1               , 1               , 1               , 1               , 1               , 1               , 1               , 1               , 2               , 2               , 2               , 4               , 4               , 4               , 4               , 4               , 4               , 4               , 4               , 4               , 4               , 4               , 3               , 3               , 3               , 3               , 3               , 3               , 3               , 3               , 3               , 3               , 3               , 3               , 3               , 3               , 1               , 1               , 2               , 1               , 1               , 1               , 1               , 1               , 1               , 1               , 1               , 1               , 1               , 1               , 1               , 2               , 2               , 2               , 4               , 4               , 4               , 4               , 4               , 4               , 4               , 4               , 4               , 4               , 4               , 3               , 3               , 3               , 3               , 3               , 3               , 3               , 3               , 3               , 3               , 3               , 3               , 3               , 3               , granny_smith    , granny_smith    , mandarin        , braeburn        , braeburn        , braeburn        , braeburn        , golden_delicious, golden_delicious, golden_delicious, cripps_pink     , cripps_pink     , cripps_pink     , cripps_pink     , cripps_pink     , mandarin        , mandarin        , mandarin        , spanish_belsan  , spanish_belsan  , spanish_belsan  , unknown         , unknown         , unknown         , unknown         , unknown         , unknown         , unknown         , unknown         , spanish_jumbo   , spanish_jumbo   , spanish_jumbo   , selected_seconds, selected_seconds, selected_seconds, selected_seconds, turkey_navel    , turkey_navel    , turkey_navel    , turkey_navel    , turkey_navel    , turkey_navel    , turkey_navel    , 192             , 176             , 76              , 172             , 166             , 172             , 154             , 152             , 156             , 168             , 162             , 162             , 160             , 156             , 140             , 86              , 84              , 80              , 216             , 196             , 174             , 132             , 130             , 116             , 120             , 116             , 116             , 152             , 118             , 342             , 356             , 362             , 204             , 160             , 158             , 210             , 142             , 150             , 160             , 158             , 154             , 180             , 154             , 8.4             , 7.4             , 5.8             , 7.4             , 6.9             , 7.1             , 7               , 7.6             , 7.6             , 7.5             , 7.5             , 7.4             , 7.5             , 7.4             , 7.3             , 6.2             , 6               , 5.8             , 7.3             , 7.3             , 7.3             , 5.8             , 6               , 6               , 6               , 6.1             , 6.3             , 6.5             , 6.1             , 9               , 9.2             , 9.6             , 7.5             , 7               , 7.1             , 7.8             , 7.6             , 7.1             , 7.1             , 7.2             , 7.1             , 7.6             , 7.2             , 7.3             , 7.2             , 4               , 7               , 7.3             , 7.6             , 7.1             , 7.3             , 7.5             , 7.6             , 7.1             , 7.2             , 7.5             , 7.4             , 7.1             , 4.7             , 4.6             , 4.3             , 10.2            , 9.7             , 10.1            , 8.7             , 8.2             , 7.5             , 8.4             , 8.5             , 7.7             , 8.5             , 8.1             , 9.4             , 9.2             , 9.2             , 9.2             , 7.4             , 7.5             , 8               , 7.8             , 7.9             , 7.6             , 7.8             , 7.5             , 8.2             , 7.2             , 0.55            , 0.6             , 0.81            , 0.89            , 0.93            , 0.92            , 0.88            , 0.69            , 0.67            , 0.73            , 0.83            , 0.85            , 0.86            , 0.84            , 0.87            , 0.8             , 0.79            , 0.77            , 0.71            , 0.72            , 0.72            , 0.73            , 0.71            , 0.72            , 0.74            , 0.71            , 0.72            , 0.72            , 0.7             , 0.75            , 0.75            , 0.74            , 0.77            , 0.81            , 0.79            , 0.82            , 0.75            , 0.75            , 0.76            , 0.77            , 0.78            , 0.79            , 0.82            , 1               , 2               , 4               , 5               , 6               , 8               , 10              , 11              , 12              , 13              , 14              , 15              , 16              , 18              , 20              , 22              , 23              , 24              , 26              , 27              , 28              , 29              , 30              , 31              , 33              , 34              , 35              , 36              , 37              , 38              , 40              , 41              , 42              , 43              , NA              , Fold2                             \n",
       "3 1               , 1               , 2               , 1               , 1               , 1               , 1               , 1               , 1               , 1               , 1               , 1               , 1               , 1               , 1               , 2               , 2               , 2               , 4               , 4               , 4               , 4               , 4               , 4               , 4               , 4               , 4               , 4               , 4               , 3               , 3               , 3               , 3               , 3               , 3               , 3               , 3               , 3               , 3               , 3               , 3               , 3               , 3               , 1               , 1               , 2               , 1               , 1               , 1               , 1               , 1               , 1               , 1               , 1               , 1               , 1               , 1               , 1               , 2               , 2               , 2               , 4               , 4               , 4               , 4               , 4               , 4               , 4               , 4               , 4               , 4               , 4               , 3               , 3               , 3               , 3               , 3               , 3               , 3               , 3               , 3               , 3               , 3               , 3               , 3               , 3               , granny_smith    , granny_smith    , mandarin        , braeburn        , braeburn        , braeburn        , braeburn        , golden_delicious, golden_delicious, golden_delicious, cripps_pink     , cripps_pink     , cripps_pink     , cripps_pink     , cripps_pink     , mandarin        , mandarin        , mandarin        , spanish_belsan  , spanish_belsan  , spanish_belsan  , unknown         , unknown         , unknown         , unknown         , unknown         , unknown         , unknown         , unknown         , spanish_jumbo   , spanish_jumbo   , spanish_jumbo   , selected_seconds, selected_seconds, selected_seconds, selected_seconds, turkey_navel    , turkey_navel    , turkey_navel    , turkey_navel    , turkey_navel    , turkey_navel    , turkey_navel    , 192             , 176             , 76              , 172             , 166             , 172             , 154             , 152             , 156             , 168             , 162             , 162             , 160             , 156             , 140             , 86              , 84              , 80              , 216             , 196             , 174             , 132             , 130             , 116             , 120             , 116             , 116             , 152             , 118             , 342             , 356             , 362             , 204             , 160             , 158             , 210             , 142             , 150             , 160             , 158             , 154             , 180             , 154             , 8.4             , 7.4             , 5.8             , 7.4             , 6.9             , 7.1             , 7               , 7.6             , 7.6             , 7.5             , 7.5             , 7.4             , 7.5             , 7.4             , 7.3             , 6.2             , 6               , 5.8             , 7.3             , 7.3             , 7.3             , 5.8             , 6               , 6               , 6               , 6.1             , 6.3             , 6.5             , 6.1             , 9               , 9.2             , 9.6             , 7.5             , 7               , 7.1             , 7.8             , 7.6             , 7.1             , 7.1             , 7.2             , 7.1             , 7.6             , 7.2             , 7.3             , 7.2             , 4               , 7               , 7.3             , 7.6             , 7.1             , 7.3             , 7.5             , 7.6             , 7.1             , 7.2             , 7.5             , 7.4             , 7.1             , 4.7             , 4.6             , 4.3             , 10.2            , 9.7             , 10.1            , 8.7             , 8.2             , 7.5             , 8.4             , 8.5             , 7.7             , 8.5             , 8.1             , 9.4             , 9.2             , 9.2             , 9.2             , 7.4             , 7.5             , 8               , 7.8             , 7.9             , 7.6             , 7.8             , 7.5             , 8.2             , 7.2             , 0.55            , 0.6             , 0.81            , 0.89            , 0.93            , 0.92            , 0.88            , 0.69            , 0.67            , 0.73            , 0.83            , 0.85            , 0.86            , 0.84            , 0.87            , 0.8             , 0.79            , 0.77            , 0.71            , 0.72            , 0.72            , 0.73            , 0.71            , 0.72            , 0.74            , 0.71            , 0.72            , 0.72            , 0.7             , 0.75            , 0.75            , 0.74            , 0.77            , 0.81            , 0.79            , 0.82            , 0.75            , 0.75            , 0.76            , 0.77            , 0.78            , 0.79            , 0.82            , 1               , 2               , 3               , 4               , 5               , 7               , 8               , 9               , 10              , 11              , 12              , 13              , 14              , 17              , 19              , 20              , 21              , 22              , 23              , 24              , 25              , 26              , 27              , 28              , 30              , 31              , 32              , 33              , 36              , 37              , 38              , 39              , 40              , 41              , 42              , NA              , Fold3           \n",
       "4 1               , 1               , 2               , 1               , 1               , 1               , 1               , 1               , 1               , 1               , 1               , 1               , 1               , 1               , 1               , 2               , 2               , 2               , 4               , 4               , 4               , 4               , 4               , 4               , 4               , 4               , 4               , 4               , 4               , 3               , 3               , 3               , 3               , 3               , 3               , 3               , 3               , 3               , 3               , 3               , 3               , 3               , 3               , 1               , 1               , 2               , 1               , 1               , 1               , 1               , 1               , 1               , 1               , 1               , 1               , 1               , 1               , 1               , 2               , 2               , 2               , 4               , 4               , 4               , 4               , 4               , 4               , 4               , 4               , 4               , 4               , 4               , 3               , 3               , 3               , 3               , 3               , 3               , 3               , 3               , 3               , 3               , 3               , 3               , 3               , 3               , granny_smith    , granny_smith    , mandarin        , braeburn        , braeburn        , braeburn        , braeburn        , golden_delicious, golden_delicious, golden_delicious, cripps_pink     , cripps_pink     , cripps_pink     , cripps_pink     , cripps_pink     , mandarin        , mandarin        , mandarin        , spanish_belsan  , spanish_belsan  , spanish_belsan  , unknown         , unknown         , unknown         , unknown         , unknown         , unknown         , unknown         , unknown         , spanish_jumbo   , spanish_jumbo   , spanish_jumbo   , selected_seconds, selected_seconds, selected_seconds, selected_seconds, turkey_navel    , turkey_navel    , turkey_navel    , turkey_navel    , turkey_navel    , turkey_navel    , turkey_navel    , 192             , 176             , 76              , 172             , 166             , 172             , 154             , 152             , 156             , 168             , 162             , 162             , 160             , 156             , 140             , 86              , 84              , 80              , 216             , 196             , 174             , 132             , 130             , 116             , 120             , 116             , 116             , 152             , 118             , 342             , 356             , 362             , 204             , 160             , 158             , 210             , 142             , 150             , 160             , 158             , 154             , 180             , 154             , 8.4             , 7.4             , 5.8             , 7.4             , 6.9             , 7.1             , 7               , 7.6             , 7.6             , 7.5             , 7.5             , 7.4             , 7.5             , 7.4             , 7.3             , 6.2             , 6               , 5.8             , 7.3             , 7.3             , 7.3             , 5.8             , 6               , 6               , 6               , 6.1             , 6.3             , 6.5             , 6.1             , 9               , 9.2             , 9.6             , 7.5             , 7               , 7.1             , 7.8             , 7.6             , 7.1             , 7.1             , 7.2             , 7.1             , 7.6             , 7.2             , 7.3             , 7.2             , 4               , 7               , 7.3             , 7.6             , 7.1             , 7.3             , 7.5             , 7.6             , 7.1             , 7.2             , 7.5             , 7.4             , 7.1             , 4.7             , 4.6             , 4.3             , 10.2            , 9.7             , 10.1            , 8.7             , 8.2             , 7.5             , 8.4             , 8.5             , 7.7             , 8.5             , 8.1             , 9.4             , 9.2             , 9.2             , 9.2             , 7.4             , 7.5             , 8               , 7.8             , 7.9             , 7.6             , 7.8             , 7.5             , 8.2             , 7.2             , 0.55            , 0.6             , 0.81            , 0.89            , 0.93            , 0.92            , 0.88            , 0.69            , 0.67            , 0.73            , 0.83            , 0.85            , 0.86            , 0.84            , 0.87            , 0.8             , 0.79            , 0.77            , 0.71            , 0.72            , 0.72            , 0.73            , 0.71            , 0.72            , 0.74            , 0.71            , 0.72            , 0.72            , 0.7             , 0.75            , 0.75            , 0.74            , 0.77            , 0.81            , 0.79            , 0.82            , 0.75            , 0.75            , 0.76            , 0.77            , 0.78            , 0.79            , 0.82            , 2               , 3               , 4               , 5               , 6               , 7               , 8               , 9               , 10              , 12              , 14              , 15              , 16              , 17              , 18              , 19              , 21              , 22              , 23              , 24              , 25              , 27              , 28              , 29              , 30              , 31              , 32              , 33              , 34              , 35              , 36              , 38              , 39              , 40              , 43              , NA              , Fold4           \n",
       "5 1               , 1               , 2               , 1               , 1               , 1               , 1               , 1               , 1               , 1               , 1               , 1               , 1               , 1               , 1               , 2               , 2               , 2               , 4               , 4               , 4               , 4               , 4               , 4               , 4               , 4               , 4               , 4               , 4               , 3               , 3               , 3               , 3               , 3               , 3               , 3               , 3               , 3               , 3               , 3               , 3               , 3               , 3               , 1               , 1               , 2               , 1               , 1               , 1               , 1               , 1               , 1               , 1               , 1               , 1               , 1               , 1               , 1               , 2               , 2               , 2               , 4               , 4               , 4               , 4               , 4               , 4               , 4               , 4               , 4               , 4               , 4               , 3               , 3               , 3               , 3               , 3               , 3               , 3               , 3               , 3               , 3               , 3               , 3               , 3               , 3               , granny_smith    , granny_smith    , mandarin        , braeburn        , braeburn        , braeburn        , braeburn        , golden_delicious, golden_delicious, golden_delicious, cripps_pink     , cripps_pink     , cripps_pink     , cripps_pink     , cripps_pink     , mandarin        , mandarin        , mandarin        , spanish_belsan  , spanish_belsan  , spanish_belsan  , unknown         , unknown         , unknown         , unknown         , unknown         , unknown         , unknown         , unknown         , spanish_jumbo   , spanish_jumbo   , spanish_jumbo   , selected_seconds, selected_seconds, selected_seconds, selected_seconds, turkey_navel    , turkey_navel    , turkey_navel    , turkey_navel    , turkey_navel    , turkey_navel    , turkey_navel    , 192             , 176             , 76              , 172             , 166             , 172             , 154             , 152             , 156             , 168             , 162             , 162             , 160             , 156             , 140             , 86              , 84              , 80              , 216             , 196             , 174             , 132             , 130             , 116             , 120             , 116             , 116             , 152             , 118             , 342             , 356             , 362             , 204             , 160             , 158             , 210             , 142             , 150             , 160             , 158             , 154             , 180             , 154             , 8.4             , 7.4             , 5.8             , 7.4             , 6.9             , 7.1             , 7               , 7.6             , 7.6             , 7.5             , 7.5             , 7.4             , 7.5             , 7.4             , 7.3             , 6.2             , 6               , 5.8             , 7.3             , 7.3             , 7.3             , 5.8             , 6               , 6               , 6               , 6.1             , 6.3             , 6.5             , 6.1             , 9               , 9.2             , 9.6             , 7.5             , 7               , 7.1             , 7.8             , 7.6             , 7.1             , 7.1             , 7.2             , 7.1             , 7.6             , 7.2             , 7.3             , 7.2             , 4               , 7               , 7.3             , 7.6             , 7.1             , 7.3             , 7.5             , 7.6             , 7.1             , 7.2             , 7.5             , 7.4             , 7.1             , 4.7             , 4.6             , 4.3             , 10.2            , 9.7             , 10.1            , 8.7             , 8.2             , 7.5             , 8.4             , 8.5             , 7.7             , 8.5             , 8.1             , 9.4             , 9.2             , 9.2             , 9.2             , 7.4             , 7.5             , 8               , 7.8             , 7.9             , 7.6             , 7.8             , 7.5             , 8.2             , 7.2             , 0.55            , 0.6             , 0.81            , 0.89            , 0.93            , 0.92            , 0.88            , 0.69            , 0.67            , 0.73            , 0.83            , 0.85            , 0.86            , 0.84            , 0.87            , 0.8             , 0.79            , 0.77            , 0.71            , 0.72            , 0.72            , 0.73            , 0.71            , 0.72            , 0.74            , 0.71            , 0.72            , 0.72            , 0.7             , 0.75            , 0.75            , 0.74            , 0.77            , 0.81            , 0.79            , 0.82            , 0.75            , 0.75            , 0.76            , 0.77            , 0.78            , 0.79            , 0.82            , 1               , 3               , 4               , 5               , 6               , 7               , 9               , 10              , 11              , 13              , 14              , 15              , 16              , 17              , 18              , 19              , 20              , 21              , 22              , 23              , 25              , 26              , 27              , 29              , 30              , 31              , 32              , 34              , 35              , 37              , 39              , 40              , 41              , 42              , 43              , NA              , Fold5           \n",
       "  id   \n",
       "1 Fold1\n",
       "2 Fold2\n",
       "3 Fold3\n",
       "4 Fold4\n",
       "5 Fold5\n",
       "  .metrics                                                                                                                                                                      \n",
       "1 accuracy            , roc_auc             , multiclass          , hand_till           , 0.9                 , 0.951388888888889   , Preprocessor1_Model1, Preprocessor1_Model1\n",
       "2 accuracy            , roc_auc             , multiclass          , hand_till           , 0.888888888888889   , 0.951388888888889   , Preprocessor1_Model1, Preprocessor1_Model1\n",
       "3 accuracy            , roc_auc             , multiclass          , hand_till           , 0.75                , 0.944444444444444   , Preprocessor1_Model1, Preprocessor1_Model1\n",
       "4 accuracy            , roc_auc             , multiclass          , hand_till           , 1                   , 1                   , Preprocessor1_Model1, Preprocessor1_Model1\n",
       "5 accuracy            , roc_auc             , multiclass          , hand_till           , 0.875               , 0.962962962962963   , Preprocessor1_Model1, Preprocessor1_Model1\n",
       "  .notes                                                                                                                                                                                                                                                                                                                                                             \n",
       "1 internal                                                                                                             , warning                                                                                                              , No observations were detected in `truth` for level(s): 'mandarin'\\nComputation will proceed by ignoring those levels.\n",
       "2                                                                                                                                                                                                                                                                                                                                                                    \n",
       "3                                                                                                                                                                                                                                                                                                                                                                    \n",
       "4 internal                                                                                                             , warning                                                                                                              , No observations were detected in `truth` for level(s): 'mandarin'\\nComputation will proceed by ignoring those levels.\n",
       "5 internal                                                                                                             , warning                                                                                                              , No observations were detected in `truth` for level(s): 'mandarin'\\nComputation will proceed by ignoring those levels."
      ]
     },
     "metadata": {},
     "output_type": "display_data"
    }
   ],
   "source": [
    "set.seed(2020) # DO NOT REMOVE\n",
    "\n",
    "#... <- workflow() |>\n",
    "#       add_recipe(...) |>\n",
    "#       add_model(...) |>\n",
    "#       fit_resamples(resamples = ...)\n",
    "\n",
    "fruit_resample_fit <- workflow() |>\n",
    "      add_recipe(fruit_recipe) |>\n",
    "      add_model(knn_spec) |>\n",
    "      fit_resamples(resamples = fruit_vfold)\n",
    "\n",
    "\n",
    "fruit_resample_fit"
   ]
  },
  {
   "cell_type": "code",
   "execution_count": 49,
   "metadata": {
    "deletable": false,
    "editable": false,
    "nbgrader": {
     "cell_type": "code",
     "checksum": "2f8e388622fdde399326dcbb41f693bd",
     "grade": true,
     "grade_id": "cell-099fb002dba6ced0",
     "locked": true,
     "points": 1,
     "schema_version": 3,
     "solution": false
    }
   },
   "outputs": [
    {
     "name": "stdout",
     "output_type": "stream",
     "text": [
      "\u001b[32mTest passed\u001b[39m 😸\n",
      "\u001b[32mTest passed\u001b[39m 🥳\n",
      "\u001b[32mTest passed\u001b[39m 🌈\n",
      "\u001b[32mTest passed\u001b[39m 😸\n",
      "\u001b[32mTest passed\u001b[39m 🎉\n",
      "\u001b[32mTest passed\u001b[39m 🎊\n",
      "[1] \"Success!\"\n"
     ]
    }
   ],
   "source": [
    "test_3.2()"
   ]
  },
  {
   "cell_type": "markdown",
   "metadata": {
    "deletable": false,
    "editable": false,
    "nbgrader": {
     "cell_type": "markdown",
     "checksum": "40bdb9b98b1c06b579eb2d8f5e162461",
     "grade": false,
     "grade_id": "cell-df3dc35f0cbb35e2",
     "locked": true,
     "schema_version": 3,
     "solution": false,
     "task": false
    }
   },
   "source": [
    "**Question 3.3** \n",
    "<br> {points: 1}\n",
    "\n",
    "Now that we have ran a cross-validation on each train/validation split, one has to ask, how accurate was the classifier's validation across the folds? We can aggregate the *mean* and *standard error* by using the `collect_metrics` function. The standard error is essentially a measure of how uncertain we are in the mean value. \n",
    "\n",
    "Use the `collect_metrics` function on the `fruit_resample_fit` object and assign your answer to an object called `fruit_metrics`."
   ]
  },
  {
   "cell_type": "code",
   "execution_count": 50,
   "metadata": {
    "deletable": false,
    "nbgrader": {
     "cell_type": "code",
     "checksum": "aa2b50e63553e0fab6b486d57fad0794",
     "grade": false,
     "grade_id": "cell-1119165a08beb72d",
     "locked": false,
     "schema_version": 3,
     "solution": true,
     "task": false
    }
   },
   "outputs": [
    {
     "data": {
      "text/html": [
       "<table class=\"dataframe\">\n",
       "<caption>A tibble: 2 × 6</caption>\n",
       "<thead>\n",
       "\t<tr><th scope=col>.metric</th><th scope=col>.estimator</th><th scope=col>mean</th><th scope=col>n</th><th scope=col>std_err</th><th scope=col>.config</th></tr>\n",
       "\t<tr><th scope=col>&lt;chr&gt;</th><th scope=col>&lt;chr&gt;</th><th scope=col>&lt;dbl&gt;</th><th scope=col>&lt;int&gt;</th><th scope=col>&lt;dbl&gt;</th><th scope=col>&lt;chr&gt;</th></tr>\n",
       "</thead>\n",
       "<tbody>\n",
       "\t<tr><td>accuracy</td><td>multiclass</td><td>0.8827778</td><td>5</td><td>0.039853125</td><td>Preprocessor1_Model1</td></tr>\n",
       "\t<tr><td>roc_auc </td><td>hand_till </td><td>0.9620370</td><td>5</td><td>0.009945625</td><td>Preprocessor1_Model1</td></tr>\n",
       "</tbody>\n",
       "</table>\n"
      ],
      "text/latex": [
       "A tibble: 2 × 6\n",
       "\\begin{tabular}{llllll}\n",
       " .metric & .estimator & mean & n & std\\_err & .config\\\\\n",
       " <chr> & <chr> & <dbl> & <int> & <dbl> & <chr>\\\\\n",
       "\\hline\n",
       "\t accuracy & multiclass & 0.8827778 & 5 & 0.039853125 & Preprocessor1\\_Model1\\\\\n",
       "\t roc\\_auc  & hand\\_till  & 0.9620370 & 5 & 0.009945625 & Preprocessor1\\_Model1\\\\\n",
       "\\end{tabular}\n"
      ],
      "text/markdown": [
       "\n",
       "A tibble: 2 × 6\n",
       "\n",
       "| .metric &lt;chr&gt; | .estimator &lt;chr&gt; | mean &lt;dbl&gt; | n &lt;int&gt; | std_err &lt;dbl&gt; | .config &lt;chr&gt; |\n",
       "|---|---|---|---|---|---|\n",
       "| accuracy | multiclass | 0.8827778 | 5 | 0.039853125 | Preprocessor1_Model1 |\n",
       "| roc_auc  | hand_till  | 0.9620370 | 5 | 0.009945625 | Preprocessor1_Model1 |\n",
       "\n"
      ],
      "text/plain": [
       "  .metric  .estimator mean      n std_err     .config             \n",
       "1 accuracy multiclass 0.8827778 5 0.039853125 Preprocessor1_Model1\n",
       "2 roc_auc  hand_till  0.9620370 5 0.009945625 Preprocessor1_Model1"
      ]
     },
     "metadata": {},
     "output_type": "display_data"
    }
   ],
   "source": [
    "fruit_metrics <- collect_metrics(fruit_resample_fit)\n",
    "fruit_metrics"
   ]
  },
  {
   "cell_type": "code",
   "execution_count": 51,
   "metadata": {
    "deletable": false,
    "editable": false,
    "nbgrader": {
     "cell_type": "code",
     "checksum": "ff6f588520207e25a68b527978186260",
     "grade": true,
     "grade_id": "cell-7337cd2a0af4b896",
     "locked": true,
     "points": 1,
     "schema_version": 3,
     "solution": false,
     "task": false
    }
   },
   "outputs": [
    {
     "name": "stdout",
     "output_type": "stream",
     "text": [
      "\u001b[32mTest passed\u001b[39m 🎊\n",
      "\u001b[32mTest passed\u001b[39m 😀\n",
      "[1] \"Success!\"\n"
     ]
    }
   ],
   "source": [
    "test_3.3()"
   ]
  },
  {
   "cell_type": "markdown",
   "metadata": {
    "deletable": false,
    "editable": false,
    "nbgrader": {
     "cell_type": "markdown",
     "checksum": "5939bdb0bd8c070ee2404571f6f32a2b",
     "grade": false,
     "grade_id": "cell-b65f60bbbc0a4884",
     "locked": true,
     "schema_version": 3,
     "solution": false
    }
   },
   "source": [
    "## 4. Parameter value selection\n",
    "\n",
    "Using a 5-fold cross-validation, we have established a prediction accuracy for our classifier. \n",
    "\n",
    "If we had to improve our classifier, we have to change the parameter: number of neighbours, $K$. Since cross-validation helps us evaluate the accuracy of our classifier, we can use cross-validation to calculate an accuracy for each value of $K$ in a reasonable range, and then pick the value of $K$ that gives us the best accuracy. \n",
    "\n",
    "The great thing about the `tidymodels` package is that it provides a very simple syntax for tuning models. Using `tune()`, each parameter in the model can be adjusted rather than given a specific value. \n",
    "\n",
    "**Question 4.0**\n",
    "<br> {points: 1}\n",
    "\n",
    "Create a new K-nearest neighbor model specification but instead of specifying a particular value for the `neighbors` argument, insert `tune()`. \n",
    "\n",
    "*Assign your answer to an object called `knn_tune`.* "
   ]
  },
  {
   "cell_type": "code",
   "execution_count": 53,
   "metadata": {
    "deletable": false,
    "nbgrader": {
     "cell_type": "code",
     "checksum": "e4d8871755f64d87e26be17856b5fea5",
     "grade": false,
     "grade_id": "cell-2d0448675438bdec",
     "locked": false,
     "schema_version": 3,
     "solution": true
    }
   },
   "outputs": [
    {
     "data": {
      "text/plain": [
       "K-Nearest Neighbor Model Specification (classification)\n",
       "\n",
       "Main Arguments:\n",
       "  neighbors = tune()\n",
       "  weight_func = rectangular\n",
       "\n",
       "Computational engine: kknn \n"
      ]
     },
     "metadata": {},
     "output_type": "display_data"
    }
   ],
   "source": [
    "set.seed(2020) # DO NOT REMOVE\n",
    "knn_tune <- nearest_neighbor(weight_func = \"rectangular\", \n",
    "                             neighbors = tune()) |>\n",
    "  set_engine(\"kknn\") |>\n",
    "  set_mode(\"classification\")\n",
    "knn_tune"
   ]
  },
  {
   "cell_type": "code",
   "execution_count": 54,
   "metadata": {
    "deletable": false,
    "editable": false,
    "nbgrader": {
     "cell_type": "code",
     "checksum": "ccc6b19b3179ffd5a1ba1b251fcfb151",
     "grade": true,
     "grade_id": "cell-381d21c4c1474e80",
     "locked": true,
     "points": 1,
     "schema_version": 3,
     "solution": false
    }
   },
   "outputs": [
    {
     "name": "stdout",
     "output_type": "stream",
     "text": [
      "\u001b[32mTest passed\u001b[39m 🌈\n",
      "\u001b[32mTest passed\u001b[39m 🌈\n",
      "\u001b[32mTest passed\u001b[39m 🎊\n",
      "\u001b[32mTest passed\u001b[39m 🎉\n",
      "\u001b[32mTest passed\u001b[39m 😀\n",
      "\u001b[32mTest passed\u001b[39m 😀\n",
      "[1] \"Success!\"\n"
     ]
    }
   ],
   "source": [
    "test_4.0()"
   ]
  },
  {
   "cell_type": "markdown",
   "metadata": {
    "deletable": false,
    "editable": false,
    "nbgrader": {
     "cell_type": "markdown",
     "checksum": "a44cafde61efbc0f0e75bb30bab2612d",
     "grade": false,
     "grade_id": "cell-706cde9c0d8d2699",
     "locked": true,
     "schema_version": 3,
     "solution": false,
     "task": false
    }
   },
   "source": [
    "**Question 4.1**\n",
    "<br>{points: 1}\n",
    "\n",
    "Now, create a `workflow()` analysis that combines `fruit_recipe` and our new `knn_tune` model specification. \n",
    "\n",
    "Instead of using `fit` or `fit_resamples`, we will use the `tune_grid` function to fit the model for each value in a range of parameter values. For the `resamples` argument, input the cross-validation `fruit_vfold` model we created earlier. The `grid` argument specifies that the tuning should try $X$ amount of values of the number of neighbors $K$ when tuning. For this exercise, use *10 $K$ values when tuning*. \n",
    "\n",
    "Finally, aggregate the mean and standard error by using the `collect_metrics` function.\n",
    "\n",
    "*Assign your answer to an object called `knn_results`.*"
   ]
  },
  {
   "cell_type": "code",
   "execution_count": 59,
   "metadata": {
    "deletable": false,
    "nbgrader": {
     "cell_type": "code",
     "checksum": "2bcc2de28443d2365c46fc4535d5de7d",
     "grade": false,
     "grade_id": "cell-c0d2f1edbe342214",
     "locked": false,
     "schema_version": 3,
     "solution": true,
     "task": false
    }
   },
   "outputs": [
    {
     "name": "stderr",
     "output_type": "stream",
     "text": [
      "\u001b[33m!\u001b[39m \u001b[33mFold1: internal:\n",
      "  No observations were detected in `truth` for level(s): 'mandarin'\n",
      "  Computation will proceed by ignoring those levels.\u001b[39m\n",
      "\n",
      "\u001b[33m!\u001b[39m \u001b[33mFold4: internal:\n",
      "  No observations were detected in `truth` for level(s): 'mandarin'\n",
      "  Computation will proceed by ignoring those levels.\u001b[39m\n",
      "\n",
      "\u001b[33m!\u001b[39m \u001b[33mFold5: internal:\n",
      "  No observations were detected in `truth` for level(s): 'mandarin'\n",
      "  Computation will proceed by ignoring those levels.\u001b[39m\n",
      "\n"
     ]
    },
    {
     "data": {
      "text/html": [
       "<table class=\"dataframe\">\n",
       "<caption>A tibble: 20 × 7</caption>\n",
       "<thead>\n",
       "\t<tr><th scope=col>neighbors</th><th scope=col>.metric</th><th scope=col>.estimator</th><th scope=col>mean</th><th scope=col>n</th><th scope=col>std_err</th><th scope=col>.config</th></tr>\n",
       "\t<tr><th scope=col>&lt;int&gt;</th><th scope=col>&lt;chr&gt;</th><th scope=col>&lt;chr&gt;</th><th scope=col>&lt;dbl&gt;</th><th scope=col>&lt;int&gt;</th><th scope=col>&lt;dbl&gt;</th><th scope=col>&lt;chr&gt;</th></tr>\n",
       "</thead>\n",
       "<tbody>\n",
       "\t<tr><td>2</td><td>accuracy</td><td>multiclass</td><td>0.8827778</td><td>5</td><td>0.03985313</td><td>Preprocessor1_Model01</td></tr>\n",
       "\t<tr><td>2</td><td>roc_auc </td><td>hand_till </td><td>0.9421296</td><td>5</td><td>0.02232327</td><td>Preprocessor1_Model01</td></tr>\n",
       "\t<tr><td>3</td><td>accuracy</td><td>multiclass</td><td>0.8827778</td><td>5</td><td>0.03985313</td><td>Preprocessor1_Model02</td></tr>\n",
       "\t<tr><td>⋮</td><td>⋮</td><td>⋮</td><td>⋮</td><td>⋮</td><td>⋮</td><td>⋮</td></tr>\n",
       "\t<tr><td>13</td><td>roc_auc </td><td>hand_till </td><td>0.8960648</td><td>5</td><td>0.03687828</td><td>Preprocessor1_Model09</td></tr>\n",
       "\t<tr><td>14</td><td>accuracy</td><td>multiclass</td><td>0.6088889</td><td>5</td><td>0.04876088</td><td>Preprocessor1_Model10</td></tr>\n",
       "\t<tr><td>14</td><td>roc_auc </td><td>hand_till </td><td>0.8743056</td><td>5</td><td>0.03734608</td><td>Preprocessor1_Model10</td></tr>\n",
       "</tbody>\n",
       "</table>\n"
      ],
      "text/latex": [
       "A tibble: 20 × 7\n",
       "\\begin{tabular}{lllllll}\n",
       " neighbors & .metric & .estimator & mean & n & std\\_err & .config\\\\\n",
       " <int> & <chr> & <chr> & <dbl> & <int> & <dbl> & <chr>\\\\\n",
       "\\hline\n",
       "\t 2 & accuracy & multiclass & 0.8827778 & 5 & 0.03985313 & Preprocessor1\\_Model01\\\\\n",
       "\t 2 & roc\\_auc  & hand\\_till  & 0.9421296 & 5 & 0.02232327 & Preprocessor1\\_Model01\\\\\n",
       "\t 3 & accuracy & multiclass & 0.8827778 & 5 & 0.03985313 & Preprocessor1\\_Model02\\\\\n",
       "\t ⋮ & ⋮ & ⋮ & ⋮ & ⋮ & ⋮ & ⋮\\\\\n",
       "\t 13 & roc\\_auc  & hand\\_till  & 0.8960648 & 5 & 0.03687828 & Preprocessor1\\_Model09\\\\\n",
       "\t 14 & accuracy & multiclass & 0.6088889 & 5 & 0.04876088 & Preprocessor1\\_Model10\\\\\n",
       "\t 14 & roc\\_auc  & hand\\_till  & 0.8743056 & 5 & 0.03734608 & Preprocessor1\\_Model10\\\\\n",
       "\\end{tabular}\n"
      ],
      "text/markdown": [
       "\n",
       "A tibble: 20 × 7\n",
       "\n",
       "| neighbors &lt;int&gt; | .metric &lt;chr&gt; | .estimator &lt;chr&gt; | mean &lt;dbl&gt; | n &lt;int&gt; | std_err &lt;dbl&gt; | .config &lt;chr&gt; |\n",
       "|---|---|---|---|---|---|---|\n",
       "| 2 | accuracy | multiclass | 0.8827778 | 5 | 0.03985313 | Preprocessor1_Model01 |\n",
       "| 2 | roc_auc  | hand_till  | 0.9421296 | 5 | 0.02232327 | Preprocessor1_Model01 |\n",
       "| 3 | accuracy | multiclass | 0.8827778 | 5 | 0.03985313 | Preprocessor1_Model02 |\n",
       "| ⋮ | ⋮ | ⋮ | ⋮ | ⋮ | ⋮ | ⋮ |\n",
       "| 13 | roc_auc  | hand_till  | 0.8960648 | 5 | 0.03687828 | Preprocessor1_Model09 |\n",
       "| 14 | accuracy | multiclass | 0.6088889 | 5 | 0.04876088 | Preprocessor1_Model10 |\n",
       "| 14 | roc_auc  | hand_till  | 0.8743056 | 5 | 0.03734608 | Preprocessor1_Model10 |\n",
       "\n"
      ],
      "text/plain": [
       "   neighbors .metric  .estimator mean      n std_err    .config              \n",
       "1  2         accuracy multiclass 0.8827778 5 0.03985313 Preprocessor1_Model01\n",
       "2  2         roc_auc  hand_till  0.9421296 5 0.02232327 Preprocessor1_Model01\n",
       "3  3         accuracy multiclass 0.8827778 5 0.03985313 Preprocessor1_Model02\n",
       "⋮  ⋮         ⋮        ⋮          ⋮         ⋮ ⋮          ⋮                    \n",
       "18 13        roc_auc  hand_till  0.8960648 5 0.03687828 Preprocessor1_Model09\n",
       "19 14        accuracy multiclass 0.6088889 5 0.04876088 Preprocessor1_Model10\n",
       "20 14        roc_auc  hand_till  0.8743056 5 0.03734608 Preprocessor1_Model10"
      ]
     },
     "metadata": {},
     "output_type": "display_data"
    }
   ],
   "source": [
    "set.seed(1234) # set the seed, don't remove this\n",
    "\n",
    "#... <- workflow() |>\n",
    "#       add_recipe(...) |>\n",
    "#       add_model(...) |>\n",
    "#       tune_grid(resamples = ..., grid = ...) |>\n",
    "#       ...\n",
    "knn_results <- workflow() |>\n",
    "      add_recipe(fruit_recipe) |>\n",
    "      add_model(knn_tune) |>\n",
    "      tune_grid(resamples = fruit_vfold, grid = 10) |>\n",
    "      collect_metrics()\n",
    "\n",
    "knn_results"
   ]
  },
  {
   "cell_type": "code",
   "execution_count": 60,
   "metadata": {
    "deletable": false,
    "editable": false,
    "nbgrader": {
     "cell_type": "code",
     "checksum": "e2d9381f3f1c945a4f208684ea04e6b5",
     "grade": true,
     "grade_id": "cell-0cbc6a47a2b14884",
     "locked": true,
     "points": 1,
     "schema_version": 3,
     "solution": false,
     "task": false
    }
   },
   "outputs": [
    {
     "name": "stdout",
     "output_type": "stream",
     "text": [
      "\u001b[32mTest passed\u001b[39m 🎉\n",
      "\u001b[32mTest passed\u001b[39m 😸\n",
      "\u001b[32mTest passed\u001b[39m 🎊\n",
      "\u001b[32mTest passed\u001b[39m 🌈\n",
      "[1] \"Success!\"\n"
     ]
    }
   ],
   "source": [
    "test_4.1()"
   ]
  },
  {
   "cell_type": "markdown",
   "metadata": {
    "deletable": false,
    "editable": false,
    "nbgrader": {
     "cell_type": "markdown",
     "checksum": "2a60ce3465536d0a1c1c38957b89569c",
     "grade": false,
     "grade_id": "cell-e8a71fe7a9789225",
     "locked": true,
     "schema_version": 3,
     "solution": false,
     "task": false
    }
   },
   "source": [
    "**Question 4.2**\n",
    "<br>{points: 1} \n",
    "\n",
    "\n",
    "Now, let's find the best value of the number of neighbors. \n",
    "\n",
    "First, from `knn_results`, filter for `accuracy` from the `.metric` column. \n",
    "\n",
    "*Assign your answer to an object called `accuracies`.*\n",
    "\n",
    "Next, create a line plot using the `accuracies` dataset with `neighbors` on the x-axis and the `mean` on the y-axis. \n",
    "\n",
    "*Assign your answer to an object called `accuracy_versus_k`.*"
   ]
  },
  {
   "cell_type": "code",
   "execution_count": 63,
   "metadata": {
    "deletable": false,
    "nbgrader": {
     "cell_type": "code",
     "checksum": "c1de51d8f96cc10a0e548c35636e24a9",
     "grade": false,
     "grade_id": "cell-b8ae5cb978d3f8f2",
     "locked": false,
     "schema_version": 3,
     "solution": true,
     "task": false
    }
   },
   "outputs": [
    {
     "data": {
      "image/png": "[encoded data removed]",
      "text/plain": [
       "plot without title"
      ]
     },
     "metadata": {
      "image/png": {
       "height": 360,
       "width": 600
      }
     },
     "output_type": "display_data"
    }
   ],
   "source": [
    "#... <- knn_results |> \n",
    "#       filter(...)\n",
    "\n",
    "#... <- ggplot(..., aes(x = ..., y = ...))+\n",
    "#       geom_point() +\n",
    "#       geom_line() +\n",
    "#       labs(x = \"Neighbors\", y = \"Accuracy Estimate\") +\n",
    "#       scale_x_continuous(breaks = seq(0, 14, by = 1)) +  # adjusting the x-axis\n",
    "#       scale_y_continuous(limits = c(0.4, 1.0)) # adjusting the y-axis\n",
    "\n",
    "\n",
    "accuracies <- knn_results |> \n",
    "       filter(.metric == \"accuracy\")\n",
    "\n",
    "accuracy_versus_k <- ggplot(accuracies, aes(x = neighbors, y = mean))+\n",
    "      geom_point() +\n",
    "      geom_line() +\n",
    "      labs(x = \"Neighbors\", y = \"Accuracy Estimate\") +\n",
    "      scale_x_continuous(breaks = seq(0, 14, by = 1)) +  # adjusting the x-axis\n",
    "      scale_y_continuous(limits = c(0.4, 1.0)) # adjusting the y-axis\n",
    "\n",
    "accuracy_versus_k"
   ]
  },
  {
   "cell_type": "code",
   "execution_count": 64,
   "metadata": {
    "deletable": false,
    "editable": false,
    "nbgrader": {
     "cell_type": "code",
     "checksum": "d36c5097a082447e87d5b791da2a3696",
     "grade": true,
     "grade_id": "cell-6d62d960eaff34d6",
     "locked": true,
     "points": 1,
     "schema_version": 3,
     "solution": false,
     "task": false
    }
   },
   "outputs": [
    {
     "name": "stdout",
     "output_type": "stream",
     "text": [
      "\u001b[32mTest passed\u001b[39m 🥇\n",
      "\u001b[32mTest passed\u001b[39m 🥳\n",
      "\u001b[32mTest passed\u001b[39m 🎉\n",
      "\u001b[32mTest passed\u001b[39m 🥇\n",
      "\u001b[32mTest passed\u001b[39m 😸\n",
      "\u001b[32mTest passed\u001b[39m 🎊\n",
      "[1] \"Success!\"\n"
     ]
    }
   ],
   "source": [
    "test_4.2()"
   ]
  },
  {
   "cell_type": "markdown",
   "metadata": {
    "deletable": false,
    "editable": false,
    "nbgrader": {
     "cell_type": "markdown",
     "checksum": "55568644264b3cb3301d7ae175ae5cc8",
     "grade": false,
     "grade_id": "cell-ff9e1c1f4f70c1e9",
     "locked": true,
     "schema_version": 3,
     "solution": false,
     "task": false
    }
   },
   "source": [
    "From the plot above, we can see that $K = 2$, $3$, or $4$ provides the highest accuracy. Larger $K$ values result in a reduced accuracy estimate. Remember: the values you see on this plot are estimates of the true accuracy of our classifier. Although the $K = 2$, $3$ or $4$ value is higher than the others on this plot, that doesn’t mean the classifier is necessarily more accurate with this parameter value! "
   ]
  },
  {
   "cell_type": "markdown",
   "metadata": {
    "deletable": false,
    "editable": false,
    "nbgrader": {
     "cell_type": "markdown",
     "checksum": "b96cf43f98ea9bf9e2c9958a497023ff",
     "grade": false,
     "grade_id": "cell-0b119208147a50fc",
     "locked": true,
     "schema_version": 3,
     "solution": false,
     "task": false
    }
   },
   "source": [
    "Great, now you have completed a full workflow analysis with cross-validation using the `tidymodels` package! For your information, we can choose any number of folds and typically, the more we use the better our accuracy estimate will be (lower standard error). However, more folds would mean a greater computation time. In practice, $C$ is chosen to be either 5 or 10. "
   ]
  },
  {
   "cell_type": "code",
   "execution_count": 65,
   "metadata": {
    "deletable": false,
    "editable": false,
    "nbgrader": {
     "cell_type": "code",
     "checksum": "b1e27fcdb53cd0811a4aebaba6c3c824",
     "grade": false,
     "grade_id": "cell-4609bfd4722e6480",
     "locked": true,
     "schema_version": 3,
     "solution": false,
     "task": false
    }
   },
   "outputs": [],
   "source": [
    "source('cleanup.R')"
   ]
  },
  {
   "cell_type": "code",
   "execution_count": null,
   "metadata": {},
   "outputs": [],
   "source": []
  }
 ],
 "metadata": {
  "kernelspec": {
   "display_name": "R",
   "language": "R",
   "name": "ir"
  },
  "language_info": {
   "codemirror_mode": "r",
   "file_extension": ".r",
   "mimetype": "text/x-r-source",
   "name": "R",
   "pygments_lexer": "r",
   "version": "4.1.3"
  }
 },
 "nbformat": 4,
 "nbformat_minor": 4
}
