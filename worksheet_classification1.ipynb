{
 "cells": [
  {
   "cell_type": "markdown",
   "metadata": {
    "deletable": false,
    "editable": false,
    "nbgrader": {
     "cell_type": "markdown",
     "checksum": "dc1e6d0464718c13ef0a0e5bb45f3c30",
     "grade": false,
     "grade_id": "cell-56451645af3178ba",
     "locked": true,
     "schema_version": 3,
     "solution": false,
     "task": false
    }
   },
   "source": [
    "# Worksheet 6 - Classification\n",
    "\n",
    "### Lecture and Tutorial Learning Goals:\n",
    "\n",
    "After completing this week's lecture and tutorial work, you will be able to:\n",
    "\n",
    "* Recognize situations where a simple classifier would be appropriate for making predictions.\n",
    "* Explain the k-nearest neighbour classification algorithm.\n",
    "* Interpret the output of a classifier.\n",
    "* Compute, by hand, the distance between points when there are two explanatory variables/predictors.\n",
    "* Describe what a training data set is and how it is used in classification.\n",
    "* Given a dataset with two explanatory variables/predictors, use k-nearest neighbour classification in R using the `tidymodels` framework to predict the class of a single new observation.\n",
    "\n",
    "This worksheet covers parts of [Chapter 6](https://ubc-dsci.github.io/introduction-to-datascience/classification.html) of the online textbook. You should read this chapter before attempting the worksheet."
   ]
  },
  {
   "cell_type": "code",
   "execution_count": 1,
   "metadata": {
    "deletable": false,
    "editable": false,
    "nbgrader": {
     "cell_type": "code",
     "checksum": "379c4413b520e64f4b5b19b0761ec17d",
     "grade": false,
     "grade_id": "cell-9ca533e5e836f7e3",
     "locked": true,
     "schema_version": 3,
     "solution": false,
     "task": false
    }
   },
   "outputs": [
    {
     "name": "stderr",
     "output_type": "stream",
     "text": [
      "── \u001b[1mAttaching packages\u001b[22m ─────────────────────────────────────── tidyverse 1.3.1 ──\n",
      "\n",
      "\u001b[32m✔\u001b[39m \u001b[34mggplot2\u001b[39m 3.3.6     \u001b[32m✔\u001b[39m \u001b[34mpurrr  \u001b[39m 0.3.4\n",
      "\u001b[32m✔\u001b[39m \u001b[34mtibble \u001b[39m 3.1.7     \u001b[32m✔\u001b[39m \u001b[34mdplyr  \u001b[39m 1.0.9\n",
      "\u001b[32m✔\u001b[39m \u001b[34mtidyr  \u001b[39m 1.2.0     \u001b[32m✔\u001b[39m \u001b[34mstringr\u001b[39m 1.4.0\n",
      "\u001b[32m✔\u001b[39m \u001b[34mreadr  \u001b[39m 2.1.2     \u001b[32m✔\u001b[39m \u001b[34mforcats\u001b[39m 0.5.1\n",
      "\n",
      "── \u001b[1mConflicts\u001b[22m ────────────────────────────────────────── tidyverse_conflicts() ──\n",
      "\u001b[31m✖\u001b[39m \u001b[34mdplyr\u001b[39m::\u001b[32mfilter()\u001b[39m masks \u001b[34mstats\u001b[39m::filter()\n",
      "\u001b[31m✖\u001b[39m \u001b[34mdplyr\u001b[39m::\u001b[32mlag()\u001b[39m    masks \u001b[34mstats\u001b[39m::lag()\n",
      "\n",
      "── \u001b[1mAttaching packages\u001b[22m ────────────────────────────────────── tidymodels 1.0.0 ──\n",
      "\n",
      "\u001b[32m✔\u001b[39m \u001b[34mbroom       \u001b[39m 1.0.0     \u001b[32m✔\u001b[39m \u001b[34mrsample     \u001b[39m 1.0.0\n",
      "\u001b[32m✔\u001b[39m \u001b[34mdials       \u001b[39m 1.0.0     \u001b[32m✔\u001b[39m \u001b[34mtune        \u001b[39m 1.0.0\n",
      "\u001b[32m✔\u001b[39m \u001b[34minfer       \u001b[39m 1.0.2     \u001b[32m✔\u001b[39m \u001b[34mworkflows   \u001b[39m 1.0.0\n",
      "\u001b[32m✔\u001b[39m \u001b[34mmodeldata   \u001b[39m 1.0.0     \u001b[32m✔\u001b[39m \u001b[34mworkflowsets\u001b[39m 1.0.0\n",
      "\u001b[32m✔\u001b[39m \u001b[34mparsnip     \u001b[39m 1.0.0     \u001b[32m✔\u001b[39m \u001b[34myardstick   \u001b[39m 1.0.0\n",
      "\u001b[32m✔\u001b[39m \u001b[34mrecipes     \u001b[39m 1.0.1     \n",
      "\n",
      "── \u001b[1mConflicts\u001b[22m ───────────────────────────────────────── tidymodels_conflicts() ──\n",
      "\u001b[31m✖\u001b[39m \u001b[34mscales\u001b[39m::\u001b[32mdiscard()\u001b[39m masks \u001b[34mpurrr\u001b[39m::discard()\n",
      "\u001b[31m✖\u001b[39m \u001b[34mdplyr\u001b[39m::\u001b[32mfilter()\u001b[39m   masks \u001b[34mstats\u001b[39m::filter()\n",
      "\u001b[31m✖\u001b[39m \u001b[34mrecipes\u001b[39m::\u001b[32mfixed()\u001b[39m  masks \u001b[34mstringr\u001b[39m::fixed()\n",
      "\u001b[31m✖\u001b[39m \u001b[34mdplyr\u001b[39m::\u001b[32mlag()\u001b[39m      masks \u001b[34mstats\u001b[39m::lag()\n",
      "\u001b[31m✖\u001b[39m \u001b[34myardstick\u001b[39m::\u001b[32mspec()\u001b[39m masks \u001b[34mreadr\u001b[39m::spec()\n",
      "\u001b[31m✖\u001b[39m \u001b[34mrecipes\u001b[39m::\u001b[32mstep()\u001b[39m   masks \u001b[34mstats\u001b[39m::step()\n",
      "\u001b[34m•\u001b[39m Dig deeper into tidy modeling with R at \u001b[32mhttps://www.tmwr.org\u001b[39m\n",
      "\n",
      "\n",
      "Attaching package: ‘testthat’\n",
      "\n",
      "\n",
      "The following object is masked from ‘package:rsample’:\n",
      "\n",
      "    matches\n",
      "\n",
      "\n",
      "The following object is masked from ‘package:dplyr’:\n",
      "\n",
      "    matches\n",
      "\n",
      "\n",
      "The following object is masked from ‘package:purrr’:\n",
      "\n",
      "    is_null\n",
      "\n",
      "\n",
      "The following objects are masked from ‘package:readr’:\n",
      "\n",
      "    edition_get, local_edition\n",
      "\n",
      "\n",
      "The following object is masked from ‘package:tidyr’:\n",
      "\n",
      "    matches\n",
      "\n",
      "\n",
      "\n",
      "Attaching package: ‘rlang’\n",
      "\n",
      "\n",
      "The following objects are masked from ‘package:testthat’:\n",
      "\n",
      "    is_false, is_null, is_true\n",
      "\n",
      "\n",
      "The following objects are masked from ‘package:purrr’:\n",
      "\n",
      "    %@%, as_function, flatten, flatten_chr, flatten_dbl, flatten_int,\n",
      "    flatten_lgl, flatten_raw, invoke, splice\n",
      "\n",
      "\n"
     ]
    }
   ],
   "source": [
    " ### Run this cell before continuing.\n",
    "library(tidyverse)\n",
    "library(repr)\n",
    "library(tidymodels)\n",
    "options(repr.matrix.max.rows = 6)\n",
    "source('tests.R')\n",
    "source('cleanup.R')"
   ]
  },
  {
   "cell_type": "markdown",
   "metadata": {
    "deletable": false,
    "editable": false,
    "nbgrader": {
     "cell_type": "markdown",
     "checksum": "081b222c80c836a403640e6c2f25991a",
     "grade": false,
     "grade_id": "cell-1b949a8db8729285",
     "locked": true,
     "schema_version": 3,
     "solution": false
    }
   },
   "source": [
    "**Question 0.1** Multiple Choice: \n",
    "<br> {points: 1}\n",
    "\n",
    "**Which of the following statements is NOT true of a training data set (in the context of classification)?**\n",
    "\n",
    "A. A training data set is a collection of observations for which we know the true classes.\n",
    "\n",
    "B. We can use a training set to explore and build our classifier.\n",
    "\n",
    "C. The training data set is the underlying collection of observations for which we don't know the true classes.\n",
    "\n",
    "*Assign your answer to an object called `answer0.1`. Make sure the correct answer is an uppercase letter. Remember to surround your answer with quotation marks (e.g. \"D\").*"
   ]
  },
  {
   "cell_type": "code",
   "execution_count": 2,
   "metadata": {
    "deletable": false,
    "nbgrader": {
     "cell_type": "code",
     "checksum": "a7d3c3e4d5b35f373ce67a91d2f9a854",
     "grade": false,
     "grade_id": "cell-f0a0878626777907",
     "locked": false,
     "schema_version": 3,
     "solution": true
    }
   },
   "outputs": [],
   "source": [
    "answer0.1 <- \"C\""
   ]
  },
  {
   "cell_type": "code",
   "execution_count": 3,
   "metadata": {
    "deletable": false,
    "editable": false,
    "nbgrader": {
     "cell_type": "code",
     "checksum": "192b3e33e081c9a556c025d711edb216",
     "grade": true,
     "grade_id": "cell-5cb2c8e6177337fd",
     "locked": true,
     "points": 1,
     "schema_version": 3,
     "solution": false
    }
   },
   "outputs": [
    {
     "name": "stdout",
     "output_type": "stream",
     "text": [
      "\u001b[32mTest passed\u001b[39m 😸\n",
      "[1] \"Success!\"\n"
     ]
    }
   ],
   "source": [
    "test_0.1()"
   ]
  },
  {
   "cell_type": "markdown",
   "metadata": {
    "deletable": false,
    "editable": false,
    "nbgrader": {
     "cell_type": "markdown",
     "checksum": "6e32d567d8efcf29ac9f1fd3a1db5ccb",
     "grade": false,
     "grade_id": "cell-7996c030ec20bf5c",
     "locked": true,
     "schema_version": 3,
     "solution": false
    }
   },
   "source": [
    "**Question 0.2** Multiple Choice\n",
    "<br> {points: 1}\n",
    "\n",
    "(Adapted from James et al, \"[An introduction to statistical learning](http://www-bcf.usc.edu/~gareth/ISL/)\" (page 53))\n",
    "\n",
    "Consider the scenario below: \n",
    "\n",
    "We collect data on 20 similar products. For each product we have recorded whether it was a success or failure (labelled as such by the Sales team), price charged for the product, marketing budget, competition price, customer data, and ten other variables. \n",
    "\n",
    "**Which of the following is a classification problem?**\n",
    "\n",
    "A. We are interested in comparing the profit margins for products that are a success and products that are a failure. \n",
    "\n",
    "B. We are considering launching a new product and wish to know whether it will be a success or a failure. \n",
    "\n",
    "C. We wish to group customers based on their preferences and use that knowledge to develop targeted marketing programs. \n",
    "\n",
    "*Assign your answer to an object called `answer0.2`. Make sure the correct answer is an uppercase letter. Remember to surround your answer with quotation marks (e.g. \"F\").*"
   ]
  },
  {
   "cell_type": "code",
   "execution_count": 4,
   "metadata": {
    "deletable": false,
    "nbgrader": {
     "cell_type": "code",
     "checksum": "4044d6543e0299f24c985ccb4c6e0184",
     "grade": false,
     "grade_id": "cell-62c49be2ada51acc",
     "locked": false,
     "schema_version": 3,
     "solution": true
    }
   },
   "outputs": [],
   "source": [
    "answer0.2 <- \"B\""
   ]
  },
  {
   "cell_type": "code",
   "execution_count": 5,
   "metadata": {
    "deletable": false,
    "editable": false,
    "nbgrader": {
     "cell_type": "code",
     "checksum": "0617b4054532ee4ba3b0a447f7c3c303",
     "grade": true,
     "grade_id": "cell-61c63c0827e2a73e",
     "locked": true,
     "points": 1,
     "schema_version": 3,
     "solution": false
    }
   },
   "outputs": [
    {
     "name": "stdout",
     "output_type": "stream",
     "text": [
      "\u001b[32mTest passed\u001b[39m 🎉\n",
      "[1] \"Success!\"\n"
     ]
    }
   ],
   "source": [
    "test_0.2()"
   ]
  },
  {
   "cell_type": "markdown",
   "metadata": {
    "deletable": false,
    "editable": false,
    "nbgrader": {
     "cell_type": "markdown",
     "checksum": "14aba8e491df0f5410d5d4ab95fe4d42",
     "grade": false,
     "grade_id": "cell-e5066772a12351f8",
     "locked": true,
     "schema_version": 3,
     "solution": false
    }
   },
   "source": [
    "## 1. Breast Cancer Data Set \n",
    "We will work with the breast cancer data from this week's pre-reading. \n",
    "> Note that the breast cancer data in this worksheet have been **standardized (centred and scaled)** for you already. We will implement these steps in future worksheets/tutorials later, but for now, know the data has been standardized. Therefore the variables are unitless and hence why we have zero and negative values for variables like Radius. \n",
    "\n",
    "**Question 1.0**\n",
    "<br> {points: 1}\n",
    "\n",
    "Read the `clean-wdbc-data.csv` file (found in the `data` directory) using the `read_csv()` function into the notebook and store it as a data frame. Name it `cancer`."
   ]
  },
  {
   "cell_type": "code",
   "execution_count": 6,
   "metadata": {
    "deletable": false,
    "nbgrader": {
     "cell_type": "code",
     "checksum": "65a7ef878586617318b864559e4989e7",
     "grade": false,
     "grade_id": "cell-bc7e6d59f6a48ff4",
     "locked": false,
     "schema_version": 3,
     "solution": true
    }
   },
   "outputs": [
    {
     "name": "stderr",
     "output_type": "stream",
     "text": [
      "\u001b[1mRows: \u001b[22m\u001b[34m569\u001b[39m \u001b[1mColumns: \u001b[22m\u001b[34m12\u001b[39m\n",
      "\u001b[36m──\u001b[39m \u001b[1mColumn specification\u001b[22m \u001b[36m────────────────────────────────────────────────────────\u001b[39m\n",
      "\u001b[1mDelimiter:\u001b[22m \",\"\n",
      "\u001b[31mchr\u001b[39m  (1): Class\n",
      "\u001b[32mdbl\u001b[39m (11): ID, Radius, Texture, Perimeter, Area, Smoothness, Compactness, Con...\n",
      "\n",
      "\u001b[36mℹ\u001b[39m Use `spec()` to retrieve the full column specification for this data.\n",
      "\u001b[36mℹ\u001b[39m Specify the column types or set `show_col_types = FALSE` to quiet this message.\n"
     ]
    },
    {
     "data": {
      "text/html": [
       "<table class=\"dataframe\">\n",
       "<caption>A spec_tbl_df: 569 × 12</caption>\n",
       "<thead>\n",
       "\t<tr><th scope=col>ID</th><th scope=col>Class</th><th scope=col>Radius</th><th scope=col>Texture</th><th scope=col>Perimeter</th><th scope=col>Area</th><th scope=col>Smoothness</th><th scope=col>Compactness</th><th scope=col>Concavity</th><th scope=col>Concave_points</th><th scope=col>Symmetry</th><th scope=col>Fractal_dimension</th></tr>\n",
       "\t<tr><th scope=col>&lt;dbl&gt;</th><th scope=col>&lt;chr&gt;</th><th scope=col>&lt;dbl&gt;</th><th scope=col>&lt;dbl&gt;</th><th scope=col>&lt;dbl&gt;</th><th scope=col>&lt;dbl&gt;</th><th scope=col>&lt;dbl&gt;</th><th scope=col>&lt;dbl&gt;</th><th scope=col>&lt;dbl&gt;</th><th scope=col>&lt;dbl&gt;</th><th scope=col>&lt;dbl&gt;</th><th scope=col>&lt;dbl&gt;</th></tr>\n",
       "</thead>\n",
       "<tbody>\n",
       "\t<tr><td>  842302</td><td>M</td><td>1.885031</td><td>-1.35809849</td><td>2.301575</td><td>1.999478</td><td> 1.3065367</td><td> 2.6143647</td><td> 2.1076718</td><td>2.294058</td><td> 2.7482041</td><td>1.9353117</td></tr>\n",
       "\t<tr><td>  842517</td><td>M</td><td>1.804340</td><td>-0.36887865</td><td>1.533776</td><td>1.888827</td><td>-0.3752817</td><td>-0.4300658</td><td>-0.1466200</td><td>1.086129</td><td>-0.2436753</td><td>0.2809428</td></tr>\n",
       "\t<tr><td>84300903</td><td>M</td><td>1.510541</td><td>-0.02395331</td><td>1.346291</td><td>1.455004</td><td> 0.5269438</td><td> 1.0819801</td><td> 0.8542223</td><td>1.953282</td><td> 1.1512420</td><td>0.2012142</td></tr>\n",
       "\t<tr><td>⋮</td><td>⋮</td><td>⋮</td><td>⋮</td><td>⋮</td><td>⋮</td><td>⋮</td><td>⋮</td><td>⋮</td><td>⋮</td><td>⋮</td><td>⋮</td></tr>\n",
       "\t<tr><td>926954</td><td>M</td><td> 0.5608679</td><td>1.3736451</td><td> 0.5784916</td><td> 0.4275294</td><td>-0.8088756</td><td> 0.350427</td><td> 0.3264793</td><td> 0.4137047</td><td>-1.10357792</td><td>-0.3181292</td></tr>\n",
       "\t<tr><td>927241</td><td>M</td><td> 1.9595152</td><td>2.2359585</td><td> 2.3015755</td><td> 1.6517174</td><td> 1.4291692</td><td> 3.901415</td><td> 3.1947936</td><td> 2.2879723</td><td> 1.91739590</td><td> 2.2176840</td></tr>\n",
       "\t<tr><td> 92751</td><td>B</td><td>-1.4096522</td><td>0.7635178</td><td>-1.4314754</td><td>-1.0748672</td><td>-1.8573842</td><td>-1.206491</td><td>-1.3046827</td><td>-1.7435287</td><td>-0.04809589</td><td>-0.7505463</td></tr>\n",
       "</tbody>\n",
       "</table>\n"
      ],
      "text/latex": [
       "A spec\\_tbl\\_df: 569 × 12\n",
       "\\begin{tabular}{llllllllllll}\n",
       " ID & Class & Radius & Texture & Perimeter & Area & Smoothness & Compactness & Concavity & Concave\\_points & Symmetry & Fractal\\_dimension\\\\\n",
       " <dbl> & <chr> & <dbl> & <dbl> & <dbl> & <dbl> & <dbl> & <dbl> & <dbl> & <dbl> & <dbl> & <dbl>\\\\\n",
       "\\hline\n",
       "\t   842302 & M & 1.885031 & -1.35809849 & 2.301575 & 1.999478 &  1.3065367 &  2.6143647 &  2.1076718 & 2.294058 &  2.7482041 & 1.9353117\\\\\n",
       "\t   842517 & M & 1.804340 & -0.36887865 & 1.533776 & 1.888827 & -0.3752817 & -0.4300658 & -0.1466200 & 1.086129 & -0.2436753 & 0.2809428\\\\\n",
       "\t 84300903 & M & 1.510541 & -0.02395331 & 1.346291 & 1.455004 &  0.5269438 &  1.0819801 &  0.8542223 & 1.953282 &  1.1512420 & 0.2012142\\\\\n",
       "\t ⋮ & ⋮ & ⋮ & ⋮ & ⋮ & ⋮ & ⋮ & ⋮ & ⋮ & ⋮ & ⋮ & ⋮\\\\\n",
       "\t 926954 & M &  0.5608679 & 1.3736451 &  0.5784916 &  0.4275294 & -0.8088756 &  0.350427 &  0.3264793 &  0.4137047 & -1.10357792 & -0.3181292\\\\\n",
       "\t 927241 & M &  1.9595152 & 2.2359585 &  2.3015755 &  1.6517174 &  1.4291692 &  3.901415 &  3.1947936 &  2.2879723 &  1.91739590 &  2.2176840\\\\\n",
       "\t  92751 & B & -1.4096522 & 0.7635178 & -1.4314754 & -1.0748672 & -1.8573842 & -1.206491 & -1.3046827 & -1.7435287 & -0.04809589 & -0.7505463\\\\\n",
       "\\end{tabular}\n"
      ],
      "text/markdown": [
       "\n",
       "A spec_tbl_df: 569 × 12\n",
       "\n",
       "| ID &lt;dbl&gt; | Class &lt;chr&gt; | Radius &lt;dbl&gt; | Texture &lt;dbl&gt; | Perimeter &lt;dbl&gt; | Area &lt;dbl&gt; | Smoothness &lt;dbl&gt; | Compactness &lt;dbl&gt; | Concavity &lt;dbl&gt; | Concave_points &lt;dbl&gt; | Symmetry &lt;dbl&gt; | Fractal_dimension &lt;dbl&gt; |\n",
       "|---|---|---|---|---|---|---|---|---|---|---|---|\n",
       "|   842302 | M | 1.885031 | -1.35809849 | 2.301575 | 1.999478 |  1.3065367 |  2.6143647 |  2.1076718 | 2.294058 |  2.7482041 | 1.9353117 |\n",
       "|   842517 | M | 1.804340 | -0.36887865 | 1.533776 | 1.888827 | -0.3752817 | -0.4300658 | -0.1466200 | 1.086129 | -0.2436753 | 0.2809428 |\n",
       "| 84300903 | M | 1.510541 | -0.02395331 | 1.346291 | 1.455004 |  0.5269438 |  1.0819801 |  0.8542223 | 1.953282 |  1.1512420 | 0.2012142 |\n",
       "| ⋮ | ⋮ | ⋮ | ⋮ | ⋮ | ⋮ | ⋮ | ⋮ | ⋮ | ⋮ | ⋮ | ⋮ |\n",
       "| 926954 | M |  0.5608679 | 1.3736451 |  0.5784916 |  0.4275294 | -0.8088756 |  0.350427 |  0.3264793 |  0.4137047 | -1.10357792 | -0.3181292 |\n",
       "| 927241 | M |  1.9595152 | 2.2359585 |  2.3015755 |  1.6517174 |  1.4291692 |  3.901415 |  3.1947936 |  2.2879723 |  1.91739590 |  2.2176840 |\n",
       "|  92751 | B | -1.4096522 | 0.7635178 | -1.4314754 | -1.0748672 | -1.8573842 | -1.206491 | -1.3046827 | -1.7435287 | -0.04809589 | -0.7505463 |\n",
       "\n"
      ],
      "text/plain": [
       "    ID       Class Radius     Texture     Perimeter  Area       Smoothness\n",
       "1     842302 M     1.885031   -1.35809849 2.301575   1.999478    1.3065367\n",
       "2     842517 M     1.804340   -0.36887865 1.533776   1.888827   -0.3752817\n",
       "3   84300903 M     1.510541   -0.02395331 1.346291   1.455004    0.5269438\n",
       "⋮   ⋮        ⋮     ⋮          ⋮           ⋮          ⋮          ⋮         \n",
       "567 926954   M      0.5608679 1.3736451    0.5784916  0.4275294 -0.8088756\n",
       "568 927241   M      1.9595152 2.2359585    2.3015755  1.6517174  1.4291692\n",
       "569  92751   B     -1.4096522 0.7635178   -1.4314754 -1.0748672 -1.8573842\n",
       "    Compactness Concavity  Concave_points Symmetry    Fractal_dimension\n",
       "1    2.6143647   2.1076718 2.294058        2.7482041  1.9353117        \n",
       "2   -0.4300658  -0.1466200 1.086129       -0.2436753  0.2809428        \n",
       "3    1.0819801   0.8542223 1.953282        1.1512420  0.2012142        \n",
       "⋮   ⋮           ⋮          ⋮              ⋮           ⋮                \n",
       "567  0.350427    0.3264793  0.4137047     -1.10357792 -0.3181292       \n",
       "568  3.901415    3.1947936  2.2879723      1.91739590  2.2176840       \n",
       "569 -1.206491   -1.3046827 -1.7435287     -0.04809589 -0.7505463       "
      ]
     },
     "metadata": {},
     "output_type": "display_data"
    }
   ],
   "source": [
    "cancer <- read_csv(\"data/clean-wdbc-data.csv\")\n",
    "cancer"
   ]
  },
  {
   "cell_type": "code",
   "execution_count": 7,
   "metadata": {
    "deletable": false,
    "editable": false,
    "nbgrader": {
     "cell_type": "code",
     "checksum": "0e0a708b847fe7c8239122314d587f00",
     "grade": true,
     "grade_id": "cell-b7dada2851cb2d39",
     "locked": true,
     "points": 1,
     "schema_version": 3,
     "solution": false
    }
   },
   "outputs": [
    {
     "name": "stdout",
     "output_type": "stream",
     "text": [
      "\u001b[32mTest passed\u001b[39m 😸\n",
      "\u001b[32mTest passed\u001b[39m 🎉\n",
      "\u001b[32mTest passed\u001b[39m 😸\n",
      "\u001b[32mTest passed\u001b[39m 🌈\n",
      "\u001b[32mTest passed\u001b[39m 😀\n",
      "[1] \"Success!\"\n"
     ]
    }
   ],
   "source": [
    "test_1.0()"
   ]
  },
  {
   "cell_type": "markdown",
   "metadata": {
    "deletable": false,
    "editable": false,
    "nbgrader": {
     "cell_type": "markdown",
     "checksum": "0b289c3a680b43222969a1575aee755b",
     "grade": false,
     "grade_id": "cell-4abc7741b213ce9e",
     "locked": true,
     "schema_version": 3,
     "solution": false
    }
   },
   "source": [
    "**Question 1.1** True or False: \n",
    "<br> {points: 1}\n",
    "\n",
    "After looking at the first six rows of the `cancer` data fame, suppose we asked you to predict the variable \"area\" for a new observation. **Is this a classification problem?**\n",
    "\n",
    "*Assign your answer to an object called `answer1.1`. Make sure the correct answer is written in lower-case. Remember to surround your answer with quotation marks (e.g. \"true\" / \"false\").*"
   ]
  },
  {
   "cell_type": "code",
   "execution_count": 8,
   "metadata": {
    "deletable": false,
    "nbgrader": {
     "cell_type": "code",
     "checksum": "21347ed72238270281b898dbbb561bed",
     "grade": false,
     "grade_id": "cell-787de50bba80be9c",
     "locked": false,
     "schema_version": 3,
     "solution": true
    }
   },
   "outputs": [],
   "source": [
    "answer1.1 <- \"false\""
   ]
  },
  {
   "cell_type": "code",
   "execution_count": 9,
   "metadata": {
    "deletable": false,
    "editable": false,
    "nbgrader": {
     "cell_type": "code",
     "checksum": "5f93de08ee55203b33bfda0371994d46",
     "grade": true,
     "grade_id": "cell-8c2ac2ec68bc2ef2",
     "locked": true,
     "points": 1,
     "schema_version": 3,
     "solution": false
    }
   },
   "outputs": [
    {
     "name": "stdout",
     "output_type": "stream",
     "text": [
      "\u001b[32mTest passed\u001b[39m 😸\n",
      "[1] \"Success!\"\n"
     ]
    }
   ],
   "source": [
    "test_1.1()"
   ]
  },
  {
   "cell_type": "markdown",
   "metadata": {
    "deletable": false,
    "editable": false,
    "nbgrader": {
     "cell_type": "markdown",
     "checksum": "c353e31004ab97699834e5be6b023229",
     "grade": false,
     "grade_id": "cell-c2d4e9762e35650a",
     "locked": true,
     "schema_version": 3,
     "solution": false,
     "task": false
    }
   },
   "source": [
    "We will be treating `Class` as a categorical variable, so we should convert it into a factor using the `as_factor()` function."
   ]
  },
  {
   "cell_type": "code",
   "execution_count": 10,
   "metadata": {
    "deletable": false,
    "editable": false,
    "nbgrader": {
     "cell_type": "code",
     "checksum": "7c062bfeba7db7dc3f93d41dbea688d3",
     "grade": false,
     "grade_id": "cell-d7dd0e43119712d4",
     "locked": true,
     "schema_version": 3,
     "solution": false,
     "task": false
    }
   },
   "outputs": [],
   "source": [
    "# run this cell\n",
    "cancer <- cancer |>\n",
    "        mutate(Class = as_factor(Class))"
   ]
  },
  {
   "cell_type": "markdown",
   "metadata": {
    "deletable": false,
    "editable": false,
    "nbgrader": {
     "cell_type": "markdown",
     "checksum": "e6d11716f31d5beb94f1ea050fc2e455",
     "grade": false,
     "grade_id": "cell-d668650abd9bc1df",
     "locked": true,
     "schema_version": 3,
     "solution": false
    }
   },
   "source": [
    "**Question 1.2** \n",
    "<br> {points: 1}\n",
    "\n",
    "Create a scatterplot of the data with `Symmetry` on the x-axis and `Radius` on the y-axis. Modify your aesthetics by colouring for `Class`. As you create this plot, ensure you follow the guidelines for creating effective visualizations. In particular, note on the plot axes whether the data is standardized or not.\n",
    "\n",
    "*Assign your plot to an object called `cancer_plot`.*"
   ]
  },
  {
   "cell_type": "code",
   "execution_count": 11,
   "metadata": {
    "deletable": false,
    "nbgrader": {
     "cell_type": "code",
     "checksum": "04c5213451ab2e34d28919dbd1e238af",
     "grade": false,
     "grade_id": "cell-6dadc99c524407f7",
     "locked": false,
     "schema_version": 3,
     "solution": true
    }
   },
   "outputs": [
    {
     "data": {
      "image/png": "[encoded data removed]",
      "text/plain": [
       "plot without title"
      ]
     },
     "metadata": {
      "image/png": {
       "height": 420,
       "width": 420
      }
     },
     "output_type": "display_data"
    }
   ],
   "source": [
    "cancer_plot <- cancer |>\n",
    "ggplot(aes(x = Symmetry , y = Radius, color = Class)) + \n",
    "geom_point(alpha = 0.3) + \n",
    "labs( x= \"Symmetry (standardized) \" , y = \"Radius(standardized)\" , colour = \"Class\") +\n",
    "theme ( text = element_text(size = 12))\n",
    "cancer_plot"
   ]
  },
  {
   "cell_type": "code",
   "execution_count": 12,
   "metadata": {
    "deletable": false,
    "editable": false,
    "nbgrader": {
     "cell_type": "code",
     "checksum": "36296a4dfc897264ae4f68db8cfe18ad",
     "grade": true,
     "grade_id": "cell-82ee9aaeac954391",
     "locked": true,
     "points": 1,
     "schema_version": 3,
     "solution": false
    }
   },
   "outputs": [
    {
     "name": "stdout",
     "output_type": "stream",
     "text": [
      "\u001b[32mTest passed\u001b[39m 🥳\n",
      "\u001b[32mTest passed\u001b[39m 🎉\n",
      "\u001b[32mTest passed\u001b[39m 😸\n",
      "\u001b[32mTest passed\u001b[39m 😸\n",
      "\u001b[32mTest passed\u001b[39m 🌈\n",
      "\u001b[32mTest passed\u001b[39m 🎊\n",
      "[1] \"Success!\"\n"
     ]
    }
   ],
   "source": [
    "test_1.2()"
   ]
  },
  {
   "cell_type": "markdown",
   "metadata": {
    "deletable": false,
    "editable": false,
    "nbgrader": {
     "cell_type": "markdown",
     "checksum": "54b4f9dec9cdf92c0c28c25c46015ea5",
     "grade": false,
     "grade_id": "cell-19b9839a8f31d445",
     "locked": true,
     "schema_version": 3,
     "solution": false
    }
   },
   "source": [
    "**Question 1.3** \n",
    "<br> {points: 1}\n",
    "\n",
    "Just by looking at the scatterplot above, how would you classify an observation with `Symmetry` = 1 and `Radius` = 1 (Benign or Malignant)?\n",
    "\n",
    "*Assign your answer to an object called `answer1.3`. Make sure the correct answer is written fully. Remember to surround your answer with quotation marks (e.g. \"Benign\" / \"Malignant\").*"
   ]
  },
  {
   "cell_type": "code",
   "execution_count": 13,
   "metadata": {
    "deletable": false,
    "nbgrader": {
     "cell_type": "code",
     "checksum": "894ff5bcb88d933006669773c50977b0",
     "grade": false,
     "grade_id": "cell-4770d75e12811ba2",
     "locked": false,
     "schema_version": 3,
     "solution": true
    }
   },
   "outputs": [],
   "source": [
    "answer1.3 <- \"Malignant\""
   ]
  },
  {
   "cell_type": "code",
   "execution_count": 14,
   "metadata": {
    "deletable": false,
    "editable": false,
    "nbgrader": {
     "cell_type": "code",
     "checksum": "08431c77ca9020599abccf14b1432e84",
     "grade": true,
     "grade_id": "cell-927ef1b1abe0452a",
     "locked": true,
     "points": 1,
     "schema_version": 3,
     "solution": false
    }
   },
   "outputs": [
    {
     "name": "stdout",
     "output_type": "stream",
     "text": [
      "\u001b[32mTest passed\u001b[39m 😸\n",
      "[1] \"Success!\"\n"
     ]
    }
   ],
   "source": [
    "test_1.3()"
   ]
  },
  {
   "cell_type": "markdown",
   "metadata": {
    "deletable": false,
    "editable": false,
    "nbgrader": {
     "cell_type": "markdown",
     "checksum": "b816acaf0886f8ad88d6839848de4920",
     "grade": false,
     "grade_id": "cell-042f2da9a72d7533",
     "locked": true,
     "schema_version": 3,
     "solution": false,
     "task": false
    }
   },
   "source": [
    "We will now compute the distance between the first and second observation in the breast cancer dataset using the explanatory variables/predictors `Symmetry` and `Radius`. Recall we can calculate the distance between two points using the following formula:\n",
    "\n",
    "$$Distance = \\sqrt{(a_x -b_x)^2 + (a_y - b_y)^2}$$"
   ]
  },
  {
   "cell_type": "markdown",
   "metadata": {
    "deletable": false,
    "editable": false,
    "nbgrader": {
     "cell_type": "markdown",
     "checksum": "4ed6abdeaea97eff84e1dc5976a42de8",
     "grade": false,
     "grade_id": "cell-6c27f7d3e70cb8f5",
     "locked": true,
     "schema_version": 3,
     "solution": false
    }
   },
   "source": [
    "**Question 1.4** \n",
    "<br> {points: 1}\n",
    "\n",
    "First, extract the coordinates for the two observations and assign them to objects called: \n",
    "\n",
    "- `ax` (Symmetry value for the first row)\n",
    "- `ay` (Radius value for the first row)\n",
    "- `bx` (Symmetry value for the second row)\n",
    "- `by` (Radius value for the second row).\n",
    "\n",
    "*Scaffolding for `ax` is given*.\n",
    "> Note we are using the function `pull()` because we want the numeric value (and object) as our output rather than a `tibble` type object so we can do calculations later on. You can verify the object type in R with the `class()` function. Check the class of `ax` with and without the `pull()` function and see what you get! "
   ]
  },
  {
   "cell_type": "code",
   "execution_count": 15,
   "metadata": {
    "deletable": false,
    "nbgrader": {
     "cell_type": "code",
     "checksum": "bcb71e2d1158212cd4ea76e132821972",
     "grade": false,
     "grade_id": "cell-9aa7e3751578c8c5",
     "locked": false,
     "schema_version": 3,
     "solution": true
    }
   },
   "outputs": [],
   "source": [
    "#ax <- slice(cancer, 1) |> \n",
    "#    pull(Symmetry)\n",
    "\n",
    "# ax = 2.7482041\n",
    "# ay =  1.885031\n",
    "# bx =  -0.2436753\n",
    "# by = 1.804340\n",
    "\n",
    "ax <- slice(cancer, 1) |> \n",
    "   pull(Symmetry)\n",
    "        \n",
    "ay <- slice(cancer, 1) |> \n",
    "   pull(Radius)\n",
    "\n",
    "bx <- slice ( cancer, 2) |>\n",
    "   pull(Symmetry)\n",
    "\n",
    "by <- slice(cancer, 2) |> \n",
    "   pull(Radius)"
   ]
  },
  {
   "cell_type": "code",
   "execution_count": 16,
   "metadata": {
    "deletable": false,
    "editable": false,
    "nbgrader": {
     "cell_type": "code",
     "checksum": "62e30ad2cbc6929f5a329d48a5447651",
     "grade": true,
     "grade_id": "cell-9117ab916552d6a6",
     "locked": true,
     "points": 1,
     "schema_version": 3,
     "solution": false
    }
   },
   "outputs": [
    {
     "name": "stdout",
     "output_type": "stream",
     "text": [
      "\u001b[32mTest passed\u001b[39m 🎉\n",
      "\u001b[32mTest passed\u001b[39m 🎊\n",
      "\u001b[32mTest passed\u001b[39m 🥇\n",
      "\u001b[32mTest passed\u001b[39m 🎉\n",
      "[1] \"Success!\"\n"
     ]
    }
   ],
   "source": [
    "test_1.4()"
   ]
  },
  {
   "cell_type": "markdown",
   "metadata": {
    "deletable": false,
    "editable": false,
    "nbgrader": {
     "cell_type": "markdown",
     "checksum": "92535ba183eaaed6622d80a10854de4f",
     "grade": false,
     "grade_id": "cell-d3cdd3053b1b28f3",
     "locked": true,
     "schema_version": 3,
     "solution": false
    }
   },
   "source": [
    "**Question 1.5**\n",
    "<br> {points: 1}\n",
    "\n",
    "Plug the coordinates into the distance equation. \n",
    "\n",
    "*Assign your answer to an object called `answer1.5`.*\n",
    "\n",
    "Fill in the `...` in the cell below. Copy and paste your finished answer into the `fail()`."
   ]
  },
  {
   "cell_type": "code",
   "execution_count": 17,
   "metadata": {
    "deletable": false,
    "nbgrader": {
     "cell_type": "code",
     "checksum": "e40a84e1fe7aefdf07011efb594e7bfb",
     "grade": false,
     "grade_id": "cell-df5b6355c3c1fb5e",
     "locked": false,
     "schema_version": 3,
     "solution": true
    }
   },
   "outputs": [
    {
     "data": {
      "text/html": [
       "2.9929672987961"
      ],
      "text/latex": [
       "2.9929672987961"
      ],
      "text/markdown": [
       "2.9929672987961"
      ],
      "text/plain": [
       "[1] 2.992967"
      ]
     },
     "metadata": {},
     "output_type": "display_data"
    }
   ],
   "source": [
    "#... <- sqrt((... - ...)^... + (... - ...)^...)\n",
    "\n",
    "answer1.5 <- sqrt((ax - bx)^2 + (ay - by)^2)\n",
    "answer1.5"
   ]
  },
  {
   "cell_type": "code",
   "execution_count": 18,
   "metadata": {
    "deletable": false,
    "editable": false,
    "nbgrader": {
     "cell_type": "code",
     "checksum": "44cad1e7569a590e8ae17596f3ad9639",
     "grade": true,
     "grade_id": "cell-3d5f251a3d1cd4d4",
     "locked": true,
     "points": 1,
     "schema_version": 3,
     "solution": false
    }
   },
   "outputs": [
    {
     "name": "stdout",
     "output_type": "stream",
     "text": [
      "\u001b[32mTest passed\u001b[39m 🎊\n",
      "[1] \"Success!\"\n"
     ]
    }
   ],
   "source": [
    "test_1.5()"
   ]
  },
  {
   "cell_type": "markdown",
   "metadata": {
    "deletable": false,
    "editable": false,
    "nbgrader": {
     "cell_type": "markdown",
     "checksum": "f97eda350646901484a2e8c9babff547",
     "grade": false,
     "grade_id": "cell-7497aeecdc763d29",
     "locked": true,
     "schema_version": 3,
     "solution": false
    }
   },
   "source": [
    "**Question 1.6**\n",
    "<br> {points: 1}\n",
    "\n",
    "Now we'll do the same thing *with 3 explanatory variables/predictors*: `Symmetry`, `Radius` and `Concavity`. Again, use the first two rows in the data set as the points you are calculating the distance between (point $a$ is row 1, and point $b$ is row 2).\n",
    "\n",
    "\n",
    "Find the coordinates for the third variable (Concavity) and assign them to objects called `az` and `bz`. Use the scaffolding given in **Question 1.4** as a guide."
   ]
  },
  {
   "cell_type": "code",
   "execution_count": 20,
   "metadata": {
    "deletable": false,
    "nbgrader": {
     "cell_type": "code",
     "checksum": "44723fdbe958ca8e67f0d607d86f6d0d",
     "grade": false,
     "grade_id": "cell-2eaff08bf3baaeb4",
     "locked": false,
     "schema_version": 3,
     "solution": true
    }
   },
   "outputs": [],
   "source": [
    "\n",
    "az <- slice(cancer, 1) |> \n",
    "   pull(Concavity)\n",
    "\n",
    "bz <- slice(cancer, 2) |> \n",
    "   pull(Concavity)"
   ]
  },
  {
   "cell_type": "code",
   "execution_count": 21,
   "metadata": {
    "deletable": false,
    "editable": false,
    "nbgrader": {
     "cell_type": "code",
     "checksum": "816a3d0f48475b7f8e0203d164fd9cc5",
     "grade": true,
     "grade_id": "cell-4944fdeee6a1485f",
     "locked": true,
     "points": 1,
     "schema_version": 3,
     "solution": false
    }
   },
   "outputs": [
    {
     "name": "stdout",
     "output_type": "stream",
     "text": [
      "\u001b[32mTest passed\u001b[39m 🥇\n",
      "\u001b[32mTest passed\u001b[39m 😸\n",
      "\u001b[32mTest passed\u001b[39m 🎊\n",
      "\u001b[32mTest passed\u001b[39m 😀\n",
      "[1] \"Success!\"\n"
     ]
    }
   ],
   "source": [
    "test_1.6()"
   ]
  },
  {
   "cell_type": "markdown",
   "metadata": {
    "deletable": false,
    "editable": false,
    "nbgrader": {
     "cell_type": "markdown",
     "checksum": "d9f562a5491873d6c04479f37a44b5f0",
     "grade": false,
     "grade_id": "cell-a2b93620a52ffd2b",
     "locked": true,
     "schema_version": 3,
     "solution": false
    }
   },
   "source": [
    "**Question 1.7**\n",
    "<br> {points: 1}\n",
    "\n",
    "Again, calculate the distance between the first and second observation in the breast cancer dataset using 3 explanatory variables/predictors: `Symmetry`, `Radius` and `Concavity`.\n",
    "\n",
    "*Assign your answer to an object called `answer1.7`. Use the scaffolding given to calculate `answer1.5` as a guide.*"
   ]
  },
  {
   "cell_type": "code",
   "execution_count": 22,
   "metadata": {
    "deletable": false,
    "nbgrader": {
     "cell_type": "code",
     "checksum": "8501c8e415fff47f8c1b1fec589e7dd6",
     "grade": false,
     "grade_id": "cell-7cee650ed7204a98",
     "locked": false,
     "schema_version": 3,
     "solution": true
    }
   },
   "outputs": [],
   "source": [
    "answer1.7 <- sqrt((ax - bx)^2 + (ay - by)^2+ (az - bz)^2)\n"
   ]
  },
  {
   "cell_type": "code",
   "execution_count": 23,
   "metadata": {
    "deletable": false,
    "editable": false,
    "nbgrader": {
     "cell_type": "code",
     "checksum": "ef0ef6e397e1ec807cdf619014b55a26",
     "grade": true,
     "grade_id": "cell-e5b8f9dc0531ad16",
     "locked": true,
     "points": 1,
     "schema_version": 3,
     "solution": false
    }
   },
   "outputs": [
    {
     "name": "stdout",
     "output_type": "stream",
     "text": [
      "\u001b[32mTest passed\u001b[39m 🥇\n",
      "[1] \"Success!\"\n"
     ]
    }
   ],
   "source": [
    "test_1.7()"
   ]
  },
  {
   "cell_type": "markdown",
   "metadata": {
    "deletable": false,
    "editable": false,
    "nbgrader": {
     "cell_type": "markdown",
     "checksum": "5a70110ed24c15e37859bb15e29ba92c",
     "grade": false,
     "grade_id": "cell-eab0518c6e0ee567",
     "locked": true,
     "schema_version": 3,
     "solution": false
    }
   },
   "source": [
    "**Question 1.8**\n",
    "<br> {points: 1}\n",
    "\n",
    "Let's do this without explicitly making coordinate variables!\n",
    "\n",
    "Create a vector of the coordinates for each point. Name one vector `point_a` and the other vector `point_b`. Within the vector, the order of coordinates should be: `Symmetry`, `Radius`, `Concavity`.\n",
    "\n",
    "Fill in the `...` in the cell below. Copy and paste your finished answer into the `fail()`.\n",
    "\n",
    "\n",
    "> Here will use `select` and `as.numeric` instead of `pull` because we need to get the numeric values of 3 columns. `pull`, that we used previously, only works to extract the numeric values from a single column."
   ]
  },
  {
   "cell_type": "code",
   "execution_count": 24,
   "metadata": {
    "deletable": false,
    "nbgrader": {
     "cell_type": "code",
     "checksum": "b9b3292de05c8ce22854484b9b4ecaa3",
     "grade": false,
     "grade_id": "cell-78df392f18904edd",
     "locked": false,
     "schema_version": 3,
     "solution": true
    }
   },
   "outputs": [],
   "source": [
    "# This is only the scaffolding for one vector \n",
    "# You need to make another one for row number 2!\n",
    "\n",
    "#... <- slice(cancer, 1) |>\n",
    "#    select(..., Radius, ...) |>\n",
    "#    as.numeric()\n",
    "\n",
    "\n",
    "\n",
    "point_a <- slice(cancer, 1) |>\n",
    "select(Symmetry, Radius, Concavity) |>\n",
    "as.numeric()\n",
    "\n",
    "point_b<- slice(cancer, 2) |>\n",
    "select(Symmetry, Radius, Concavity) |>\n",
    "as.numeric()"
   ]
  },
  {
   "cell_type": "code",
   "execution_count": 25,
   "metadata": {
    "deletable": false,
    "editable": false,
    "nbgrader": {
     "cell_type": "code",
     "checksum": "def525b9f441715e2afb2e7c69963622",
     "grade": true,
     "grade_id": "cell-c20cf45fef3d389b",
     "locked": true,
     "points": 1,
     "schema_version": 3,
     "solution": false
    }
   },
   "outputs": [
    {
     "name": "stdout",
     "output_type": "stream",
     "text": [
      "\u001b[32mTest passed\u001b[39m 🎊\n",
      "\u001b[32mTest passed\u001b[39m 🌈\n",
      "[1] \"Success!\"\n"
     ]
    }
   ],
   "source": [
    "test_1.8()"
   ]
  },
  {
   "cell_type": "markdown",
   "metadata": {
    "deletable": false,
    "editable": false,
    "nbgrader": {
     "cell_type": "markdown",
     "checksum": "e4f1502bf11d46a03d9cfc4fa31a216c",
     "grade": false,
     "grade_id": "cell-c5b5b0129c7b8e60",
     "locked": true,
     "schema_version": 3,
     "solution": false
    }
   },
   "source": [
    "**Question 1.9**\n",
    "<br> {points: 1}\n",
    "\n",
    "Compute the squared differences between the two vectors, `point_a` and `point_b`. The result should be a vector of length 3 named `dif_square`. *Hint: `^` is the exponent symbol in R.*"
   ]
  },
  {
   "cell_type": "code",
   "execution_count": 39,
   "metadata": {
    "deletable": false,
    "nbgrader": {
     "cell_type": "code",
     "checksum": "3becacd8964a71611ca273094286b9dc",
     "grade": false,
     "grade_id": "cell-8244086b2edb3999",
     "locked": false,
     "schema_version": 3,
     "solution": true
    }
   },
   "outputs": [
    {
     "data": {
      "text/html": [
       "<style>\n",
       ".list-inline {list-style: none; margin:0; padding: 0}\n",
       ".list-inline>li {display: inline-block}\n",
       ".list-inline>li:not(:last-child)::after {content: \"\\00b7\"; padding: 0 .5ex}\n",
       "</style>\n",
       "<ol class=list-inline><li>8.95134218400953</li><li>0.00651106765326383</li><li>5.08183141028599</li></ol>\n"
      ],
      "text/latex": [
       "\\begin{enumerate*}\n",
       "\\item 8.95134218400953\n",
       "\\item 0.00651106765326383\n",
       "\\item 5.08183141028599\n",
       "\\end{enumerate*}\n"
      ],
      "text/markdown": [
       "1. 8.95134218400953\n",
       "2. 0.00651106765326383\n",
       "3. 5.08183141028599\n",
       "\n",
       "\n"
      ],
      "text/plain": [
       "[1] 8.951342184 0.006511068 5.081831410"
      ]
     },
     "metadata": {},
     "output_type": "display_data"
    }
   ],
   "source": [
    "dif_square <- (point_a - point_b) ^2\n",
    "dif_square"
   ]
  },
  {
   "cell_type": "code",
   "execution_count": 34,
   "metadata": {
    "deletable": false,
    "editable": false,
    "nbgrader": {
     "cell_type": "code",
     "checksum": "5591c80c78df6a527e99dca9bbca27f0",
     "grade": true,
     "grade_id": "cell-fb099b82bbaac1f5",
     "locked": true,
     "points": 1,
     "schema_version": 3,
     "solution": false
    }
   },
   "outputs": [
    {
     "name": "stdout",
     "output_type": "stream",
     "text": [
      "\u001b[32mTest passed\u001b[39m 🌈\n",
      "[1] \"Success!\"\n"
     ]
    }
   ],
   "source": [
    "test_1.09()"
   ]
  },
  {
   "cell_type": "markdown",
   "metadata": {
    "deletable": false,
    "editable": false,
    "nbgrader": {
     "cell_type": "markdown",
     "checksum": "1bc8da3d1a4ce0aa198a5d9a270a608c",
     "grade": false,
     "grade_id": "cell-2f2f6160dfde75a1",
     "locked": true,
     "schema_version": 3,
     "solution": false
    }
   },
   "source": [
    "**Question 1.09.1**\n",
    "<br> {points: 1}\n",
    "\n",
    "Sum the squared differences between the two vectors, `point_a` and `point_b`. The result should be a single number named `dif_sum`. \n",
    "\n",
    "*Hint: the `sum` function in R returns the sum of the elements of a vector*"
   ]
  },
  {
   "cell_type": "code",
   "execution_count": 47,
   "metadata": {
    "deletable": false,
    "nbgrader": {
     "cell_type": "code",
     "checksum": "826fa9e775b31d82ccf8f26f81ac1c14",
     "grade": false,
     "grade_id": "cell-86ab5cef9257a578",
     "locked": false,
     "schema_version": 3,
     "solution": true
    }
   },
   "outputs": [
    {
     "data": {
      "text/html": [
       "14.0396846619488"
      ],
      "text/latex": [
       "14.0396846619488"
      ],
      "text/markdown": [
       "14.0396846619488"
      ],
      "text/plain": [
       "[1] 14.03968"
      ]
     },
     "metadata": {},
     "output_type": "display_data"
    }
   ],
   "source": [
    "\n",
    "\n",
    "dif_sum <- sum(dif_square)\n",
    "dif_sum"
   ]
  },
  {
   "cell_type": "code",
   "execution_count": 41,
   "metadata": {
    "deletable": false,
    "editable": false,
    "nbgrader": {
     "cell_type": "code",
     "checksum": "4051e4006616f3ce8834361da4b19b1e",
     "grade": true,
     "grade_id": "cell-629beff90c931f51",
     "locked": true,
     "points": 1,
     "schema_version": 3,
     "solution": false
    }
   },
   "outputs": [
    {
     "name": "stdout",
     "output_type": "stream",
     "text": [
      "\u001b[32mTest passed\u001b[39m 😸\n",
      "[1] \"Success!\"\n"
     ]
    }
   ],
   "source": [
    "test_1.09.1()"
   ]
  },
  {
   "cell_type": "markdown",
   "metadata": {
    "deletable": false,
    "editable": false,
    "nbgrader": {
     "cell_type": "markdown",
     "checksum": "078884f38169001b3cc45c558126aac6",
     "grade": false,
     "grade_id": "cell-7e182c22fa4eec69",
     "locked": true,
     "schema_version": 3,
     "solution": false
    }
   },
   "source": [
    "**Question 1.09.2**\n",
    "<br> {points: 1}\n",
    "\n",
    "Square root the sum of your squared differences. The result should be a double named `root_dif_sum`. "
   ]
  },
  {
   "cell_type": "code",
   "execution_count": 46,
   "metadata": {
    "deletable": false,
    "nbgrader": {
     "cell_type": "code",
     "checksum": "0b3f037f192d914942a825c227e0cc4d",
     "grade": false,
     "grade_id": "cell-660055c1546fc78c",
     "locked": false,
     "schema_version": 3,
     "solution": true
    }
   },
   "outputs": [
    {
     "data": {
      "text/html": [
       "3.74695672005279"
      ],
      "text/latex": [
       "3.74695672005279"
      ],
      "text/markdown": [
       "3.74695672005279"
      ],
      "text/plain": [
       "[1] 3.746957"
      ]
     },
     "metadata": {},
     "output_type": "display_data"
    }
   ],
   "source": [
    "\n",
    "root_dif_sum <- sqrt(dif_sum )\n",
    "root_dif_sum"
   ]
  },
  {
   "cell_type": "code",
   "execution_count": 43,
   "metadata": {
    "deletable": false,
    "editable": false,
    "nbgrader": {
     "cell_type": "code",
     "checksum": "2818cecdaa7b965334473682bb50d214",
     "grade": true,
     "grade_id": "cell-d144868a6cbc8b3f",
     "locked": true,
     "points": 1,
     "schema_version": 3,
     "solution": false
    }
   },
   "outputs": [
    {
     "name": "stdout",
     "output_type": "stream",
     "text": [
      "\u001b[32mTest passed\u001b[39m 😀\n",
      "[1] \"Success!\"\n"
     ]
    }
   ],
   "source": [
    "test_1.09.2()"
   ]
  },
  {
   "cell_type": "markdown",
   "metadata": {
    "deletable": false,
    "editable": false,
    "nbgrader": {
     "cell_type": "markdown",
     "checksum": "3a3df1f0b21a9a0faf103ec62d50ccbf",
     "grade": false,
     "grade_id": "cell-fe94f79e97960c76",
     "locked": true,
     "schema_version": 3,
     "solution": false
    }
   },
   "source": [
    "**Question 1.09.3**\n",
    "<br> {points: 1}\n",
    "\n",
    "If we have more than a few points, calculating distances as we did in the previous questions is VERY tedious. Let's use the `dist()` function to find the distance between the first and second observation in the breast cancer dataset using Symmetry, Radius and Concavity. \n",
    "\n",
    "Fill in the `...` in the cell below. Copy and paste your finished answer into the `fail()`.\n",
    "\n",
    "*Assign your answer to an object called `dist_cancer_two_rows`.*"
   ]
  },
  {
   "cell_type": "code",
   "execution_count": 44,
   "metadata": {
    "deletable": false,
    "nbgrader": {
     "cell_type": "code",
     "checksum": "20fcc86f58140ed215a2760cffe044ff",
     "grade": false,
     "grade_id": "cell-49a6780a9752e7d0",
     "locked": false,
     "schema_version": 3,
     "solution": true
    }
   },
   "outputs": [
    {
     "data": {
      "text/plain": [
       "         1\n",
       "2 3.746957"
      ]
     },
     "metadata": {},
     "output_type": "display_data"
    }
   ],
   "source": [
    "# ... <- cancer  |> \n",
    "#    slice(1,2)  |> \n",
    "#    select(..., ..., Concavity)  |> \n",
    "#    dist()\n",
    "\n",
    "dist_cancer_two_rows<- cancer  |> \n",
    "   slice(1,2)  |> \n",
    "   select(Symmetry, Radius, Concavity)  |> \n",
    "   dist()\n",
    "\n",
    "dist_cancer_two_rows"
   ]
  },
  {
   "cell_type": "code",
   "execution_count": 45,
   "metadata": {
    "deletable": false,
    "editable": false,
    "nbgrader": {
     "cell_type": "code",
     "checksum": "eb8115d0e84d826e07fa9b2fb9c37c85",
     "grade": true,
     "grade_id": "cell-657a6cc18a3bf8ce",
     "locked": true,
     "points": 1,
     "schema_version": 3,
     "solution": false
    }
   },
   "outputs": [
    {
     "name": "stdout",
     "output_type": "stream",
     "text": [
      "\u001b[32mTest passed\u001b[39m 🎉\n",
      "[1] \"Success!\"\n"
     ]
    }
   ],
   "source": [
    "test_1.09.3()"
   ]
  },
  {
   "cell_type": "markdown",
   "metadata": {
    "deletable": false,
    "editable": false,
    "nbgrader": {
     "cell_type": "markdown",
     "checksum": "9d57ab4485a4286f12bed0d211a5f6ff",
     "grade": false,
     "grade_id": "cell-d2b6719023a2ec78",
     "locked": true,
     "schema_version": 3,
     "solution": false
    }
   },
   "source": [
    "**Question 1.09.4** True or False: \n",
    "<br> {points: 1}\n",
    "\n",
    "Compare `answer1.7`, `root_dif_sum`, and `dist_cancer_two_rows`. \n",
    "\n",
    "**Are they all the same value?** \n",
    "\n",
    "*Assign your answer to an object called `answer1.09.4`. Make sure the correct answer is written in lower-case. Remember to surround your answer with quotation marks (e.g. \"true\" / \"false\").*"
   ]
  },
  {
   "cell_type": "code",
   "execution_count": 50,
   "metadata": {
    "deletable": false,
    "nbgrader": {
     "cell_type": "code",
     "checksum": "e4edd1f640ccbcffda59f412af7a602c",
     "grade": false,
     "grade_id": "cell-083ba5d559495244",
     "locked": false,
     "schema_version": 3,
     "solution": true
    }
   },
   "outputs": [],
   "source": [
    "answer1.09.4 <- \"true\""
   ]
  },
  {
   "cell_type": "code",
   "execution_count": 51,
   "metadata": {
    "deletable": false,
    "editable": false,
    "nbgrader": {
     "cell_type": "code",
     "checksum": "b96ccd6ea8d208973f83ca2529d497be",
     "grade": true,
     "grade_id": "cell-15ea031e7e016f14",
     "locked": true,
     "points": 1,
     "schema_version": 3,
     "solution": false
    }
   },
   "outputs": [
    {
     "name": "stdout",
     "output_type": "stream",
     "text": [
      "\u001b[32mTest passed\u001b[39m 🌈\n",
      "[1] \"Success!\"\n"
     ]
    }
   ],
   "source": [
    "test_1.09.4()"
   ]
  },
  {
   "cell_type": "markdown",
   "metadata": {
    "deletable": false,
    "editable": false,
    "nbgrader": {
     "cell_type": "markdown",
     "checksum": "b99e493a1284cce2cdff233ed8483323",
     "grade": false,
     "grade_id": "cell-098264eb921f8d92",
     "locked": true,
     "schema_version": 3,
     "solution": false
    }
   },
   "source": [
    "## 2. Classification - A Simple Example Done Manually\n",
    "\n",
    "**Question 2.0.0**\n",
    "<br> {points: 1}\n",
    "\n",
    "Let's take a random sample of 5 observations from the breast cancer dataset using the `sample_n` function. To make this random sample reproducible, we will use `set.seed(20)`. This means that the random number generator will start at the same point each time when we run the code and we will always get back the same random samples. \n",
    "\n",
    "We will focus on the predictors Symmetry and Radius only. Thus, we will need to select the columns `Symmetry` and `Radius` and `Class`. Save these 5 rows and 3 columns to a data frame named `small_sample`.\n",
    "\n",
    "Fill in the `...` in the scaffolding provided below."
   ]
  },
  {
   "cell_type": "code",
   "execution_count": 52,
   "metadata": {
    "deletable": false,
    "nbgrader": {
     "cell_type": "code",
     "checksum": "b8d81e2ee3709d9e6c760aff33b682ca",
     "grade": false,
     "grade_id": "cell-42f7c13ee9d9b055",
     "locked": false,
     "schema_version": 3,
     "solution": true,
     "task": false
    }
   },
   "outputs": [
    {
     "data": {
      "text/html": [
       "<table class=\"dataframe\">\n",
       "<caption>A tibble: 5 × 3</caption>\n",
       "<thead>\n",
       "\t<tr><th scope=col>Symmetry</th><th scope=col>Radius</th><th scope=col>Class</th></tr>\n",
       "\t<tr><th scope=col>&lt;dbl&gt;</th><th scope=col>&lt;dbl&gt;</th><th scope=col>&lt;fct&gt;</th></tr>\n",
       "</thead>\n",
       "<tbody>\n",
       "\t<tr><td>-0.4117765</td><td>-0.05983351</td><td>B</td></tr>\n",
       "\t<tr><td> 3.6614466</td><td>-0.10948962</td><td>M</td></tr>\n",
       "\t<tr><td>-0.9241621</td><td>-0.82950329</td><td>B</td></tr>\n",
       "\t<tr><td>-0.4796636</td><td>-0.79019220</td><td>B</td></tr>\n",
       "\t<tr><td> 0.9201028</td><td> 0.12844593</td><td>M</td></tr>\n",
       "</tbody>\n",
       "</table>\n"
      ],
      "text/latex": [
       "A tibble: 5 × 3\n",
       "\\begin{tabular}{lll}\n",
       " Symmetry & Radius & Class\\\\\n",
       " <dbl> & <dbl> & <fct>\\\\\n",
       "\\hline\n",
       "\t -0.4117765 & -0.05983351 & B\\\\\n",
       "\t  3.6614466 & -0.10948962 & M\\\\\n",
       "\t -0.9241621 & -0.82950329 & B\\\\\n",
       "\t -0.4796636 & -0.79019220 & B\\\\\n",
       "\t  0.9201028 &  0.12844593 & M\\\\\n",
       "\\end{tabular}\n"
      ],
      "text/markdown": [
       "\n",
       "A tibble: 5 × 3\n",
       "\n",
       "| Symmetry &lt;dbl&gt; | Radius &lt;dbl&gt; | Class &lt;fct&gt; |\n",
       "|---|---|---|\n",
       "| -0.4117765 | -0.05983351 | B |\n",
       "|  3.6614466 | -0.10948962 | M |\n",
       "| -0.9241621 | -0.82950329 | B |\n",
       "| -0.4796636 | -0.79019220 | B |\n",
       "|  0.9201028 |  0.12844593 | M |\n",
       "\n"
      ],
      "text/plain": [
       "  Symmetry   Radius      Class\n",
       "1 -0.4117765 -0.05983351 B    \n",
       "2  3.6614466 -0.10948962 M    \n",
       "3 -0.9241621 -0.82950329 B    \n",
       "4 -0.4796636 -0.79019220 B    \n",
       "5  0.9201028  0.12844593 M    "
      ]
     },
     "metadata": {},
     "output_type": "display_data"
    }
   ],
   "source": [
    "#set.seed(20)                           \n",
    "#... <- sample_n(cancer, 5) |>  \n",
    "#    select(...) \n",
    "\n",
    "set.seed(20)                           \n",
    "small_sample <- sample_n(cancer, 5) |>  \n",
    "    select(Symmetry,  Radius , Class) \n",
    "\n",
    "small_sample "
   ]
  },
  {
   "cell_type": "code",
   "execution_count": 53,
   "metadata": {
    "deletable": false,
    "editable": false,
    "nbgrader": {
     "cell_type": "code",
     "checksum": "4cd7adaefc8a7ab8ee2d963d769c9b33",
     "grade": true,
     "grade_id": "cell-48197ca917cfaeb9",
     "locked": true,
     "points": 1,
     "schema_version": 3,
     "solution": false,
     "task": false
    }
   },
   "outputs": [
    {
     "name": "stdout",
     "output_type": "stream",
     "text": [
      "\u001b[32mTest passed\u001b[39m 😀\n",
      "\u001b[32mTest passed\u001b[39m 😸\n",
      "\u001b[32mTest passed\u001b[39m 🥇\n",
      "\u001b[32mTest passed\u001b[39m 😀\n",
      "[1] \"Success!\"\n"
     ]
    }
   ],
   "source": [
    "test_2.0.0()"
   ]
  },
  {
   "cell_type": "markdown",
   "metadata": {
    "deletable": false,
    "editable": false,
    "nbgrader": {
     "cell_type": "markdown",
     "checksum": "65b09d6f593ddda5c29ebd46f486d0ac",
     "grade": false,
     "grade_id": "cell-d85472a31a22f709",
     "locked": true,
     "schema_version": 3,
     "solution": false,
     "task": false
    }
   },
   "source": [
    "**Question 2.0.1**\n",
    "<br> {points: 1}\n",
    "\n",
    "Finally, create a scatter plot where `Symmetry` is on the x-axis, and `Radius` is on the y-axis. Color the points by `Class`. Name your plot `small_sample_plot`.\n",
    "\n",
    "Fill in the `...` in the scaffolding provided below.\n",
    "\n",
    "As you create this plot, ensure you follow the guidelines for creating effective visualizations. In particular, note on the plot axes whether the data is standardized or not."
   ]
  },
  {
   "cell_type": "code",
   "execution_count": 59,
   "metadata": {
    "deletable": false,
    "nbgrader": {
     "cell_type": "code",
     "checksum": "705fc2c7f37879334185164f192714a6",
     "grade": false,
     "grade_id": "cell-7b3aa8c412086b6a",
     "locked": false,
     "schema_version": 3,
     "solution": true
    }
   },
   "outputs": [
    {
     "data": {
      "image/png": "[encoded data removed]",
      "text/plain": [
       "plot without title"
      ]
     },
     "metadata": {
      "image/png": {
       "height": 420,
       "width": 600
      }
     },
     "output_type": "display_data"
    }
   ],
   "source": [
    "#... <- ...|>   \n",
    "#    ggplot(...) + \n",
    "#        geom_...() +\n",
    "#        ...\n",
    "options(repr.plot.width = 10, repr.plot.height = 7)\n",
    "\n",
    "\n",
    "small_sample_plot <- small_sample |>   \n",
    "   ggplot(aes(x = Symmetry, y =Radius , color = Class )) + \n",
    "       geom_point() +\n",
    "       labs( x = \"Symmetry ( Standardized)\", y = \"Radius( Standardized)\")\n",
    "small_sample_plot"
   ]
  },
  {
   "cell_type": "code",
   "execution_count": 60,
   "metadata": {
    "deletable": false,
    "editable": false,
    "nbgrader": {
     "cell_type": "code",
     "checksum": "2130cb22c9cfe13b0c104748c04795c0",
     "grade": true,
     "grade_id": "cell-c224b6ae53340848",
     "locked": true,
     "points": 1,
     "schema_version": 3,
     "solution": false
    }
   },
   "outputs": [
    {
     "name": "stdout",
     "output_type": "stream",
     "text": [
      "\u001b[32mTest passed\u001b[39m 😀\n",
      "\u001b[32mTest passed\u001b[39m 🥇\n",
      "\u001b[32mTest passed\u001b[39m 🥳\n",
      "\u001b[32mTest passed\u001b[39m 😀\n",
      "\u001b[32mTest passed\u001b[39m 🎉\n",
      "\u001b[32mTest passed\u001b[39m 🥇\n",
      "\u001b[32mTest passed\u001b[39m 🥳\n",
      "[1] \"Success!\"\n"
     ]
    }
   ],
   "source": [
    "test_2.0.1()"
   ]
  },
  {
   "cell_type": "markdown",
   "metadata": {
    "deletable": false,
    "editable": false,
    "nbgrader": {
     "cell_type": "markdown",
     "checksum": "e7ba490c5397a235d31b15b481149abc",
     "grade": false,
     "grade_id": "cell-ea9b69d1eb8ef76c",
     "locked": true,
     "schema_version": 3,
     "solution": false
    }
   },
   "source": [
    "**Question 2.1** \n",
    "<br> {points: 1}\n",
    "\n",
    "Suppose we are interested in classifying a new observation with `Symmetry = 0.5` and `Radius = 0`, but unknown `Class`. Using the `small_sample` data frame, add another row with `Symmetry = 0.5`, `Radius = 0`, and `Class = \"unknown\"`.\n",
    "\n",
    "Fill in the `...` in the scaffolding provided below.\n",
    "\n",
    "*Assign your answer to an object called `newData`.*"
   ]
  },
  {
   "cell_type": "code",
   "execution_count": 63,
   "metadata": {
    "deletable": false,
    "nbgrader": {
     "cell_type": "code",
     "checksum": "d4fbdea0a00abdb589989adbd58a8f81",
     "grade": false,
     "grade_id": "cell-96047e4736208b46",
     "locked": false,
     "schema_version": 3,
     "solution": true
    }
   },
   "outputs": [
    {
     "data": {
      "text/html": [
       "<table class=\"dataframe\">\n",
       "<caption>A tibble: 6 × 3</caption>\n",
       "<thead>\n",
       "\t<tr><th scope=col>Symmetry</th><th scope=col>Radius</th><th scope=col>Class</th></tr>\n",
       "\t<tr><th scope=col>&lt;dbl&gt;</th><th scope=col>&lt;dbl&gt;</th><th scope=col>&lt;chr&gt;</th></tr>\n",
       "</thead>\n",
       "<tbody>\n",
       "\t<tr><td>-0.4117765</td><td>-0.05983351</td><td>B      </td></tr>\n",
       "\t<tr><td> 3.6614466</td><td>-0.10948962</td><td>M      </td></tr>\n",
       "\t<tr><td>-0.9241621</td><td>-0.82950329</td><td>B      </td></tr>\n",
       "\t<tr><td>-0.4796636</td><td>-0.79019220</td><td>B      </td></tr>\n",
       "\t<tr><td> 0.9201028</td><td> 0.12844593</td><td>M      </td></tr>\n",
       "\t<tr><td> 0.5000000</td><td> 0.00000000</td><td>unknown</td></tr>\n",
       "</tbody>\n",
       "</table>\n"
      ],
      "text/latex": [
       "A tibble: 6 × 3\n",
       "\\begin{tabular}{lll}\n",
       " Symmetry & Radius & Class\\\\\n",
       " <dbl> & <dbl> & <chr>\\\\\n",
       "\\hline\n",
       "\t -0.4117765 & -0.05983351 & B      \\\\\n",
       "\t  3.6614466 & -0.10948962 & M      \\\\\n",
       "\t -0.9241621 & -0.82950329 & B      \\\\\n",
       "\t -0.4796636 & -0.79019220 & B      \\\\\n",
       "\t  0.9201028 &  0.12844593 & M      \\\\\n",
       "\t  0.5000000 &  0.00000000 & unknown\\\\\n",
       "\\end{tabular}\n"
      ],
      "text/markdown": [
       "\n",
       "A tibble: 6 × 3\n",
       "\n",
       "| Symmetry &lt;dbl&gt; | Radius &lt;dbl&gt; | Class &lt;chr&gt; |\n",
       "|---|---|---|\n",
       "| -0.4117765 | -0.05983351 | B       |\n",
       "|  3.6614466 | -0.10948962 | M       |\n",
       "| -0.9241621 | -0.82950329 | B       |\n",
       "| -0.4796636 | -0.79019220 | B       |\n",
       "|  0.9201028 |  0.12844593 | M       |\n",
       "|  0.5000000 |  0.00000000 | unknown |\n",
       "\n"
      ],
      "text/plain": [
       "  Symmetry   Radius      Class  \n",
       "1 -0.4117765 -0.05983351 B      \n",
       "2  3.6614466 -0.10948962 M      \n",
       "3 -0.9241621 -0.82950329 B      \n",
       "4 -0.4796636 -0.79019220 B      \n",
       "5  0.9201028  0.12844593 M      \n",
       "6  0.5000000  0.00000000 unknown"
      ]
     },
     "metadata": {},
     "output_type": "display_data"
    }
   ],
   "source": [
    "#... <- ... |>\n",
    "#    add_row(Symmetry = ..., ... = 0, Class = ...)\n",
    "\n",
    "newData <- small_sample  |>\n",
    "    add_row(Symmetry =  0.5, Radius = 0, Class = \"unknown\")\n",
    "newData"
   ]
  },
  {
   "cell_type": "code",
   "execution_count": 64,
   "metadata": {
    "deletable": false,
    "editable": false,
    "nbgrader": {
     "cell_type": "code",
     "checksum": "172c1af3e9de0e0cd02ecd8d797ae581",
     "grade": true,
     "grade_id": "cell-136ec7a4a7af2698",
     "locked": true,
     "points": 1,
     "schema_version": 3,
     "solution": false
    }
   },
   "outputs": [
    {
     "name": "stdout",
     "output_type": "stream",
     "text": [
      "\u001b[32mTest passed\u001b[39m 😸\n",
      "\u001b[32mTest passed\u001b[39m 🥇\n",
      "\u001b[32mTest passed\u001b[39m 😸\n",
      "\u001b[32mTest passed\u001b[39m 😀\n",
      "\u001b[32mTest passed\u001b[39m 🌈\n",
      "[1] \"Success!\"\n"
     ]
    }
   ],
   "source": [
    "test_2.1()"
   ]
  },
  {
   "cell_type": "markdown",
   "metadata": {
    "deletable": false,
    "editable": false,
    "nbgrader": {
     "cell_type": "markdown",
     "checksum": "0d3fe2ac11c97a99e8aa8891da1d9026",
     "grade": false,
     "grade_id": "cell-0c2e46a6b87bc2f2",
     "locked": true,
     "schema_version": 3,
     "solution": false
    }
   },
   "source": [
    "**Question 2.2**\n",
    "<br> {points: 1}\n",
    "\n",
    "Compute the distance between each pair of the 6 observations in the `newData` dataframe using the `dist()` function based on two variables: `Symmetry` and `Radius`. Fill in the `...` in the scaffolding provided below.\n",
    "\n",
    "\n",
    "*Assign your answer to an object called `dist_matrix`.*"
   ]
  },
  {
   "cell_type": "code",
   "execution_count": 66,
   "metadata": {
    "deletable": false,
    "nbgrader": {
     "cell_type": "code",
     "checksum": "6fe7d0ab4554c73800cae281037220a5",
     "grade": false,
     "grade_id": "cell-e08fcfbf45d4e190",
     "locked": false,
     "schema_version": 3,
     "solution": true
    }
   },
   "outputs": [
    {
     "data": {
      "text/html": [
       "<table class=\"dataframe\">\n",
       "<caption>A matrix: 6 × 6 of type dbl</caption>\n",
       "<thead>\n",
       "\t<tr><th></th><th scope=col>1</th><th scope=col>2</th><th scope=col>3</th><th scope=col>4</th><th scope=col>5</th><th scope=col>6</th></tr>\n",
       "</thead>\n",
       "<tbody>\n",
       "\t<tr><th scope=row>1</th><td>0.0000000</td><td>4.073526</td><td>0.9246246</td><td>0.7335070</td><td>1.3451214</td><td>0.9137376</td></tr>\n",
       "\t<tr><th scope=row>2</th><td>4.0735258</td><td>0.000000</td><td>4.6417914</td><td>4.1966832</td><td>2.7516503</td><td>3.1633420</td></tr>\n",
       "\t<tr><th scope=row>3</th><td>0.9246246</td><td>4.641791</td><td>0.0000000</td><td>0.4462335</td><td>2.0782155</td><td>1.6481242</td></tr>\n",
       "\t<tr><th scope=row>4</th><td>0.7335070</td><td>4.196683</td><td>0.4462335</td><td>0.0000000</td><td>1.6742885</td><td>1.2586280</td></tr>\n",
       "\t<tr><th scope=row>5</th><td>1.3451214</td><td>2.751650</td><td>2.0782155</td><td>1.6742885</td><td>0.0000000</td><td>0.4393002</td></tr>\n",
       "\t<tr><th scope=row>6</th><td>0.9137376</td><td>3.163342</td><td>1.6481242</td><td>1.2586280</td><td>0.4393002</td><td>0.0000000</td></tr>\n",
       "</tbody>\n",
       "</table>\n"
      ],
      "text/latex": [
       "A matrix: 6 × 6 of type dbl\n",
       "\\begin{tabular}{r|llllll}\n",
       "  & 1 & 2 & 3 & 4 & 5 & 6\\\\\n",
       "\\hline\n",
       "\t1 & 0.0000000 & 4.073526 & 0.9246246 & 0.7335070 & 1.3451214 & 0.9137376\\\\\n",
       "\t2 & 4.0735258 & 0.000000 & 4.6417914 & 4.1966832 & 2.7516503 & 3.1633420\\\\\n",
       "\t3 & 0.9246246 & 4.641791 & 0.0000000 & 0.4462335 & 2.0782155 & 1.6481242\\\\\n",
       "\t4 & 0.7335070 & 4.196683 & 0.4462335 & 0.0000000 & 1.6742885 & 1.2586280\\\\\n",
       "\t5 & 1.3451214 & 2.751650 & 2.0782155 & 1.6742885 & 0.0000000 & 0.4393002\\\\\n",
       "\t6 & 0.9137376 & 3.163342 & 1.6481242 & 1.2586280 & 0.4393002 & 0.0000000\\\\\n",
       "\\end{tabular}\n"
      ],
      "text/markdown": [
       "\n",
       "A matrix: 6 × 6 of type dbl\n",
       "\n",
       "| <!--/--> | 1 | 2 | 3 | 4 | 5 | 6 |\n",
       "|---|---|---|---|---|---|---|\n",
       "| 1 | 0.0000000 | 4.073526 | 0.9246246 | 0.7335070 | 1.3451214 | 0.9137376 |\n",
       "| 2 | 4.0735258 | 0.000000 | 4.6417914 | 4.1966832 | 2.7516503 | 3.1633420 |\n",
       "| 3 | 0.9246246 | 4.641791 | 0.0000000 | 0.4462335 | 2.0782155 | 1.6481242 |\n",
       "| 4 | 0.7335070 | 4.196683 | 0.4462335 | 0.0000000 | 1.6742885 | 1.2586280 |\n",
       "| 5 | 1.3451214 | 2.751650 | 2.0782155 | 1.6742885 | 0.0000000 | 0.4393002 |\n",
       "| 6 | 0.9137376 | 3.163342 | 1.6481242 | 1.2586280 | 0.4393002 | 0.0000000 |\n",
       "\n"
      ],
      "text/plain": [
       "  1         2        3         4         5         6        \n",
       "1 0.0000000 4.073526 0.9246246 0.7335070 1.3451214 0.9137376\n",
       "2 4.0735258 0.000000 4.6417914 4.1966832 2.7516503 3.1633420\n",
       "3 0.9246246 4.641791 0.0000000 0.4462335 2.0782155 1.6481242\n",
       "4 0.7335070 4.196683 0.4462335 0.0000000 1.6742885 1.2586280\n",
       "5 1.3451214 2.751650 2.0782155 1.6742885 0.0000000 0.4393002\n",
       "6 0.9137376 3.163342 1.6481242 1.2586280 0.4393002 0.0000000"
      ]
     },
     "metadata": {},
     "output_type": "display_data"
    }
   ],
   "source": [
    "# ... <- newData |>\n",
    "#    select(..., ...) |> \n",
    "#    ...() |>                   \n",
    "#    as.matrix() \n",
    "\n",
    "dist_matrix <- newData |>\n",
    "   select(Symmetry ,Radius) |> \n",
    "   dist() |>                   \n",
    "   as.matrix()\n",
    "dist_matrix"
   ]
  },
  {
   "cell_type": "code",
   "execution_count": 67,
   "metadata": {
    "deletable": false,
    "editable": false,
    "nbgrader": {
     "cell_type": "code",
     "checksum": "3bf9b955bfaaf417e44e1bb7ad8a1fd6",
     "grade": true,
     "grade_id": "cell-a8cd3d77bfcea0b0",
     "locked": true,
     "points": 1,
     "schema_version": 3,
     "solution": false
    }
   },
   "outputs": [
    {
     "name": "stdout",
     "output_type": "stream",
     "text": [
      "\u001b[32mTest passed\u001b[39m 🥇\n",
      "\u001b[32mTest passed\u001b[39m 🎉\n",
      "\u001b[32mTest passed\u001b[39m 🥇\n",
      "\u001b[32mTest passed\u001b[39m 🥇\n",
      "[1] \"Success!\"\n"
     ]
    }
   ],
   "source": [
    "test_2.2()"
   ]
  },
  {
   "cell_type": "markdown",
   "metadata": {
    "deletable": false,
    "editable": false,
    "nbgrader": {
     "cell_type": "markdown",
     "checksum": "75246e5c9a163aa36c4d1968bafa03f3",
     "grade": false,
     "grade_id": "cell-aba0edb4c4788627",
     "locked": true,
     "schema_version": 3,
     "solution": false
    }
   },
   "source": [
    "**Question 2.3** Multiple Choice:\n",
    "<br> {points: 1}\n",
    "\n",
    "In the table above, the row and column numbers reflect the row number from the data frame the `dist` function was applied to. Thus numbers 1 - 5 were the points/observations from rows 1 - 5 in the `small_sample` data frame. Row 6 was the new observation that we do not know the diagnosis class for.  The values in `dist_matrix` are the distances between the points of the row and column number. For example, the distance between the point 2 and point 4 is 4.196683. And the distance between point 3 and point 3 (the same point) is 0.\n",
    "\n",
    "**Which observation is the nearest to our new point?**\n",
    "\n",
    "*Assign your answer to an object called `answer2.3`. Make sure your answer is a number. Remember to surround your answer with quotation marks (e.g. \"8\").*"
   ]
  },
  {
   "cell_type": "code",
   "execution_count": 72,
   "metadata": {
    "deletable": false,
    "nbgrader": {
     "cell_type": "code",
     "checksum": "124e96262558bf10c0cd6ed73da6697c",
     "grade": false,
     "grade_id": "cell-bdbdb888f697f310",
     "locked": false,
     "schema_version": 3,
     "solution": true
    }
   },
   "outputs": [],
   "source": [
    "answer2.3 <- \"5\""
   ]
  },
  {
   "cell_type": "code",
   "execution_count": 73,
   "metadata": {
    "deletable": false,
    "editable": false,
    "nbgrader": {
     "cell_type": "code",
     "checksum": "c2bfac11d9d1b5449722831109f9f8b5",
     "grade": true,
     "grade_id": "cell-371a2959d06316e2",
     "locked": true,
     "points": 1,
     "schema_version": 3,
     "solution": false
    }
   },
   "outputs": [
    {
     "name": "stdout",
     "output_type": "stream",
     "text": [
      "\u001b[32mTest passed\u001b[39m 🥳\n",
      "[1] \"Success!\"\n"
     ]
    }
   ],
   "source": [
    "test_2.3()"
   ]
  },
  {
   "cell_type": "markdown",
   "metadata": {
    "deletable": false,
    "editable": false,
    "nbgrader": {
     "cell_type": "markdown",
     "checksum": "87c51d71ec1e84ec865ad404122a116e",
     "grade": false,
     "grade_id": "cell-d2210381e32e3b13",
     "locked": true,
     "schema_version": 3,
     "solution": false
    }
   },
   "source": [
    "**Question 2.4** Multiple Choice: \n",
    "<br> {points: 1}\n",
    "\n",
    "Use the K-nearest neighbour classification algorithm with K = 1 to classify the new observation using your answers to **Questions 2.2 & 2.3**. Is the new data point predicted to be benign or malignant?\n",
    "\n",
    "*Assign your answer to an object called `answer2.4`. Make sure the correct answer is written fully as either \"Benign\" or \"Malignant\". Remember to surround your answer with quotation marks.* "
   ]
  },
  {
   "cell_type": "code",
   "execution_count": 74,
   "metadata": {
    "deletable": false,
    "nbgrader": {
     "cell_type": "code",
     "checksum": "cff068704755e2974a7288b291e3d919",
     "grade": false,
     "grade_id": "cell-22366d4a160c0c16",
     "locked": false,
     "schema_version": 3,
     "solution": true
    }
   },
   "outputs": [],
   "source": [
    "# Replace the fail() with your answer. \n",
    "\n",
    "# your code here\n",
    "answer2.4 <- \"Malignant\""
   ]
  },
  {
   "cell_type": "code",
   "execution_count": 75,
   "metadata": {
    "deletable": false,
    "editable": false,
    "nbgrader": {
     "cell_type": "code",
     "checksum": "a18827af1417483509d5b48f65f643be",
     "grade": true,
     "grade_id": "cell-bf715d3502c96d7e",
     "locked": true,
     "points": 1,
     "schema_version": 3,
     "solution": false
    }
   },
   "outputs": [
    {
     "name": "stdout",
     "output_type": "stream",
     "text": [
      "\u001b[32mTest passed\u001b[39m 🥳\n",
      "[1] \"Success!\"\n"
     ]
    }
   ],
   "source": [
    "test_2.4()"
   ]
  },
  {
   "cell_type": "markdown",
   "metadata": {
    "deletable": false,
    "editable": false,
    "nbgrader": {
     "cell_type": "markdown",
     "checksum": "0244fb522bda932f1058b66a117de9f2",
     "grade": false,
     "grade_id": "cell-066b94daf2bb2b53",
     "locked": true,
     "schema_version": 3,
     "solution": false
    }
   },
   "source": [
    "**Question 2.5** Multiple Choice:\n",
    "<br> {points: 1}\n",
    "\n",
    "Using your answers to **Questions 2.2 & 2.3**, what are the three closest observations to your new point?\n",
    "\n",
    "A. 1, 3, 2\n",
    "\n",
    "B. 5, 1, 4\n",
    "\n",
    "C. 5, 2, 4\n",
    "\n",
    "D. 3, 4, 2\n",
    "\n",
    "*Assign your answer to an object called `answer2.5`. Make sure the correct answer is an uppercase letter. Remember to surround your answer with quotation marks (e.g. \"F\").*"
   ]
  },
  {
   "cell_type": "code",
   "execution_count": 76,
   "metadata": {
    "deletable": false,
    "nbgrader": {
     "cell_type": "code",
     "checksum": "0299254b362c391175e0fc0c6067752d",
     "grade": false,
     "grade_id": "cell-559773dc29d9781f",
     "locked": false,
     "schema_version": 3,
     "solution": true
    }
   },
   "outputs": [],
   "source": [
    "answer2.5 <- \"B\""
   ]
  },
  {
   "cell_type": "code",
   "execution_count": 77,
   "metadata": {
    "deletable": false,
    "editable": false,
    "nbgrader": {
     "cell_type": "code",
     "checksum": "48325525ddd3bcc61c9e5bf5ad222cb0",
     "grade": true,
     "grade_id": "cell-377f6fc0e8af55a9",
     "locked": true,
     "points": 1,
     "schema_version": 3,
     "solution": false
    }
   },
   "outputs": [
    {
     "name": "stdout",
     "output_type": "stream",
     "text": [
      "\u001b[32mTest passed\u001b[39m 🎉\n",
      "[1] \"Success!\"\n"
     ]
    }
   ],
   "source": [
    "test_2.5()"
   ]
  },
  {
   "cell_type": "markdown",
   "metadata": {
    "deletable": false,
    "editable": false,
    "nbgrader": {
     "cell_type": "markdown",
     "checksum": "9dc81abe7a83b07b2d98f8c0e43fbc6d",
     "grade": false,
     "grade_id": "cell-bf7fd236053daada",
     "locked": true,
     "schema_version": 3,
     "solution": false
    }
   },
   "source": [
    "**Question 2.6** Multiple Choice: \n",
    "<br> {points: 1}\n",
    "\n",
    "We will now use the K-nearest neighbour classification algorithm with K = 3 to classify the new observation using your answers to **Questions 2.2 & 2.3**. Is the new data point predicted to be benign or malignant?\n",
    "\n",
    "*Assign your answer to an object called `answer2.6`. Make sure the correct answer is written fully. Remember to surround your answer with quotation marks (e.g. \"Benign\" / \"Malignant\").*"
   ]
  },
  {
   "cell_type": "code",
   "execution_count": 80,
   "metadata": {
    "deletable": false,
    "nbgrader": {
     "cell_type": "code",
     "checksum": "2ab3dfb491f9aba64880cd4fdbd6743e",
     "grade": false,
     "grade_id": "cell-258763f514ce8d52",
     "locked": false,
     "schema_version": 3,
     "solution": true
    }
   },
   "outputs": [],
   "source": [
    "answer2.6 <- \"Benign\""
   ]
  },
  {
   "cell_type": "code",
   "execution_count": 81,
   "metadata": {
    "deletable": false,
    "editable": false,
    "nbgrader": {
     "cell_type": "code",
     "checksum": "cf58434b2c30497c1ea50bf6bb9ba049",
     "grade": true,
     "grade_id": "cell-2a8fd7a3457fb02a",
     "locked": true,
     "points": 1,
     "schema_version": 3,
     "solution": false
    }
   },
   "outputs": [
    {
     "name": "stdout",
     "output_type": "stream",
     "text": [
      "\u001b[32mTest passed\u001b[39m 🎉\n",
      "[1] \"Success!\"\n"
     ]
    }
   ],
   "source": [
    "test_2.6()"
   ]
  },
  {
   "cell_type": "markdown",
   "metadata": {
    "deletable": false,
    "editable": false,
    "nbgrader": {
     "cell_type": "markdown",
     "checksum": "8b9c8dfd23cd4c67631ac62411b20d8c",
     "grade": false,
     "grade_id": "cell-070238e3e7380252",
     "locked": true,
     "schema_version": 3,
     "solution": false
    }
   },
   "source": [
    "**Question 2.7**\n",
    "<br> {points: 1}\n",
    "\n",
    "Compare your answers in 2.4 and 2.6. Are they the same?\n",
    "\n",
    "*Assign your answer to an object called `answer2.7`. Make sure the correct answer is written in lower-case. Remember to surround your answer with quotation marks (e.g. \"yes\" / \"no\").* "
   ]
  },
  {
   "cell_type": "code",
   "execution_count": 82,
   "metadata": {
    "deletable": false,
    "nbgrader": {
     "cell_type": "code",
     "checksum": "2850a8be658a9e68a29b404fd4c54692",
     "grade": false,
     "grade_id": "cell-5eb56b54aae58afa",
     "locked": false,
     "schema_version": 3,
     "solution": true
    }
   },
   "outputs": [],
   "source": [
    "answer2.7 <- \"no\""
   ]
  },
  {
   "cell_type": "code",
   "execution_count": 83,
   "metadata": {
    "deletable": false,
    "editable": false,
    "nbgrader": {
     "cell_type": "code",
     "checksum": "106bb7aa32e0bf0667f7619e4010aef9",
     "grade": true,
     "grade_id": "cell-067dc96bdc43046c",
     "locked": true,
     "points": 1,
     "schema_version": 3,
     "solution": false
    }
   },
   "outputs": [
    {
     "name": "stdout",
     "output_type": "stream",
     "text": [
      "\u001b[32mTest passed\u001b[39m 🥇\n",
      "[1] \"Success!\"\n"
     ]
    }
   ],
   "source": [
    "test_2.7()"
   ]
  },
  {
   "cell_type": "markdown",
   "metadata": {
    "deletable": false,
    "editable": false,
    "nbgrader": {
     "cell_type": "markdown",
     "checksum": "dd1ed6b02cd48bc716b9f41fbc311187",
     "grade": false,
     "grade_id": "cell-c279ff71adbb5d92",
     "locked": true,
     "schema_version": 3,
     "solution": false,
     "task": false
    }
   },
   "source": [
    "## 3. Using `tidymodels` to perform k-nearest neighbours\n",
    "\n",
    "Now that we understand how K-nearest neighbours (k-nn) classification works, let's get familar with the `tidymodels` R package. The benefit of using `tidymodels` is that it will keep our code simple, readable and accurate. Coding less and in a tidier format means that there is less chance for errors to occur.  \n",
    "\n",
    "We'll again focus on `Radius` and `Symmetry` as the two predictors. This time, we would like to predict the class of a new observation with `Symmetry = 1` and `Radius = 0`. This one is a bit tricky to do visually from the plot below, and so is a motivating example for us to compute the prediction using k-nn with the `tidymodels` package. Let's use `K = 7`."
   ]
  },
  {
   "cell_type": "code",
   "execution_count": 84,
   "metadata": {},
   "outputs": [
    {
     "data": {
      "image/png": "[encoded data removed]",
      "text/plain": [
       "plot without title"
      ]
     },
     "metadata": {
      "image/png": {
       "height": 360,
       "width": 480
      }
     },
     "output_type": "display_data"
    }
   ],
   "source": [
    "options(repr.plot.width = 8, repr.plot.height = 6) # you can change the size of the plot if it is too small or too large \n",
    "cancer_plot"
   ]
  },
  {
   "cell_type": "markdown",
   "metadata": {
    "deletable": false,
    "editable": false,
    "nbgrader": {
     "cell_type": "markdown",
     "checksum": "59bf5a0da7ff5ce9211fe45c7ce9ed38",
     "grade": false,
     "grade_id": "cell-0be2bf18a64cc945",
     "locked": true,
     "schema_version": 3,
     "solution": false
    }
   },
   "source": [
    "**Question 3.1** \n",
    "<br> {points: 1}\n",
    "\n",
    "Create a **model specification** for K-nearest neighbours classification by using the `nearest_neighbor()` function. Specify that we want to set `k = 7` and use the *straight-line distance*. Furthermore, specify the *computational engine* to be `\"kknn\"` for training the model with the `set_engine()` function. Finally, identify that this is a *classification* problem with the `set_mode()` function. \n",
    "\n",
    "Name your model specification `knn_spec`."
   ]
  },
  {
   "cell_type": "code",
   "execution_count": 98,
   "metadata": {
    "deletable": false,
    "nbgrader": {
     "cell_type": "code",
     "checksum": "07e6bbce5853bbe87a3f342373a11bcf",
     "grade": false,
     "grade_id": "cell-6c32562496f83241",
     "locked": false,
     "schema_version": 3,
     "solution": true,
     "task": false
    }
   },
   "outputs": [
    {
     "data": {
      "text/plain": [
       "K-Nearest Neighbor Model Specification (classification)\n",
       "\n",
       "Main Arguments:\n",
       "  neighbors = 7\n",
       "  weight_func = rectangular\n",
       "\n",
       "Computational engine: kknn \n"
      ]
     },
     "metadata": {},
     "output_type": "display_data"
    }
   ],
   "source": [
    "#... <- nearest_neighbor(weight_func = ..., neighbors = ...) |>\n",
    "#       set_engine(...) |>\n",
    "#       set_mode(...)\n",
    "\n",
    "knn_spec <- nearest_neighbor(weight_func =  \"rectangular\", neighbors = 7 ) |>\n",
    "      set_engine(\"kknn\") |>\n",
    "      set_mode(\"classification\")\n",
    "\n",
    "knn_spec"
   ]
  },
  {
   "cell_type": "code",
   "execution_count": 90,
   "metadata": {
    "deletable": false,
    "editable": false,
    "nbgrader": {
     "cell_type": "code",
     "checksum": "3a6aeabb8aefaf13d1c1e599b7a03be4",
     "grade": true,
     "grade_id": "cell-685a4e4330f23a90",
     "locked": true,
     "points": 1,
     "schema_version": 3,
     "solution": false
    }
   },
   "outputs": [
    {
     "name": "stdout",
     "output_type": "stream",
     "text": [
      "\u001b[32mTest passed\u001b[39m 😸\n",
      "\u001b[32mTest passed\u001b[39m 🥇\n",
      "\u001b[32mTest passed\u001b[39m 😀\n",
      "\u001b[32mTest passed\u001b[39m 😀\n",
      "\u001b[32mTest passed\u001b[39m 😀\n",
      "[1] \"Success!\"\n"
     ]
    }
   ],
   "source": [
    "test_3.1()"
   ]
  },
  {
   "cell_type": "markdown",
   "metadata": {
    "deletable": false,
    "editable": false,
    "nbgrader": {
     "cell_type": "markdown",
     "checksum": "931cd9aa0e442dc33eeb0507e36b68b3",
     "grade": false,
     "grade_id": "cell-5ccafffc3a34805b",
     "locked": true,
     "schema_version": 3,
     "solution": false
    }
   },
   "source": [
    "**Question 3.2**\n",
    "<br> {points: 1}\n",
    "\n",
    "To train the model on the breast cancer dataset, pass `knn_spec` and the `cancer` dataset to the `fit()` function. Specify `Class` as your target variable and the `Symmetry` and `Radius` variables as your predictors. Name your fitted model as `knn_fit`."
   ]
  },
  {
   "cell_type": "code",
   "execution_count": 91,
   "metadata": {
    "deletable": false,
    "nbgrader": {
     "cell_type": "code",
     "checksum": "0d5ee8a23f0fe2e9f7184475060df223",
     "grade": false,
     "grade_id": "cell-cdee2d8667038f6a",
     "locked": false,
     "schema_version": 3,
     "solution": true
    }
   },
   "outputs": [
    {
     "data": {
      "text/plain": [
       "parsnip model object\n",
       "\n",
       "\n",
       "Call:\n",
       "kknn::train.kknn(formula = Class ~ Symmetry + Radius, data = data,     ks = min_rows(7, data, 5), kernel = ~\"rectangular\")\n",
       "\n",
       "Type of response variable: nominal\n",
       "Minimal misclassification: 0.07029877\n",
       "Best kernel: rectangular\n",
       "Best k: 7"
      ]
     },
     "metadata": {},
     "output_type": "display_data"
    }
   ],
   "source": [
    "# ... <- ... |> \n",
    "#        fit(... ~ Symmetry + ..., data = ...)\n",
    "\n",
    "knn_fit <- knn_spec |> \n",
    "       fit(Class ~ Symmetry + Radius, data = cancer)\n",
    "\n",
    "knn_fit"
   ]
  },
  {
   "cell_type": "code",
   "execution_count": 92,
   "metadata": {
    "deletable": false,
    "editable": false,
    "nbgrader": {
     "cell_type": "code",
     "checksum": "34c98e8f1ab790d8e078c5724b7516b6",
     "grade": true,
     "grade_id": "cell-f99ed1dee272d06a",
     "locked": true,
     "points": 1,
     "schema_version": 3,
     "solution": false
    }
   },
   "outputs": [
    {
     "name": "stdout",
     "output_type": "stream",
     "text": [
      "\u001b[32mTest passed\u001b[39m 🎊\n",
      "\u001b[32mTest passed\u001b[39m 🎉\n",
      "\u001b[32mTest passed\u001b[39m 🎉\n",
      "\u001b[32mTest passed\u001b[39m 🥇\n",
      "\u001b[32mTest passed\u001b[39m 🥳\n",
      "[1] \"Success!\"\n"
     ]
    }
   ],
   "source": [
    "test_3.2()"
   ]
  },
  {
   "cell_type": "markdown",
   "metadata": {
    "deletable": false,
    "editable": false,
    "nbgrader": {
     "cell_type": "markdown",
     "checksum": "e2d53ce7f3b5e8c0e13a596d1ee14542",
     "grade": false,
     "grade_id": "cell-51e9956deb5ca6fd",
     "locked": true,
     "schema_version": 3,
     "solution": false,
     "task": false
    }
   },
   "source": [
    "**Question 3.3**\n",
    "<br>{points: 1}\n",
    "\n",
    "Now we will make our prediction on the `Class` of a new observation with a `Symmetry` of 1 and a `Radius` of 0. First, create a tibble with these variables and values and call it `new_obs`. Next, use the `predict()` function to obtain our prediction by passing `knn_fit` and `new_obs` to it. Name your predicted class as `class_prediction`."
   ]
  },
  {
   "cell_type": "code",
   "execution_count": 94,
   "metadata": {
    "deletable": false,
    "nbgrader": {
     "cell_type": "code",
     "checksum": "c0b8378768da0253be228208e80da33d",
     "grade": false,
     "grade_id": "cell-29520122db413f38",
     "locked": false,
     "schema_version": 3,
     "solution": true,
     "task": false
    }
   },
   "outputs": [
    {
     "data": {
      "text/html": [
       "<table class=\"dataframe\">\n",
       "<caption>A tibble: 1 × 1</caption>\n",
       "<thead>\n",
       "\t<tr><th scope=col>.pred_class</th></tr>\n",
       "\t<tr><th scope=col>&lt;fct&gt;</th></tr>\n",
       "</thead>\n",
       "<tbody>\n",
       "\t<tr><td>M</td></tr>\n",
       "</tbody>\n",
       "</table>\n"
      ],
      "text/latex": [
       "A tibble: 1 × 1\n",
       "\\begin{tabular}{l}\n",
       " .pred\\_class\\\\\n",
       " <fct>\\\\\n",
       "\\hline\n",
       "\t M\\\\\n",
       "\\end{tabular}\n"
      ],
      "text/markdown": [
       "\n",
       "A tibble: 1 × 1\n",
       "\n",
       "| .pred_class &lt;fct&gt; |\n",
       "|---|\n",
       "| M |\n",
       "\n"
      ],
      "text/plain": [
       "  .pred_class\n",
       "1 M          "
      ]
     },
     "metadata": {},
     "output_type": "display_data"
    }
   ],
   "source": [
    "#... <- tibble(... = 1,... = 0)\n",
    "#... <- predict(..., ...)\n",
    "\n",
    "new_obs<- tibble(Symmetry = 1,Radius = 0)\n",
    "class_prediction<- predict(knn_fit, new_obs)\n",
    "\n",
    "class_prediction"
   ]
  },
  {
   "cell_type": "code",
   "execution_count": 95,
   "metadata": {
    "deletable": false,
    "editable": false,
    "nbgrader": {
     "cell_type": "code",
     "checksum": "ae979c972f6d32b28fbc784000e9a371",
     "grade": true,
     "grade_id": "cell-8ccf0ef821e9d0de",
     "locked": true,
     "points": 1,
     "schema_version": 3,
     "solution": false,
     "task": false
    }
   },
   "outputs": [
    {
     "name": "stdout",
     "output_type": "stream",
     "text": [
      "\u001b[32mTest passed\u001b[39m 🎉\n",
      "\u001b[32mTest passed\u001b[39m 🥳\n",
      "\u001b[32mTest passed\u001b[39m 🎉\n",
      "\u001b[32mTest passed\u001b[39m 🌈\n",
      "\u001b[32mTest passed\u001b[39m 🥳\n",
      "[1] \"Success!\"\n"
     ]
    }
   ],
   "source": [
    "test_3.3()"
   ]
  },
  {
   "cell_type": "markdown",
   "metadata": {
    "deletable": false,
    "editable": false,
    "nbgrader": {
     "cell_type": "markdown",
     "checksum": "73e59888d8f42e4de95bb1fba4c227e1",
     "grade": false,
     "grade_id": "cell-df0b5140effdf82e",
     "locked": true,
     "schema_version": 3,
     "solution": false
    }
   },
   "source": [
    "**Question 3.4**\n",
    "<br> {points: 1}\n",
    "\n",
    "Let's perform K-nearest neighbour classification again, but with three predictors. Use the `tidymodels` package and `K = 7` to classify a new observation where we measure `Symmetry = 1`, `Radius = 0` and `Concavity = 1`. Use the scaffolding from **Questions 3.2** and **3.3** to help you.\n",
    "\n",
    "- Pass the same `knn_spec` from before to `fit`, but this time specify `Symmetry`, `Radius`, and `Concavity` as the predictors. Store the output in `knn_fit_2`. \n",
    "- store the new observation values in an object called `new_obs_2`\n",
    "- store the output of `predict` in an object called `class_prediction_2`"
   ]
  },
  {
   "cell_type": "code",
   "execution_count": 110,
   "metadata": {
    "deletable": false,
    "nbgrader": {
     "cell_type": "code",
     "checksum": "8c25d24a9e0e975ddb6bfb6f76bcfbae",
     "grade": false,
     "grade_id": "cell-9ebae1c9d403b859",
     "locked": false,
     "schema_version": 3,
     "solution": true
    }
   },
   "outputs": [
    {
     "data": {
      "text/html": [
       "<table class=\"dataframe\">\n",
       "<caption>A tibble: 1 × 3</caption>\n",
       "<thead>\n",
       "\t<tr><th scope=col>Symmetry</th><th scope=col>Radius</th><th scope=col>Concavity</th></tr>\n",
       "\t<tr><th scope=col>&lt;dbl&gt;</th><th scope=col>&lt;dbl&gt;</th><th scope=col>&lt;dbl&gt;</th></tr>\n",
       "</thead>\n",
       "<tbody>\n",
       "\t<tr><td>1</td><td>0</td><td>1</td></tr>\n",
       "</tbody>\n",
       "</table>\n"
      ],
      "text/latex": [
       "A tibble: 1 × 3\n",
       "\\begin{tabular}{lll}\n",
       " Symmetry & Radius & Concavity\\\\\n",
       " <dbl> & <dbl> & <dbl>\\\\\n",
       "\\hline\n",
       "\t 1 & 0 & 1\\\\\n",
       "\\end{tabular}\n"
      ],
      "text/markdown": [
       "\n",
       "A tibble: 1 × 3\n",
       "\n",
       "| Symmetry &lt;dbl&gt; | Radius &lt;dbl&gt; | Concavity &lt;dbl&gt; |\n",
       "|---|---|---|\n",
       "| 1 | 0 | 1 |\n",
       "\n"
      ],
      "text/plain": [
       "  Symmetry Radius Concavity\n",
       "1 1        0      1        "
      ]
     },
     "metadata": {},
     "output_type": "display_data"
    },
    {
     "data": {
      "text/html": [
       "<table class=\"dataframe\">\n",
       "<caption>A tibble: 1 × 1</caption>\n",
       "<thead>\n",
       "\t<tr><th scope=col>.pred_class</th></tr>\n",
       "\t<tr><th scope=col>&lt;fct&gt;</th></tr>\n",
       "</thead>\n",
       "<tbody>\n",
       "\t<tr><td>M</td></tr>\n",
       "</tbody>\n",
       "</table>\n"
      ],
      "text/latex": [
       "A tibble: 1 × 1\n",
       "\\begin{tabular}{l}\n",
       " .pred\\_class\\\\\n",
       " <fct>\\\\\n",
       "\\hline\n",
       "\t M\\\\\n",
       "\\end{tabular}\n"
      ],
      "text/markdown": [
       "\n",
       "A tibble: 1 × 1\n",
       "\n",
       "| .pred_class &lt;fct&gt; |\n",
       "|---|\n",
       "| M |\n",
       "\n"
      ],
      "text/plain": [
       "  .pred_class\n",
       "1 M          "
      ]
     },
     "metadata": {},
     "output_type": "display_data"
    }
   ],
   "source": [
    "knn_fit_2 <- fit(knn_spec, data = cancer, Class ~ Symmetry + Radius + Concavity)\n",
    "new_obs_2 <- tibble(Symmetry = 1,Radius = 0, Concavity = 1)\n",
    "new_obs_2\n",
    "\n",
    "class_prediction_2 <- predict(knn_fit_2, new_obs_2)\n",
    "class_prediction_2"
   ]
  },
  {
   "cell_type": "code",
   "execution_count": 111,
   "metadata": {
    "deletable": false,
    "editable": false,
    "nbgrader": {
     "cell_type": "code",
     "checksum": "b4acfca4dc0761a033626a2b8b87a3bf",
     "grade": true,
     "grade_id": "cell-ae8bad16e80bdfef",
     "locked": true,
     "points": 1,
     "schema_version": 3,
     "solution": false
    }
   },
   "outputs": [
    {
     "name": "stdout",
     "output_type": "stream",
     "text": [
      "\u001b[32mTest passed\u001b[39m 🥳\n",
      "\u001b[32mTest passed\u001b[39m 😸\n",
      "\u001b[32mTest passed\u001b[39m 🥳\n",
      "\u001b[32mTest passed\u001b[39m 🎉\n",
      "\u001b[32mTest passed\u001b[39m 🌈\n",
      "\u001b[32mTest passed\u001b[39m 😀\n",
      "\u001b[32mTest passed\u001b[39m 🌈\n",
      "\u001b[32mTest passed\u001b[39m 🥇\n",
      "\u001b[32mTest passed\u001b[39m 🎊\n",
      "\u001b[32mTest passed\u001b[39m 🎊\n",
      "\u001b[32mTest passed\u001b[39m 🎊\n",
      "\u001b[32mTest passed\u001b[39m 🌈\n",
      "\u001b[32mTest passed\u001b[39m 😀\n",
      "\u001b[32mTest passed\u001b[39m 🌈\n",
      "[1] \"Success!\"\n"
     ]
    }
   ],
   "source": [
    "test_3.4()"
   ]
  },
  {
   "cell_type": "markdown",
   "metadata": {
    "deletable": false,
    "editable": false,
    "nbgrader": {
     "cell_type": "markdown",
     "checksum": "de886fee3f0c33d0e92d960d60c1d431",
     "grade": false,
     "grade_id": "cell-5758f98a43d755fe",
     "locked": true,
     "schema_version": 3,
     "solution": false,
     "task": false
    }
   },
   "source": [
    "**Question 3.5**\n",
    "<br>{points: 1}\n",
    "\n",
    "Finally, we will perform K-nearest neighbour classification again, using the `tidymodels` package and `K = 7` to classify a new observation where we use **all the predictors** in our data set (we give you the values in the code below). \n",
    "\n",
    "But we first have to do one important thing: we need to remove the `ID` variable from the analysis (it's not a numerical measurement that we should use for classification). Thankfully, `tidymodels` provides a nice way of combining data preprocessing and training into a single consistent workflow.\n",
    "\n",
    "We will first create a `recipe` to remove the `ID` variable using the `step_rm` preprocessing step. Do so below using the provided scaffolding. Name the recipe object `knn_recipe`.\n",
    "\n",
    "*Hint: If you want to find out about the available preprocessing steps that you can include in a `recipe`, visit [the tidymodels page](https://recipes.tidymodels.org/reference/index.html)*."
   ]
  },
  {
   "cell_type": "code",
   "execution_count": 120,
   "metadata": {
    "deletable": false,
    "nbgrader": {
     "cell_type": "code",
     "checksum": "7bfdf3687e5802bc6963981e56f14906",
     "grade": false,
     "grade_id": "cell-a8d7892cb2b3c450",
     "locked": false,
     "schema_version": 3,
     "solution": true,
     "task": false
    }
   },
   "outputs": [
    {
     "data": {
      "text/plain": [
       "Recipe\n",
       "\n",
       "Inputs:\n",
       "\n",
       "      role #variables\n",
       "   outcome          1\n",
       " predictor         11\n",
       "\n",
       "Operations:\n",
       "\n",
       "Variables removed ID"
      ]
     },
     "metadata": {},
     "output_type": "display_data"
    }
   ],
   "source": [
    "#... <- recipe(... ~ ., data = ...) |>\n",
    "#                step_rm(...)\n",
    "\n",
    "knn_recipe <- recipe(Class ~ ., data = cancer)|>\n",
    "  step_rm(ID)\n",
    "knn_recipe"
   ]
  },
  {
   "cell_type": "code",
   "execution_count": 121,
   "metadata": {
    "deletable": false,
    "editable": false,
    "nbgrader": {
     "cell_type": "code",
     "checksum": "afe18cbab8041f411fe2ec50cf667e43",
     "grade": true,
     "grade_id": "cell-03215eefc5610ee4",
     "locked": true,
     "points": 1,
     "schema_version": 3,
     "solution": false,
     "task": false
    }
   },
   "outputs": [
    {
     "name": "stdout",
     "output_type": "stream",
     "text": [
      "\u001b[32mTest passed\u001b[39m 😀\n",
      "\u001b[32mTest passed\u001b[39m 🥇\n",
      "\u001b[32mTest passed\u001b[39m 🎉\n",
      "\u001b[32mTest passed\u001b[39m 🥇\n",
      "[1] \"Success!\"\n"
     ]
    }
   ],
   "source": [
    "test_3.5()"
   ]
  },
  {
   "cell_type": "markdown",
   "metadata": {
    "deletable": false,
    "editable": false,
    "nbgrader": {
     "cell_type": "markdown",
     "checksum": "50496dde279a8afbddaa3bbb13c37ea5",
     "grade": false,
     "grade_id": "cell-fed014ae5e06931e",
     "locked": true,
     "schema_version": 3,
     "solution": false,
     "task": false
    }
   },
   "source": [
    "You can examine the output of a recipe by using the `prep` and `bake` functions. For example, let's see if `step_rm` above actually removed the `ID` variable. Run the below code to see!\n",
    "\n",
    "*Note: You have to pass the `cancer` data to `bake()` again, even though we already specified it in the `recipe` above. Why? This is because `tidymodels` is flexible enough to let you compute preprocessing steps using one dataset (`prep`), and applying those steps to another (`bake`). For example, if we apply the `step_center` preprocessing step (which shifts a variable to have mean 0), we need to compute the shift value (`prep`) before subtracting it from each observation (`bake`). This will be very useful in the next chapter when we have to split our dataset into two subsets, and only `prep` using one of them.*"
   ]
  },
  {
   "cell_type": "code",
   "execution_count": 122,
   "metadata": {},
   "outputs": [
    {
     "data": {
      "text/html": [
       "<table class=\"dataframe\">\n",
       "<caption>A tibble: 569 × 11</caption>\n",
       "<thead>\n",
       "\t<tr><th scope=col>Radius</th><th scope=col>Texture</th><th scope=col>Perimeter</th><th scope=col>Area</th><th scope=col>Smoothness</th><th scope=col>Compactness</th><th scope=col>Concavity</th><th scope=col>Concave_points</th><th scope=col>Symmetry</th><th scope=col>Fractal_dimension</th><th scope=col>Class</th></tr>\n",
       "\t<tr><th scope=col>&lt;dbl&gt;</th><th scope=col>&lt;dbl&gt;</th><th scope=col>&lt;dbl&gt;</th><th scope=col>&lt;dbl&gt;</th><th scope=col>&lt;dbl&gt;</th><th scope=col>&lt;dbl&gt;</th><th scope=col>&lt;dbl&gt;</th><th scope=col>&lt;dbl&gt;</th><th scope=col>&lt;dbl&gt;</th><th scope=col>&lt;dbl&gt;</th><th scope=col>&lt;fct&gt;</th></tr>\n",
       "</thead>\n",
       "<tbody>\n",
       "\t<tr><td>1.885031</td><td>-1.35809849</td><td>2.301575</td><td>1.999478</td><td> 1.3065367</td><td> 2.6143647</td><td> 2.1076718</td><td>2.294058</td><td> 2.7482041</td><td>1.9353117</td><td>M</td></tr>\n",
       "\t<tr><td>1.804340</td><td>-0.36887865</td><td>1.533776</td><td>1.888827</td><td>-0.3752817</td><td>-0.4300658</td><td>-0.1466200</td><td>1.086129</td><td>-0.2436753</td><td>0.2809428</td><td>M</td></tr>\n",
       "\t<tr><td>1.510541</td><td>-0.02395331</td><td>1.346291</td><td>1.455004</td><td> 0.5269438</td><td> 1.0819801</td><td> 0.8542223</td><td>1.953282</td><td> 1.1512420</td><td>0.2012142</td><td>M</td></tr>\n",
       "\t<tr><td>⋮</td><td>⋮</td><td>⋮</td><td>⋮</td><td>⋮</td><td>⋮</td><td>⋮</td><td>⋮</td><td>⋮</td><td>⋮</td><td>⋮</td></tr>\n",
       "\t<tr><td> 0.5608679</td><td>1.3736451</td><td> 0.5784916</td><td> 0.4275294</td><td>-0.8088756</td><td> 0.350427</td><td> 0.3264793</td><td> 0.4137047</td><td>-1.10357792</td><td>-0.3181292</td><td>M</td></tr>\n",
       "\t<tr><td> 1.9595152</td><td>2.2359585</td><td> 2.3015755</td><td> 1.6517174</td><td> 1.4291692</td><td> 3.901415</td><td> 3.1947936</td><td> 2.2879723</td><td> 1.91739590</td><td> 2.2176840</td><td>M</td></tr>\n",
       "\t<tr><td>-1.4096522</td><td>0.7635178</td><td>-1.4314754</td><td>-1.0748672</td><td>-1.8573842</td><td>-1.206491</td><td>-1.3046827</td><td>-1.7435287</td><td>-0.04809589</td><td>-0.7505463</td><td>B</td></tr>\n",
       "</tbody>\n",
       "</table>\n"
      ],
      "text/latex": [
       "A tibble: 569 × 11\n",
       "\\begin{tabular}{lllllllllll}\n",
       " Radius & Texture & Perimeter & Area & Smoothness & Compactness & Concavity & Concave\\_points & Symmetry & Fractal\\_dimension & Class\\\\\n",
       " <dbl> & <dbl> & <dbl> & <dbl> & <dbl> & <dbl> & <dbl> & <dbl> & <dbl> & <dbl> & <fct>\\\\\n",
       "\\hline\n",
       "\t 1.885031 & -1.35809849 & 2.301575 & 1.999478 &  1.3065367 &  2.6143647 &  2.1076718 & 2.294058 &  2.7482041 & 1.9353117 & M\\\\\n",
       "\t 1.804340 & -0.36887865 & 1.533776 & 1.888827 & -0.3752817 & -0.4300658 & -0.1466200 & 1.086129 & -0.2436753 & 0.2809428 & M\\\\\n",
       "\t 1.510541 & -0.02395331 & 1.346291 & 1.455004 &  0.5269438 &  1.0819801 &  0.8542223 & 1.953282 &  1.1512420 & 0.2012142 & M\\\\\n",
       "\t ⋮ & ⋮ & ⋮ & ⋮ & ⋮ & ⋮ & ⋮ & ⋮ & ⋮ & ⋮ & ⋮\\\\\n",
       "\t  0.5608679 & 1.3736451 &  0.5784916 &  0.4275294 & -0.8088756 &  0.350427 &  0.3264793 &  0.4137047 & -1.10357792 & -0.3181292 & M\\\\\n",
       "\t  1.9595152 & 2.2359585 &  2.3015755 &  1.6517174 &  1.4291692 &  3.901415 &  3.1947936 &  2.2879723 &  1.91739590 &  2.2176840 & M\\\\\n",
       "\t -1.4096522 & 0.7635178 & -1.4314754 & -1.0748672 & -1.8573842 & -1.206491 & -1.3046827 & -1.7435287 & -0.04809589 & -0.7505463 & B\\\\\n",
       "\\end{tabular}\n"
      ],
      "text/markdown": [
       "\n",
       "A tibble: 569 × 11\n",
       "\n",
       "| Radius &lt;dbl&gt; | Texture &lt;dbl&gt; | Perimeter &lt;dbl&gt; | Area &lt;dbl&gt; | Smoothness &lt;dbl&gt; | Compactness &lt;dbl&gt; | Concavity &lt;dbl&gt; | Concave_points &lt;dbl&gt; | Symmetry &lt;dbl&gt; | Fractal_dimension &lt;dbl&gt; | Class &lt;fct&gt; |\n",
       "|---|---|---|---|---|---|---|---|---|---|---|\n",
       "| 1.885031 | -1.35809849 | 2.301575 | 1.999478 |  1.3065367 |  2.6143647 |  2.1076718 | 2.294058 |  2.7482041 | 1.9353117 | M |\n",
       "| 1.804340 | -0.36887865 | 1.533776 | 1.888827 | -0.3752817 | -0.4300658 | -0.1466200 | 1.086129 | -0.2436753 | 0.2809428 | M |\n",
       "| 1.510541 | -0.02395331 | 1.346291 | 1.455004 |  0.5269438 |  1.0819801 |  0.8542223 | 1.953282 |  1.1512420 | 0.2012142 | M |\n",
       "| ⋮ | ⋮ | ⋮ | ⋮ | ⋮ | ⋮ | ⋮ | ⋮ | ⋮ | ⋮ | ⋮ |\n",
       "|  0.5608679 | 1.3736451 |  0.5784916 |  0.4275294 | -0.8088756 |  0.350427 |  0.3264793 |  0.4137047 | -1.10357792 | -0.3181292 | M |\n",
       "|  1.9595152 | 2.2359585 |  2.3015755 |  1.6517174 |  1.4291692 |  3.901415 |  3.1947936 |  2.2879723 |  1.91739590 |  2.2176840 | M |\n",
       "| -1.4096522 | 0.7635178 | -1.4314754 | -1.0748672 | -1.8573842 | -1.206491 | -1.3046827 | -1.7435287 | -0.04809589 | -0.7505463 | B |\n",
       "\n"
      ],
      "text/plain": [
       "    Radius     Texture     Perimeter  Area       Smoothness Compactness\n",
       "1   1.885031   -1.35809849 2.301575   1.999478    1.3065367  2.6143647 \n",
       "2   1.804340   -0.36887865 1.533776   1.888827   -0.3752817 -0.4300658 \n",
       "3   1.510541   -0.02395331 1.346291   1.455004    0.5269438  1.0819801 \n",
       "⋮   ⋮          ⋮           ⋮          ⋮          ⋮          ⋮          \n",
       "567  0.5608679 1.3736451    0.5784916  0.4275294 -0.8088756  0.350427  \n",
       "568  1.9595152 2.2359585    2.3015755  1.6517174  1.4291692  3.901415  \n",
       "569 -1.4096522 0.7635178   -1.4314754 -1.0748672 -1.8573842 -1.206491  \n",
       "    Concavity  Concave_points Symmetry    Fractal_dimension Class\n",
       "1    2.1076718 2.294058        2.7482041  1.9353117         M    \n",
       "2   -0.1466200 1.086129       -0.2436753  0.2809428         M    \n",
       "3    0.8542223 1.953282        1.1512420  0.2012142         M    \n",
       "⋮   ⋮          ⋮              ⋮           ⋮                 ⋮    \n",
       "567  0.3264793  0.4137047     -1.10357792 -0.3181292        M    \n",
       "568  3.1947936  2.2879723      1.91739590  2.2176840        M    \n",
       "569 -1.3046827 -1.7435287     -0.04809589 -0.7505463        B    "
      ]
     },
     "metadata": {},
     "output_type": "display_data"
    }
   ],
   "source": [
    "preprocessed_data <- knn_recipe |> \n",
    "                        prep() |> \n",
    "                        bake(cancer)\n",
    "preprocessed_data"
   ]
  },
  {
   "cell_type": "markdown",
   "metadata": {
    "deletable": false,
    "editable": false,
    "nbgrader": {
     "cell_type": "markdown",
     "checksum": "68862265c6b8a7c1ecd7b71d9f82490d",
     "grade": false,
     "grade_id": "cell-6eec15570187f9e0",
     "locked": true,
     "schema_version": 3,
     "solution": false
    }
   },
   "source": [
    "**Question 3.6**\n",
    "<br> {points: 1}\n",
    "\n",
    "Create a **workflow** that includes the new recipe (`knn_recipe`) and the model specification (`knn_spec`) using the scaffolding below. Name the workflow object `knn_workflow`."
   ]
  },
  {
   "cell_type": "code",
   "execution_count": 123,
   "metadata": {
    "deletable": false,
    "nbgrader": {
     "cell_type": "code",
     "checksum": "1bca86b99a6696580b5bdfad1103c43d",
     "grade": false,
     "grade_id": "cell-ad1115a24af76299",
     "locked": false,
     "schema_version": 3,
     "solution": true,
     "task": false
    }
   },
   "outputs": [
    {
     "data": {
      "text/plain": [
       "══ Workflow ════════════════════════════════════════════════════════════════════\n",
       "\u001b[3mPreprocessor:\u001b[23m Recipe\n",
       "\u001b[3mModel:\u001b[23m nearest_neighbor()\n",
       "\n",
       "── Preprocessor ────────────────────────────────────────────────────────────────\n",
       "1 Recipe Step\n",
       "\n",
       "• step_rm()\n",
       "\n",
       "── Model ───────────────────────────────────────────────────────────────────────\n",
       "K-Nearest Neighbor Model Specification (classification)\n",
       "\n",
       "Main Arguments:\n",
       "  neighbors = 7\n",
       "  weight_func = rectangular\n",
       "\n",
       "Computational engine: kknn \n"
      ]
     },
     "metadata": {},
     "output_type": "display_data"
    }
   ],
   "source": [
    "#... <- workflow() |>\n",
    "#                   add_recipe(...) |>\n",
    "#                   add_model(...)\n",
    "\n",
    "knn_workflow  <- workflow() |>\n",
    "                  add_recipe(knn_recipe) |>\n",
    "                  add_model(knn_spec)\n",
    "knn_workflow  "
   ]
  },
  {
   "cell_type": "code",
   "execution_count": 124,
   "metadata": {
    "deletable": false,
    "editable": false,
    "nbgrader": {
     "cell_type": "code",
     "checksum": "318e25cc51c45d419be9ea41c4e30320",
     "grade": true,
     "grade_id": "cell-a091b39308a96640",
     "locked": true,
     "points": 1,
     "schema_version": 3,
     "solution": false,
     "task": false
    }
   },
   "outputs": [
    {
     "name": "stdout",
     "output_type": "stream",
     "text": [
      "\u001b[32mTest passed\u001b[39m 🥇\n",
      "\u001b[32mTest passed\u001b[39m 😀\n",
      "\u001b[32mTest passed\u001b[39m 🥇\n",
      "\u001b[32mTest passed\u001b[39m 🌈\n",
      "\u001b[32mTest passed\u001b[39m 🥇\n",
      "[1] \"Success!\"\n"
     ]
    }
   ],
   "source": [
    "test_3.6()"
   ]
  },
  {
   "cell_type": "markdown",
   "metadata": {
    "deletable": false,
    "editable": false,
    "nbgrader": {
     "cell_type": "markdown",
     "checksum": "49322756d87f2443dc54cf014d2cfc59",
     "grade": false,
     "grade_id": "cell-f5f5e1eb6b4eae96",
     "locked": true,
     "schema_version": 3,
     "solution": false,
     "task": false
    }
   },
   "source": [
    "**Question 3.7**\n",
    "{points: 1}\n",
    "\n",
    "Finally, `fit` the workflow and predict the class label for the new observation named `new_obs_all`. Name the `fit` object `knn_fit_all`, and the class prediction `class_prediction_all`."
   ]
  },
  {
   "cell_type": "code",
   "execution_count": 132,
   "metadata": {
    "deletable": false,
    "nbgrader": {
     "cell_type": "code",
     "checksum": "9b71e1c3eca7704a584de5bbb91da519",
     "grade": false,
     "grade_id": "cell-1a574f5403a0315e",
     "locked": false,
     "schema_version": 3,
     "solution": true
    }
   },
   "outputs": [
    {
     "data": {
      "text/html": [
       "<table class=\"dataframe\">\n",
       "<caption>A tibble: 1 × 1</caption>\n",
       "<thead>\n",
       "\t<tr><th scope=col>.pred_class</th></tr>\n",
       "\t<tr><th scope=col>&lt;fct&gt;</th></tr>\n",
       "</thead>\n",
       "<tbody>\n",
       "\t<tr><td>B</td></tr>\n",
       "</tbody>\n",
       "</table>\n"
      ],
      "text/latex": [
       "A tibble: 1 × 1\n",
       "\\begin{tabular}{l}\n",
       " .pred\\_class\\\\\n",
       " <fct>\\\\\n",
       "\\hline\n",
       "\t B\\\\\n",
       "\\end{tabular}\n"
      ],
      "text/markdown": [
       "\n",
       "A tibble: 1 × 1\n",
       "\n",
       "| .pred_class &lt;fct&gt; |\n",
       "|---|\n",
       "| B |\n",
       "\n"
      ],
      "text/plain": [
       "  .pred_class\n",
       "1 B          "
      ]
     },
     "metadata": {},
     "output_type": "display_data"
    }
   ],
   "source": [
    "new_obs_all <- tibble(ID = NA, Radius = 0, \n",
    "                        Texture = 0, \n",
    "                        Perimeter = 0, \n",
    "                        Area = 0, \n",
    "                        Smoothness = 0.5, \n",
    "                        Compactness = 0,\n",
    "                        Concavity = 1,\n",
    "                        Concave_points = 0,\n",
    "                        Symmetry = 1, \n",
    "                        Fractal_dimension = 0)\n",
    "\n",
    "#... <- knn_workflow |>\n",
    "#             fit(data = ...)\n",
    "#... <- ...(knn_fit_all, ...)\n",
    "\n",
    "knn_fit_all<- knn_workflow |>\n",
    "            fit(data = cancer)\n",
    "class_prediction_all <- predict(knn_fit_all, new_data = new_obs_all)\n",
    "class_prediction_all\n"
   ]
  },
  {
   "cell_type": "code",
   "execution_count": 133,
   "metadata": {
    "deletable": false,
    "editable": false,
    "nbgrader": {
     "cell_type": "code",
     "checksum": "234ef432a0898feab14dd72ff3ffb3a8",
     "grade": true,
     "grade_id": "cell-036a77a7a92f0c3d",
     "locked": true,
     "points": 1,
     "schema_version": 3,
     "solution": false
    }
   },
   "outputs": [
    {
     "name": "stdout",
     "output_type": "stream",
     "text": [
      "\u001b[32mTest passed\u001b[39m 🥳\n",
      "\u001b[32mTest passed\u001b[39m 🥳\n",
      "[1] \"Success!\"\n"
     ]
    }
   ],
   "source": [
    "test_3.7()"
   ]
  },
  {
   "cell_type": "markdown",
   "metadata": {
    "deletable": false,
    "editable": false,
    "nbgrader": {
     "cell_type": "markdown",
     "checksum": "9e58b841ef09ca686d209a1e2317eb80",
     "grade": false,
     "grade_id": "cell-9fe84a61d314cfed",
     "locked": true,
     "schema_version": 3,
     "solution": false,
     "task": false
    }
   },
   "source": [
    "## 4. Reviewing Some Concepts\n",
    "\n",
    "We will conclude with two multiple choice questions to reinforce some key concepts when doing classification with K-nearest neighbours."
   ]
  },
  {
   "cell_type": "markdown",
   "metadata": {
    "deletable": false,
    "editable": false,
    "nbgrader": {
     "cell_type": "markdown",
     "checksum": "5bdf0df8159ce166f0179bc0f80eb59b",
     "grade": false,
     "grade_id": "cell-b904a53540f32475",
     "locked": true,
     "schema_version": 3,
     "solution": false
    }
   },
   "source": [
    "**Question 4.0**\n",
    "<br> {points: 1}\n",
    "\n",
    "In the K-nearest neighbours classification algorithm, we calculate the distance between the new observation (for which we are trying to predict the class/label/outcome) and each of the observations in the training data set so that we can:\n",
    "\n",
    "A. Find the `K` nearest neighbours of the new observation\n",
    "\n",
    "B. Assess how well our model fits the data\n",
    "\n",
    "C. Find outliers\n",
    "\n",
    "D. Assign the new observation to a cluster\n",
    "\n",
    "*Assign your answer (e.g. \"E\") to an object called: `answer4.0`. Make sure your answer is an uppercase letter and is surrounded with quotation marks.*"
   ]
  },
  {
   "cell_type": "code",
   "execution_count": 134,
   "metadata": {
    "deletable": false,
    "nbgrader": {
     "cell_type": "code",
     "checksum": "c0e41f6c20e04426172a63e8d26f8527",
     "grade": false,
     "grade_id": "cell-13d8575850bc1390",
     "locked": false,
     "schema_version": 3,
     "solution": true
    }
   },
   "outputs": [],
   "source": [
    "answer4.0 <- \"A\""
   ]
  },
  {
   "cell_type": "code",
   "execution_count": 135,
   "metadata": {
    "deletable": false,
    "editable": false,
    "nbgrader": {
     "cell_type": "code",
     "checksum": "2477f3ff6893cc93ff16fe4224153dac",
     "grade": true,
     "grade_id": "cell-437eb5f41aed17bc",
     "locked": true,
     "points": 1,
     "schema_version": 3,
     "solution": false
    }
   },
   "outputs": [
    {
     "name": "stdout",
     "output_type": "stream",
     "text": [
      "\u001b[32mTest passed\u001b[39m 🎉\n",
      "[1] \"Success!\"\n"
     ]
    }
   ],
   "source": [
    "test_4.0()"
   ]
  },
  {
   "cell_type": "markdown",
   "metadata": {
    "deletable": false,
    "editable": false,
    "nbgrader": {
     "cell_type": "markdown",
     "checksum": "bcce1bbdeddadcce945a88a11210f741",
     "grade": false,
     "grade_id": "cell-a60b11b11c972d2c",
     "locked": true,
     "schema_version": 3,
     "solution": false,
     "task": false
    }
   },
   "source": [
    "**Question 4.1**\n",
    "<br> {points: 1}\n",
    "\n",
    "In the K-nearest neighbours classification algorithm, we choose the label/class for a new observation by:\n",
    "\n",
    "A. Taking the mean (average value) label/class of the K nearest neighbours \n",
    "\n",
    "B. Taking the median (middle value) label/class of the K nearest neighbours \n",
    "\n",
    "C. Taking the mode (value that appears most often, *i.e.*, the majority vote) label/class of the K nearest neighbours \n",
    "\n",
    "*Assign your answer (e.g., \"E\") to an object called `answer4.1`. Make sure your answer is an uppercase letter and is surrounded with quotation marks.*"
   ]
  },
  {
   "cell_type": "code",
   "execution_count": 140,
   "metadata": {
    "deletable": false,
    "nbgrader": {
     "cell_type": "code",
     "checksum": "8993923476f3fbfc089bf0401328851d",
     "grade": false,
     "grade_id": "cell-ed504d5d3d6f58ea",
     "locked": false,
     "schema_version": 3,
     "solution": true
    }
   },
   "outputs": [],
   "source": [
    "answer4.1 <- \"C\""
   ]
  },
  {
   "cell_type": "code",
   "execution_count": 141,
   "metadata": {
    "deletable": false,
    "editable": false,
    "nbgrader": {
     "cell_type": "code",
     "checksum": "6481920f7b7ca0c97e799ce888548b1b",
     "grade": true,
     "grade_id": "cell-303f4a3bd9b343f2",
     "locked": true,
     "points": 1,
     "schema_version": 3,
     "solution": false
    }
   },
   "outputs": [
    {
     "name": "stdout",
     "output_type": "stream",
     "text": [
      "\u001b[32mTest passed\u001b[39m 🥇\n",
      "[1] \"Success!\"\n"
     ]
    }
   ],
   "source": [
    "test_4.1()"
   ]
  },
  {
   "cell_type": "code",
   "execution_count": 142,
   "metadata": {
    "deletable": false,
    "editable": false,
    "nbgrader": {
     "cell_type": "code",
     "checksum": "0f3b2f69929838e77eede528fd618e2f",
     "grade": false,
     "grade_id": "cell-1012225087765cae",
     "locked": true,
     "schema_version": 3,
     "solution": false,
     "task": false
    }
   },
   "outputs": [],
   "source": [
    "source('cleanup.R')"
   ]
  },
  {
   "cell_type": "code",
   "execution_count": null,
   "metadata": {},
   "outputs": [],
   "source": []
  }
 ],
 "metadata": {
  "kernelspec": {
   "display_name": "R",
   "language": "R",
   "name": "ir"
  },
  "language_info": {
   "codemirror_mode": "r",
   "file_extension": ".r",
   "mimetype": "text/x-r-source",
   "name": "R",
   "pygments_lexer": "r",
   "version": "4.1.3"
  }
 },
 "nbformat": 4,
 "nbformat_minor": 4
}
